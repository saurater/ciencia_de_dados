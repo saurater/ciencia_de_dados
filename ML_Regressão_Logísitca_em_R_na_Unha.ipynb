{
  "nbformat": 4,
  "nbformat_minor": 0,
  "metadata": {
    "colab": {
      "name": "ML - Regressão Logísitca em R na Unha.ipynb",
      "provenance": [],
      "authorship_tag": "ABX9TyMfLDaSSF98bkoGGu5cr6Lj",
      "include_colab_link": true
    },
    "kernelspec": {
      "name": "ir",
      "display_name": "R"
    },
    "language_info": {
      "name": "R"
    }
  },
  "cells": [
    {
      "cell_type": "markdown",
      "metadata": {
        "id": "view-in-github",
        "colab_type": "text"
      },
      "source": [
        "<a href=\"https://colab.research.google.com/github/saurater/ciencia_de_dados/blob/main/ML_Regress%C3%A3o_Log%C3%ADsitca_em_R_na_Unha.ipynb\" target=\"_parent\"><img src=\"https://colab.research.google.com/assets/colab-badge.svg\" alt=\"Open In Colab\"/></a>"
      ]
    },
    {
      "cell_type": "markdown",
      "source": [
        "# Machine Learning - Regressão Logística em R\n",
        "**IGTI - Cientista de Dados - Prof. Máiron Chaves**\n",
        "\n",
        "**Notas: Sam Faraday**"
      ],
      "metadata": {
        "id": "1NpMOswyIE1x"
      }
    },
    {
      "cell_type": "markdown",
      "source": [
        "# 1. Limpar Memória \n",
        "(no R Studio somente)"
      ],
      "metadata": {
        "id": "5smVKda-Icza"
      }
    },
    {
      "cell_type": "code",
      "execution_count": 76,
      "metadata": {
        "id": "TN0vUE1WH2RI"
      },
      "outputs": [],
      "source": [
        "rm(list = ls()) #Limpa memória do R"
      ]
    },
    {
      "cell_type": "markdown",
      "source": [
        "# 2. Instala e carrega biblioteca para gerar a curva ROC"
      ],
      "metadata": {
        "id": "VO1NBCDQIrpX"
      }
    },
    {
      "cell_type": "code",
      "source": [
        "install.packages(\"pROC\") #Instala\n"
      ],
      "metadata": {
        "colab": {
          "base_uri": "https://localhost:8080/"
        },
        "id": "GhqqvnGZIvWG",
        "outputId": "0f787ac0-7e61-4876-d0ee-8c17bbfb1dd6"
      },
      "execution_count": 77,
      "outputs": [
        {
          "output_type": "stream",
          "name": "stderr",
          "text": [
            "Installing package into ‘/usr/local/lib/R/site-library’\n",
            "(as ‘lib’ is unspecified)\n",
            "\n"
          ]
        }
      ]
    },
    {
      "cell_type": "code",
      "source": [
        "library(pROC) #Carrega"
      ],
      "metadata": {
        "id": "LMqbja5xI8zu"
      },
      "execution_count": 78,
      "outputs": []
    },
    {
      "cell_type": "markdown",
      "source": [
        "# 3. Carrega a  library dplyr para análises de dados"
      ],
      "metadata": {
        "id": "qb-_savQO9AY"
      }
    },
    {
      "cell_type": "code",
      "source": [
        "library(dplyr)"
      ],
      "metadata": {
        "id": "j2f9t8OKO0aB"
      },
      "execution_count": 79,
      "outputs": []
    },
    {
      "cell_type": "markdown",
      "source": [
        "# 4. Monte o dataset"
      ],
      "metadata": {
        "id": "JGCM44dwJAp-"
      }
    },
    {
      "cell_type": "code",
      "source": [
        "dados <- data.frame(Prova_Logica = c(2, 2, 5, 5, 5, 2, 3, 2, 1, 4,\n",
        "5, 8, 1, 1, 3, 4, 3, 2, 1, 1, 8, 8, 1, 2, 1, 5, 3, 3, 5, 4, 4,\n",
        "1, 8, 3, 2, 3, 3, 2, 1, 1, 5, 4, 1, 5, 3, 1, 4, 6, 1, 1, 8, 1,\n",
        "1, 5, 1, 5, 3, 1, 1, 8, 1, 1, 1, 1, 1, 2, 1, 5, 5, 4, 2, 1, 8,\n",
        "4, 5, 1, 3, 3, 3, 5, 3, 1, 7, 1, 1, 2, 9, 5, 3, 1, 5, 1, 4, 2,\n",
        "1, 4, 3, 3, 8, 1, 1, 8, 5, 1, 1, 1, 5, 8, 5, 1, 4, 2, 5, 4, 5,\n",
        "3, 3, 5, 5, 5, 5, 5, 8, 5, 4, 9, 8, 1, 3, 4, 2, 5, 1, 4, 3, 5,\n",
        "5, 5, 6, 4, 3, 5, 7, 1, 8, 5, 7, 3, 2, 3, 2, 5, 5, 5, 5, 4, 4,\n",
        "8, 1, 1, 2, 5, 3, 2, 7, 4, 1, 1, 1, 4, 5, 1, 1, 8, 3, 6, 8, 3,\n",
        "1, 3, 3, 2, 8, 4, 1, 1, 1, 1, 1, 2, 3, 4, 6, 2, 3, 3, 4, 2, 1,\n",
        "5, 2, 4, 3, 3, 1, 3, 3, 3, 1, 3, 5, 6, 1, 5, 1, 5, 4, 3, 1, 6,\n",
        "1, 4, 9, 3, 3, 2, 1, 1, 4, 3, 1, 3, 1, 1, 3, 7, 8, 1, 3, 5, 6,\n",
        "3, 6, 5, 8, 5, 1, 1, 4, 2, 1, 8, 7, 5, 1, 1, 1, 6, 5, 7, 3, 3,\n",
        "5, 1, 3, 5, 1, 8, 8, 1, 2, 3, 3, 3, 3, 7, 1, 9, 8, 4, 1, 7, 1,\n",
        "1, 1, 5, 1, 1, 5, 3, 5, 1, 3, 6, 2, 1, 3, 4, 5, 6, 1, 5, 1, 5,\n",
        "1, 1, 5, 1, 1, 1, 5, 1, 3, 7, 1, 4, 3, 7, 1, 1, 5, 4, 1, 1, 3,\n",
        "5, 4, 2, 1, 5, 1, 1, 1, 8, 8, 5, 1, 2, 1, 6, 8, 3, 1, 5, 1, 5,\n",
        "1, 4, 4, 8, 1, 1, 1, 5, 1, 1, 5, 4, 6, 8, 1, 3, 1, 6, 1, 1, 1,\n",
        "1, 1, 8, 1, 5, 3, 1, 4, 4, 7, 2, 3, 3, 5, 8, 3, 1, 4, 1, 5, 1,\n",
        "7, 2, 6, 4, 1, 3, 1, 8, 5, 5, 5, 3, 1, 4, 5, 3, 6, 1, 3, 3, 5,\n",
        "4, 5, 3, 1, 4, 5, 1, 3, 6, 1, 1, 1, 3, 1, 1, 1, 1, 3, 1, 5, 4,\n",
        "8, 1, 5, 6, 6, 4, 2, 5, 5, 6, 1, 2, 5, 6, 4, 2, 1, 2, 7, 2, 8,\n",
        "1, 3, 1, 1, 1, 6, 1, 4, 3, 1, 5, 2, 1, 1, 5, 4, 3, 1, 3, 1, 1,\n",
        "2, 4, 5, 4, 5, 4, 3, 7, 4, 1, 7, 1, 8, 5, 3, 3, 5, 1, 2, 1, 5,\n",
        "4, 4, 4, 3, 6, 8, 8, 1, 1, 1, 8, 8, 1, 5, 1, 4, 5, 1, 4, 1, 4,\n",
        "1, 5, 1, 4, 4, 1, 1, 2, 5, 1, 4, 4, 5, 4, 1, 1, 5, 3, 5, 4, 1,\n",
        "1, 5, 3, 3, 1, 5, 5, 4, 5, 7, 2, 5, 9, 4, 6, 1, 1, 1, 1, 8, 7,\n",
        "2, 3, 2, 9, 3, 1, 5, 1, 3, 5, 1, 4, 6, 3, 1, 5, 1, 3, 9, 1, 4,\n",
        "8, 8, 1, 3, 2, 3, 3, 1, 5, 1, 1, 3, 1, 5, 3, 4, 3, 4, 1, 4, 3,\n",
        "5, 1, 5, 2, 5, 8, 9, 4, 7, 4, 8, 5, 7, 5, 3, 5, 6, 3, 1, 5, 6,\n",
        "4, 3, 5, 1, 2, 4, 1, 1, 2, 9, 5, 1, 5, 1, 2, 1, 5, 1, 2, 3, 5,\n",
        "1, 1, 5, 3, 9, 5, 6, 9, 6, 1, 1, 9, 1, 3, 5, 4, 8, 4, 2, 7, 1,\n",
        "6, 3, 7, 8, 1, 5, 5, 6, 1, 4, 4, 3, 1, 5, 5, 8, 3, 3, 1, 9, 5,\n",
        "5, 5, 5, 1, 9, 6, 3, 1, 1, 2, 4, 6, 5, 7, 6, 5, 1), \n",
        "Redacao = c(1,\n",
        "1, 1, 4, 3, 3, 5, 5, 9, 1, 1, 1, 1, 1, 4, 3, 3, 1, 1, 1, 1, 7,\n",
        "1, 1, 8, 1, 1, 1, 3, 8, 3, 1, 5, 3, 3, 1, 2, 7, 1, 1, 1, 1, 1,\n",
        "1, 7, 1, 1, 8, 7, 1, 1, 1, 1, 1, 1, 1, 1, 1, 1, 1, 5, 1, 8, 5,\n",
        "1, 1, 1, 1, 1, 2, 1, 1, 6, 1, 1, 1, 1, 1, 1, 1, 4, 1, 8, 5, 1,\n",
        "5, 8, 1, 1, 1, 5, 1, 1, 1, 2, 3, 3, 1, 3, 8, 1, 4, 6, 1, 1, 1,\n",
        "1, 3, 1, 1, 2, 3, 2, 1, 1, 1, 1, 4, 1, 1, 1, 1, 4, 1, 8, 1, 5,\n",
        "1, 1, 1, 1, 1, 3, 6, 1, 2, 5, 6, 1, 2, 2, 1, 8, 1, 4, 6, 9, 3,\n",
        "1, 1, 1, 1, 1, 1, 1, 1, 1, 7, 1, 1, 1, 1, 1, 1, 6, 1, 1, 1, 1,\n",
        "1, 3, 5, 1, 1, 1, 1, 3, 1, 4, 1, 1, 1, 2, 1, 3, 1, 1, 1, 4, 5,\n",
        "1, 1, 6, 1, 3, 1, 4, 1, 1, 1, 1, 1, 1, 1, 1, 1, 1, 1, 1, 2, 3,\n",
        "6, 1, 8, 1, 1, 5, 1, 8, 2, 6, 1, 5, 1, 6, 1, 1, 1, 1, 1, 1, 1,\n",
        "1, 3, 1, 4, 8, 1, 1, 1, 8, 1, 3, 1, 6, 3, 1, 1, 1, 1, 1, 1, 1,\n",
        "1, 1, 1, 1, 1, 1, 5, 1, 1, 3, 1, 1, 7, 4, 1, 1, 1, 1, 6, 1, 3,\n",
        "1, 4, 1, 1, 7, 2, 6, 4, 1, 1, 1, 1, 1, 4, 7, 1, 3, 1, 1, 9, 1,\n",
        "1, 1, 1, 1, 1, 1, 3, 1, 3, 1, 3, 1, 1, 3, 2, 1, 1, 1, 5, 3, 1,\n",
        "1, 2, 1, 1, 4, 1, 1, 1, 1, 1, 1, 1, 1, 1, 1, 1, 4, 8, 1, 7, 1,\n",
        "1, 3, 8, 1, 1, 1, 1, 1, 4, 1, 1, 1, 2, 2, 7, 1, 3, 1, 1, 1, 4,\n",
        "2, 4, 2, 2, 5, 3, 1, 1, 1, 5, 1, 9, 1, 1, 3, 2, 1, 1, 5, 1, 2,\n",
        "1, 3, 8, 1, 5, 1, 4, 3, 1, 8, 1, 6, 5, 1, 1, 1, 1, 1, 4, 5, 1,\n",
        "7, 8, 1, 4, 1, 1, 1, 1, 4, 1, 1, 2, 1, 8, 2, 6, 2, 1, 4, 1, 1,\n",
        "1, 1, 1, 4, 1, 1, 1, 1, 1, 8, 1, 1, 1, 3, 1, 1, 1, 8, 1, 1, 1,\n",
        "3, 1, 1, 1, 1, 1, 6, 1, 1, 1, 1, 1, 4, 1, 1, 1, 1, 1, 1, 1, 1,\n",
        "3, 1, 2, 7, 2, 1, 1, 1, 1, 1, 2, 2, 1, 3, 1, 1, 3, 1, 1, 5, 1,\n",
        "7, 1, 1, 1, 3, 6, 1, 1, 1, 1, 1, 1, 1, 1, 4, 1, 6, 8, 8, 7, 2,\n",
        "1, 1, 1, 1, 1, 1, 1, 5, 1, 1, 5, 1, 1, 1, 1, 9, 1, 8, 1, 1, 2,\n",
        "4, 1, 1, 6, 2, 1, 1, 1, 1, 1, 1, 1, 1, 2, 1, 1, 1, 1, 6, 1, 2,\n",
        "1, 1, 5, 4, 1, 8, 4, 6, 6, 1, 1, 1, 9, 1, 1, 1, 1, 1, 8, 1, 1,\n",
        "1, 1, 1, 3, 1, 1, 4, 1, 1, 3, 4, 1, 1, 3, 2, 3, 1, 2, 1, 1, 1,\n",
        "1, 1, 1, 1, 1, 1, 1, 1, 1, 1, 1, 2, 3, 1, 4, 1, 4, 2, 1, 6, 1,\n",
        "4, 2, 2, 1, 1, 1, 4, 1, 1, 1, 1, 1, 6, 1, 1, 1, 3, 2, 8, 1, 1,\n",
        "1, 1, 1, 2, 3, 1, 1, 1, 1, 1, 1, 6, 1, 6, 7, 1, 1, 5, 1, 2, 5,\n",
        "1, 1, 1, 1, 1, 2, 1, 3, 1, 1, 1, 8, 7, 1, 1, 1, 1, 4, 1, 6, 1,\n",
        "2, 8, 4, 7, 1, 1, 1, 5, 1, 1, 2, 1, 1, 7, 1, 1, 1, 4, 1, 1, 3,\n",
        "1, 5, 1, 7, 1), Auto_Avaliacao = c(1, 1, 1, 1, 1, 1, 1, 7, 1,\n",
        "1, 1, 9, 1, 1, 1, 3, 6, 1, 1, 1, 1, 1, 1, 1, 1, 1, 1, 1, 1, 1,\n",
        "1, 1, 3, 1, 1, 1, 1, 9, 1, 1, 1, 1, 1, 1, 8, 1, 1, 9, 7, 1, 2,\n",
        "1, 1, 1, 1, 1, 1, 1, 1, 7, 1, 3, 8, 1, 1, 1, 1, 1, 1, 6, 1, 1,\n",
        "1, 2, 1, 1, 1, 1, 1, 1, 3, 1, 8, 3, 1, 6, 1, 6, 1, 1, 3, 1, 1,\n",
        "1, 1, 8, 5, 3, 3, 1, 1, 3, 1, 1, 1, 1, 1, 6, 1, 2, 1, 1, 1, 1,\n",
        "1, 4, 1, 6, 1, 1, 1, 2, 3, 1, 4, 7, 6, 1, 1, 1, 1, 1, 1, 9, 1,\n",
        "2, 1, 1, 1, 1, 2, 1, 8, 1, 8, 1, 3, 2, 1, 1, 1, 1, 2, 6, 1, 1,\n",
        "1, 2, 1, 3, 1, 1, 8, 1, 4, 1, 1, 1, 1, 1, 1, 1, 1, 1, 1, 1, 9,\n",
        "1, 5, 1, 1, 1, 1, 1, 5, 1, 1, 1, 3, 5, 1, 1, 1, 1, 1, 1, 3, 1,\n",
        "1, 1, 1, 1, 1, 1, 1, 1, 1, 1, 1, 1, 3, 6, 1, 8, 1, 2, 5, 2, 1,\n",
        "1, 7, 1, 1, 1, 8, 1, 1, 5, 1, 1, 1, 3, 1, 1, 1, 9, 1, 1, 1, 5,\n",
        "9, 1, 5, 3, 4, 1, 1, 1, 1, 1, 1, 7, 1, 1, 1, 1, 3, 3, 1, 3, 1,\n",
        "1, 1, 1, 1, 1, 3, 8, 1, 4, 1, 4, 1, 1, 1, 6, 1, 3, 1, 1, 2, 3,\n",
        "1, 1, 1, 1, 1, 1, 1, 1, 9, 1, 1, 2, 2, 8, 1, 1, 1, 1, 1, 4, 1,\n",
        "1, 1, 1, 1, 1, 2, 1, 1, 1, 1, 4, 3, 1, 1, 4, 1, 6, 2, 1, 5, 3,\n",
        "1, 1, 2, 1, 1, 1, 1, 1, 1, 8, 3, 4, 8, 1, 3, 7, 7, 1, 1, 2, 1,\n",
        "1, 1, 1, 1, 4, 1, 1, 1, 1, 1, 1, 1, 1, 1, 1, 1, 3, 9, 1, 1, 1,\n",
        "1, 8, 1, 7, 1, 1, 1, 1, 1, 1, 1, 1, 2, 1, 1, 1, 2, 9, 6, 3, 3,\n",
        "1, 2, 1, 8, 7, 1, 1, 1, 1, 1, 6, 3, 1, 4, 5, 1, 6, 1, 1, 1, 1,\n",
        "3, 1, 1, 2, 1, 6, 3, 7, 1, 8, 3, 1, 1, 1, 1, 1, 1, 1, 1, 1, 1,\n",
        "1, 8, 1, 1, 1, 9, 1, 1, 1, 7, 1, 1, 1, 1, 1, 1, 1, 1, 1, 1, 1,\n",
        "1, 1, 1, 1, 3, 1, 1, 1, 1, 1, 1, 1, 1, 6, 1, 1, 1, 1, 1, 1, 2,\n",
        "1, 1, 1, 2, 1, 7, 1, 1, 4, 2, 1, 5, 1, 5, 1, 1, 1, 4, 6, 1, 1,\n",
        "4, 1, 2, 1, 1, 1, 9, 8, 1, 9, 1, 1, 1, 1, 1, 1, 1, 3, 1, 1, 1,\n",
        "1, 1, 4, 1, 1, 1, 1, 7, 1, 1, 1, 1, 1, 3, 1, 1, 8, 1, 1, 6, 1,\n",
        "1, 1, 2, 1, 1, 1, 1, 1, 1, 2, 5, 1, 6, 3, 1, 4, 3, 1, 7, 5, 1,\n",
        "1, 1, 1, 1, 1, 2, 1, 5, 9, 1, 1, 1, 2, 1, 1, 1, 1, 3, 1, 8, 1,\n",
        "1, 2, 5, 1, 1, 5, 1, 4, 1, 1, 1, 1, 1, 1, 1, 1, 1, 1, 1, 1, 1,\n",
        "1, 1, 1, 1, 1, 1, 3, 1, 1, 3, 1, 5, 1, 8, 1, 1, 1, 1, 1, 1, 1,\n",
        "1, 1, 1, 1, 6, 1, 1, 1, 2, 1, 1, 2, 1, 1, 1, 1, 2, 1, 1, 1, 1,\n",
        "1, 1, 1, 6, 1, 9, 5, 3, 1, 8, 1, 1, 3, 1, 1, 1, 1, 1, 1, 1, 2,\n",
        "1, 1, 1, 8, 1, 1, 1, 1, 1, 1, 1, 7, 1, 1, 1, 1, 1, 1, 1, 1, 1,\n",
        "1, 1, 1, 1, 2, 8, 1, 1, 1, 6, 1, 1, 1, 1, 9, 1, 1, 1),\n",
        "Classe = c(\"Ruim\",\n",
        "\"Ruim\", \"Ruim\", \"Boa\", \"Ruim\", \"Ruim\", \"Boa\", \"Boa\", \"Boa\", \"Ruim\",\n",
        "\"Ruim\", \"Boa\", \"Ruim\", \"Ruim\", \"Boa\", \"Ruim\", \"Ruim\", \"Ruim\",\n",
        "\"Ruim\", \"Ruim\", \"Boa\", \"Boa\", \"Ruim\", \"Ruim\", \"Boa\", \"Ruim\",\n",
        "\"Ruim\", \"Ruim\", \"Boa\", \"Boa\", \"Ruim\", \"Ruim\", \"Boa\", \"Boa\", \"Ruim\",\n",
        "\"Ruim\", \"Ruim\", \"Boa\", \"Ruim\", \"Ruim\", \"Boa\", \"Ruim\", \"Ruim\",\n",
        "\"Ruim\", \"Boa\", \"Ruim\", \"Ruim\", \"Boa\", \"Boa\", \"Ruim\", \"Boa\", \"Ruim\",\n",
        "\"Ruim\", \"Ruim\", \"Ruim\", \"Ruim\", \"Ruim\", \"Ruim\", \"Ruim\", \"Boa\",\n",
        "\"Boa\", \"Boa\", \"Boa\", \"Boa\", \"Ruim\", \"Ruim\", \"Ruim\", \"Ruim\", \"Ruim\",\n",
        "\"Boa\", \"Ruim\", \"Boa\", \"Boa\", \"Ruim\", \"Ruim\", \"Ruim\", \"Ruim\",\n",
        "\"Ruim\", \"Ruim\", \"Ruim\", \"Boa\", \"Ruim\", \"Boa\", \"Boa\", \"Ruim\",\n",
        "\"Boa\", \"Boa\", \"Boa\", \"Ruim\", \"Ruim\", \"Boa\", \"Ruim\", \"Ruim\", \"Ruim\",\n",
        "\"Ruim\", \"Ruim\", \"Ruim\", \"Boa\", \"Boa\", \"Boa\", \"Ruim\", \"Ruim\",\n",
        "\"Boa\", \"Ruim\", \"Ruim\", \"Ruim\", \"Ruim\", \"Boa\", \"Boa\", \"Boa\", \"Ruim\",\n",
        "\"Ruim\", \"Ruim\", \"Ruim\", \"Ruim\", \"Boa\", \"Ruim\", \"Ruim\", \"Ruim\",\n",
        "\"Ruim\", \"Boa\", \"Ruim\", \"Boa\", \"Ruim\", \"Boa\", \"Boa\", \"Boa\", \"Ruim\",\n",
        "\"Ruim\", \"Boa\", \"Ruim\", \"Ruim\", \"Boa\", \"Ruim\", \"Ruim\", \"Ruim\",\n",
        "\"Boa\", \"Boa\", \"Boa\", \"Ruim\", \"Ruim\", \"Ruim\", \"Boa\", \"Ruim\", \"Ruim\",\n",
        "\"Boa\", \"Boa\", \"Ruim\", \"Ruim\", \"Ruim\", \"Ruim\", \"Ruim\", \"Ruim\",\n",
        "\"Boa\", \"Ruim\", \"Ruim\", \"Ruim\", \"Boa\", \"Ruim\", \"Ruim\", \"Ruim\",\n",
        "\"Ruim\", \"Ruim\", \"Ruim\", \"Boa\", \"Boa\", \"Ruim\", \"Ruim\", \"Ruim\",\n",
        "\"Ruim\", \"Ruim\", \"Boa\", \"Boa\", \"Boa\", \"Ruim\", \"Boa\", \"Boa\", \"Ruim\",\n",
        "\"Boa\", \"Ruim\", \"Ruim\", \"Ruim\", \"Ruim\", \"Ruim\", \"Boa\", \"Ruim\",\n",
        "\"Ruim\", \"Ruim\", \"Boa\", \"Boa\", \"Ruim\", \"Ruim\", \"Boa\", \"Ruim\",\n",
        "\"Ruim\", \"Ruim\", \"Ruim\", \"Ruim\", \"Ruim\", \"Ruim\", \"Ruim\", \"Ruim\",\n",
        "\"Ruim\", \"Ruim\", \"Ruim\", \"Ruim\", \"Ruim\", \"Ruim\", \"Ruim\", \"Ruim\",\n",
        "\"Boa\", \"Boa\", \"Ruim\", \"Boa\", \"Ruim\", \"Ruim\", \"Boa\", \"Ruim\", \"Boa\",\n",
        "\"Ruim\", \"Boa\", \"Ruim\", \"Boa\", \"Ruim\", \"Boa\", \"Ruim\", \"Ruim\",\n",
        "\"Boa\", \"Ruim\", \"Ruim\", \"Ruim\", \"Ruim\", \"Ruim\", \"Boa\", \"Ruim\",\n",
        "\"Boa\", \"Boa\", \"Ruim\", \"Ruim\", \"Boa\", \"Boa\", \"Ruim\", \"Ruim\", \"Ruim\",\n",
        "\"Boa\", \"Ruim\", \"Ruim\", \"Ruim\", \"Ruim\", \"Ruim\", \"Ruim\", \"Boa\",\n",
        "\"Ruim\", \"Ruim\", \"Ruim\", \"Ruim\", \"Ruim\", \"Boa\", \"Ruim\", \"Boa\",\n",
        "\"Ruim\", \"Ruim\", \"Boa\", \"Ruim\", \"Ruim\", \"Boa\", \"Boa\", \"Boa\", \"Boa\",\n",
        "\"Boa\", \"Ruim\", \"Boa\", \"Ruim\", \"Ruim\", \"Ruim\", \"Boa\", \"Ruim\",\n",
        "\"Boa\", \"Boa\", \"Ruim\", \"Boa\", \"Boa\", \"Ruim\", \"Ruim\", \"Ruim\", \"Ruim\",\n",
        "\"Ruim\", \"Boa\", \"Boa\", \"Ruim\", \"Boa\", \"Ruim\", \"Ruim\", \"Ruim\",\n",
        "\"Ruim\", \"Boa\", \"Ruim\", \"Ruim\", \"Ruim\", \"Boa\", \"Boa\", \"Boa\", \"Ruim\",\n",
        "\"Ruim\", \"Ruim\", \"Boa\", \"Ruim\", \"Ruim\", \"Ruim\", \"Ruim\", \"Ruim\",\n",
        "\"Ruim\", \"Ruim\", \"Boa\", \"Ruim\", \"Ruim\", \"Ruim\", \"Boa\", \"Ruim\",\n",
        "\"Boa\", \"Ruim\", \"Boa\", \"Boa\", \"Boa\", \"Ruim\", \"Ruim\", \"Ruim\", \"Ruim\",\n",
        "\"Ruim\", \"Ruim\", \"Ruim\", \"Ruim\", \"Boa\", \"Boa\", \"Boa\", \"Ruim\",\n",
        "\"Boa\", \"Ruim\", \"Boa\", \"Ruim\", \"Boa\", \"Ruim\", \"Ruim\", \"Ruim\",\n",
        "\"Ruim\", \"Boa\", \"Ruim\", \"Ruim\", \"Ruim\", \"Boa\", \"Ruim\", \"Boa\",\n",
        "\"Ruim\", \"Ruim\", \"Boa\", \"Ruim\", \"Ruim\", \"Ruim\", \"Ruim\", \"Boa\",\n",
        "\"Ruim\", \"Ruim\", \"Boa\", \"Ruim\", \"Ruim\", \"Boa\", \"Ruim\", \"Boa\",\n",
        "\"Ruim\", \"Boa\", \"Ruim\", \"Ruim\", \"Boa\", \"Ruim\", \"Ruim\", \"Ruim\",\n",
        "\"Boa\", \"Ruim\", \"Ruim\", \"Ruim\", \"Ruim\", \"Boa\", \"Ruim\", \"Boa\",\n",
        "\"Ruim\", \"Boa\", \"Boa\", \"Ruim\", \"Boa\", \"Ruim\", \"Ruim\", \"Boa\", \"Ruim\",\n",
        "\"Ruim\", \"Boa\", \"Boa\", \"Ruim\", \"Boa\", \"Boa\", \"Ruim\", \"Boa\", \"Boa\",\n",
        "\"Ruim\", \"Ruim\", \"Ruim\", \"Ruim\", \"Ruim\", \"Ruim\", \"Boa\", \"Ruim\",\n",
        "\"Ruim\", \"Ruim\", \"Ruim\", \"Boa\", \"Ruim\", \"Boa\", \"Ruim\", \"Boa\",\n",
        "\"Boa\", \"Ruim\", \"Ruim\", \"Ruim\", \"Ruim\", \"Ruim\", \"Boa\", \"Ruim\",\n",
        "\"Ruim\", \"Ruim\", \"Ruim\", \"Ruim\", \"Boa\", \"Ruim\", \"Ruim\", \"Ruim\",\n",
        "\"Boa\", \"Ruim\", \"Ruim\", \"Ruim\", \"Boa\", \"Ruim\", \"Ruim\", \"Ruim\",\n",
        "\"Ruim\", \"Boa\", \"Ruim\", \"Ruim\", \"Ruim\", \"Ruim\", \"Boa\", \"Ruim\",\n",
        "\"Boa\", \"Ruim\", \"Ruim\", \"Ruim\", \"Boa\", \"Ruim\", \"Ruim\", \"Ruim\",\n",
        "\"Ruim\", \"Ruim\", \"Ruim\", \"Ruim\", \"Ruim\", \"Boa\", \"Ruim\", \"Boa\",\n",
        "\"Boa\", \"Ruim\", \"Ruim\", \"Ruim\", \"Ruim\", \"Ruim\", \"Ruim\", \"Ruim\",\n",
        "\"Ruim\", \"Ruim\", \"Ruim\", \"Ruim\", \"Ruim\", \"Boa\", \"Ruim\", \"Ruim\",\n",
        "\"Boa\", \"Ruim\", \"Boa\", \"Ruim\", \"Ruim\", \"Ruim\", \"Boa\", \"Boa\", \"Ruim\",\n",
        "\"Ruim\", \"Boa\", \"Ruim\", \"Ruim\", \"Ruim\", \"Ruim\", \"Ruim\", \"Boa\",\n",
        "\"Boa\", \"Boa\", \"Boa\", \"Boa\", \"Boa\", \"Boa\", \"Ruim\", \"Ruim\", \"Ruim\",\n",
        "\"Ruim\", \"Ruim\", \"Boa\", \"Ruim\", \"Boa\", \"Ruim\", \"Ruim\", \"Boa\",\n",
        "\"Ruim\", \"Ruim\", \"Ruim\", \"Ruim\", \"Boa\", \"Ruim\", \"Boa\", \"Ruim\",\n",
        "\"Ruim\", \"Ruim\", \"Ruim\", \"Ruim\", \"Ruim\", \"Boa\", \"Ruim\", \"Ruim\",\n",
        "\"Boa\", \"Ruim\", \"Ruim\", \"Ruim\", \"Ruim\", \"Ruim\", \"Ruim\", \"Boa\",\n",
        "\"Boa\", \"Ruim\", \"Ruim\", \"Ruim\", \"Boa\", \"Ruim\", \"Boa\", \"Boa\", \"Ruim\",\n",
        "\"Boa\", \"Boa\", \"Ruim\", \"Boa\", \"Boa\", \"Boa\", \"Boa\", \"Ruim\", \"Ruim\",\n",
        "\"Ruim\", \"Boa\", \"Ruim\", \"Ruim\", \"Boa\", \"Boa\", \"Ruim\", \"Boa\", \"Ruim\",\n",
        "\"Ruim\", \"Boa\", \"Ruim\", \"Boa\", \"Boa\", \"Boa\", \"Ruim\", \"Boa\", \"Ruim\",\n",
        "\"Ruim\", \"Ruim\", \"Boa\", \"Ruim\", \"Ruim\", \"Boa\", \"Ruim\", \"Boa\",\n",
        "\"Ruim\", \"Ruim\", \"Ruim\", \"Ruim\", \"Ruim\", \"Boa\", \"Ruim\", \"Ruim\",\n",
        "\"Ruim\", \"Ruim\", \"Ruim\", \"Boa\", \"Ruim\", \"Ruim\", \"Ruim\", \"Ruim\",\n",
        "\"Ruim\", \"Ruim\", \"Boa\", \"Boa\", \"Boa\", \"Ruim\", \"Boa\", \"Ruim\", \"Boa\",\n",
        "\"Ruim\", \"Boa\", \"Ruim\", \"Ruim\", \"Ruim\", \"Ruim\", \"Ruim\", \"Boa\",\n",
        "\"Ruim\", \"Ruim\", \"Ruim\", \"Ruim\", \"Boa\", \"Boa\", \"Ruim\", \"Ruim\",\n",
        "\"Ruim\", \"Ruim\", \"Ruim\", \"Boa\", \"Ruim\", \"Ruim\", \"Ruim\", \"Boa\",\n",
        "\"Ruim\", \"Ruim\", \"Ruim\", \"Ruim\", \"Ruim\", \"Ruim\", \"Boa\", \"Ruim\",\n",
        "\"Ruim\", \"Boa\", \"Ruim\", \"Boa\", \"Boa\", \"Boa\", \"Boa\", \"Boa\", \"Boa\",\n",
        "\"Ruim\", \"Boa\", \"Ruim\", \"Ruim\", \"Ruim\", \"Ruim\", \"Boa\", \"Ruim\",\n",
        "\"Ruim\", \"Boa\", \"Ruim\", \"Ruim\", \"Ruim\", \"Boa\", \"Boa\", \"Ruim\",\n",
        "\"Ruim\", \"Ruim\", \"Boa\", \"Boa\", \"Ruim\", \"Boa\", \"Ruim\", \"Ruim\",\n",
        "\"Boa\", \"Boa\", \"Boa\", \"Ruim\", \"Ruim\", \"Ruim\", \"Boa\", \"Ruim\", \"Ruim\",\n",
        "\"Ruim\", \"Ruim\", \"Ruim\", \"Boa\", \"Ruim\", \"Boa\", \"Ruim\", \"Boa\",\n",
        "\"Ruim\", \"Ruim\", \"Boa\", \"Ruim\", \"Boa\", \"Boa\", \"Boa\", \"Ruim\"))"
      ],
      "metadata": {
        "id": "BrYYAARHJCLf"
      },
      "execution_count": 80,
      "outputs": []
    },
    {
      "cell_type": "markdown",
      "source": [
        "# 5. Visualizar os Dados"
      ],
      "metadata": {
        "id": "xMLbkqNCJd4n"
      }
    },
    {
      "cell_type": "code",
      "source": [
        "View(dados)"
      ],
      "metadata": {
        "colab": {
          "base_uri": "https://localhost:8080/",
          "height": 1000
        },
        "id": "ftqy756VJtJo",
        "outputId": "367b33bf-aa3b-42da-f2f5-64eee5d849b9"
      },
      "execution_count": 81,
      "outputs": [
        {
          "output_type": "display_data",
          "data": {
            "text/plain": [
              "    Prova_Logica Redacao Auto_Avaliacao Classe\n",
              "1   2            1       1              Ruim  \n",
              "2   2            1       1              Ruim  \n",
              "3   5            1       1              Ruim  \n",
              "4   5            4       1              Boa   \n",
              "5   5            3       1              Ruim  \n",
              "6   2            3       1              Ruim  \n",
              "7   3            5       1              Boa   \n",
              "8   2            5       7              Boa   \n",
              "9   1            9       1              Boa   \n",
              "10  4            1       1              Ruim  \n",
              "11  5            1       1              Ruim  \n",
              "12  8            1       9              Boa   \n",
              "13  1            1       1              Ruim  \n",
              "14  1            1       1              Ruim  \n",
              "15  3            4       1              Boa   \n",
              "16  4            3       3              Ruim  \n",
              "17  3            3       6              Ruim  \n",
              "18  2            1       1              Ruim  \n",
              "19  1            1       1              Ruim  \n",
              "20  1            1       1              Ruim  \n",
              "21  8            1       1              Boa   \n",
              "22  8            7       1              Boa   \n",
              "23  1            1       1              Ruim  \n",
              "24  2            1       1              Ruim  \n",
              "25  1            8       1              Boa   \n",
              "26  5            1       1              Ruim  \n",
              "27  3            1       1              Ruim  \n",
              "28  3            1       1              Ruim  \n",
              "29  5            3       1              Boa   \n",
              "30  4            8       1              Boa   \n",
              "⋮   ⋮            ⋮       ⋮              ⋮     \n",
              "670 1            4       1              Boa   \n",
              "671 4            1       1              Ruim  \n",
              "672 4            6       7              Boa   \n",
              "673 3            1       1              Ruim  \n",
              "674 1            2       1              Ruim  \n",
              "675 5            8       1              Boa   \n",
              "676 5            4       1              Boa   \n",
              "677 8            7       1              Boa   \n",
              "678 3            1       1              Ruim  \n",
              "679 3            1       1              Ruim  \n",
              "680 1            1       1              Ruim  \n",
              "681 9            5       1              Boa   \n",
              "682 5            1       1              Ruim  \n",
              "683 5            1       1              Ruim  \n",
              "684 5            2       1              Ruim  \n",
              "685 5            1       1              Ruim  \n",
              "686 1            1       2              Ruim  \n",
              "687 9            7       8              Boa   \n",
              "688 6            1       1              Ruim  \n",
              "689 3            1       1              Boa   \n",
              "690 1            1       1              Ruim  \n",
              "691 1            4       6              Boa   \n",
              "692 2            1       1              Ruim  \n",
              "693 4            1       1              Ruim  \n",
              "694 6            3       1              Boa   \n",
              "695 5            1       1              Ruim  \n",
              "696 7            5       9              Boa   \n",
              "697 6            1       1              Boa   \n",
              "698 5            7       1              Boa   \n",
              "699 1            1       1              Ruim  "
            ],
            "text/html": [
              "<table class=\"dataframe\">\n",
              "<caption>A data.frame: 699 × 4</caption>\n",
              "<thead>\n",
              "\t<tr><th scope=col>Prova_Logica</th><th scope=col>Redacao</th><th scope=col>Auto_Avaliacao</th><th scope=col>Classe</th></tr>\n",
              "\t<tr><th scope=col>&lt;dbl&gt;</th><th scope=col>&lt;dbl&gt;</th><th scope=col>&lt;dbl&gt;</th><th scope=col>&lt;chr&gt;</th></tr>\n",
              "</thead>\n",
              "<tbody>\n",
              "\t<tr><td>2</td><td>1</td><td>1</td><td>Ruim</td></tr>\n",
              "\t<tr><td>2</td><td>1</td><td>1</td><td>Ruim</td></tr>\n",
              "\t<tr><td>5</td><td>1</td><td>1</td><td>Ruim</td></tr>\n",
              "\t<tr><td>5</td><td>4</td><td>1</td><td>Boa </td></tr>\n",
              "\t<tr><td>5</td><td>3</td><td>1</td><td>Ruim</td></tr>\n",
              "\t<tr><td>2</td><td>3</td><td>1</td><td>Ruim</td></tr>\n",
              "\t<tr><td>3</td><td>5</td><td>1</td><td>Boa </td></tr>\n",
              "\t<tr><td>2</td><td>5</td><td>7</td><td>Boa </td></tr>\n",
              "\t<tr><td>1</td><td>9</td><td>1</td><td>Boa </td></tr>\n",
              "\t<tr><td>4</td><td>1</td><td>1</td><td>Ruim</td></tr>\n",
              "\t<tr><td>5</td><td>1</td><td>1</td><td>Ruim</td></tr>\n",
              "\t<tr><td>8</td><td>1</td><td>9</td><td>Boa </td></tr>\n",
              "\t<tr><td>1</td><td>1</td><td>1</td><td>Ruim</td></tr>\n",
              "\t<tr><td>1</td><td>1</td><td>1</td><td>Ruim</td></tr>\n",
              "\t<tr><td>3</td><td>4</td><td>1</td><td>Boa </td></tr>\n",
              "\t<tr><td>4</td><td>3</td><td>3</td><td>Ruim</td></tr>\n",
              "\t<tr><td>3</td><td>3</td><td>6</td><td>Ruim</td></tr>\n",
              "\t<tr><td>2</td><td>1</td><td>1</td><td>Ruim</td></tr>\n",
              "\t<tr><td>1</td><td>1</td><td>1</td><td>Ruim</td></tr>\n",
              "\t<tr><td>1</td><td>1</td><td>1</td><td>Ruim</td></tr>\n",
              "\t<tr><td>8</td><td>1</td><td>1</td><td>Boa </td></tr>\n",
              "\t<tr><td>8</td><td>7</td><td>1</td><td>Boa </td></tr>\n",
              "\t<tr><td>1</td><td>1</td><td>1</td><td>Ruim</td></tr>\n",
              "\t<tr><td>2</td><td>1</td><td>1</td><td>Ruim</td></tr>\n",
              "\t<tr><td>1</td><td>8</td><td>1</td><td>Boa </td></tr>\n",
              "\t<tr><td>5</td><td>1</td><td>1</td><td>Ruim</td></tr>\n",
              "\t<tr><td>3</td><td>1</td><td>1</td><td>Ruim</td></tr>\n",
              "\t<tr><td>3</td><td>1</td><td>1</td><td>Ruim</td></tr>\n",
              "\t<tr><td>5</td><td>3</td><td>1</td><td>Boa </td></tr>\n",
              "\t<tr><td>4</td><td>8</td><td>1</td><td>Boa </td></tr>\n",
              "\t<tr><td>⋮</td><td>⋮</td><td>⋮</td><td>⋮</td></tr>\n",
              "\t<tr><td>1</td><td>4</td><td>1</td><td>Boa </td></tr>\n",
              "\t<tr><td>4</td><td>1</td><td>1</td><td>Ruim</td></tr>\n",
              "\t<tr><td>4</td><td>6</td><td>7</td><td>Boa </td></tr>\n",
              "\t<tr><td>3</td><td>1</td><td>1</td><td>Ruim</td></tr>\n",
              "\t<tr><td>1</td><td>2</td><td>1</td><td>Ruim</td></tr>\n",
              "\t<tr><td>5</td><td>8</td><td>1</td><td>Boa </td></tr>\n",
              "\t<tr><td>5</td><td>4</td><td>1</td><td>Boa </td></tr>\n",
              "\t<tr><td>8</td><td>7</td><td>1</td><td>Boa </td></tr>\n",
              "\t<tr><td>3</td><td>1</td><td>1</td><td>Ruim</td></tr>\n",
              "\t<tr><td>3</td><td>1</td><td>1</td><td>Ruim</td></tr>\n",
              "\t<tr><td>1</td><td>1</td><td>1</td><td>Ruim</td></tr>\n",
              "\t<tr><td>9</td><td>5</td><td>1</td><td>Boa </td></tr>\n",
              "\t<tr><td>5</td><td>1</td><td>1</td><td>Ruim</td></tr>\n",
              "\t<tr><td>5</td><td>1</td><td>1</td><td>Ruim</td></tr>\n",
              "\t<tr><td>5</td><td>2</td><td>1</td><td>Ruim</td></tr>\n",
              "\t<tr><td>5</td><td>1</td><td>1</td><td>Ruim</td></tr>\n",
              "\t<tr><td>1</td><td>1</td><td>2</td><td>Ruim</td></tr>\n",
              "\t<tr><td>9</td><td>7</td><td>8</td><td>Boa </td></tr>\n",
              "\t<tr><td>6</td><td>1</td><td>1</td><td>Ruim</td></tr>\n",
              "\t<tr><td>3</td><td>1</td><td>1</td><td>Boa </td></tr>\n",
              "\t<tr><td>1</td><td>1</td><td>1</td><td>Ruim</td></tr>\n",
              "\t<tr><td>1</td><td>4</td><td>6</td><td>Boa </td></tr>\n",
              "\t<tr><td>2</td><td>1</td><td>1</td><td>Ruim</td></tr>\n",
              "\t<tr><td>4</td><td>1</td><td>1</td><td>Ruim</td></tr>\n",
              "\t<tr><td>6</td><td>3</td><td>1</td><td>Boa </td></tr>\n",
              "\t<tr><td>5</td><td>1</td><td>1</td><td>Ruim</td></tr>\n",
              "\t<tr><td>7</td><td>5</td><td>9</td><td>Boa </td></tr>\n",
              "\t<tr><td>6</td><td>1</td><td>1</td><td>Boa </td></tr>\n",
              "\t<tr><td>5</td><td>7</td><td>1</td><td>Boa </td></tr>\n",
              "\t<tr><td>1</td><td>1</td><td>1</td><td>Ruim</td></tr>\n",
              "</tbody>\n",
              "</table>\n"
            ],
            "text/markdown": "\nA data.frame: 699 × 4\n\n| Prova_Logica &lt;dbl&gt; | Redacao &lt;dbl&gt; | Auto_Avaliacao &lt;dbl&gt; | Classe &lt;chr&gt; |\n|---|---|---|---|\n| 2 | 1 | 1 | Ruim |\n| 2 | 1 | 1 | Ruim |\n| 5 | 1 | 1 | Ruim |\n| 5 | 4 | 1 | Boa  |\n| 5 | 3 | 1 | Ruim |\n| 2 | 3 | 1 | Ruim |\n| 3 | 5 | 1 | Boa  |\n| 2 | 5 | 7 | Boa  |\n| 1 | 9 | 1 | Boa  |\n| 4 | 1 | 1 | Ruim |\n| 5 | 1 | 1 | Ruim |\n| 8 | 1 | 9 | Boa  |\n| 1 | 1 | 1 | Ruim |\n| 1 | 1 | 1 | Ruim |\n| 3 | 4 | 1 | Boa  |\n| 4 | 3 | 3 | Ruim |\n| 3 | 3 | 6 | Ruim |\n| 2 | 1 | 1 | Ruim |\n| 1 | 1 | 1 | Ruim |\n| 1 | 1 | 1 | Ruim |\n| 8 | 1 | 1 | Boa  |\n| 8 | 7 | 1 | Boa  |\n| 1 | 1 | 1 | Ruim |\n| 2 | 1 | 1 | Ruim |\n| 1 | 8 | 1 | Boa  |\n| 5 | 1 | 1 | Ruim |\n| 3 | 1 | 1 | Ruim |\n| 3 | 1 | 1 | Ruim |\n| 5 | 3 | 1 | Boa  |\n| 4 | 8 | 1 | Boa  |\n| ⋮ | ⋮ | ⋮ | ⋮ |\n| 1 | 4 | 1 | Boa  |\n| 4 | 1 | 1 | Ruim |\n| 4 | 6 | 7 | Boa  |\n| 3 | 1 | 1 | Ruim |\n| 1 | 2 | 1 | Ruim |\n| 5 | 8 | 1 | Boa  |\n| 5 | 4 | 1 | Boa  |\n| 8 | 7 | 1 | Boa  |\n| 3 | 1 | 1 | Ruim |\n| 3 | 1 | 1 | Ruim |\n| 1 | 1 | 1 | Ruim |\n| 9 | 5 | 1 | Boa  |\n| 5 | 1 | 1 | Ruim |\n| 5 | 1 | 1 | Ruim |\n| 5 | 2 | 1 | Ruim |\n| 5 | 1 | 1 | Ruim |\n| 1 | 1 | 2 | Ruim |\n| 9 | 7 | 8 | Boa  |\n| 6 | 1 | 1 | Ruim |\n| 3 | 1 | 1 | Boa  |\n| 1 | 1 | 1 | Ruim |\n| 1 | 4 | 6 | Boa  |\n| 2 | 1 | 1 | Ruim |\n| 4 | 1 | 1 | Ruim |\n| 6 | 3 | 1 | Boa  |\n| 5 | 1 | 1 | Ruim |\n| 7 | 5 | 9 | Boa  |\n| 6 | 1 | 1 | Boa  |\n| 5 | 7 | 1 | Boa  |\n| 1 | 1 | 1 | Ruim |\n\n",
            "text/latex": "A data.frame: 699 × 4\n\\begin{tabular}{llll}\n Prova\\_Logica & Redacao & Auto\\_Avaliacao & Classe\\\\\n <dbl> & <dbl> & <dbl> & <chr>\\\\\n\\hline\n\t 2 & 1 & 1 & Ruim\\\\\n\t 2 & 1 & 1 & Ruim\\\\\n\t 5 & 1 & 1 & Ruim\\\\\n\t 5 & 4 & 1 & Boa \\\\\n\t 5 & 3 & 1 & Ruim\\\\\n\t 2 & 3 & 1 & Ruim\\\\\n\t 3 & 5 & 1 & Boa \\\\\n\t 2 & 5 & 7 & Boa \\\\\n\t 1 & 9 & 1 & Boa \\\\\n\t 4 & 1 & 1 & Ruim\\\\\n\t 5 & 1 & 1 & Ruim\\\\\n\t 8 & 1 & 9 & Boa \\\\\n\t 1 & 1 & 1 & Ruim\\\\\n\t 1 & 1 & 1 & Ruim\\\\\n\t 3 & 4 & 1 & Boa \\\\\n\t 4 & 3 & 3 & Ruim\\\\\n\t 3 & 3 & 6 & Ruim\\\\\n\t 2 & 1 & 1 & Ruim\\\\\n\t 1 & 1 & 1 & Ruim\\\\\n\t 1 & 1 & 1 & Ruim\\\\\n\t 8 & 1 & 1 & Boa \\\\\n\t 8 & 7 & 1 & Boa \\\\\n\t 1 & 1 & 1 & Ruim\\\\\n\t 2 & 1 & 1 & Ruim\\\\\n\t 1 & 8 & 1 & Boa \\\\\n\t 5 & 1 & 1 & Ruim\\\\\n\t 3 & 1 & 1 & Ruim\\\\\n\t 3 & 1 & 1 & Ruim\\\\\n\t 5 & 3 & 1 & Boa \\\\\n\t 4 & 8 & 1 & Boa \\\\\n\t ⋮ & ⋮ & ⋮ & ⋮\\\\\n\t 1 & 4 & 1 & Boa \\\\\n\t 4 & 1 & 1 & Ruim\\\\\n\t 4 & 6 & 7 & Boa \\\\\n\t 3 & 1 & 1 & Ruim\\\\\n\t 1 & 2 & 1 & Ruim\\\\\n\t 5 & 8 & 1 & Boa \\\\\n\t 5 & 4 & 1 & Boa \\\\\n\t 8 & 7 & 1 & Boa \\\\\n\t 3 & 1 & 1 & Ruim\\\\\n\t 3 & 1 & 1 & Ruim\\\\\n\t 1 & 1 & 1 & Ruim\\\\\n\t 9 & 5 & 1 & Boa \\\\\n\t 5 & 1 & 1 & Ruim\\\\\n\t 5 & 1 & 1 & Ruim\\\\\n\t 5 & 2 & 1 & Ruim\\\\\n\t 5 & 1 & 1 & Ruim\\\\\n\t 1 & 1 & 2 & Ruim\\\\\n\t 9 & 7 & 8 & Boa \\\\\n\t 6 & 1 & 1 & Ruim\\\\\n\t 3 & 1 & 1 & Boa \\\\\n\t 1 & 1 & 1 & Ruim\\\\\n\t 1 & 4 & 6 & Boa \\\\\n\t 2 & 1 & 1 & Ruim\\\\\n\t 4 & 1 & 1 & Ruim\\\\\n\t 6 & 3 & 1 & Boa \\\\\n\t 5 & 1 & 1 & Ruim\\\\\n\t 7 & 5 & 9 & Boa \\\\\n\t 6 & 1 & 1 & Boa \\\\\n\t 5 & 7 & 1 & Boa \\\\\n\t 1 & 1 & 1 & Ruim\\\\\n\\end{tabular}\n"
          },
          "metadata": {}
        }
      ]
    },
    {
      "cell_type": "markdown",
      "source": [
        "# 6.  ATENÇÂO AQUI\n",
        "#Converte variável resposta para factor \n",
        "\n",
        "**Nota do Sam** Leia a Ajuda após executar o código abaixo\n"
      ],
      "metadata": {
        "id": "xxJ5KGDoMkjN"
      }
    },
    {
      "cell_type": "code",
      "source": [
        "##Nota do Sam: Para exibir a ajuda para uma palavra-chave, basta precedê-la por um ponto de interrogação\n",
        "?factor"
      ],
      "metadata": {
        "id": "ufm-iy6zMx9k"
      },
      "execution_count": 82,
      "outputs": []
    },
    {
      "cell_type": "code",
      "source": [
        "# Antes de ser convertidade em factor, ela é do tipo character\n",
        "#Nota do Sam:\n",
        "typeof(dados$Classe)"
      ],
      "metadata": {
        "colab": {
          "base_uri": "https://localhost:8080/",
          "height": 34
        },
        "id": "DGTlD1poOaiw",
        "outputId": "a2ef3bba-7ee0-4cc1-8b40-9ba5ee5882e6"
      },
      "execution_count": 83,
      "outputs": [
        {
          "output_type": "display_data",
          "data": {
            "text/html": [
              "'character'"
            ],
            "text/markdown": "'character'",
            "text/latex": "'character'",
            "text/plain": [
              "[1] \"character\""
            ]
          },
          "metadata": {}
        }
      ]
    },
    {
      "cell_type": "code",
      "source": [
        "#converte para factor\n",
        "dados$Classe <- factor(dados$Classe, levels = c('Ruim','Boa'))"
      ],
      "metadata": {
        "id": "ouLBKBrDMoSK"
      },
      "execution_count": 84,
      "outputs": []
    },
    {
      "cell_type": "code",
      "source": [
        "# Após ser convertidade em factor, ela passa a ser do tipo integer\n",
        "#Nota do Sam:\n",
        "typeof(dados$Classe)"
      ],
      "metadata": {
        "colab": {
          "base_uri": "https://localhost:8080/",
          "height": 34
        },
        "id": "QlG8QmiyN8Zy",
        "outputId": "ba7f210b-8b44-47b9-ae01-84967a05584e"
      },
      "execution_count": 85,
      "outputs": [
        {
          "output_type": "display_data",
          "data": {
            "text/html": [
              "'integer'"
            ],
            "text/markdown": "'integer'",
            "text/latex": "'integer'",
            "text/plain": [
              "[1] \"integer\""
            ]
          },
          "metadata": {}
        }
      ]
    },
    {
      "cell_type": "markdown",
      "source": [
        "# 7. Exibir as Quantidade por Classes \n",
        "com o comando table\n",
        "\n",
        "**Nota do Sam:**"
      ],
      "metadata": {
        "id": "PHMLE0sQNYMF"
      }
    },
    {
      "cell_type": "code",
      "source": [
        "table(dados$Classe)"
      ],
      "metadata": {
        "colab": {
          "base_uri": "https://localhost:8080/",
          "height": 69
        },
        "id": "1pTWJ2pfNYdq",
        "outputId": "afd84897-8a4c-4cfc-fb58-ba53b6e799d1"
      },
      "execution_count": 86,
      "outputs": [
        {
          "output_type": "display_data",
          "data": {
            "text/plain": [
              "\n",
              "Ruim  Boa \n",
              " 458  241 "
            ]
          },
          "metadata": {}
        }
      ]
    },
    {
      "cell_type": "markdown",
      "source": [
        "# 8. Pequena Análise Exploratória\n",
        "**Nota do Sam:** Requer a library dplyr\n"
      ],
      "metadata": {
        "id": "j6yGflcjOrmJ"
      }
    },
    {
      "cell_type": "code",
      "source": [
        "dados %>% group_by(Classe) %>% summarise_all(\"mean\")"
      ],
      "metadata": {
        "colab": {
          "base_uri": "https://localhost:8080/",
          "height": 161
        },
        "id": "JOzaSeAoOsvY",
        "outputId": "7121d1ef-dfa2-41a9-c857-825477e4987f"
      },
      "execution_count": 87,
      "outputs": [
        {
          "output_type": "display_data",
          "data": {
            "text/html": [
              "<table class=\"dataframe\">\n",
              "<caption>A tibble: 2 × 4</caption>\n",
              "<thead>\n",
              "\t<tr><th scope=col>Classe</th><th scope=col>Prova_Logica</th><th scope=col>Redacao</th><th scope=col>Auto_Avaliacao</th></tr>\n",
              "\t<tr><th scope=col>&lt;fct&gt;</th><th scope=col>&lt;dbl&gt;</th><th scope=col>&lt;dbl&gt;</th><th scope=col>&lt;dbl&gt;</th></tr>\n",
              "</thead>\n",
              "<tbody>\n",
              "\t<tr><td>Ruim</td><td>2.956332</td><td>1.325328</td><td>1.290393</td></tr>\n",
              "\t<tr><td>Boa </td><td>4.622407</td><td>4.070539</td><td>3.585062</td></tr>\n",
              "</tbody>\n",
              "</table>\n"
            ],
            "text/markdown": "\nA tibble: 2 × 4\n\n| Classe &lt;fct&gt; | Prova_Logica &lt;dbl&gt; | Redacao &lt;dbl&gt; | Auto_Avaliacao &lt;dbl&gt; |\n|---|---|---|---|\n| Ruim | 2.956332 | 1.325328 | 1.290393 |\n| Boa  | 4.622407 | 4.070539 | 3.585062 |\n\n",
            "text/latex": "A tibble: 2 × 4\n\\begin{tabular}{llll}\n Classe & Prova\\_Logica & Redacao & Auto\\_Avaliacao\\\\\n <fct> & <dbl> & <dbl> & <dbl>\\\\\n\\hline\n\t Ruim & 2.956332 & 1.325328 & 1.290393\\\\\n\t Boa  & 4.622407 & 4.070539 & 3.585062\\\\\n\\end{tabular}\n",
            "text/plain": [
              "  Classe Prova_Logica Redacao  Auto_Avaliacao\n",
              "1 Ruim   2.956332     1.325328 1.290393      \n",
              "2 Boa    4.622407     4.070539 3.585062      "
            ]
          },
          "metadata": {}
        }
      ]
    },
    {
      "cell_type": "markdown",
      "source": [
        "#9. Ajusta Regressão Logística - Cria o Modelo de Machine Learning\n",
        "glm\n",
        "\n",
        "**Nota do Sam:** Troquei a palavra fit do exercício por meu_modelo para não confundir com palavras reservdas\n"
      ],
      "metadata": {
        "id": "V4lwQR8mP8bT"
      }
    },
    {
      "cell_type": "code",
      "source": [
        "?glm\n"
      ],
      "metadata": {
        "id": "ubNV--u9QS8G"
      },
      "execution_count": 88,
      "outputs": []
    },
    {
      "cell_type": "code",
      "source": [
        "meu_modelo <- glm(Classe ~ Prova_Logica + Redacao + Auto_Avaliacao , data = dados, family = binomial)"
      ],
      "metadata": {
        "id": "AJPh4mK_P9cp"
      },
      "execution_count": 89,
      "outputs": []
    },
    {
      "cell_type": "markdown",
      "source": [
        "# 10. Visualiza Resumo do Modelo Ajustado\n"
      ],
      "metadata": {
        "id": "l_5BVS63RaBl"
      }
    },
    {
      "cell_type": "code",
      "source": [
        "summary(meu_modelo)"
      ],
      "metadata": {
        "colab": {
          "base_uri": "https://localhost:8080/",
          "height": 451
        },
        "id": "ZstEX0x6Rf3_",
        "outputId": "cb0001db-d9d0-4936-ecf8-3b09f11da3c8"
      },
      "execution_count": 90,
      "outputs": [
        {
          "output_type": "display_data",
          "data": {
            "text/plain": [
              "\n",
              "Call:\n",
              "glm(formula = Classe ~ Prova_Logica + Redacao + Auto_Avaliacao, \n",
              "    family = binomial, data = dados)\n",
              "\n",
              "Deviance Residuals: \n",
              "    Min       1Q   Median       3Q      Max  \n",
              "-3.4470  -0.5346  -0.3941   0.2987   2.2777  \n",
              "\n",
              "Coefficients:\n",
              "               Estimate Std. Error z value Pr(>|z|)    \n",
              "(Intercept)    -3.84584    0.27818 -13.825  < 2e-16 ***\n",
              "Prova_Logica    0.21431    0.05186   4.132 3.59e-05 ***\n",
              "Redacao         0.69144    0.07437   9.298  < 2e-16 ***\n",
              "Auto_Avaliacao  0.42384    0.06730   6.298 3.02e-10 ***\n",
              "---\n",
              "Signif. codes:  0 ‘***’ 0.001 ‘**’ 0.01 ‘*’ 0.05 ‘.’ 0.1 ‘ ’ 1\n",
              "\n",
              "(Dispersion parameter for binomial family taken to be 1)\n",
              "\n",
              "    Null deviance: 900.53  on 698  degrees of freedom\n",
              "Residual deviance: 526.77  on 695  degrees of freedom\n",
              "AIC: 534.77\n",
              "\n",
              "Number of Fisher Scoring iterations: 5\n"
            ]
          },
          "metadata": {}
        }
      ]
    },
    {
      "cell_type": "markdown",
      "source": [
        "# 11. Aplica Exponenciacão nos Coeficientes para interpretar\n",
        "**Nota do Sam:** Eleva a constante de [Euler](https://pt.wikipedia.org/wiki/E_(constante_matem%C3%A1tica)) (2,718281828459045235360287) a cada Beta de regressão\n",
        "\n",
        "**tipo:** 2.718281828459045235360287 ** 0.21431 (1.2390092194707 da Prova Lógica)\n"
      ],
      "metadata": {
        "id": "P8fEmPvXRput"
      }
    },
    {
      "cell_type": "code",
      "source": [
        " 2.718281828459045235360287 ** 0.21431 "
      ],
      "metadata": {
        "colab": {
          "base_uri": "https://localhost:8080/",
          "height": 34
        },
        "id": "GynJdJjjR2s0",
        "outputId": "e1f54454-f45b-4241-8485-3dfe78b5370d"
      },
      "execution_count": 91,
      "outputs": [
        {
          "output_type": "display_data",
          "data": {
            "text/html": [
              "1.23900668733841"
            ],
            "text/markdown": "1.23900668733841",
            "text/latex": "1.23900668733841",
            "text/plain": [
              "[1] 1.239007"
            ]
          },
          "metadata": {}
        }
      ]
    },
    {
      "cell_type": "code",
      "source": [
        "exp(meu_modelo$coefficients)"
      ],
      "metadata": {
        "colab": {
          "base_uri": "https://localhost:8080/",
          "height": 34
        },
        "id": "UZCQb8fzRwct",
        "outputId": "2928468b-eeea-4c9b-caec-f3edd94034dc"
      },
      "execution_count": 92,
      "outputs": [
        {
          "output_type": "display_data",
          "data": {
            "text/html": [
              "<style>\n",
              ".dl-inline {width: auto; margin:0; padding: 0}\n",
              ".dl-inline>dt, .dl-inline>dd {float: none; width: auto; display: inline-block}\n",
              ".dl-inline>dt::after {content: \":\\0020\"; padding-right: .5ex}\n",
              ".dl-inline>dt:not(:first-of-type) {padding-left: .5ex}\n",
              "</style><dl class=dl-inline><dt>(Intercept)</dt><dd>0.021368456213711</dd><dt>Prova_Logica</dt><dd>1.2390092194707</dd><dt>Redacao</dt><dd>1.99658084366104</dd><dt>Auto_Avaliacao</dt><dd>1.52781738901428</dd></dl>\n"
            ],
            "text/markdown": "(Intercept)\n:   0.021368456213711Prova_Logica\n:   1.2390092194707Redacao\n:   1.99658084366104Auto_Avaliacao\n:   1.52781738901428\n\n",
            "text/latex": "\\begin{description*}\n\\item[(Intercept)] 0.021368456213711\n\\item[Prova\\textbackslash{}\\_Logica] 1.2390092194707\n\\item[Redacao] 1.99658084366104\n\\item[Auto\\textbackslash{}\\_Avaliacao] 1.52781738901428\n\\end{description*}\n",
            "text/plain": [
              "   (Intercept)   Prova_Logica        Redacao Auto_Avaliacao \n",
              "    0.02136846     1.23900922     1.99658084     1.52781739 "
            ]
          },
          "metadata": {}
        }
      ]
    },
    {
      "cell_type": "markdown",
      "source": [
        "# 12. [Curva ROC](https://pt.wikipedia.org/wiki/Caracter%C3%ADstica_de_Opera%C3%A7%C3%A3o_do_Receptor) "
      ],
      "metadata": {
        "id": "S3J9TGAXTRrd"
      }
    },
    {
      "cell_type": "code",
      "source": [
        "prob = predict(meu_modelo, newdata = dados, type = \"response\")\n",
        "roc = roc(dados$Classe ~ prob, plot = TRUE, print.auc = TRUE)"
      ],
      "metadata": {
        "colab": {
          "base_uri": "https://localhost:8080/",
          "height": 506
        },
        "id": "b1TFUtWgTk80",
        "outputId": "722d5d5b-60c2-4103-ab0b-2e5f5376883e"
      },
      "execution_count": 93,
      "outputs": [
        {
          "output_type": "stream",
          "name": "stderr",
          "text": [
            "Setting levels: control = Ruim, case = Boa\n",
            "\n",
            "Setting direction: controls < cases\n",
            "\n"
          ]
        },
        {
          "output_type": "display_data",
          "data": {
            "text/plain": [
              "plot without title"
            ],
            "image/png": "[encoded data removed]"
          },
          "metadata": {
            "image/png": {
              "width": 420,
              "height": 420
            }
          }
        }
      ]
    },
    {
      "cell_type": "markdown",
      "source": [
        "# 13. Obtém a Predição/Probabilidade para Cada Observacao\n"
      ],
      "metadata": {
        "id": "2-PRFYUBTvUF"
      }
    },
    {
      "cell_type": "code",
      "source": [
        "Probabilidade <- predict(meu_modelo, newdata= dados,type = 'response')\n",
        "Probabilidade #Nota do Sam: Compare 1 e a 8 abaixo e veja no próximo comomando abaixo colo ele classificou"
      ],
      "metadata": {
        "colab": {
          "base_uri": "https://localhost:8080/",
          "height": 850
        },
        "id": "icIsVVgCTwnl",
        "outputId": "c3314117-5649-470c-b4a3-bf3d4390fb8d"
      },
      "execution_count": 94,
      "outputs": [
        {
          "output_type": "display_data",
          "data": {
            "text/html": [
              "<style>\n",
              ".dl-inline {width: auto; margin:0; padding: 0}\n",
              ".dl-inline>dt, .dl-inline>dd {float: none; width: auto; display: inline-block}\n",
              ".dl-inline>dt::after {content: \":\\0020\"; padding-right: .5ex}\n",
              ".dl-inline>dt:not(:first-of-type) {padding-left: .5ex}\n",
              "</style><dl class=dl-inline><dt>1</dt><dd>0.0909624967952725</dd><dt>2</dt><dd>0.0909624967952725</dd><dt>3</dt><dd>0.159895888278546</dd><dt>4</dt><dd>0.602359352523651</dd><dt>5</dt><dd>0.431402654708017</dd><dt>6</dt><dd>0.28514808373448</dd><dt>7</dt><dd>0.663318424365633</dd><dt>8</dt><dd>0.952882474342243</dd><dt>9</dt><dd>0.95325780154155</dd><dt>10</dt><dd>0.133158619188597</dd><dt>11</dt><dd>0.159895888278546</dd><dt>12</dt><dd>0.914874059254158</dd><dt>13</dt><dd>0.0747267414250701</dd><dt>14</dt><dd>0.0747267414250701</dd><dt>15</dt><dd>0.496670401549194</dd><dt>16</dt><dd>0.588371585644853</dd><dt>17</dt><dd>0.804466269453688</dd><dt>18</dt><dd>0.0909624967952725</dd><dt>19</dt><dd>0.0747267414250701</dd><dt>20</dt><dd>0.0747267414250701</dd><dt>21</dt><dd>0.265794249799912</dd><dt>22</dt><dd>0.958215612218938</dd><dt>23</dt><dd>0.0747267414250701</dd><dt>24</dt><dd>0.0909624967952725</dd><dt>25</dt><dd>0.910829209573828</dd><dt>26</dt><dd>0.159895888278546</dd><dt>27</dt><dd>0.110305239687793</dd><dt>28</dt><dd>0.110305239687793</dd><dt>29</dt><dd>0.431402654708017</dd><dt>30</dt><dd>0.951048637915309</dd><dt>31</dt><dd>0.379789287601837</dd><dt>32</dt><dd>0.0747267414250701</dd><dt>33</dt><dd>0.930691358750525</dd><dt>34</dt><dd>0.330758887293909</dd><dt>35</dt><dd>0.28514808373448</dd><dt>36</dt><dd>0.110305239687793</dd><dt>37</dt><dd>0.198421258757924</dd><dt>38</dt><dd>0.994714030137615</dd><dt>39</dt><dd>0.0747267414250701</dd><dt>40</dt><dd>0.0747267414250701</dd><dt>41</dt><dd>0.159895888278546</dd><dt>42</dt><dd>0.133158619188597</dd><dt>43</dt><dd>0.0747267414250701</dd><dt>44</dt><dd>0.159895888278546</dd><dt>45</dt><dd>0.993489912710972</dd><dt>46</dt><dd>0.0747267414250701</dd><dt>47</dt><dd>0.133158619188597</dd><dt>48</dt><dd>0.998871890701069</dd><dt>49</dt><dd>0.984863690449978</dd><dt>50</dt><dd>0.0747267414250701</dd><dt>51</dt><dd>0.35612412829145</dd><dt>52</dt><dd>0.0747267414250701</dd><dt>53</dt><dd>0.0747267414250701</dd><dt>54</dt><dd>0.159895888278546</dd><dt>55</dt><dd>0.0747267414250701</dd><dt>56</dt><dd>0.159895888278546</dd><dt>57</dt><dd>0.110305239687793</dd><dt>58</dt><dd>0.0747267414250701</dd><dt>59</dt><dd>0.0747267414250701</dd><dt>60</dt><dd>0.821563179804718</dd><dt>61</dt><dd>0.562051820539041</dd><dt>62</dt><dd>0.158614828196775</dd><dt>63</dt><dd>0.994986939958887</dd><dt>64</dt><dd>0.562051820539041</dd><dt>65</dt><dd>0.0747267414250701</dd><dt>66</dt><dd>0.0909624967952725</dd><dt>67</dt><dd>0.0747267414250701</dd><dt>68</dt><dd>0.159895888278546</dd><dt>69</dt><dd>0.159895888278546</dd><dt>70</dt><dd>0.718558405368916</dd><dt>71</dt><dd>0.0909624967952725</dd><dt>72</dt><dd>0.0747267414250701</dd><dt>73</dt><dd>0.919909194697235</dd><dt>74</dt><dd>0.190082409291486</dd><dt>75</dt><dd>0.159895888278546</dd><dt>76</dt><dd>0.0747267414250701</dd><dt>77</dt><dd>0.110305239687793</dd><dt>78</dt><dd>0.110305239687793</dd><dt>79</dt><dd>0.110305239687793</dd><dt>80</dt><dd>0.159895888278546</dd><dt>81</dt><dd>0.697276409722491</dd><dt>82</dt><dd>0.0747267414250701</dd><dt>83</dt><dd>0.998609298562092</dd><dt>84</dt><dd>0.749730188070328</dd><dt>85</dt><dd>0.0747267414250701</dd><dt>86</dt><dd>0.92975985861269</dd><dt>87</dt><dd>0.982677899588171</dd><dt>88</dt><dd>0.613061133731052</dd><dt>89</dt><dd>0.110305239687793</dd><dt>90</dt><dd>0.0747267414250701</dd><dt>91</dt><dd>0.875928014143586</dd><dt>92</dt><dd>0.0747267414250701</dd><dt>93</dt><dd>0.133158619188597</dd><dt>94</dt><dd>0.0909624967952725</dd><dt>95</dt><dd>0.13885711875871</dd><dt>96</dt><dd>0.922473478141386</dd><dt>97</dt><dd>0.729207595187973</dd><dt>98</dt><dd>0.224445270245691</dd><dt>99</dt><dd>0.771091703467631</dd><dt>100</dt><dd>0.910829209573828</dd><dt>101</dt><dd>0.0747267414250701</dd><dt>102</dt><dd>0.870560309419116</dd><dt>103</dt><dd>0.857926972111391</dd><dt>104</dt><dd>0.0747267414250701</dd><dt>105</dt><dd>0.0747267414250701</dd><dt>106</dt><dd>0.0747267414250701</dd><dt>107</dt><dd>0.159895888278546</dd><dt>108</dt><dd>0.923154972495578</dd><dt>109</dt><dd>0.159895888278546</dd><dt>110</dt><dd>0.10983663051452</dd><dt>111</dt><dd>0.234714546537871</dd><dt>112</dt><dd>0.28514808373448</dd><dt>113</dt><dd>0.275365759715968</dd><dt>114</dt><dd>0.133158619188597</dd><dt>115</dt><dd>0.159895888278546</dd><dt>116</dt><dd>0.306590768999799</dd><dt>117</dt><dd>0.110305239687793</dd><dt>118</dt><dd>0.926525718157216</dd><dt>119</dt><dd>0.159895888278546</dd><dt>120</dt><dd>0.159895888278546</dd><dt>121</dt><dd>0.159895888278546</dd><dt>122</dt><dd>0.22527910171333</dd><dt>123</dt><dd>0.870560309419116</dd><dt>124</dt><dd>0.159895888278546</dd><dt>125</dt><dd>0.98577263528107</dd><dt>126</dt><dd>0.850850375270593</dd><dt>127</dt><dd>0.979545356835132</dd><dt>128</dt><dd>0.0747267414250701</dd><dt>129</dt><dd>0.110305239687793</dd><dt>130</dt><dd>0.133158619188597</dd><dt>131</dt><dd>0.0909624967952725</dd><dt>132</dt><dd>0.159895888278546</dd><dt>133</dt><dd>0.243538091261021</dd><dt>134</dt><dd>0.993136067288857</dd><dt>135</dt><dd>0.110305239687793</dd><dt>136</dt><dd>0.367321104819539</dd><dt>137</dt><dd>0.751521152766203</dd><dt>138</dt><dd>0.857926972111391</dd><dt>139</dt><dd>0.19081999012857</dd><dt>140</dt><dd>0.234714546537871</dd><dt>141</dt><dd>0.274412206732746</dd><dt>142</dt><dd>0.159895888278546</dd><dt>143</dt><dd>0.998609298562092</dd><dt>144</dt><dd>0.0747267414250701</dd><dt>145</dt><dd>0.982452195501144</dd><dt>146</dt><dd>0.857926972111391</dd><dt>147</dt><dd>0.994227097308825</dd><dt>148</dt><dd>0.430229574681256</dd><dt>149</dt><dd>0.0909624967952725</dd><dt>150</dt><dd>0.110305239687793</dd><dt>151</dt><dd>0.0909624967952725</dd><dt>152</dt><dd>0.159895888278546</dd><dt>153</dt><dd>0.22527910171333</dd><dt>154</dt><dd>0.613061133731052</dd><dt>155</dt><dd>0.159895888278546</dd><dt>156</dt><dd>0.133158619188597</dd><dt>157</dt><dd>0.133158619188597</dd><dt>158</dt><dd>0.972250353080042</dd><dt>159</dt><dd>0.0747267414250701</dd><dt>160</dt><dd>0.158614828196775</dd><dt>161</dt><dd>0.0909624967952725</dd><dt>162</dt><dd>0.159895888278546</dd><dt>163</dt><dd>0.706667650772455</dd><dt>164</dt><dd>0.0909624967952725</dd><dt>165</dt><dd>0.970639998296067</dd><dt>166</dt><dd>0.133158619188597</dd><dt>167</dt><dd>0.0747267414250701</dd><dt>168</dt><dd>0.0747267414250701</dd><dt>169</dt><dd>0.0747267414250701</dd><dt>170</dt><dd>0.133158619188597</dd><dt>171</dt><dd>0.431402654708017</dd><dt>172</dt><dd>0.562051820539041</dd><dt>173</dt><dd>0.0747267414250701</dd><dt>174</dt><dd>0.265794249799912</dd><dt>175</dt><dd>0.110305239687793</dd><dt>176</dt><dd>0.19081999012857</dd><dt>177</dt><dd>0.977190998757116</dd><dt>178</dt><dd>0.110305239687793</dd><dt>179</dt><dd>0.777890975462454</dd><dt>180</dt><dd>0.110305239687793</dd><dt>181</dt><dd>0.110305239687793</dd><dt>182</dt><dd>0.0909624967952725</dd><dt>183</dt><dd>0.419547639094742</dd><dt>184</dt><dd>0.133158619188597</dd><dt>185</dt><dd>0.636910984424275</dd><dt>186</dt><dd>0.0747267414250701</dd><dt>187</dt><dd>0.0747267414250701</dd><dt>188</dt><dd>0.0747267414250701</dd><dt>189</dt><dd>0.600065412965045</dd><dt>190</dt><dd>0.896522222400301</dd><dt>191</dt><dd>0.110305239687793</dd><dt>192</dt><dd>0.133158619188597</dd><dt>193</dt><dd>0.882102204609361</dd><dt>194</dt><dd>0.0909624967952725</dd><dt>195</dt><dd>0.330758887293909</dd><dt>196</dt><dd>0.110305239687793</dd><dt>197</dt><dd>0.740520151186592</dd><dt>198</dt><dd>0.0909624967952725</dd><dt>199</dt><dd>0.0747267414250701</dd><dt>200</dt><dd>0.159895888278546</dd><dt>201</dt><dd>⋯</dd><dt>202</dt><dd>0.875535419535693</dd><dt>203</dt><dd>0.71928739418676</dd><dt>204</dt><dd>0.996713116956989</dd><dt>205</dt><dd>0.910829209573828</dd><dt>206</dt><dd>0.958215612218938</dd><dt>207</dt><dd>0.419547639094742</dd><dt>208</dt><dd>0.0747267414250701</dd><dt>209</dt><dd>0.159895888278546</dd><dt>210</dt><dd>0.0747267414250701</dd><dt>211</dt><dd>0.133158619188597</dd><dt>212</dt><dd>0.307608734844744</dd><dt>213</dt><dd>0.0747267414250701</dd><dt>214</dt><dd>0.133158619188597</dd><dt>215</dt><dd>0.562051820539041</dd><dt>216</dt><dd>0.133158619188597</dd><dt>217</dt><dd>0.0747267414250701</dd><dt>218</dt><dd>0.915154593912409</dd><dt>219</dt><dd>0.0747267414250701</dd><dt>220</dt><dd>0.133158619188597</dd><dt>221</dt><dd>0.133158619188597</dd><dt>222</dt><dd>0.0747267414250701</dd><dt>223</dt><dd>0.996159401458276</dd><dt>224</dt><dd>0.0909624967952725</dd><dt>225</dt><dd>0.960114896554388</dd><dt>226</dt><dd>0.0747267414250701</dd><dt>227</dt><dd>0.133158619188597</dd><dt>228</dt><dd>0.234714546537871</dd><dt>229</dt><dd>0.779539675993111</dd><dt>230</dt><dd>0.133158619188597</dd><dt>231</dt><dd>0.0747267414250701</dd><dt>232</dt><dd>0.980311020328613</dd><dt>233</dt><dd>0.275365759715968</dd><dt>234</dt><dd>0.110305239687793</dd><dt>235</dt><dd>0.613061133731052</dd><dt>236</dt><dd>0.133158619188597</dd><dt>237</dt><dd>0.0747267414250701</dd><dt>238</dt><dd>0.0747267414250701</dd><dt>239</dt><dd>0.22527910171333</dd><dt>240</dt><dd>0.110305239687793</dd><dt>241</dt><dd>0.110305239687793</dd><dt>242</dt><dd>0.13885711875871</dd><dt>243</dt><dd>0.159895888278546</dd><dt>244</dt><dd>0.159895888278546</dd><dt>245</dt><dd>0.133158619188597</dd><dt>246</dt><dd>0.22527910171333</dd><dt>247</dt><dd>0.980586126808533</dd><dt>248</dt><dd>0.0909624967952725</dd><dt>249</dt><dd>0.759809263004641</dd><dt>250</dt><dd>0.511479382614332</dd><dt>251</dt><dd>0.133158619188597</dd><dt>252</dt><dd>0.930382136099249</dd><dt>253</dt><dd>0.600065412965045</dd><dt>254</dt><dd>0.0747267414250701</dd><dt>255</dt><dd>0.99236117188543</dd><dt>256</dt><dd>0.777890975462454</dd><dt>257</dt><dd>0.919909194697235</dd><dt>258</dt><dd>0.902630641030897</dd><dt>259</dt><dd>0.0909624967952725</dd><dt>260</dt><dd>0.110305239687793</dd><dt>261</dt><dd>0.0909624967952725</dd><dt>262</dt><dd>0.99124844988402</dd><dt>263</dt><dd>0.159254314112973</dd><dt>264</dt><dd>0.0747267414250701</dd><dt>265</dt><dd>0.509088442282788</dd><dt>266</dt><dd>0.705675021091938</dd><dt>267</dt><dd>0.110305239687793</dd><dt>268</dt><dd>0.960114896554388</dd><dt>269</dt><dd>0.0747267414250701</dd><dt>270</dt><dd>0.190082409291486</dd><dt>271</dt><dd>0.19081999012857</dd><dt>272</dt><dd>0.110305239687793</dd><dt>273</dt><dd>0.0747267414250701</dd><dt>274</dt><dd>0.431402654708017</dd><dt>275</dt><dd>0.158614828196775</dd><dt>276</dt><dd>0.110305239687793</dd><dt>277</dt><dd>0.985789124186913</dd><dt>278</dt><dd>0.0747267414250701</dd><dt>279</dt><dd>0.133158619188597</dd><dt>280</dt><dd>0.687969949942274</dd><dt>281</dt><dd>0.940116473383247</dd><dt>282</dt><dd>0.0747267414250701</dd><dt>283</dt><dd>0.110305239687793</dd><dt>284</dt><dd>0.68488082003999</dd><dt>285</dt><dd>0.198421258757924</dd><dt>286</dt><dd>0.638016563953256</dd><dt>287</dt><dd>0.0747267414250701</dd><dt>288</dt><dd>0.275365759715968</dd><dt>289</dt><dd>0.0747267414250701</dd><dt>290</dt><dd>0.0747267414250701</dd><dt>291</dt><dd>0.110305239687793</dd><dt>292</dt><dd>0.0747267414250701</dd><dt>293</dt><dd>0.159895888278546</dd><dt>294</dt><dd>0.110305239687793</dd><dt>295</dt><dd>0.133158619188597</dd><dt>296</dt><dd>0.110305239687793</dd><dt>297</dt><dd>0.133158619188597</dd><dt>298</dt><dd>0.0747267414250701</dd><dt>299</dt><dd>0.133158619188597</dd><dt>300</dt><dd>0.110305239687793</dd><dt>301</dt><dd>0.159895888278546</dd><dt>302</dt><dd>0.0747267414250701</dd><dt>303</dt><dd>0.275365759715968</dd><dt>304</dt><dd>0.28514808373448</dd><dt>305</dt><dd>0.159895888278546</dd><dt>306</dt><dd>0.870560309419116</dd><dt>307</dt><dd>0.309650286700559</dd><dt>308</dt><dd>0.550079881201083</dd><dt>309</dt><dd>0.576577106640975</dd><dt>310</dt><dd>0.133158619188597</dd><dt>311</dt><dd>0.984272230403743</dd><dt>312</dt><dd>0.159895888278546</dd><dt>313</dt><dd>0.978348914979894</dd><dt>314</dt><dd>0.275365759715968</dd><dt>315</dt><dd>0.198421258757924</dd><dt>316</dt><dd>0.159895888278546</dd><dt>317</dt><dd>0.19081999012857</dd><dt>318</dt><dd>0.110305239687793</dd><dt>319</dt><dd>0.391278165445797</dd><dt>320</dt><dd>0.159895888278546</dd><dt>321</dt><dd>0.19081999012857</dd><dt>322</dt><dd>0.133158619188597</dd><dt>323</dt><dd>0.110305239687793</dd><dt>324</dt><dd>0.159895888278546</dd><dt>325</dt><dd>0.955217878344134</dd><dt>326</dt><dd>0.0909624967952725</dd><dt>327</dt><dd>0.133158619188597</dd><dt>328</dt><dd>0.0747267414250701</dd><dt>329</dt><dd>0.329700791097143</dd><dt>330</dt><dd>0.166518802407586</dd><dt>331</dt><dd>0.982677899588171</dd><dt>332</dt><dd>0.22527910171333</dd><dt>333</dt><dd>0.0747267414250701</dd><dt>334</dt><dd>0.159895888278546</dd><dt>335</dt><dd>0.0747267414250701</dd><dt>336</dt><dd>0.0909624967952725</dd><dt>337</dt><dd>0.197661473660173</dd><dt>338</dt><dd>0.431402654708017</dd><dt>339</dt><dd>0.0747267414250701</dd><dt>340</dt><dd>0.0909624967952725</dd><dt>341</dt><dd>0.110305239687793</dd><dt>342</dt><dd>0.159895888278546</dd><dt>343</dt><dd>0.0747267414250701</dd><dt>344</dt><dd>0.0747267414250701</dd><dt>345</dt><dd>0.980494845878745</dd><dt>346</dt><dd>0.110305239687793</dd><dt>347</dt><dd>0.997638625719676</dd><dt>348</dt><dd>0.985005660284357</dd><dt>349</dt><dd>0.355027934776369</dd><dt>350</dt><dd>0.309650286700559</dd><dt>351</dt><dd>0.986452790669783</dd><dt>352</dt><dd>0.0747267414250701</dd><dt>353</dt><dd>0.13885711875871</dd><dt>354</dt><dd>0.943303209205711</dd><dt>355</dt><dd>0.0747267414250701</dd><dt>356</dt><dd>0.110305239687793</dd><dt>357</dt><dd>0.159895888278546</dd><dt>358</dt><dd>0.133158619188597</dd><dt>359</dt><dd>0.265794249799912</dd><dt>360</dt><dd>0.234714546537871</dd><dt>361</dt><dd>0.0909624967952725</dd><dt>362</dt><dd>0.640223336371221</dd><dt>363</dt><dd>0.0747267414250701</dd><dt>364</dt><dd>0.19081999012857</dd><dt>365</dt><dd>0.110305239687793</dd><dt>366</dt><dd>0.998609298562092</dd><dt>367</dt><dd>0.958215612218938</dd><dt>368</dt><dd>0.0747267414250701</dd><dt>369</dt><dd>0.159895888278546</dd><dt>370</dt><dd>0.159895888278546</dd><dt>371</dt><dd>0.19081999012857</dd><dt>372</dt><dd>0.391278165445797</dd><dt>373</dt><dd>0.133158619188597</dd><dt>374</dt><dd>0.984123428217377</dd><dt>375</dt><dd>0.110305239687793</dd><dt>376</dt><dd>0.13885711875871</dd><dt>377</dt><dd>0.960114896554388</dd><dt>378</dt><dd>0.602359352523651</dd><dt>379</dt><dd>0.958215612218938</dd><dt>380</dt><dd>0.110305239687793</dd><dt>381</dt><dd>0.110305239687793</dd><dt>382</dt><dd>0.0747267414250701</dd><dt>383</dt><dd>0.876964093197874</dd><dt>384</dt><dd>0.159895888278546</dd><dt>385</dt><dd>0.159895888278546</dd><dt>386</dt><dd>0.275365759715968</dd><dt>387</dt><dd>0.159895888278546</dd><dt>388</dt><dd>0.10983663051452</dd><dt>389</dt><dd>0.998192034155166</dd><dt>390</dt><dd>0.19081999012857</dd><dt>391</dt><dd>0.110305239687793</dd><dt>392</dt><dd>0.0747267414250701</dd><dt>393</dt><dd>0.842541128968341</dd><dt>394</dt><dd>0.0909624967952725</dd><dt>395</dt><dd>0.133158619188597</dd><dt>396</dt><dd>0.4845502700727</dd><dt>397</dt><dd>0.159895888278546</dd><dt>398</dt><dd>0.992797418382369</dd><dt>399</dt><dd>0.19081999012857</dd><dt>400</dt><dd>0.923410501800968</dd><dt>401</dt><dd>0.0747267414250701</dd></dl>\n"
            ],
            "text/markdown": "1\n:   0.09096249679527252\n:   0.09096249679527253\n:   0.1598958882785464\n:   0.6023593525236515\n:   0.4314026547080176\n:   0.285148083734487\n:   0.6633184243656338\n:   0.9528824743422439\n:   0.9532578015415510\n:   0.13315861918859711\n:   0.15989588827854612\n:   0.91487405925415813\n:   0.074726741425070114\n:   0.074726741425070115\n:   0.49667040154919416\n:   0.58837158564485317\n:   0.80446626945368818\n:   0.090962496795272519\n:   0.074726741425070120\n:   0.074726741425070121\n:   0.26579424979991222\n:   0.95821561221893823\n:   0.074726741425070124\n:   0.090962496795272525\n:   0.91082920957382826\n:   0.15989588827854627\n:   0.11030523968779328\n:   0.11030523968779329\n:   0.43140265470801730\n:   0.95104863791530931\n:   0.37978928760183732\n:   0.074726741425070133\n:   0.93069135875052534\n:   0.33075888729390935\n:   0.2851480837344836\n:   0.11030523968779337\n:   0.19842125875792438\n:   0.99471403013761539\n:   0.074726741425070140\n:   0.074726741425070141\n:   0.15989588827854642\n:   0.13315861918859743\n:   0.074726741425070144\n:   0.15989588827854645\n:   0.99348991271097246\n:   0.074726741425070147\n:   0.13315861918859748\n:   0.99887189070106949\n:   0.98486369044997850\n:   0.074726741425070151\n:   0.3561241282914552\n:   0.074726741425070153\n:   0.074726741425070154\n:   0.15989588827854655\n:   0.074726741425070156\n:   0.15989588827854657\n:   0.11030523968779358\n:   0.074726741425070159\n:   0.074726741425070160\n:   0.82156317980471861\n:   0.56205182053904162\n:   0.15861482819677563\n:   0.99498693995888764\n:   0.56205182053904165\n:   0.074726741425070166\n:   0.090962496795272567\n:   0.074726741425070168\n:   0.15989588827854669\n:   0.15989588827854670\n:   0.71855840536891671\n:   0.090962496795272572\n:   0.074726741425070173\n:   0.91990919469723574\n:   0.19008240929148675\n:   0.15989588827854676\n:   0.074726741425070177\n:   0.11030523968779378\n:   0.11030523968779379\n:   0.11030523968779380\n:   0.15989588827854681\n:   0.69727640972249182\n:   0.074726741425070183\n:   0.99860929856209284\n:   0.74973018807032885\n:   0.074726741425070186\n:   0.9297598586126987\n:   0.98267789958817188\n:   0.61306113373105289\n:   0.11030523968779390\n:   0.074726741425070191\n:   0.87592801414358692\n:   0.074726741425070193\n:   0.13315861918859794\n:   0.090962496795272595\n:   0.1388571187587196\n:   0.92247347814138697\n:   0.72920759518797398\n:   0.22444527024569199\n:   0.771091703467631100\n:   0.910829209573828101\n:   0.0747267414250701102\n:   0.870560309419116103\n:   0.857926972111391104\n:   0.0747267414250701105\n:   0.0747267414250701106\n:   0.0747267414250701107\n:   0.159895888278546108\n:   0.923154972495578109\n:   0.159895888278546110\n:   0.10983663051452111\n:   0.234714546537871112\n:   0.28514808373448113\n:   0.275365759715968114\n:   0.133158619188597115\n:   0.159895888278546116\n:   0.306590768999799117\n:   0.110305239687793118\n:   0.926525718157216119\n:   0.159895888278546120\n:   0.159895888278546121\n:   0.159895888278546122\n:   0.22527910171333123\n:   0.870560309419116124\n:   0.159895888278546125\n:   0.98577263528107126\n:   0.850850375270593127\n:   0.979545356835132128\n:   0.0747267414250701129\n:   0.110305239687793130\n:   0.133158619188597131\n:   0.0909624967952725132\n:   0.159895888278546133\n:   0.243538091261021134\n:   0.993136067288857135\n:   0.110305239687793136\n:   0.367321104819539137\n:   0.751521152766203138\n:   0.857926972111391139\n:   0.19081999012857140\n:   0.234714546537871141\n:   0.274412206732746142\n:   0.159895888278546143\n:   0.998609298562092144\n:   0.0747267414250701145\n:   0.982452195501144146\n:   0.857926972111391147\n:   0.994227097308825148\n:   0.430229574681256149\n:   0.0909624967952725150\n:   0.110305239687793151\n:   0.0909624967952725152\n:   0.159895888278546153\n:   0.22527910171333154\n:   0.613061133731052155\n:   0.159895888278546156\n:   0.133158619188597157\n:   0.133158619188597158\n:   0.972250353080042159\n:   0.0747267414250701160\n:   0.158614828196775161\n:   0.0909624967952725162\n:   0.159895888278546163\n:   0.706667650772455164\n:   0.0909624967952725165\n:   0.970639998296067166\n:   0.133158619188597167\n:   0.0747267414250701168\n:   0.0747267414250701169\n:   0.0747267414250701170\n:   0.133158619188597171\n:   0.431402654708017172\n:   0.562051820539041173\n:   0.0747267414250701174\n:   0.265794249799912175\n:   0.110305239687793176\n:   0.19081999012857177\n:   0.977190998757116178\n:   0.110305239687793179\n:   0.777890975462454180\n:   0.110305239687793181\n:   0.110305239687793182\n:   0.0909624967952725183\n:   0.419547639094742184\n:   0.133158619188597185\n:   0.636910984424275186\n:   0.0747267414250701187\n:   0.0747267414250701188\n:   0.0747267414250701189\n:   0.600065412965045190\n:   0.896522222400301191\n:   0.110305239687793192\n:   0.133158619188597193\n:   0.882102204609361194\n:   0.0909624967952725195\n:   0.330758887293909196\n:   0.110305239687793197\n:   0.740520151186592198\n:   0.0909624967952725199\n:   0.0747267414250701200\n:   0.159895888278546201\n:   ⋯202\n:   0.875535419535693203\n:   0.71928739418676204\n:   0.996713116956989205\n:   0.910829209573828206\n:   0.958215612218938207\n:   0.419547639094742208\n:   0.0747267414250701209\n:   0.159895888278546210\n:   0.0747267414250701211\n:   0.133158619188597212\n:   0.307608734844744213\n:   0.0747267414250701214\n:   0.133158619188597215\n:   0.562051820539041216\n:   0.133158619188597217\n:   0.0747267414250701218\n:   0.915154593912409219\n:   0.0747267414250701220\n:   0.133158619188597221\n:   0.133158619188597222\n:   0.0747267414250701223\n:   0.996159401458276224\n:   0.0909624967952725225\n:   0.960114896554388226\n:   0.0747267414250701227\n:   0.133158619188597228\n:   0.234714546537871229\n:   0.779539675993111230\n:   0.133158619188597231\n:   0.0747267414250701232\n:   0.980311020328613233\n:   0.275365759715968234\n:   0.110305239687793235\n:   0.613061133731052236\n:   0.133158619188597237\n:   0.0747267414250701238\n:   0.0747267414250701239\n:   0.22527910171333240\n:   0.110305239687793241\n:   0.110305239687793242\n:   0.13885711875871243\n:   0.159895888278546244\n:   0.159895888278546245\n:   0.133158619188597246\n:   0.22527910171333247\n:   0.980586126808533248\n:   0.0909624967952725249\n:   0.759809263004641250\n:   0.511479382614332251\n:   0.133158619188597252\n:   0.930382136099249253\n:   0.600065412965045254\n:   0.0747267414250701255\n:   0.99236117188543256\n:   0.777890975462454257\n:   0.919909194697235258\n:   0.902630641030897259\n:   0.0909624967952725260\n:   0.110305239687793261\n:   0.0909624967952725262\n:   0.99124844988402263\n:   0.159254314112973264\n:   0.0747267414250701265\n:   0.509088442282788266\n:   0.705675021091938267\n:   0.110305239687793268\n:   0.960114896554388269\n:   0.0747267414250701270\n:   0.190082409291486271\n:   0.19081999012857272\n:   0.110305239687793273\n:   0.0747267414250701274\n:   0.431402654708017275\n:   0.158614828196775276\n:   0.110305239687793277\n:   0.985789124186913278\n:   0.0747267414250701279\n:   0.133158619188597280\n:   0.687969949942274281\n:   0.940116473383247282\n:   0.0747267414250701283\n:   0.110305239687793284\n:   0.68488082003999285\n:   0.198421258757924286\n:   0.638016563953256287\n:   0.0747267414250701288\n:   0.275365759715968289\n:   0.0747267414250701290\n:   0.0747267414250701291\n:   0.110305239687793292\n:   0.0747267414250701293\n:   0.159895888278546294\n:   0.110305239687793295\n:   0.133158619188597296\n:   0.110305239687793297\n:   0.133158619188597298\n:   0.0747267414250701299\n:   0.133158619188597300\n:   0.110305239687793301\n:   0.159895888278546302\n:   0.0747267414250701303\n:   0.275365759715968304\n:   0.28514808373448305\n:   0.159895888278546306\n:   0.870560309419116307\n:   0.309650286700559308\n:   0.550079881201083309\n:   0.576577106640975310\n:   0.133158619188597311\n:   0.984272230403743312\n:   0.159895888278546313\n:   0.978348914979894314\n:   0.275365759715968315\n:   0.198421258757924316\n:   0.159895888278546317\n:   0.19081999012857318\n:   0.110305239687793319\n:   0.391278165445797320\n:   0.159895888278546321\n:   0.19081999012857322\n:   0.133158619188597323\n:   0.110305239687793324\n:   0.159895888278546325\n:   0.955217878344134326\n:   0.0909624967952725327\n:   0.133158619188597328\n:   0.0747267414250701329\n:   0.329700791097143330\n:   0.166518802407586331\n:   0.982677899588171332\n:   0.22527910171333333\n:   0.0747267414250701334\n:   0.159895888278546335\n:   0.0747267414250701336\n:   0.0909624967952725337\n:   0.197661473660173338\n:   0.431402654708017339\n:   0.0747267414250701340\n:   0.0909624967952725341\n:   0.110305239687793342\n:   0.159895888278546343\n:   0.0747267414250701344\n:   0.0747267414250701345\n:   0.980494845878745346\n:   0.110305239687793347\n:   0.997638625719676348\n:   0.985005660284357349\n:   0.355027934776369350\n:   0.309650286700559351\n:   0.986452790669783352\n:   0.0747267414250701353\n:   0.13885711875871354\n:   0.943303209205711355\n:   0.0747267414250701356\n:   0.110305239687793357\n:   0.159895888278546358\n:   0.133158619188597359\n:   0.265794249799912360\n:   0.234714546537871361\n:   0.0909624967952725362\n:   0.640223336371221363\n:   0.0747267414250701364\n:   0.19081999012857365\n:   0.110305239687793366\n:   0.998609298562092367\n:   0.958215612218938368\n:   0.0747267414250701369\n:   0.159895888278546370\n:   0.159895888278546371\n:   0.19081999012857372\n:   0.391278165445797373\n:   0.133158619188597374\n:   0.984123428217377375\n:   0.110305239687793376\n:   0.13885711875871377\n:   0.960114896554388378\n:   0.602359352523651379\n:   0.958215612218938380\n:   0.110305239687793381\n:   0.110305239687793382\n:   0.0747267414250701383\n:   0.876964093197874384\n:   0.159895888278546385\n:   0.159895888278546386\n:   0.275365759715968387\n:   0.159895888278546388\n:   0.10983663051452389\n:   0.998192034155166390\n:   0.19081999012857391\n:   0.110305239687793392\n:   0.0747267414250701393\n:   0.842541128968341394\n:   0.0909624967952725395\n:   0.133158619188597396\n:   0.4845502700727397\n:   0.159895888278546398\n:   0.992797418382369399\n:   0.19081999012857400\n:   0.923410501800968401\n:   0.0747267414250701\n\n",
            "text/latex": "\\begin{description*}\n\\item[1] 0.0909624967952725\n\\item[2] 0.0909624967952725\n\\item[3] 0.159895888278546\n\\item[4] 0.602359352523651\n\\item[5] 0.431402654708017\n\\item[6] 0.28514808373448\n\\item[7] 0.663318424365633\n\\item[8] 0.952882474342243\n\\item[9] 0.95325780154155\n\\item[10] 0.133158619188597\n\\item[11] 0.159895888278546\n\\item[12] 0.914874059254158\n\\item[13] 0.0747267414250701\n\\item[14] 0.0747267414250701\n\\item[15] 0.496670401549194\n\\item[16] 0.588371585644853\n\\item[17] 0.804466269453688\n\\item[18] 0.0909624967952725\n\\item[19] 0.0747267414250701\n\\item[20] 0.0747267414250701\n\\item[21] 0.265794249799912\n\\item[22] 0.958215612218938\n\\item[23] 0.0747267414250701\n\\item[24] 0.0909624967952725\n\\item[25] 0.910829209573828\n\\item[26] 0.159895888278546\n\\item[27] 0.110305239687793\n\\item[28] 0.110305239687793\n\\item[29] 0.431402654708017\n\\item[30] 0.951048637915309\n\\item[31] 0.379789287601837\n\\item[32] 0.0747267414250701\n\\item[33] 0.930691358750525\n\\item[34] 0.330758887293909\n\\item[35] 0.28514808373448\n\\item[36] 0.110305239687793\n\\item[37] 0.198421258757924\n\\item[38] 0.994714030137615\n\\item[39] 0.0747267414250701\n\\item[40] 0.0747267414250701\n\\item[41] 0.159895888278546\n\\item[42] 0.133158619188597\n\\item[43] 0.0747267414250701\n\\item[44] 0.159895888278546\n\\item[45] 0.993489912710972\n\\item[46] 0.0747267414250701\n\\item[47] 0.133158619188597\n\\item[48] 0.998871890701069\n\\item[49] 0.984863690449978\n\\item[50] 0.0747267414250701\n\\item[51] 0.35612412829145\n\\item[52] 0.0747267414250701\n\\item[53] 0.0747267414250701\n\\item[54] 0.159895888278546\n\\item[55] 0.0747267414250701\n\\item[56] 0.159895888278546\n\\item[57] 0.110305239687793\n\\item[58] 0.0747267414250701\n\\item[59] 0.0747267414250701\n\\item[60] 0.821563179804718\n\\item[61] 0.562051820539041\n\\item[62] 0.158614828196775\n\\item[63] 0.994986939958887\n\\item[64] 0.562051820539041\n\\item[65] 0.0747267414250701\n\\item[66] 0.0909624967952725\n\\item[67] 0.0747267414250701\n\\item[68] 0.159895888278546\n\\item[69] 0.159895888278546\n\\item[70] 0.718558405368916\n\\item[71] 0.0909624967952725\n\\item[72] 0.0747267414250701\n\\item[73] 0.919909194697235\n\\item[74] 0.190082409291486\n\\item[75] 0.159895888278546\n\\item[76] 0.0747267414250701\n\\item[77] 0.110305239687793\n\\item[78] 0.110305239687793\n\\item[79] 0.110305239687793\n\\item[80] 0.159895888278546\n\\item[81] 0.697276409722491\n\\item[82] 0.0747267414250701\n\\item[83] 0.998609298562092\n\\item[84] 0.749730188070328\n\\item[85] 0.0747267414250701\n\\item[86] 0.92975985861269\n\\item[87] 0.982677899588171\n\\item[88] 0.613061133731052\n\\item[89] 0.110305239687793\n\\item[90] 0.0747267414250701\n\\item[91] 0.875928014143586\n\\item[92] 0.0747267414250701\n\\item[93] 0.133158619188597\n\\item[94] 0.0909624967952725\n\\item[95] 0.13885711875871\n\\item[96] 0.922473478141386\n\\item[97] 0.729207595187973\n\\item[98] 0.224445270245691\n\\item[99] 0.771091703467631\n\\item[100] 0.910829209573828\n\\item[101] 0.0747267414250701\n\\item[102] 0.870560309419116\n\\item[103] 0.857926972111391\n\\item[104] 0.0747267414250701\n\\item[105] 0.0747267414250701\n\\item[106] 0.0747267414250701\n\\item[107] 0.159895888278546\n\\item[108] 0.923154972495578\n\\item[109] 0.159895888278546\n\\item[110] 0.10983663051452\n\\item[111] 0.234714546537871\n\\item[112] 0.28514808373448\n\\item[113] 0.275365759715968\n\\item[114] 0.133158619188597\n\\item[115] 0.159895888278546\n\\item[116] 0.306590768999799\n\\item[117] 0.110305239687793\n\\item[118] 0.926525718157216\n\\item[119] 0.159895888278546\n\\item[120] 0.159895888278546\n\\item[121] 0.159895888278546\n\\item[122] 0.22527910171333\n\\item[123] 0.870560309419116\n\\item[124] 0.159895888278546\n\\item[125] 0.98577263528107\n\\item[126] 0.850850375270593\n\\item[127] 0.979545356835132\n\\item[128] 0.0747267414250701\n\\item[129] 0.110305239687793\n\\item[130] 0.133158619188597\n\\item[131] 0.0909624967952725\n\\item[132] 0.159895888278546\n\\item[133] 0.243538091261021\n\\item[134] 0.993136067288857\n\\item[135] 0.110305239687793\n\\item[136] 0.367321104819539\n\\item[137] 0.751521152766203\n\\item[138] 0.857926972111391\n\\item[139] 0.19081999012857\n\\item[140] 0.234714546537871\n\\item[141] 0.274412206732746\n\\item[142] 0.159895888278546\n\\item[143] 0.998609298562092\n\\item[144] 0.0747267414250701\n\\item[145] 0.982452195501144\n\\item[146] 0.857926972111391\n\\item[147] 0.994227097308825\n\\item[148] 0.430229574681256\n\\item[149] 0.0909624967952725\n\\item[150] 0.110305239687793\n\\item[151] 0.0909624967952725\n\\item[152] 0.159895888278546\n\\item[153] 0.22527910171333\n\\item[154] 0.613061133731052\n\\item[155] 0.159895888278546\n\\item[156] 0.133158619188597\n\\item[157] 0.133158619188597\n\\item[158] 0.972250353080042\n\\item[159] 0.0747267414250701\n\\item[160] 0.158614828196775\n\\item[161] 0.0909624967952725\n\\item[162] 0.159895888278546\n\\item[163] 0.706667650772455\n\\item[164] 0.0909624967952725\n\\item[165] 0.970639998296067\n\\item[166] 0.133158619188597\n\\item[167] 0.0747267414250701\n\\item[168] 0.0747267414250701\n\\item[169] 0.0747267414250701\n\\item[170] 0.133158619188597\n\\item[171] 0.431402654708017\n\\item[172] 0.562051820539041\n\\item[173] 0.0747267414250701\n\\item[174] 0.265794249799912\n\\item[175] 0.110305239687793\n\\item[176] 0.19081999012857\n\\item[177] 0.977190998757116\n\\item[178] 0.110305239687793\n\\item[179] 0.777890975462454\n\\item[180] 0.110305239687793\n\\item[181] 0.110305239687793\n\\item[182] 0.0909624967952725\n\\item[183] 0.419547639094742\n\\item[184] 0.133158619188597\n\\item[185] 0.636910984424275\n\\item[186] 0.0747267414250701\n\\item[187] 0.0747267414250701\n\\item[188] 0.0747267414250701\n\\item[189] 0.600065412965045\n\\item[190] 0.896522222400301\n\\item[191] 0.110305239687793\n\\item[192] 0.133158619188597\n\\item[193] 0.882102204609361\n\\item[194] 0.0909624967952725\n\\item[195] 0.330758887293909\n\\item[196] 0.110305239687793\n\\item[197] 0.740520151186592\n\\item[198] 0.0909624967952725\n\\item[199] 0.0747267414250701\n\\item[200] 0.159895888278546\n\\item[201] ⋯\n\\item[202] 0.875535419535693\n\\item[203] 0.71928739418676\n\\item[204] 0.996713116956989\n\\item[205] 0.910829209573828\n\\item[206] 0.958215612218938\n\\item[207] 0.419547639094742\n\\item[208] 0.0747267414250701\n\\item[209] 0.159895888278546\n\\item[210] 0.0747267414250701\n\\item[211] 0.133158619188597\n\\item[212] 0.307608734844744\n\\item[213] 0.0747267414250701\n\\item[214] 0.133158619188597\n\\item[215] 0.562051820539041\n\\item[216] 0.133158619188597\n\\item[217] 0.0747267414250701\n\\item[218] 0.915154593912409\n\\item[219] 0.0747267414250701\n\\item[220] 0.133158619188597\n\\item[221] 0.133158619188597\n\\item[222] 0.0747267414250701\n\\item[223] 0.996159401458276\n\\item[224] 0.0909624967952725\n\\item[225] 0.960114896554388\n\\item[226] 0.0747267414250701\n\\item[227] 0.133158619188597\n\\item[228] 0.234714546537871\n\\item[229] 0.779539675993111\n\\item[230] 0.133158619188597\n\\item[231] 0.0747267414250701\n\\item[232] 0.980311020328613\n\\item[233] 0.275365759715968\n\\item[234] 0.110305239687793\n\\item[235] 0.613061133731052\n\\item[236] 0.133158619188597\n\\item[237] 0.0747267414250701\n\\item[238] 0.0747267414250701\n\\item[239] 0.22527910171333\n\\item[240] 0.110305239687793\n\\item[241] 0.110305239687793\n\\item[242] 0.13885711875871\n\\item[243] 0.159895888278546\n\\item[244] 0.159895888278546\n\\item[245] 0.133158619188597\n\\item[246] 0.22527910171333\n\\item[247] 0.980586126808533\n\\item[248] 0.0909624967952725\n\\item[249] 0.759809263004641\n\\item[250] 0.511479382614332\n\\item[251] 0.133158619188597\n\\item[252] 0.930382136099249\n\\item[253] 0.600065412965045\n\\item[254] 0.0747267414250701\n\\item[255] 0.99236117188543\n\\item[256] 0.777890975462454\n\\item[257] 0.919909194697235\n\\item[258] 0.902630641030897\n\\item[259] 0.0909624967952725\n\\item[260] 0.110305239687793\n\\item[261] 0.0909624967952725\n\\item[262] 0.99124844988402\n\\item[263] 0.159254314112973\n\\item[264] 0.0747267414250701\n\\item[265] 0.509088442282788\n\\item[266] 0.705675021091938\n\\item[267] 0.110305239687793\n\\item[268] 0.960114896554388\n\\item[269] 0.0747267414250701\n\\item[270] 0.190082409291486\n\\item[271] 0.19081999012857\n\\item[272] 0.110305239687793\n\\item[273] 0.0747267414250701\n\\item[274] 0.431402654708017\n\\item[275] 0.158614828196775\n\\item[276] 0.110305239687793\n\\item[277] 0.985789124186913\n\\item[278] 0.0747267414250701\n\\item[279] 0.133158619188597\n\\item[280] 0.687969949942274\n\\item[281] 0.940116473383247\n\\item[282] 0.0747267414250701\n\\item[283] 0.110305239687793\n\\item[284] 0.68488082003999\n\\item[285] 0.198421258757924\n\\item[286] 0.638016563953256\n\\item[287] 0.0747267414250701\n\\item[288] 0.275365759715968\n\\item[289] 0.0747267414250701\n\\item[290] 0.0747267414250701\n\\item[291] 0.110305239687793\n\\item[292] 0.0747267414250701\n\\item[293] 0.159895888278546\n\\item[294] 0.110305239687793\n\\item[295] 0.133158619188597\n\\item[296] 0.110305239687793\n\\item[297] 0.133158619188597\n\\item[298] 0.0747267414250701\n\\item[299] 0.133158619188597\n\\item[300] 0.110305239687793\n\\item[301] 0.159895888278546\n\\item[302] 0.0747267414250701\n\\item[303] 0.275365759715968\n\\item[304] 0.28514808373448\n\\item[305] 0.159895888278546\n\\item[306] 0.870560309419116\n\\item[307] 0.309650286700559\n\\item[308] 0.550079881201083\n\\item[309] 0.576577106640975\n\\item[310] 0.133158619188597\n\\item[311] 0.984272230403743\n\\item[312] 0.159895888278546\n\\item[313] 0.978348914979894\n\\item[314] 0.275365759715968\n\\item[315] 0.198421258757924\n\\item[316] 0.159895888278546\n\\item[317] 0.19081999012857\n\\item[318] 0.110305239687793\n\\item[319] 0.391278165445797\n\\item[320] 0.159895888278546\n\\item[321] 0.19081999012857\n\\item[322] 0.133158619188597\n\\item[323] 0.110305239687793\n\\item[324] 0.159895888278546\n\\item[325] 0.955217878344134\n\\item[326] 0.0909624967952725\n\\item[327] 0.133158619188597\n\\item[328] 0.0747267414250701\n\\item[329] 0.329700791097143\n\\item[330] 0.166518802407586\n\\item[331] 0.982677899588171\n\\item[332] 0.22527910171333\n\\item[333] 0.0747267414250701\n\\item[334] 0.159895888278546\n\\item[335] 0.0747267414250701\n\\item[336] 0.0909624967952725\n\\item[337] 0.197661473660173\n\\item[338] 0.431402654708017\n\\item[339] 0.0747267414250701\n\\item[340] 0.0909624967952725\n\\item[341] 0.110305239687793\n\\item[342] 0.159895888278546\n\\item[343] 0.0747267414250701\n\\item[344] 0.0747267414250701\n\\item[345] 0.980494845878745\n\\item[346] 0.110305239687793\n\\item[347] 0.997638625719676\n\\item[348] 0.985005660284357\n\\item[349] 0.355027934776369\n\\item[350] 0.309650286700559\n\\item[351] 0.986452790669783\n\\item[352] 0.0747267414250701\n\\item[353] 0.13885711875871\n\\item[354] 0.943303209205711\n\\item[355] 0.0747267414250701\n\\item[356] 0.110305239687793\n\\item[357] 0.159895888278546\n\\item[358] 0.133158619188597\n\\item[359] 0.265794249799912\n\\item[360] 0.234714546537871\n\\item[361] 0.0909624967952725\n\\item[362] 0.640223336371221\n\\item[363] 0.0747267414250701\n\\item[364] 0.19081999012857\n\\item[365] 0.110305239687793\n\\item[366] 0.998609298562092\n\\item[367] 0.958215612218938\n\\item[368] 0.0747267414250701\n\\item[369] 0.159895888278546\n\\item[370] 0.159895888278546\n\\item[371] 0.19081999012857\n\\item[372] 0.391278165445797\n\\item[373] 0.133158619188597\n\\item[374] 0.984123428217377\n\\item[375] 0.110305239687793\n\\item[376] 0.13885711875871\n\\item[377] 0.960114896554388\n\\item[378] 0.602359352523651\n\\item[379] 0.958215612218938\n\\item[380] 0.110305239687793\n\\item[381] 0.110305239687793\n\\item[382] 0.0747267414250701\n\\item[383] 0.876964093197874\n\\item[384] 0.159895888278546\n\\item[385] 0.159895888278546\n\\item[386] 0.275365759715968\n\\item[387] 0.159895888278546\n\\item[388] 0.10983663051452\n\\item[389] 0.998192034155166\n\\item[390] 0.19081999012857\n\\item[391] 0.110305239687793\n\\item[392] 0.0747267414250701\n\\item[393] 0.842541128968341\n\\item[394] 0.0909624967952725\n\\item[395] 0.133158619188597\n\\item[396] 0.4845502700727\n\\item[397] 0.159895888278546\n\\item[398] 0.992797418382369\n\\item[399] 0.19081999012857\n\\item[400] 0.923410501800968\n\\item[401] 0.0747267414250701\n\\end{description*}\n",
            "text/plain": [
              "         1          2          3          4          5          6          7 \n",
              "0.09096250 0.09096250 0.15989589 0.60235935 0.43140265 0.28514808 0.66331842 \n",
              "         8          9         10         11         12         13         14 \n",
              "0.95288247 0.95325780 0.13315862 0.15989589 0.91487406 0.07472674 0.07472674 \n",
              "        15         16         17         18         19         20         21 \n",
              "0.49667040 0.58837159 0.80446627 0.09096250 0.07472674 0.07472674 0.26579425 \n",
              "        22         23         24         25         26         27         28 \n",
              "0.95821561 0.07472674 0.09096250 0.91082921 0.15989589 0.11030524 0.11030524 \n",
              "        29         30         31         32         33         34         35 \n",
              "0.43140265 0.95104864 0.37978929 0.07472674 0.93069136 0.33075889 0.28514808 \n",
              "        36         37         38         39         40         41         42 \n",
              "0.11030524 0.19842126 0.99471403 0.07472674 0.07472674 0.15989589 0.13315862 \n",
              "        43         44         45         46         47         48         49 \n",
              "0.07472674 0.15989589 0.99348991 0.07472674 0.13315862 0.99887189 0.98486369 \n",
              "        50         51         52         53         54         55         56 \n",
              "0.07472674 0.35612413 0.07472674 0.07472674 0.15989589 0.07472674 0.15989589 \n",
              "        57         58         59         60         61         62         63 \n",
              "0.11030524 0.07472674 0.07472674 0.82156318 0.56205182 0.15861483 0.99498694 \n",
              "        64         65         66         67         68         69         70 \n",
              "0.56205182 0.07472674 0.09096250 0.07472674 0.15989589 0.15989589 0.71855841 \n",
              "        71         72         73         74         75         76         77 \n",
              "0.09096250 0.07472674 0.91990919 0.19008241 0.15989589 0.07472674 0.11030524 \n",
              "        78         79         80         81         82         83         84 \n",
              "0.11030524 0.11030524 0.15989589 0.69727641 0.07472674 0.99860930 0.74973019 \n",
              "        85         86         87         88         89         90         91 \n",
              "0.07472674 0.92975986 0.98267790 0.61306113 0.11030524 0.07472674 0.87592801 \n",
              "        92         93         94         95         96         97         98 \n",
              "0.07472674 0.13315862 0.09096250 0.13885712 0.92247348 0.72920760 0.22444527 \n",
              "        99        100        101        102        103        104        105 \n",
              "0.77109170 0.91082921 0.07472674 0.87056031 0.85792697 0.07472674 0.07472674 \n",
              "       106        107        108        109        110        111        112 \n",
              "0.07472674 0.15989589 0.92315497 0.15989589 0.10983663 0.23471455 0.28514808 \n",
              "       113        114        115        116        117        118        119 \n",
              "0.27536576 0.13315862 0.15989589 0.30659077 0.11030524 0.92652572 0.15989589 \n",
              "       120        121        122        123        124        125        126 \n",
              "0.15989589 0.15989589 0.22527910 0.87056031 0.15989589 0.98577264 0.85085038 \n",
              "       127        128        129        130        131        132        133 \n",
              "0.97954536 0.07472674 0.11030524 0.13315862 0.09096250 0.15989589 0.24353809 \n",
              "       134        135        136        137        138        139        140 \n",
              "0.99313607 0.11030524 0.36732110 0.75152115 0.85792697 0.19081999 0.23471455 \n",
              "       141        142        143        144        145        146        147 \n",
              "0.27441221 0.15989589 0.99860930 0.07472674 0.98245220 0.85792697 0.99422710 \n",
              "       148        149        150        151        152        153        154 \n",
              "0.43022957 0.09096250 0.11030524 0.09096250 0.15989589 0.22527910 0.61306113 \n",
              "       155        156        157        158        159        160        161 \n",
              "0.15989589 0.13315862 0.13315862 0.97225035 0.07472674 0.15861483 0.09096250 \n",
              "       162        163        164        165        166        167        168 \n",
              "0.15989589 0.70666765 0.09096250 0.97064000 0.13315862 0.07472674 0.07472674 \n",
              "       169        170        171        172        173        174        175 \n",
              "0.07472674 0.13315862 0.43140265 0.56205182 0.07472674 0.26579425 0.11030524 \n",
              "       176        177        178        179        180        181        182 \n",
              "0.19081999 0.97719100 0.11030524 0.77789098 0.11030524 0.11030524 0.09096250 \n",
              "       183        184        185        186        187        188        189 \n",
              "0.41954764 0.13315862 0.63691098 0.07472674 0.07472674 0.07472674 0.60006541 \n",
              "       190        191        192        193        194        195        196 \n",
              "0.89652222 0.11030524 0.13315862 0.88210220 0.09096250 0.33075889 0.11030524 \n",
              "       197        198        199        200        201        202        203 \n",
              "0.74052015 0.09096250 0.07472674 0.15989589 0.09096250 0.13315862 0.11030524 \n",
              "       204        205        206        207        208        209        210 \n",
              "0.11030524 0.07472674 0.11030524 0.11030524 0.11030524 0.07472674 0.19842126 \n",
              "       211        212        213        214        215        216        217 \n",
              "0.63912068 0.98419800 0.07472674 0.99786666 0.07472674 0.22527910 0.93007164 \n",
              "       218        219        220        221        222        223        224 \n",
              "0.15925431 0.91082921 0.32011252 0.97022823 0.13315862 0.87696409 0.11030524 \n",
              "       225        226        227        228        229        230        231 \n",
              "0.98708587 0.09096250 0.07472674 0.30557469 0.13315862 0.11030524 0.07472674 \n",
              "       232        233        234        235        236        237        238 \n",
              "0.22444527 0.07472674 0.24353809 0.11030524 0.98572195 0.97862625 0.07472674 \n",
              "       239        240        241        242        243        244        245 \n",
              "0.11030524 0.50908844 0.99887189 0.11030524 0.83665429 0.30760873 0.97616867 \n",
              "       246        247        248        249        250        251        252 \n",
              "0.43140265 0.07472674 0.07472674 0.13315862 0.09096250 0.07472674 0.82156318 \n",
              "       253        254        255        256        257        258        259 \n",
              "0.22611513 0.15989589 0.07472674 0.07472674 0.15861483 0.35502793 0.15989589 \n",
              "       260        261        262        263        264        265        266 \n",
              "0.91552531 0.11030524 0.11030524 0.43140265 0.07472674 0.11030524 0.92341050 \n",
              "       267        268        269        270        271        272        273 \n",
              "0.60006541 0.87553542 0.26579425 0.22361363 0.09096250 0.93345872 0.11030524 \n",
              "       274        275        276        277        278        279        280 \n",
              "0.33075889 0.11030524 0.95088041 0.07472674 0.51147938 0.95821561 0.23471455 \n",
              "       281        282        283        284        285        286        287 \n",
              "0.79653382 0.84443576 0.07472674 0.07472674 0.07472674 0.15989589 0.07472674 \n",
              "       288        289        290        291        292        293        294 \n",
              "0.39127817 0.92341050 0.11030524 0.95749060 0.07472674 0.11030524 0.98912806 \n",
              "       295        296        297        298        299        300        301 \n",
              "0.13260739 0.61078904 0.11030524 0.13315862 0.15989589 0.19081999 0.07472674 \n",
              "       302        303        304        305        306        307        308 \n",
              "0.73015121 0.07472674 0.43140265 0.07472674 0.24353809 0.15989589 0.07472674 \n",
              "       309        310        311        312        313        314        315 \n",
              "0.32970079 0.13885712 0.15989589 0.07472674 0.11030524 0.94304681 0.42905728 \n",
              "       316        317        318        319        320        321        322 \n",
              "0.13315862 0.11030524 0.67537070 0.07472674 0.40202126 0.69828525 0.13315862 \n",
              "       323        324        325        326        327        328        329 \n",
              "0.30557469 0.15861483 0.11030524 0.15989589 0.19008241 0.09096250 0.07472674 \n",
              "       330        331        332        333        334        335        336 \n",
              "0.15989589 0.07472674 0.07472674 0.39127817 0.99887727 0.45800258 0.97727127 \n",
              "       337        338        339        340        341        342        343 \n",
              "0.61078904 0.09096250 0.42905728 0.99737070 0.82156318 0.11030524 0.07472674 \n",
              "       344        345        346        347        348        349        350 \n",
              "0.22527910 0.07472674 0.60235935 0.07472674 0.13315862 0.13315862 0.72048928 \n",
              "       351        352        353        354        355        356        357 \n",
              "0.13885712 0.83649346 0.07472674 0.43140265 0.07472674 0.07472674 0.15989589 \n",
              "       358        359        360        361        362        363        364 \n",
              "0.55007988 0.32011252 0.74235437 0.13885712 0.36621005 0.97442457 0.48455027 \n",
              "       365        366        367        368        369        370        371 \n",
              "0.07472674 0.07472674 0.07472674 0.96144586 0.07472674 0.99914064 0.07472674 \n",
              "       372        373        374        375        376        377        378 \n",
              "0.15989589 0.33075889 0.13885712 0.13315862 0.13315862 0.82279003 0.09096250 \n",
              "       379        380        381        382        383        384        385 \n",
              "0.27441221 0.11030524 0.43140265 0.97862625 0.15925431 0.97442457 0.56116362 \n",
              "       386        387        388        389        390        391        392 \n",
              "0.60006541 0.63912068 0.07472674 0.98259628 0.09096250 0.99316860 0.96879488 \n",
              "       393        394        395        396        397        398        399 \n",
              "0.07472674 0.11030524 0.07472674 0.26579425 0.15989589 0.92652572 0.87592801 \n",
              "       400        401        402        403        404        405        406 \n",
              "0.11030524 0.94803821 0.99064179 0.15989589 0.89147359 0.19081999 0.07472674 \n",
              "       407        408        409        410        411        412        413 \n",
              "0.11030524 0.11030524 0.77953968 0.13315862 0.15989589 0.27441221 0.07472674 \n",
              "       414        415        416        417        418        419        420 \n",
              "0.99385492 0.47006424 0.97022823 0.19842126 0.82086079 0.60006541 0.07472674 \n",
              "       421        422        423        424        425        426        427 \n",
              "0.07472674 0.11030524 0.07472674 0.07472674 0.39127817 0.07472674 0.11030524 \n",
              "       428        429        430        431        432        433        434 \n",
              "0.07472674 0.15989589 0.13315862 0.99887727 0.07472674 0.15989589 0.19081999 \n",
              "       435        436        437        438        439        440        441 \n",
              "0.96540715 0.13315862 0.09096250 0.15989589 0.99674431 0.19081999 0.07472674 \n",
              "       442        443        444        445        446        447        448 \n",
              "0.09096250 0.43140265 0.19081999 0.13315862 0.09096250 0.07472674 0.09096250 \n",
              "       449        450        451        452        453        454        455 \n",
              "0.90263064 0.09096250 0.26579425 0.07472674 0.11030524 0.07472674 0.60006541 \n",
              "       456        457        458        459        460        461        462 \n",
              "0.07472674 0.19081999 0.07472674 0.13315862 0.11030524 0.07472674 0.15989589 \n",
              "       463        464        465        466        467        468        469 \n",
              "0.09096250 0.72826191 0.07472674 0.27536576 0.90681079 0.19842126 0.07472674 \n",
              "       470        471        472        473        474        475        476 \n",
              "0.11030524 0.10983663 0.07472674 0.09096250 0.23471455 0.36732110 0.13315862 \n",
              "       477        478        479        480        481        482        483 \n",
              "0.90609924 0.13315862 0.11030524 0.80596691 0.19008241 0.07472674 0.96197433 \n",
              "       484        485        486        487        488        489        490 \n",
              "0.07472674 0.99206032 0.15989589 0.11030524 0.11030524 0.73015121 0.95521788 \n",
              "       491        492        493        494        495        496        497 \n",
              "0.09096250 0.07472674 0.40432351 0.13315862 0.19008241 0.13315862 0.11030524 \n",
              "       498        499        500        501        502        503        504 \n",
              "0.19081999 0.98844441 0.87553542 0.71928739 0.99671312 0.91082921 0.95821561 \n",
              "       505        506        507        508        509        510        511 \n",
              "0.41954764 0.07472674 0.15989589 0.07472674 0.13315862 0.30760873 0.07472674 \n",
              "       512        513        514        515        516        517        518 \n",
              "0.13315862 0.56205182 0.13315862 0.07472674 0.91515459 0.07472674 0.13315862 \n",
              "       519        520        521        522        523        524        525 \n",
              "0.13315862 0.07472674 0.99615940 0.09096250 0.96011490 0.07472674 0.13315862 \n",
              "       526        527        528        529        530        531        532 \n",
              "0.23471455 0.77953968 0.13315862 0.07472674 0.98031102 0.27536576 0.11030524 \n",
              "       533        534        535        536        537        538        539 \n",
              "0.61306113 0.13315862 0.07472674 0.07472674 0.22527910 0.11030524 0.11030524 \n",
              "       540        541        542        543        544        545        546 \n",
              "0.13885712 0.15989589 0.15989589 0.13315862 0.22527910 0.98058613 0.09096250 \n",
              "       547        548        549        550        551        552        553 \n",
              "0.75980926 0.51147938 0.13315862 0.93038214 0.60006541 0.07472674 0.99236117 \n",
              "       554        555        556        557        558        559        560 \n",
              "0.77789098 0.91990919 0.90263064 0.09096250 0.11030524 0.09096250 0.99124845 \n",
              "       561        562        563        564        565        566        567 \n",
              "0.15925431 0.07472674 0.50908844 0.70567502 0.11030524 0.96011490 0.07472674 \n",
              "       568        569        570        571        572        573        574 \n",
              "0.19008241 0.19081999 0.11030524 0.07472674 0.43140265 0.15861483 0.11030524 \n",
              "       575        576        577        578        579        580        581 \n",
              "0.98578912 0.07472674 0.13315862 0.68796995 0.94011647 0.07472674 0.11030524 \n",
              "       582        583        584        585        586        587        588 \n",
              "0.68488082 0.19842126 0.63801656 0.07472674 0.27536576 0.07472674 0.07472674 \n",
              "       589        590        591        592        593        594        595 \n",
              "0.11030524 0.07472674 0.15989589 0.11030524 0.13315862 0.11030524 0.13315862 \n",
              "       596        597        598        599        600        601        602 \n",
              "0.07472674 0.13315862 0.11030524 0.15989589 0.07472674 0.27536576 0.28514808 \n",
              "       603        604        605        606        607        608        609 \n",
              "0.15989589 0.87056031 0.30965029 0.55007988 0.57657711 0.13315862 0.98427223 \n",
              "       610        611        612        613        614        615        616 \n",
              "0.15989589 0.97834891 0.27536576 0.19842126 0.15989589 0.19081999 0.11030524 \n",
              "       617        618        619        620        621        622        623 \n",
              "0.39127817 0.15989589 0.19081999 0.13315862 0.11030524 0.15989589 0.95521788 \n",
              "       624        625        626        627        628        629        630 \n",
              "0.09096250 0.13315862 0.07472674 0.32970079 0.16651880 0.98267790 0.22527910 \n",
              "       631        632        633        634        635        636        637 \n",
              "0.07472674 0.15989589 0.07472674 0.09096250 0.19766147 0.43140265 0.07472674 \n",
              "       638        639        640        641        642        643        644 \n",
              "0.09096250 0.11030524 0.15989589 0.07472674 0.07472674 0.98049485 0.11030524 \n",
              "       645        646        647        648        649        650        651 \n",
              "0.99763863 0.98500566 0.35502793 0.30965029 0.98645279 0.07472674 0.13885712 \n",
              "       652        653        654        655        656        657        658 \n",
              "0.94330321 0.07472674 0.11030524 0.15989589 0.13315862 0.26579425 0.23471455 \n",
              "       659        660        661        662        663        664        665 \n",
              "0.09096250 0.64022334 0.07472674 0.19081999 0.11030524 0.99860930 0.95821561 \n",
              "       666        667        668        669        670        671        672 \n",
              "0.07472674 0.15989589 0.15989589 0.19081999 0.39127817 0.13315862 0.98412343 \n",
              "       673        674        675        676        677        678        679 \n",
              "0.11030524 0.13885712 0.96011490 0.60235935 0.95821561 0.11030524 0.11030524 \n",
              "       680        681        682        683        684        685        686 \n",
              "0.07472674 0.87696409 0.15989589 0.15989589 0.27536576 0.15989589 0.10983663 \n",
              "       687        688        689        690        691        692        693 \n",
              "0.99819203 0.19081999 0.11030524 0.07472674 0.84254113 0.09096250 0.13315862 \n",
              "       694        695        696        697        698        699 \n",
              "0.48455027 0.15989589 0.99279742 0.19081999 0.92341050 0.07472674 "
            ]
          },
          "metadata": {}
        }
      ]
    },
    {
      "cell_type": "markdown",
      "source": [
        "# 14. Cria um vetor Classe Predita para Classificar em Ruim ou Boa"
      ],
      "metadata": {
        "id": "cq1-_EnUEks1"
      }
    },
    {
      "cell_type": "code",
      "source": [
        "Classe_Predita = '1'\n",
        "Classe_Predita"
      ],
      "metadata": {
        "colab": {
          "base_uri": "https://localhost:8080/",
          "height": 34
        },
        "id": "7rZlgcFKygnT",
        "outputId": "00d78835-3633-48ce-9348-8f32e12c2ce1"
      },
      "execution_count": 95,
      "outputs": [
        {
          "output_type": "display_data",
          "data": {
            "text/html": [
              "'1'"
            ],
            "text/markdown": "'1'",
            "text/latex": "'1'",
            "text/plain": [
              "[1] \"1\""
            ]
          },
          "metadata": {}
        }
      ]
    },
    {
      "cell_type": "code",
      "source": [
        "# Nota do Sam\n",
        "#Se a probabilidade for maior que 50% classifica como 'Boa'\n",
        "# Em uma única Linha, R varre a o Vetor Probabilidade\n",
        "#  Compara cada índice, \n",
        "#  Se for Maior que 0.5, classifica como Boa, caso contrário, como Ruim\n",
        "#  Faz um append no Vetor Classe_Predita\n",
        "# Muito louco esse R. Noutras Linguagens teríamos de \n",
        "#   ter criados algumas variáveis, \n",
        "#   feito loop\n",
        "#   comparado cada índice\n",
        "# pra depois fazer um append \n",
        "Classe_Predita <- ifelse(Probabilidade > 0.5,\"Boa\",\"Ruim\")\n",
        "\n",
        "Classe_Predita"
      ],
      "metadata": {
        "id": "49PRRHlpT4Qd",
        "colab": {
          "base_uri": "https://localhost:8080/",
          "height": 451
        },
        "outputId": "adfb8e50-a5cd-4e53-d26e-ba26c1edc773"
      },
      "execution_count": 96,
      "outputs": [
        {
          "output_type": "display_data",
          "data": {
            "text/html": [
              "<style>\n",
              ".dl-inline {width: auto; margin:0; padding: 0}\n",
              ".dl-inline>dt, .dl-inline>dd {float: none; width: auto; display: inline-block}\n",
              ".dl-inline>dt::after {content: \":\\0020\"; padding-right: .5ex}\n",
              ".dl-inline>dt:not(:first-of-type) {padding-left: .5ex}\n",
              "</style><dl class=dl-inline><dt>1</dt><dd>'Ruim'</dd><dt>2</dt><dd>'Ruim'</dd><dt>3</dt><dd>'Ruim'</dd><dt>4</dt><dd>'Boa'</dd><dt>5</dt><dd>'Ruim'</dd><dt>6</dt><dd>'Ruim'</dd><dt>7</dt><dd>'Boa'</dd><dt>8</dt><dd>'Boa'</dd><dt>9</dt><dd>'Boa'</dd><dt>10</dt><dd>'Ruim'</dd><dt>11</dt><dd>'Ruim'</dd><dt>12</dt><dd>'Boa'</dd><dt>13</dt><dd>'Ruim'</dd><dt>14</dt><dd>'Ruim'</dd><dt>15</dt><dd>'Ruim'</dd><dt>16</dt><dd>'Boa'</dd><dt>17</dt><dd>'Boa'</dd><dt>18</dt><dd>'Ruim'</dd><dt>19</dt><dd>'Ruim'</dd><dt>20</dt><dd>'Ruim'</dd><dt>21</dt><dd>'Ruim'</dd><dt>22</dt><dd>'Boa'</dd><dt>23</dt><dd>'Ruim'</dd><dt>24</dt><dd>'Ruim'</dd><dt>25</dt><dd>'Boa'</dd><dt>26</dt><dd>'Ruim'</dd><dt>27</dt><dd>'Ruim'</dd><dt>28</dt><dd>'Ruim'</dd><dt>29</dt><dd>'Ruim'</dd><dt>30</dt><dd>'Boa'</dd><dt>31</dt><dd>'Ruim'</dd><dt>32</dt><dd>'Ruim'</dd><dt>33</dt><dd>'Boa'</dd><dt>34</dt><dd>'Ruim'</dd><dt>35</dt><dd>'Ruim'</dd><dt>36</dt><dd>'Ruim'</dd><dt>37</dt><dd>'Ruim'</dd><dt>38</dt><dd>'Boa'</dd><dt>39</dt><dd>'Ruim'</dd><dt>40</dt><dd>'Ruim'</dd><dt>41</dt><dd>'Ruim'</dd><dt>42</dt><dd>'Ruim'</dd><dt>43</dt><dd>'Ruim'</dd><dt>44</dt><dd>'Ruim'</dd><dt>45</dt><dd>'Boa'</dd><dt>46</dt><dd>'Ruim'</dd><dt>47</dt><dd>'Ruim'</dd><dt>48</dt><dd>'Boa'</dd><dt>49</dt><dd>'Boa'</dd><dt>50</dt><dd>'Ruim'</dd><dt>51</dt><dd>'Ruim'</dd><dt>52</dt><dd>'Ruim'</dd><dt>53</dt><dd>'Ruim'</dd><dt>54</dt><dd>'Ruim'</dd><dt>55</dt><dd>'Ruim'</dd><dt>56</dt><dd>'Ruim'</dd><dt>57</dt><dd>'Ruim'</dd><dt>58</dt><dd>'Ruim'</dd><dt>59</dt><dd>'Ruim'</dd><dt>60</dt><dd>'Boa'</dd><dt>61</dt><dd>'Boa'</dd><dt>62</dt><dd>'Ruim'</dd><dt>63</dt><dd>'Boa'</dd><dt>64</dt><dd>'Boa'</dd><dt>65</dt><dd>'Ruim'</dd><dt>66</dt><dd>'Ruim'</dd><dt>67</dt><dd>'Ruim'</dd><dt>68</dt><dd>'Ruim'</dd><dt>69</dt><dd>'Ruim'</dd><dt>70</dt><dd>'Boa'</dd><dt>71</dt><dd>'Ruim'</dd><dt>72</dt><dd>'Ruim'</dd><dt>73</dt><dd>'Boa'</dd><dt>74</dt><dd>'Ruim'</dd><dt>75</dt><dd>'Ruim'</dd><dt>76</dt><dd>'Ruim'</dd><dt>77</dt><dd>'Ruim'</dd><dt>78</dt><dd>'Ruim'</dd><dt>79</dt><dd>'Ruim'</dd><dt>80</dt><dd>'Ruim'</dd><dt>81</dt><dd>'Boa'</dd><dt>82</dt><dd>'Ruim'</dd><dt>83</dt><dd>'Boa'</dd><dt>84</dt><dd>'Boa'</dd><dt>85</dt><dd>'Ruim'</dd><dt>86</dt><dd>'Boa'</dd><dt>87</dt><dd>'Boa'</dd><dt>88</dt><dd>'Boa'</dd><dt>89</dt><dd>'Ruim'</dd><dt>90</dt><dd>'Ruim'</dd><dt>91</dt><dd>'Boa'</dd><dt>92</dt><dd>'Ruim'</dd><dt>93</dt><dd>'Ruim'</dd><dt>94</dt><dd>'Ruim'</dd><dt>95</dt><dd>'Ruim'</dd><dt>96</dt><dd>'Boa'</dd><dt>97</dt><dd>'Boa'</dd><dt>98</dt><dd>'Ruim'</dd><dt>99</dt><dd>'Boa'</dd><dt>100</dt><dd>'Boa'</dd><dt>101</dt><dd>'Ruim'</dd><dt>102</dt><dd>'Boa'</dd><dt>103</dt><dd>'Boa'</dd><dt>104</dt><dd>'Ruim'</dd><dt>105</dt><dd>'Ruim'</dd><dt>106</dt><dd>'Ruim'</dd><dt>107</dt><dd>'Ruim'</dd><dt>108</dt><dd>'Boa'</dd><dt>109</dt><dd>'Ruim'</dd><dt>110</dt><dd>'Ruim'</dd><dt>111</dt><dd>'Ruim'</dd><dt>112</dt><dd>'Ruim'</dd><dt>113</dt><dd>'Ruim'</dd><dt>114</dt><dd>'Ruim'</dd><dt>115</dt><dd>'Ruim'</dd><dt>116</dt><dd>'Ruim'</dd><dt>117</dt><dd>'Ruim'</dd><dt>118</dt><dd>'Boa'</dd><dt>119</dt><dd>'Ruim'</dd><dt>120</dt><dd>'Ruim'</dd><dt>121</dt><dd>'Ruim'</dd><dt>122</dt><dd>'Ruim'</dd><dt>123</dt><dd>'Boa'</dd><dt>124</dt><dd>'Ruim'</dd><dt>125</dt><dd>'Boa'</dd><dt>126</dt><dd>'Boa'</dd><dt>127</dt><dd>'Boa'</dd><dt>128</dt><dd>'Ruim'</dd><dt>129</dt><dd>'Ruim'</dd><dt>130</dt><dd>'Ruim'</dd><dt>131</dt><dd>'Ruim'</dd><dt>132</dt><dd>'Ruim'</dd><dt>133</dt><dd>'Ruim'</dd><dt>134</dt><dd>'Boa'</dd><dt>135</dt><dd>'Ruim'</dd><dt>136</dt><dd>'Ruim'</dd><dt>137</dt><dd>'Boa'</dd><dt>138</dt><dd>'Boa'</dd><dt>139</dt><dd>'Ruim'</dd><dt>140</dt><dd>'Ruim'</dd><dt>141</dt><dd>'Ruim'</dd><dt>142</dt><dd>'Ruim'</dd><dt>143</dt><dd>'Boa'</dd><dt>144</dt><dd>'Ruim'</dd><dt>145</dt><dd>'Boa'</dd><dt>146</dt><dd>'Boa'</dd><dt>147</dt><dd>'Boa'</dd><dt>148</dt><dd>'Ruim'</dd><dt>149</dt><dd>'Ruim'</dd><dt>150</dt><dd>'Ruim'</dd><dt>151</dt><dd>'Ruim'</dd><dt>152</dt><dd>'Ruim'</dd><dt>153</dt><dd>'Ruim'</dd><dt>154</dt><dd>'Boa'</dd><dt>155</dt><dd>'Ruim'</dd><dt>156</dt><dd>'Ruim'</dd><dt>157</dt><dd>'Ruim'</dd><dt>158</dt><dd>'Boa'</dd><dt>159</dt><dd>'Ruim'</dd><dt>160</dt><dd>'Ruim'</dd><dt>161</dt><dd>'Ruim'</dd><dt>162</dt><dd>'Ruim'</dd><dt>163</dt><dd>'Boa'</dd><dt>164</dt><dd>'Ruim'</dd><dt>165</dt><dd>'Boa'</dd><dt>166</dt><dd>'Ruim'</dd><dt>167</dt><dd>'Ruim'</dd><dt>168</dt><dd>'Ruim'</dd><dt>169</dt><dd>'Ruim'</dd><dt>170</dt><dd>'Ruim'</dd><dt>171</dt><dd>'Ruim'</dd><dt>172</dt><dd>'Boa'</dd><dt>173</dt><dd>'Ruim'</dd><dt>174</dt><dd>'Ruim'</dd><dt>175</dt><dd>'Ruim'</dd><dt>176</dt><dd>'Ruim'</dd><dt>177</dt><dd>'Boa'</dd><dt>178</dt><dd>'Ruim'</dd><dt>179</dt><dd>'Boa'</dd><dt>180</dt><dd>'Ruim'</dd><dt>181</dt><dd>'Ruim'</dd><dt>182</dt><dd>'Ruim'</dd><dt>183</dt><dd>'Ruim'</dd><dt>184</dt><dd>'Ruim'</dd><dt>185</dt><dd>'Boa'</dd><dt>186</dt><dd>'Ruim'</dd><dt>187</dt><dd>'Ruim'</dd><dt>188</dt><dd>'Ruim'</dd><dt>189</dt><dd>'Boa'</dd><dt>190</dt><dd>'Boa'</dd><dt>191</dt><dd>'Ruim'</dd><dt>192</dt><dd>'Ruim'</dd><dt>193</dt><dd>'Boa'</dd><dt>194</dt><dd>'Ruim'</dd><dt>195</dt><dd>'Ruim'</dd><dt>196</dt><dd>'Ruim'</dd><dt>197</dt><dd>'Boa'</dd><dt>198</dt><dd>'Ruim'</dd><dt>199</dt><dd>'Ruim'</dd><dt>200</dt><dd>'Ruim'</dd><dt>201</dt><dd>⋯</dd><dt>202</dt><dd>'Boa'</dd><dt>203</dt><dd>'Boa'</dd><dt>204</dt><dd>'Boa'</dd><dt>205</dt><dd>'Boa'</dd><dt>206</dt><dd>'Boa'</dd><dt>207</dt><dd>'Ruim'</dd><dt>208</dt><dd>'Ruim'</dd><dt>209</dt><dd>'Ruim'</dd><dt>210</dt><dd>'Ruim'</dd><dt>211</dt><dd>'Ruim'</dd><dt>212</dt><dd>'Ruim'</dd><dt>213</dt><dd>'Ruim'</dd><dt>214</dt><dd>'Ruim'</dd><dt>215</dt><dd>'Boa'</dd><dt>216</dt><dd>'Ruim'</dd><dt>217</dt><dd>'Ruim'</dd><dt>218</dt><dd>'Boa'</dd><dt>219</dt><dd>'Ruim'</dd><dt>220</dt><dd>'Ruim'</dd><dt>221</dt><dd>'Ruim'</dd><dt>222</dt><dd>'Ruim'</dd><dt>223</dt><dd>'Boa'</dd><dt>224</dt><dd>'Ruim'</dd><dt>225</dt><dd>'Boa'</dd><dt>226</dt><dd>'Ruim'</dd><dt>227</dt><dd>'Ruim'</dd><dt>228</dt><dd>'Ruim'</dd><dt>229</dt><dd>'Boa'</dd><dt>230</dt><dd>'Ruim'</dd><dt>231</dt><dd>'Ruim'</dd><dt>232</dt><dd>'Boa'</dd><dt>233</dt><dd>'Ruim'</dd><dt>234</dt><dd>'Ruim'</dd><dt>235</dt><dd>'Boa'</dd><dt>236</dt><dd>'Ruim'</dd><dt>237</dt><dd>'Ruim'</dd><dt>238</dt><dd>'Ruim'</dd><dt>239</dt><dd>'Ruim'</dd><dt>240</dt><dd>'Ruim'</dd><dt>241</dt><dd>'Ruim'</dd><dt>242</dt><dd>'Ruim'</dd><dt>243</dt><dd>'Ruim'</dd><dt>244</dt><dd>'Ruim'</dd><dt>245</dt><dd>'Ruim'</dd><dt>246</dt><dd>'Ruim'</dd><dt>247</dt><dd>'Boa'</dd><dt>248</dt><dd>'Ruim'</dd><dt>249</dt><dd>'Boa'</dd><dt>250</dt><dd>'Boa'</dd><dt>251</dt><dd>'Ruim'</dd><dt>252</dt><dd>'Boa'</dd><dt>253</dt><dd>'Boa'</dd><dt>254</dt><dd>'Ruim'</dd><dt>255</dt><dd>'Boa'</dd><dt>256</dt><dd>'Boa'</dd><dt>257</dt><dd>'Boa'</dd><dt>258</dt><dd>'Boa'</dd><dt>259</dt><dd>'Ruim'</dd><dt>260</dt><dd>'Ruim'</dd><dt>261</dt><dd>'Ruim'</dd><dt>262</dt><dd>'Boa'</dd><dt>263</dt><dd>'Ruim'</dd><dt>264</dt><dd>'Ruim'</dd><dt>265</dt><dd>'Boa'</dd><dt>266</dt><dd>'Boa'</dd><dt>267</dt><dd>'Ruim'</dd><dt>268</dt><dd>'Boa'</dd><dt>269</dt><dd>'Ruim'</dd><dt>270</dt><dd>'Ruim'</dd><dt>271</dt><dd>'Ruim'</dd><dt>272</dt><dd>'Ruim'</dd><dt>273</dt><dd>'Ruim'</dd><dt>274</dt><dd>'Ruim'</dd><dt>275</dt><dd>'Ruim'</dd><dt>276</dt><dd>'Ruim'</dd><dt>277</dt><dd>'Boa'</dd><dt>278</dt><dd>'Ruim'</dd><dt>279</dt><dd>'Ruim'</dd><dt>280</dt><dd>'Boa'</dd><dt>281</dt><dd>'Boa'</dd><dt>282</dt><dd>'Ruim'</dd><dt>283</dt><dd>'Ruim'</dd><dt>284</dt><dd>'Boa'</dd><dt>285</dt><dd>'Ruim'</dd><dt>286</dt><dd>'Boa'</dd><dt>287</dt><dd>'Ruim'</dd><dt>288</dt><dd>'Ruim'</dd><dt>289</dt><dd>'Ruim'</dd><dt>290</dt><dd>'Ruim'</dd><dt>291</dt><dd>'Ruim'</dd><dt>292</dt><dd>'Ruim'</dd><dt>293</dt><dd>'Ruim'</dd><dt>294</dt><dd>'Ruim'</dd><dt>295</dt><dd>'Ruim'</dd><dt>296</dt><dd>'Ruim'</dd><dt>297</dt><dd>'Ruim'</dd><dt>298</dt><dd>'Ruim'</dd><dt>299</dt><dd>'Ruim'</dd><dt>300</dt><dd>'Ruim'</dd><dt>301</dt><dd>'Ruim'</dd><dt>302</dt><dd>'Ruim'</dd><dt>303</dt><dd>'Ruim'</dd><dt>304</dt><dd>'Ruim'</dd><dt>305</dt><dd>'Ruim'</dd><dt>306</dt><dd>'Boa'</dd><dt>307</dt><dd>'Ruim'</dd><dt>308</dt><dd>'Boa'</dd><dt>309</dt><dd>'Boa'</dd><dt>310</dt><dd>'Ruim'</dd><dt>311</dt><dd>'Boa'</dd><dt>312</dt><dd>'Ruim'</dd><dt>313</dt><dd>'Boa'</dd><dt>314</dt><dd>'Ruim'</dd><dt>315</dt><dd>'Ruim'</dd><dt>316</dt><dd>'Ruim'</dd><dt>317</dt><dd>'Ruim'</dd><dt>318</dt><dd>'Ruim'</dd><dt>319</dt><dd>'Ruim'</dd><dt>320</dt><dd>'Ruim'</dd><dt>321</dt><dd>'Ruim'</dd><dt>322</dt><dd>'Ruim'</dd><dt>323</dt><dd>'Ruim'</dd><dt>324</dt><dd>'Ruim'</dd><dt>325</dt><dd>'Boa'</dd><dt>326</dt><dd>'Ruim'</dd><dt>327</dt><dd>'Ruim'</dd><dt>328</dt><dd>'Ruim'</dd><dt>329</dt><dd>'Ruim'</dd><dt>330</dt><dd>'Ruim'</dd><dt>331</dt><dd>'Boa'</dd><dt>332</dt><dd>'Ruim'</dd><dt>333</dt><dd>'Ruim'</dd><dt>334</dt><dd>'Ruim'</dd><dt>335</dt><dd>'Ruim'</dd><dt>336</dt><dd>'Ruim'</dd><dt>337</dt><dd>'Ruim'</dd><dt>338</dt><dd>'Ruim'</dd><dt>339</dt><dd>'Ruim'</dd><dt>340</dt><dd>'Ruim'</dd><dt>341</dt><dd>'Ruim'</dd><dt>342</dt><dd>'Ruim'</dd><dt>343</dt><dd>'Ruim'</dd><dt>344</dt><dd>'Ruim'</dd><dt>345</dt><dd>'Boa'</dd><dt>346</dt><dd>'Ruim'</dd><dt>347</dt><dd>'Boa'</dd><dt>348</dt><dd>'Boa'</dd><dt>349</dt><dd>'Ruim'</dd><dt>350</dt><dd>'Ruim'</dd><dt>351</dt><dd>'Boa'</dd><dt>352</dt><dd>'Ruim'</dd><dt>353</dt><dd>'Ruim'</dd><dt>354</dt><dd>'Boa'</dd><dt>355</dt><dd>'Ruim'</dd><dt>356</dt><dd>'Ruim'</dd><dt>357</dt><dd>'Ruim'</dd><dt>358</dt><dd>'Ruim'</dd><dt>359</dt><dd>'Ruim'</dd><dt>360</dt><dd>'Ruim'</dd><dt>361</dt><dd>'Ruim'</dd><dt>362</dt><dd>'Boa'</dd><dt>363</dt><dd>'Ruim'</dd><dt>364</dt><dd>'Ruim'</dd><dt>365</dt><dd>'Ruim'</dd><dt>366</dt><dd>'Boa'</dd><dt>367</dt><dd>'Boa'</dd><dt>368</dt><dd>'Ruim'</dd><dt>369</dt><dd>'Ruim'</dd><dt>370</dt><dd>'Ruim'</dd><dt>371</dt><dd>'Ruim'</dd><dt>372</dt><dd>'Ruim'</dd><dt>373</dt><dd>'Ruim'</dd><dt>374</dt><dd>'Boa'</dd><dt>375</dt><dd>'Ruim'</dd><dt>376</dt><dd>'Ruim'</dd><dt>377</dt><dd>'Boa'</dd><dt>378</dt><dd>'Boa'</dd><dt>379</dt><dd>'Boa'</dd><dt>380</dt><dd>'Ruim'</dd><dt>381</dt><dd>'Ruim'</dd><dt>382</dt><dd>'Ruim'</dd><dt>383</dt><dd>'Boa'</dd><dt>384</dt><dd>'Ruim'</dd><dt>385</dt><dd>'Ruim'</dd><dt>386</dt><dd>'Ruim'</dd><dt>387</dt><dd>'Ruim'</dd><dt>388</dt><dd>'Ruim'</dd><dt>389</dt><dd>'Boa'</dd><dt>390</dt><dd>'Ruim'</dd><dt>391</dt><dd>'Ruim'</dd><dt>392</dt><dd>'Ruim'</dd><dt>393</dt><dd>'Boa'</dd><dt>394</dt><dd>'Ruim'</dd><dt>395</dt><dd>'Ruim'</dd><dt>396</dt><dd>'Ruim'</dd><dt>397</dt><dd>'Ruim'</dd><dt>398</dt><dd>'Boa'</dd><dt>399</dt><dd>'Ruim'</dd><dt>400</dt><dd>'Boa'</dd><dt>401</dt><dd>'Ruim'</dd></dl>\n"
            ],
            "text/markdown": "1\n:   'Ruim'2\n:   'Ruim'3\n:   'Ruim'4\n:   'Boa'5\n:   'Ruim'6\n:   'Ruim'7\n:   'Boa'8\n:   'Boa'9\n:   'Boa'10\n:   'Ruim'11\n:   'Ruim'12\n:   'Boa'13\n:   'Ruim'14\n:   'Ruim'15\n:   'Ruim'16\n:   'Boa'17\n:   'Boa'18\n:   'Ruim'19\n:   'Ruim'20\n:   'Ruim'21\n:   'Ruim'22\n:   'Boa'23\n:   'Ruim'24\n:   'Ruim'25\n:   'Boa'26\n:   'Ruim'27\n:   'Ruim'28\n:   'Ruim'29\n:   'Ruim'30\n:   'Boa'31\n:   'Ruim'32\n:   'Ruim'33\n:   'Boa'34\n:   'Ruim'35\n:   'Ruim'36\n:   'Ruim'37\n:   'Ruim'38\n:   'Boa'39\n:   'Ruim'40\n:   'Ruim'41\n:   'Ruim'42\n:   'Ruim'43\n:   'Ruim'44\n:   'Ruim'45\n:   'Boa'46\n:   'Ruim'47\n:   'Ruim'48\n:   'Boa'49\n:   'Boa'50\n:   'Ruim'51\n:   'Ruim'52\n:   'Ruim'53\n:   'Ruim'54\n:   'Ruim'55\n:   'Ruim'56\n:   'Ruim'57\n:   'Ruim'58\n:   'Ruim'59\n:   'Ruim'60\n:   'Boa'61\n:   'Boa'62\n:   'Ruim'63\n:   'Boa'64\n:   'Boa'65\n:   'Ruim'66\n:   'Ruim'67\n:   'Ruim'68\n:   'Ruim'69\n:   'Ruim'70\n:   'Boa'71\n:   'Ruim'72\n:   'Ruim'73\n:   'Boa'74\n:   'Ruim'75\n:   'Ruim'76\n:   'Ruim'77\n:   'Ruim'78\n:   'Ruim'79\n:   'Ruim'80\n:   'Ruim'81\n:   'Boa'82\n:   'Ruim'83\n:   'Boa'84\n:   'Boa'85\n:   'Ruim'86\n:   'Boa'87\n:   'Boa'88\n:   'Boa'89\n:   'Ruim'90\n:   'Ruim'91\n:   'Boa'92\n:   'Ruim'93\n:   'Ruim'94\n:   'Ruim'95\n:   'Ruim'96\n:   'Boa'97\n:   'Boa'98\n:   'Ruim'99\n:   'Boa'100\n:   'Boa'101\n:   'Ruim'102\n:   'Boa'103\n:   'Boa'104\n:   'Ruim'105\n:   'Ruim'106\n:   'Ruim'107\n:   'Ruim'108\n:   'Boa'109\n:   'Ruim'110\n:   'Ruim'111\n:   'Ruim'112\n:   'Ruim'113\n:   'Ruim'114\n:   'Ruim'115\n:   'Ruim'116\n:   'Ruim'117\n:   'Ruim'118\n:   'Boa'119\n:   'Ruim'120\n:   'Ruim'121\n:   'Ruim'122\n:   'Ruim'123\n:   'Boa'124\n:   'Ruim'125\n:   'Boa'126\n:   'Boa'127\n:   'Boa'128\n:   'Ruim'129\n:   'Ruim'130\n:   'Ruim'131\n:   'Ruim'132\n:   'Ruim'133\n:   'Ruim'134\n:   'Boa'135\n:   'Ruim'136\n:   'Ruim'137\n:   'Boa'138\n:   'Boa'139\n:   'Ruim'140\n:   'Ruim'141\n:   'Ruim'142\n:   'Ruim'143\n:   'Boa'144\n:   'Ruim'145\n:   'Boa'146\n:   'Boa'147\n:   'Boa'148\n:   'Ruim'149\n:   'Ruim'150\n:   'Ruim'151\n:   'Ruim'152\n:   'Ruim'153\n:   'Ruim'154\n:   'Boa'155\n:   'Ruim'156\n:   'Ruim'157\n:   'Ruim'158\n:   'Boa'159\n:   'Ruim'160\n:   'Ruim'161\n:   'Ruim'162\n:   'Ruim'163\n:   'Boa'164\n:   'Ruim'165\n:   'Boa'166\n:   'Ruim'167\n:   'Ruim'168\n:   'Ruim'169\n:   'Ruim'170\n:   'Ruim'171\n:   'Ruim'172\n:   'Boa'173\n:   'Ruim'174\n:   'Ruim'175\n:   'Ruim'176\n:   'Ruim'177\n:   'Boa'178\n:   'Ruim'179\n:   'Boa'180\n:   'Ruim'181\n:   'Ruim'182\n:   'Ruim'183\n:   'Ruim'184\n:   'Ruim'185\n:   'Boa'186\n:   'Ruim'187\n:   'Ruim'188\n:   'Ruim'189\n:   'Boa'190\n:   'Boa'191\n:   'Ruim'192\n:   'Ruim'193\n:   'Boa'194\n:   'Ruim'195\n:   'Ruim'196\n:   'Ruim'197\n:   'Boa'198\n:   'Ruim'199\n:   'Ruim'200\n:   'Ruim'201\n:   ⋯202\n:   'Boa'203\n:   'Boa'204\n:   'Boa'205\n:   'Boa'206\n:   'Boa'207\n:   'Ruim'208\n:   'Ruim'209\n:   'Ruim'210\n:   'Ruim'211\n:   'Ruim'212\n:   'Ruim'213\n:   'Ruim'214\n:   'Ruim'215\n:   'Boa'216\n:   'Ruim'217\n:   'Ruim'218\n:   'Boa'219\n:   'Ruim'220\n:   'Ruim'221\n:   'Ruim'222\n:   'Ruim'223\n:   'Boa'224\n:   'Ruim'225\n:   'Boa'226\n:   'Ruim'227\n:   'Ruim'228\n:   'Ruim'229\n:   'Boa'230\n:   'Ruim'231\n:   'Ruim'232\n:   'Boa'233\n:   'Ruim'234\n:   'Ruim'235\n:   'Boa'236\n:   'Ruim'237\n:   'Ruim'238\n:   'Ruim'239\n:   'Ruim'240\n:   'Ruim'241\n:   'Ruim'242\n:   'Ruim'243\n:   'Ruim'244\n:   'Ruim'245\n:   'Ruim'246\n:   'Ruim'247\n:   'Boa'248\n:   'Ruim'249\n:   'Boa'250\n:   'Boa'251\n:   'Ruim'252\n:   'Boa'253\n:   'Boa'254\n:   'Ruim'255\n:   'Boa'256\n:   'Boa'257\n:   'Boa'258\n:   'Boa'259\n:   'Ruim'260\n:   'Ruim'261\n:   'Ruim'262\n:   'Boa'263\n:   'Ruim'264\n:   'Ruim'265\n:   'Boa'266\n:   'Boa'267\n:   'Ruim'268\n:   'Boa'269\n:   'Ruim'270\n:   'Ruim'271\n:   'Ruim'272\n:   'Ruim'273\n:   'Ruim'274\n:   'Ruim'275\n:   'Ruim'276\n:   'Ruim'277\n:   'Boa'278\n:   'Ruim'279\n:   'Ruim'280\n:   'Boa'281\n:   'Boa'282\n:   'Ruim'283\n:   'Ruim'284\n:   'Boa'285\n:   'Ruim'286\n:   'Boa'287\n:   'Ruim'288\n:   'Ruim'289\n:   'Ruim'290\n:   'Ruim'291\n:   'Ruim'292\n:   'Ruim'293\n:   'Ruim'294\n:   'Ruim'295\n:   'Ruim'296\n:   'Ruim'297\n:   'Ruim'298\n:   'Ruim'299\n:   'Ruim'300\n:   'Ruim'301\n:   'Ruim'302\n:   'Ruim'303\n:   'Ruim'304\n:   'Ruim'305\n:   'Ruim'306\n:   'Boa'307\n:   'Ruim'308\n:   'Boa'309\n:   'Boa'310\n:   'Ruim'311\n:   'Boa'312\n:   'Ruim'313\n:   'Boa'314\n:   'Ruim'315\n:   'Ruim'316\n:   'Ruim'317\n:   'Ruim'318\n:   'Ruim'319\n:   'Ruim'320\n:   'Ruim'321\n:   'Ruim'322\n:   'Ruim'323\n:   'Ruim'324\n:   'Ruim'325\n:   'Boa'326\n:   'Ruim'327\n:   'Ruim'328\n:   'Ruim'329\n:   'Ruim'330\n:   'Ruim'331\n:   'Boa'332\n:   'Ruim'333\n:   'Ruim'334\n:   'Ruim'335\n:   'Ruim'336\n:   'Ruim'337\n:   'Ruim'338\n:   'Ruim'339\n:   'Ruim'340\n:   'Ruim'341\n:   'Ruim'342\n:   'Ruim'343\n:   'Ruim'344\n:   'Ruim'345\n:   'Boa'346\n:   'Ruim'347\n:   'Boa'348\n:   'Boa'349\n:   'Ruim'350\n:   'Ruim'351\n:   'Boa'352\n:   'Ruim'353\n:   'Ruim'354\n:   'Boa'355\n:   'Ruim'356\n:   'Ruim'357\n:   'Ruim'358\n:   'Ruim'359\n:   'Ruim'360\n:   'Ruim'361\n:   'Ruim'362\n:   'Boa'363\n:   'Ruim'364\n:   'Ruim'365\n:   'Ruim'366\n:   'Boa'367\n:   'Boa'368\n:   'Ruim'369\n:   'Ruim'370\n:   'Ruim'371\n:   'Ruim'372\n:   'Ruim'373\n:   'Ruim'374\n:   'Boa'375\n:   'Ruim'376\n:   'Ruim'377\n:   'Boa'378\n:   'Boa'379\n:   'Boa'380\n:   'Ruim'381\n:   'Ruim'382\n:   'Ruim'383\n:   'Boa'384\n:   'Ruim'385\n:   'Ruim'386\n:   'Ruim'387\n:   'Ruim'388\n:   'Ruim'389\n:   'Boa'390\n:   'Ruim'391\n:   'Ruim'392\n:   'Ruim'393\n:   'Boa'394\n:   'Ruim'395\n:   'Ruim'396\n:   'Ruim'397\n:   'Ruim'398\n:   'Boa'399\n:   'Ruim'400\n:   'Boa'401\n:   'Ruim'\n\n",
            "text/latex": "\\begin{description*}\n\\item[1] 'Ruim'\n\\item[2] 'Ruim'\n\\item[3] 'Ruim'\n\\item[4] 'Boa'\n\\item[5] 'Ruim'\n\\item[6] 'Ruim'\n\\item[7] 'Boa'\n\\item[8] 'Boa'\n\\item[9] 'Boa'\n\\item[10] 'Ruim'\n\\item[11] 'Ruim'\n\\item[12] 'Boa'\n\\item[13] 'Ruim'\n\\item[14] 'Ruim'\n\\item[15] 'Ruim'\n\\item[16] 'Boa'\n\\item[17] 'Boa'\n\\item[18] 'Ruim'\n\\item[19] 'Ruim'\n\\item[20] 'Ruim'\n\\item[21] 'Ruim'\n\\item[22] 'Boa'\n\\item[23] 'Ruim'\n\\item[24] 'Ruim'\n\\item[25] 'Boa'\n\\item[26] 'Ruim'\n\\item[27] 'Ruim'\n\\item[28] 'Ruim'\n\\item[29] 'Ruim'\n\\item[30] 'Boa'\n\\item[31] 'Ruim'\n\\item[32] 'Ruim'\n\\item[33] 'Boa'\n\\item[34] 'Ruim'\n\\item[35] 'Ruim'\n\\item[36] 'Ruim'\n\\item[37] 'Ruim'\n\\item[38] 'Boa'\n\\item[39] 'Ruim'\n\\item[40] 'Ruim'\n\\item[41] 'Ruim'\n\\item[42] 'Ruim'\n\\item[43] 'Ruim'\n\\item[44] 'Ruim'\n\\item[45] 'Boa'\n\\item[46] 'Ruim'\n\\item[47] 'Ruim'\n\\item[48] 'Boa'\n\\item[49] 'Boa'\n\\item[50] 'Ruim'\n\\item[51] 'Ruim'\n\\item[52] 'Ruim'\n\\item[53] 'Ruim'\n\\item[54] 'Ruim'\n\\item[55] 'Ruim'\n\\item[56] 'Ruim'\n\\item[57] 'Ruim'\n\\item[58] 'Ruim'\n\\item[59] 'Ruim'\n\\item[60] 'Boa'\n\\item[61] 'Boa'\n\\item[62] 'Ruim'\n\\item[63] 'Boa'\n\\item[64] 'Boa'\n\\item[65] 'Ruim'\n\\item[66] 'Ruim'\n\\item[67] 'Ruim'\n\\item[68] 'Ruim'\n\\item[69] 'Ruim'\n\\item[70] 'Boa'\n\\item[71] 'Ruim'\n\\item[72] 'Ruim'\n\\item[73] 'Boa'\n\\item[74] 'Ruim'\n\\item[75] 'Ruim'\n\\item[76] 'Ruim'\n\\item[77] 'Ruim'\n\\item[78] 'Ruim'\n\\item[79] 'Ruim'\n\\item[80] 'Ruim'\n\\item[81] 'Boa'\n\\item[82] 'Ruim'\n\\item[83] 'Boa'\n\\item[84] 'Boa'\n\\item[85] 'Ruim'\n\\item[86] 'Boa'\n\\item[87] 'Boa'\n\\item[88] 'Boa'\n\\item[89] 'Ruim'\n\\item[90] 'Ruim'\n\\item[91] 'Boa'\n\\item[92] 'Ruim'\n\\item[93] 'Ruim'\n\\item[94] 'Ruim'\n\\item[95] 'Ruim'\n\\item[96] 'Boa'\n\\item[97] 'Boa'\n\\item[98] 'Ruim'\n\\item[99] 'Boa'\n\\item[100] 'Boa'\n\\item[101] 'Ruim'\n\\item[102] 'Boa'\n\\item[103] 'Boa'\n\\item[104] 'Ruim'\n\\item[105] 'Ruim'\n\\item[106] 'Ruim'\n\\item[107] 'Ruim'\n\\item[108] 'Boa'\n\\item[109] 'Ruim'\n\\item[110] 'Ruim'\n\\item[111] 'Ruim'\n\\item[112] 'Ruim'\n\\item[113] 'Ruim'\n\\item[114] 'Ruim'\n\\item[115] 'Ruim'\n\\item[116] 'Ruim'\n\\item[117] 'Ruim'\n\\item[118] 'Boa'\n\\item[119] 'Ruim'\n\\item[120] 'Ruim'\n\\item[121] 'Ruim'\n\\item[122] 'Ruim'\n\\item[123] 'Boa'\n\\item[124] 'Ruim'\n\\item[125] 'Boa'\n\\item[126] 'Boa'\n\\item[127] 'Boa'\n\\item[128] 'Ruim'\n\\item[129] 'Ruim'\n\\item[130] 'Ruim'\n\\item[131] 'Ruim'\n\\item[132] 'Ruim'\n\\item[133] 'Ruim'\n\\item[134] 'Boa'\n\\item[135] 'Ruim'\n\\item[136] 'Ruim'\n\\item[137] 'Boa'\n\\item[138] 'Boa'\n\\item[139] 'Ruim'\n\\item[140] 'Ruim'\n\\item[141] 'Ruim'\n\\item[142] 'Ruim'\n\\item[143] 'Boa'\n\\item[144] 'Ruim'\n\\item[145] 'Boa'\n\\item[146] 'Boa'\n\\item[147] 'Boa'\n\\item[148] 'Ruim'\n\\item[149] 'Ruim'\n\\item[150] 'Ruim'\n\\item[151] 'Ruim'\n\\item[152] 'Ruim'\n\\item[153] 'Ruim'\n\\item[154] 'Boa'\n\\item[155] 'Ruim'\n\\item[156] 'Ruim'\n\\item[157] 'Ruim'\n\\item[158] 'Boa'\n\\item[159] 'Ruim'\n\\item[160] 'Ruim'\n\\item[161] 'Ruim'\n\\item[162] 'Ruim'\n\\item[163] 'Boa'\n\\item[164] 'Ruim'\n\\item[165] 'Boa'\n\\item[166] 'Ruim'\n\\item[167] 'Ruim'\n\\item[168] 'Ruim'\n\\item[169] 'Ruim'\n\\item[170] 'Ruim'\n\\item[171] 'Ruim'\n\\item[172] 'Boa'\n\\item[173] 'Ruim'\n\\item[174] 'Ruim'\n\\item[175] 'Ruim'\n\\item[176] 'Ruim'\n\\item[177] 'Boa'\n\\item[178] 'Ruim'\n\\item[179] 'Boa'\n\\item[180] 'Ruim'\n\\item[181] 'Ruim'\n\\item[182] 'Ruim'\n\\item[183] 'Ruim'\n\\item[184] 'Ruim'\n\\item[185] 'Boa'\n\\item[186] 'Ruim'\n\\item[187] 'Ruim'\n\\item[188] 'Ruim'\n\\item[189] 'Boa'\n\\item[190] 'Boa'\n\\item[191] 'Ruim'\n\\item[192] 'Ruim'\n\\item[193] 'Boa'\n\\item[194] 'Ruim'\n\\item[195] 'Ruim'\n\\item[196] 'Ruim'\n\\item[197] 'Boa'\n\\item[198] 'Ruim'\n\\item[199] 'Ruim'\n\\item[200] 'Ruim'\n\\item[201] ⋯\n\\item[202] 'Boa'\n\\item[203] 'Boa'\n\\item[204] 'Boa'\n\\item[205] 'Boa'\n\\item[206] 'Boa'\n\\item[207] 'Ruim'\n\\item[208] 'Ruim'\n\\item[209] 'Ruim'\n\\item[210] 'Ruim'\n\\item[211] 'Ruim'\n\\item[212] 'Ruim'\n\\item[213] 'Ruim'\n\\item[214] 'Ruim'\n\\item[215] 'Boa'\n\\item[216] 'Ruim'\n\\item[217] 'Ruim'\n\\item[218] 'Boa'\n\\item[219] 'Ruim'\n\\item[220] 'Ruim'\n\\item[221] 'Ruim'\n\\item[222] 'Ruim'\n\\item[223] 'Boa'\n\\item[224] 'Ruim'\n\\item[225] 'Boa'\n\\item[226] 'Ruim'\n\\item[227] 'Ruim'\n\\item[228] 'Ruim'\n\\item[229] 'Boa'\n\\item[230] 'Ruim'\n\\item[231] 'Ruim'\n\\item[232] 'Boa'\n\\item[233] 'Ruim'\n\\item[234] 'Ruim'\n\\item[235] 'Boa'\n\\item[236] 'Ruim'\n\\item[237] 'Ruim'\n\\item[238] 'Ruim'\n\\item[239] 'Ruim'\n\\item[240] 'Ruim'\n\\item[241] 'Ruim'\n\\item[242] 'Ruim'\n\\item[243] 'Ruim'\n\\item[244] 'Ruim'\n\\item[245] 'Ruim'\n\\item[246] 'Ruim'\n\\item[247] 'Boa'\n\\item[248] 'Ruim'\n\\item[249] 'Boa'\n\\item[250] 'Boa'\n\\item[251] 'Ruim'\n\\item[252] 'Boa'\n\\item[253] 'Boa'\n\\item[254] 'Ruim'\n\\item[255] 'Boa'\n\\item[256] 'Boa'\n\\item[257] 'Boa'\n\\item[258] 'Boa'\n\\item[259] 'Ruim'\n\\item[260] 'Ruim'\n\\item[261] 'Ruim'\n\\item[262] 'Boa'\n\\item[263] 'Ruim'\n\\item[264] 'Ruim'\n\\item[265] 'Boa'\n\\item[266] 'Boa'\n\\item[267] 'Ruim'\n\\item[268] 'Boa'\n\\item[269] 'Ruim'\n\\item[270] 'Ruim'\n\\item[271] 'Ruim'\n\\item[272] 'Ruim'\n\\item[273] 'Ruim'\n\\item[274] 'Ruim'\n\\item[275] 'Ruim'\n\\item[276] 'Ruim'\n\\item[277] 'Boa'\n\\item[278] 'Ruim'\n\\item[279] 'Ruim'\n\\item[280] 'Boa'\n\\item[281] 'Boa'\n\\item[282] 'Ruim'\n\\item[283] 'Ruim'\n\\item[284] 'Boa'\n\\item[285] 'Ruim'\n\\item[286] 'Boa'\n\\item[287] 'Ruim'\n\\item[288] 'Ruim'\n\\item[289] 'Ruim'\n\\item[290] 'Ruim'\n\\item[291] 'Ruim'\n\\item[292] 'Ruim'\n\\item[293] 'Ruim'\n\\item[294] 'Ruim'\n\\item[295] 'Ruim'\n\\item[296] 'Ruim'\n\\item[297] 'Ruim'\n\\item[298] 'Ruim'\n\\item[299] 'Ruim'\n\\item[300] 'Ruim'\n\\item[301] 'Ruim'\n\\item[302] 'Ruim'\n\\item[303] 'Ruim'\n\\item[304] 'Ruim'\n\\item[305] 'Ruim'\n\\item[306] 'Boa'\n\\item[307] 'Ruim'\n\\item[308] 'Boa'\n\\item[309] 'Boa'\n\\item[310] 'Ruim'\n\\item[311] 'Boa'\n\\item[312] 'Ruim'\n\\item[313] 'Boa'\n\\item[314] 'Ruim'\n\\item[315] 'Ruim'\n\\item[316] 'Ruim'\n\\item[317] 'Ruim'\n\\item[318] 'Ruim'\n\\item[319] 'Ruim'\n\\item[320] 'Ruim'\n\\item[321] 'Ruim'\n\\item[322] 'Ruim'\n\\item[323] 'Ruim'\n\\item[324] 'Ruim'\n\\item[325] 'Boa'\n\\item[326] 'Ruim'\n\\item[327] 'Ruim'\n\\item[328] 'Ruim'\n\\item[329] 'Ruim'\n\\item[330] 'Ruim'\n\\item[331] 'Boa'\n\\item[332] 'Ruim'\n\\item[333] 'Ruim'\n\\item[334] 'Ruim'\n\\item[335] 'Ruim'\n\\item[336] 'Ruim'\n\\item[337] 'Ruim'\n\\item[338] 'Ruim'\n\\item[339] 'Ruim'\n\\item[340] 'Ruim'\n\\item[341] 'Ruim'\n\\item[342] 'Ruim'\n\\item[343] 'Ruim'\n\\item[344] 'Ruim'\n\\item[345] 'Boa'\n\\item[346] 'Ruim'\n\\item[347] 'Boa'\n\\item[348] 'Boa'\n\\item[349] 'Ruim'\n\\item[350] 'Ruim'\n\\item[351] 'Boa'\n\\item[352] 'Ruim'\n\\item[353] 'Ruim'\n\\item[354] 'Boa'\n\\item[355] 'Ruim'\n\\item[356] 'Ruim'\n\\item[357] 'Ruim'\n\\item[358] 'Ruim'\n\\item[359] 'Ruim'\n\\item[360] 'Ruim'\n\\item[361] 'Ruim'\n\\item[362] 'Boa'\n\\item[363] 'Ruim'\n\\item[364] 'Ruim'\n\\item[365] 'Ruim'\n\\item[366] 'Boa'\n\\item[367] 'Boa'\n\\item[368] 'Ruim'\n\\item[369] 'Ruim'\n\\item[370] 'Ruim'\n\\item[371] 'Ruim'\n\\item[372] 'Ruim'\n\\item[373] 'Ruim'\n\\item[374] 'Boa'\n\\item[375] 'Ruim'\n\\item[376] 'Ruim'\n\\item[377] 'Boa'\n\\item[378] 'Boa'\n\\item[379] 'Boa'\n\\item[380] 'Ruim'\n\\item[381] 'Ruim'\n\\item[382] 'Ruim'\n\\item[383] 'Boa'\n\\item[384] 'Ruim'\n\\item[385] 'Ruim'\n\\item[386] 'Ruim'\n\\item[387] 'Ruim'\n\\item[388] 'Ruim'\n\\item[389] 'Boa'\n\\item[390] 'Ruim'\n\\item[391] 'Ruim'\n\\item[392] 'Ruim'\n\\item[393] 'Boa'\n\\item[394] 'Ruim'\n\\item[395] 'Ruim'\n\\item[396] 'Ruim'\n\\item[397] 'Ruim'\n\\item[398] 'Boa'\n\\item[399] 'Ruim'\n\\item[400] 'Boa'\n\\item[401] 'Ruim'\n\\end{description*}\n",
            "text/plain": [
              "     1      2      3      4      5      6      7      8      9     10     11 \n",
              "\"Ruim\" \"Ruim\" \"Ruim\"  \"Boa\" \"Ruim\" \"Ruim\"  \"Boa\"  \"Boa\"  \"Boa\" \"Ruim\" \"Ruim\" \n",
              "    12     13     14     15     16     17     18     19     20     21     22 \n",
              " \"Boa\" \"Ruim\" \"Ruim\" \"Ruim\"  \"Boa\"  \"Boa\" \"Ruim\" \"Ruim\" \"Ruim\" \"Ruim\"  \"Boa\" \n",
              "    23     24     25     26     27     28     29     30     31     32     33 \n",
              "\"Ruim\" \"Ruim\"  \"Boa\" \"Ruim\" \"Ruim\" \"Ruim\" \"Ruim\"  \"Boa\" \"Ruim\" \"Ruim\"  \"Boa\" \n",
              "    34     35     36     37     38     39     40     41     42     43     44 \n",
              "\"Ruim\" \"Ruim\" \"Ruim\" \"Ruim\"  \"Boa\" \"Ruim\" \"Ruim\" \"Ruim\" \"Ruim\" \"Ruim\" \"Ruim\" \n",
              "    45     46     47     48     49     50     51     52     53     54     55 \n",
              " \"Boa\" \"Ruim\" \"Ruim\"  \"Boa\"  \"Boa\" \"Ruim\" \"Ruim\" \"Ruim\" \"Ruim\" \"Ruim\" \"Ruim\" \n",
              "    56     57     58     59     60     61     62     63     64     65     66 \n",
              "\"Ruim\" \"Ruim\" \"Ruim\" \"Ruim\"  \"Boa\"  \"Boa\" \"Ruim\"  \"Boa\"  \"Boa\" \"Ruim\" \"Ruim\" \n",
              "    67     68     69     70     71     72     73     74     75     76     77 \n",
              "\"Ruim\" \"Ruim\" \"Ruim\"  \"Boa\" \"Ruim\" \"Ruim\"  \"Boa\" \"Ruim\" \"Ruim\" \"Ruim\" \"Ruim\" \n",
              "    78     79     80     81     82     83     84     85     86     87     88 \n",
              "\"Ruim\" \"Ruim\" \"Ruim\"  \"Boa\" \"Ruim\"  \"Boa\"  \"Boa\" \"Ruim\"  \"Boa\"  \"Boa\"  \"Boa\" \n",
              "    89     90     91     92     93     94     95     96     97     98     99 \n",
              "\"Ruim\" \"Ruim\"  \"Boa\" \"Ruim\" \"Ruim\" \"Ruim\" \"Ruim\"  \"Boa\"  \"Boa\" \"Ruim\"  \"Boa\" \n",
              "   100    101    102    103    104    105    106    107    108    109    110 \n",
              " \"Boa\" \"Ruim\"  \"Boa\"  \"Boa\" \"Ruim\" \"Ruim\" \"Ruim\" \"Ruim\"  \"Boa\" \"Ruim\" \"Ruim\" \n",
              "   111    112    113    114    115    116    117    118    119    120    121 \n",
              "\"Ruim\" \"Ruim\" \"Ruim\" \"Ruim\" \"Ruim\" \"Ruim\" \"Ruim\"  \"Boa\" \"Ruim\" \"Ruim\" \"Ruim\" \n",
              "   122    123    124    125    126    127    128    129    130    131    132 \n",
              "\"Ruim\"  \"Boa\" \"Ruim\"  \"Boa\"  \"Boa\"  \"Boa\" \"Ruim\" \"Ruim\" \"Ruim\" \"Ruim\" \"Ruim\" \n",
              "   133    134    135    136    137    138    139    140    141    142    143 \n",
              "\"Ruim\"  \"Boa\" \"Ruim\" \"Ruim\"  \"Boa\"  \"Boa\" \"Ruim\" \"Ruim\" \"Ruim\" \"Ruim\"  \"Boa\" \n",
              "   144    145    146    147    148    149    150    151    152    153    154 \n",
              "\"Ruim\"  \"Boa\"  \"Boa\"  \"Boa\" \"Ruim\" \"Ruim\" \"Ruim\" \"Ruim\" \"Ruim\" \"Ruim\"  \"Boa\" \n",
              "   155    156    157    158    159    160    161    162    163    164    165 \n",
              "\"Ruim\" \"Ruim\" \"Ruim\"  \"Boa\" \"Ruim\" \"Ruim\" \"Ruim\" \"Ruim\"  \"Boa\" \"Ruim\"  \"Boa\" \n",
              "   166    167    168    169    170    171    172    173    174    175    176 \n",
              "\"Ruim\" \"Ruim\" \"Ruim\" \"Ruim\" \"Ruim\" \"Ruim\"  \"Boa\" \"Ruim\" \"Ruim\" \"Ruim\" \"Ruim\" \n",
              "   177    178    179    180    181    182    183    184    185    186    187 \n",
              " \"Boa\" \"Ruim\"  \"Boa\" \"Ruim\" \"Ruim\" \"Ruim\" \"Ruim\" \"Ruim\"  \"Boa\" \"Ruim\" \"Ruim\" \n",
              "   188    189    190    191    192    193    194    195    196    197    198 \n",
              "\"Ruim\"  \"Boa\"  \"Boa\" \"Ruim\" \"Ruim\"  \"Boa\" \"Ruim\" \"Ruim\" \"Ruim\"  \"Boa\" \"Ruim\" \n",
              "   199    200    201    202    203    204    205    206    207    208    209 \n",
              "\"Ruim\" \"Ruim\" \"Ruim\" \"Ruim\" \"Ruim\" \"Ruim\" \"Ruim\" \"Ruim\" \"Ruim\" \"Ruim\" \"Ruim\" \n",
              "   210    211    212    213    214    215    216    217    218    219    220 \n",
              "\"Ruim\"  \"Boa\"  \"Boa\" \"Ruim\"  \"Boa\" \"Ruim\" \"Ruim\"  \"Boa\" \"Ruim\"  \"Boa\" \"Ruim\" \n",
              "   221    222    223    224    225    226    227    228    229    230    231 \n",
              " \"Boa\" \"Ruim\"  \"Boa\" \"Ruim\"  \"Boa\" \"Ruim\" \"Ruim\" \"Ruim\" \"Ruim\" \"Ruim\" \"Ruim\" \n",
              "   232    233    234    235    236    237    238    239    240    241    242 \n",
              "\"Ruim\" \"Ruim\" \"Ruim\" \"Ruim\"  \"Boa\"  \"Boa\" \"Ruim\" \"Ruim\"  \"Boa\"  \"Boa\" \"Ruim\" \n",
              "   243    244    245    246    247    248    249    250    251    252    253 \n",
              " \"Boa\" \"Ruim\"  \"Boa\" \"Ruim\" \"Ruim\" \"Ruim\" \"Ruim\" \"Ruim\" \"Ruim\"  \"Boa\" \"Ruim\" \n",
              "   254    255    256    257    258    259    260    261    262    263    264 \n",
              "\"Ruim\" \"Ruim\" \"Ruim\" \"Ruim\" \"Ruim\" \"Ruim\"  \"Boa\" \"Ruim\" \"Ruim\" \"Ruim\" \"Ruim\" \n",
              "   265    266    267    268    269    270    271    272    273    274    275 \n",
              "\"Ruim\"  \"Boa\"  \"Boa\"  \"Boa\" \"Ruim\" \"Ruim\" \"Ruim\"  \"Boa\" \"Ruim\" \"Ruim\" \"Ruim\" \n",
              "   276    277    278    279    280    281    282    283    284    285    286 \n",
              " \"Boa\" \"Ruim\"  \"Boa\"  \"Boa\" \"Ruim\"  \"Boa\"  \"Boa\" \"Ruim\" \"Ruim\" \"Ruim\" \"Ruim\" \n",
              "   287    288    289    290    291    292    293    294    295    296    297 \n",
              "\"Ruim\" \"Ruim\"  \"Boa\" \"Ruim\"  \"Boa\" \"Ruim\" \"Ruim\"  \"Boa\" \"Ruim\"  \"Boa\" \"Ruim\" \n",
              "   298    299    300    301    302    303    304    305    306    307    308 \n",
              "\"Ruim\" \"Ruim\" \"Ruim\" \"Ruim\"  \"Boa\" \"Ruim\" \"Ruim\" \"Ruim\" \"Ruim\" \"Ruim\" \"Ruim\" \n",
              "   309    310    311    312    313    314    315    316    317    318    319 \n",
              "\"Ruim\" \"Ruim\" \"Ruim\" \"Ruim\" \"Ruim\"  \"Boa\" \"Ruim\" \"Ruim\" \"Ruim\"  \"Boa\" \"Ruim\" \n",
              "   320    321    322    323    324    325    326    327    328    329    330 \n",
              "\"Ruim\"  \"Boa\" \"Ruim\" \"Ruim\" \"Ruim\" \"Ruim\" \"Ruim\" \"Ruim\" \"Ruim\" \"Ruim\" \"Ruim\" \n",
              "   331    332    333    334    335    336    337    338    339    340    341 \n",
              "\"Ruim\" \"Ruim\" \"Ruim\"  \"Boa\" \"Ruim\"  \"Boa\"  \"Boa\" \"Ruim\" \"Ruim\"  \"Boa\"  \"Boa\" \n",
              "   342    343    344    345    346    347    348    349    350    351    352 \n",
              "\"Ruim\" \"Ruim\" \"Ruim\" \"Ruim\"  \"Boa\" \"Ruim\" \"Ruim\" \"Ruim\"  \"Boa\" \"Ruim\"  \"Boa\" \n",
              "   353    354    355    356    357    358    359    360    361    362    363 \n",
              "\"Ruim\" \"Ruim\" \"Ruim\" \"Ruim\" \"Ruim\"  \"Boa\" \"Ruim\"  \"Boa\" \"Ruim\" \"Ruim\"  \"Boa\" \n",
              "   364    365    366    367    368    369    370    371    372    373    374 \n",
              "\"Ruim\" \"Ruim\" \"Ruim\" \"Ruim\"  \"Boa\" \"Ruim\"  \"Boa\" \"Ruim\" \"Ruim\" \"Ruim\" \"Ruim\" \n",
              "   375    376    377    378    379    380    381    382    383    384    385 \n",
              "\"Ruim\" \"Ruim\"  \"Boa\" \"Ruim\" \"Ruim\" \"Ruim\" \"Ruim\"  \"Boa\" \"Ruim\"  \"Boa\"  \"Boa\" \n",
              "   386    387    388    389    390    391    392    393    394    395    396 \n",
              " \"Boa\"  \"Boa\" \"Ruim\"  \"Boa\" \"Ruim\"  \"Boa\"  \"Boa\" \"Ruim\" \"Ruim\" \"Ruim\" \"Ruim\" \n",
              "   397    398    399    400    401    402    403    404    405    406    407 \n",
              "\"Ruim\"  \"Boa\"  \"Boa\" \"Ruim\"  \"Boa\"  \"Boa\" \"Ruim\"  \"Boa\" \"Ruim\" \"Ruim\" \"Ruim\" \n",
              "   408    409    410    411    412    413    414    415    416    417    418 \n",
              "\"Ruim\"  \"Boa\" \"Ruim\" \"Ruim\" \"Ruim\" \"Ruim\"  \"Boa\" \"Ruim\"  \"Boa\" \"Ruim\"  \"Boa\" \n",
              "   419    420    421    422    423    424    425    426    427    428    429 \n",
              " \"Boa\" \"Ruim\" \"Ruim\" \"Ruim\" \"Ruim\" \"Ruim\" \"Ruim\" \"Ruim\" \"Ruim\" \"Ruim\" \"Ruim\" \n",
              "   430    431    432    433    434    435    436    437    438    439    440 \n",
              "\"Ruim\"  \"Boa\" \"Ruim\" \"Ruim\" \"Ruim\"  \"Boa\" \"Ruim\" \"Ruim\" \"Ruim\"  \"Boa\" \"Ruim\" \n",
              "   441    442    443    444    445    446    447    448    449    450    451 \n",
              "\"Ruim\" \"Ruim\" \"Ruim\" \"Ruim\" \"Ruim\" \"Ruim\" \"Ruim\" \"Ruim\"  \"Boa\" \"Ruim\" \"Ruim\" \n",
              "   452    453    454    455    456    457    458    459    460    461    462 \n",
              "\"Ruim\" \"Ruim\" \"Ruim\"  \"Boa\" \"Ruim\" \"Ruim\" \"Ruim\" \"Ruim\" \"Ruim\" \"Ruim\" \"Ruim\" \n",
              "   463    464    465    466    467    468    469    470    471    472    473 \n",
              "\"Ruim\"  \"Boa\" \"Ruim\" \"Ruim\"  \"Boa\" \"Ruim\" \"Ruim\" \"Ruim\" \"Ruim\" \"Ruim\" \"Ruim\" \n",
              "   474    475    476    477    478    479    480    481    482    483    484 \n",
              "\"Ruim\" \"Ruim\" \"Ruim\"  \"Boa\" \"Ruim\" \"Ruim\"  \"Boa\" \"Ruim\" \"Ruim\"  \"Boa\" \"Ruim\" \n",
              "   485    486    487    488    489    490    491    492    493    494    495 \n",
              " \"Boa\" \"Ruim\" \"Ruim\" \"Ruim\"  \"Boa\"  \"Boa\" \"Ruim\" \"Ruim\" \"Ruim\" \"Ruim\" \"Ruim\" \n",
              "   496    497    498    499    500    501    502    503    504    505    506 \n",
              "\"Ruim\" \"Ruim\" \"Ruim\"  \"Boa\"  \"Boa\"  \"Boa\"  \"Boa\"  \"Boa\"  \"Boa\" \"Ruim\" \"Ruim\" \n",
              "   507    508    509    510    511    512    513    514    515    516    517 \n",
              "\"Ruim\" \"Ruim\" \"Ruim\" \"Ruim\" \"Ruim\" \"Ruim\"  \"Boa\" \"Ruim\" \"Ruim\"  \"Boa\" \"Ruim\" \n",
              "   518    519    520    521    522    523    524    525    526    527    528 \n",
              "\"Ruim\" \"Ruim\" \"Ruim\"  \"Boa\" \"Ruim\"  \"Boa\" \"Ruim\" \"Ruim\" \"Ruim\"  \"Boa\" \"Ruim\" \n",
              "   529    530    531    532    533    534    535    536    537    538    539 \n",
              "\"Ruim\"  \"Boa\" \"Ruim\" \"Ruim\"  \"Boa\" \"Ruim\" \"Ruim\" \"Ruim\" \"Ruim\" \"Ruim\" \"Ruim\" \n",
              "   540    541    542    543    544    545    546    547    548    549    550 \n",
              "\"Ruim\" \"Ruim\" \"Ruim\" \"Ruim\" \"Ruim\"  \"Boa\" \"Ruim\"  \"Boa\"  \"Boa\" \"Ruim\"  \"Boa\" \n",
              "   551    552    553    554    555    556    557    558    559    560    561 \n",
              " \"Boa\" \"Ruim\"  \"Boa\"  \"Boa\"  \"Boa\"  \"Boa\" \"Ruim\" \"Ruim\" \"Ruim\"  \"Boa\" \"Ruim\" \n",
              "   562    563    564    565    566    567    568    569    570    571    572 \n",
              "\"Ruim\"  \"Boa\"  \"Boa\" \"Ruim\"  \"Boa\" \"Ruim\" \"Ruim\" \"Ruim\" \"Ruim\" \"Ruim\" \"Ruim\" \n",
              "   573    574    575    576    577    578    579    580    581    582    583 \n",
              "\"Ruim\" \"Ruim\"  \"Boa\" \"Ruim\" \"Ruim\"  \"Boa\"  \"Boa\" \"Ruim\" \"Ruim\"  \"Boa\" \"Ruim\" \n",
              "   584    585    586    587    588    589    590    591    592    593    594 \n",
              " \"Boa\" \"Ruim\" \"Ruim\" \"Ruim\" \"Ruim\" \"Ruim\" \"Ruim\" \"Ruim\" \"Ruim\" \"Ruim\" \"Ruim\" \n",
              "   595    596    597    598    599    600    601    602    603    604    605 \n",
              "\"Ruim\" \"Ruim\" \"Ruim\" \"Ruim\" \"Ruim\" \"Ruim\" \"Ruim\" \"Ruim\" \"Ruim\"  \"Boa\" \"Ruim\" \n",
              "   606    607    608    609    610    611    612    613    614    615    616 \n",
              " \"Boa\"  \"Boa\" \"Ruim\"  \"Boa\" \"Ruim\"  \"Boa\" \"Ruim\" \"Ruim\" \"Ruim\" \"Ruim\" \"Ruim\" \n",
              "   617    618    619    620    621    622    623    624    625    626    627 \n",
              "\"Ruim\" \"Ruim\" \"Ruim\" \"Ruim\" \"Ruim\" \"Ruim\"  \"Boa\" \"Ruim\" \"Ruim\" \"Ruim\" \"Ruim\" \n",
              "   628    629    630    631    632    633    634    635    636    637    638 \n",
              "\"Ruim\"  \"Boa\" \"Ruim\" \"Ruim\" \"Ruim\" \"Ruim\" \"Ruim\" \"Ruim\" \"Ruim\" \"Ruim\" \"Ruim\" \n",
              "   639    640    641    642    643    644    645    646    647    648    649 \n",
              "\"Ruim\" \"Ruim\" \"Ruim\" \"Ruim\"  \"Boa\" \"Ruim\"  \"Boa\"  \"Boa\" \"Ruim\" \"Ruim\"  \"Boa\" \n",
              "   650    651    652    653    654    655    656    657    658    659    660 \n",
              "\"Ruim\" \"Ruim\"  \"Boa\" \"Ruim\" \"Ruim\" \"Ruim\" \"Ruim\" \"Ruim\" \"Ruim\" \"Ruim\"  \"Boa\" \n",
              "   661    662    663    664    665    666    667    668    669    670    671 \n",
              "\"Ruim\" \"Ruim\" \"Ruim\"  \"Boa\"  \"Boa\" \"Ruim\" \"Ruim\" \"Ruim\" \"Ruim\" \"Ruim\" \"Ruim\" \n",
              "   672    673    674    675    676    677    678    679    680    681    682 \n",
              " \"Boa\" \"Ruim\" \"Ruim\"  \"Boa\"  \"Boa\"  \"Boa\" \"Ruim\" \"Ruim\" \"Ruim\"  \"Boa\" \"Ruim\" \n",
              "   683    684    685    686    687    688    689    690    691    692    693 \n",
              "\"Ruim\" \"Ruim\" \"Ruim\" \"Ruim\"  \"Boa\" \"Ruim\" \"Ruim\" \"Ruim\"  \"Boa\" \"Ruim\" \"Ruim\" \n",
              "   694    695    696    697    698    699 \n",
              "\"Ruim\" \"Ruim\"  \"Boa\" \"Ruim\"  \"Boa\" \"Ruim\" "
            ]
          },
          "metadata": {}
        }
      ]
    },
    {
      "cell_type": "markdown",
      "source": [
        "# 15. Visualiza o data frame com as Predições\n",
        "**Nota do Sam:** Veja que, diferente dos outros exercícios em que se dá um View apenas nos dados, \n",
        "\n",
        "aqui se contatenaram dados, Probabilidade e Classe_Predita em um único View\n"
      ],
      "metadata": {
        "id": "i_765DsAUda6"
      }
    },
    {
      "cell_type": "code",
      "source": [
        "View(data.frame(dados,Probabilidade,Classe_Predita))"
      ],
      "metadata": {
        "colab": {
          "base_uri": "https://localhost:8080/",
          "height": 1000
        },
        "id": "5pLbDjuHUesr",
        "outputId": "345988ea-cd98-44f1-b702-8b33f4a2744c"
      },
      "execution_count": 97,
      "outputs": [
        {
          "output_type": "display_data",
          "data": {
            "text/plain": [
              "    Prova_Logica Redacao Auto_Avaliacao Classe Probabilidade Classe_Predita\n",
              "1   2            1       1              Ruim   0.09096250    Ruim          \n",
              "2   2            1       1              Ruim   0.09096250    Ruim          \n",
              "3   5            1       1              Ruim   0.15989589    Ruim          \n",
              "4   5            4       1              Boa    0.60235935    Boa           \n",
              "5   5            3       1              Ruim   0.43140265    Ruim          \n",
              "6   2            3       1              Ruim   0.28514808    Ruim          \n",
              "7   3            5       1              Boa    0.66331842    Boa           \n",
              "8   2            5       7              Boa    0.95288247    Boa           \n",
              "9   1            9       1              Boa    0.95325780    Boa           \n",
              "10  4            1       1              Ruim   0.13315862    Ruim          \n",
              "11  5            1       1              Ruim   0.15989589    Ruim          \n",
              "12  8            1       9              Boa    0.91487406    Boa           \n",
              "13  1            1       1              Ruim   0.07472674    Ruim          \n",
              "14  1            1       1              Ruim   0.07472674    Ruim          \n",
              "15  3            4       1              Boa    0.49667040    Ruim          \n",
              "16  4            3       3              Ruim   0.58837159    Boa           \n",
              "17  3            3       6              Ruim   0.80446627    Boa           \n",
              "18  2            1       1              Ruim   0.09096250    Ruim          \n",
              "19  1            1       1              Ruim   0.07472674    Ruim          \n",
              "20  1            1       1              Ruim   0.07472674    Ruim          \n",
              "21  8            1       1              Boa    0.26579425    Ruim          \n",
              "22  8            7       1              Boa    0.95821561    Boa           \n",
              "23  1            1       1              Ruim   0.07472674    Ruim          \n",
              "24  2            1       1              Ruim   0.09096250    Ruim          \n",
              "25  1            8       1              Boa    0.91082921    Boa           \n",
              "26  5            1       1              Ruim   0.15989589    Ruim          \n",
              "27  3            1       1              Ruim   0.11030524    Ruim          \n",
              "28  3            1       1              Ruim   0.11030524    Ruim          \n",
              "29  5            3       1              Boa    0.43140265    Ruim          \n",
              "30  4            8       1              Boa    0.95104864    Boa           \n",
              "⋮   ⋮            ⋮       ⋮              ⋮      ⋮             ⋮             \n",
              "670 1            4       1              Boa    0.39127817    Ruim          \n",
              "671 4            1       1              Ruim   0.13315862    Ruim          \n",
              "672 4            6       7              Boa    0.98412343    Boa           \n",
              "673 3            1       1              Ruim   0.11030524    Ruim          \n",
              "674 1            2       1              Ruim   0.13885712    Ruim          \n",
              "675 5            8       1              Boa    0.96011490    Boa           \n",
              "676 5            4       1              Boa    0.60235935    Boa           \n",
              "677 8            7       1              Boa    0.95821561    Boa           \n",
              "678 3            1       1              Ruim   0.11030524    Ruim          \n",
              "679 3            1       1              Ruim   0.11030524    Ruim          \n",
              "680 1            1       1              Ruim   0.07472674    Ruim          \n",
              "681 9            5       1              Boa    0.87696409    Boa           \n",
              "682 5            1       1              Ruim   0.15989589    Ruim          \n",
              "683 5            1       1              Ruim   0.15989589    Ruim          \n",
              "684 5            2       1              Ruim   0.27536576    Ruim          \n",
              "685 5            1       1              Ruim   0.15989589    Ruim          \n",
              "686 1            1       2              Ruim   0.10983663    Ruim          \n",
              "687 9            7       8              Boa    0.99819203    Boa           \n",
              "688 6            1       1              Ruim   0.19081999    Ruim          \n",
              "689 3            1       1              Boa    0.11030524    Ruim          \n",
              "690 1            1       1              Ruim   0.07472674    Ruim          \n",
              "691 1            4       6              Boa    0.84254113    Boa           \n",
              "692 2            1       1              Ruim   0.09096250    Ruim          \n",
              "693 4            1       1              Ruim   0.13315862    Ruim          \n",
              "694 6            3       1              Boa    0.48455027    Ruim          \n",
              "695 5            1       1              Ruim   0.15989589    Ruim          \n",
              "696 7            5       9              Boa    0.99279742    Boa           \n",
              "697 6            1       1              Boa    0.19081999    Ruim          \n",
              "698 5            7       1              Boa    0.92341050    Boa           \n",
              "699 1            1       1              Ruim   0.07472674    Ruim          "
            ],
            "text/html": [
              "<table class=\"dataframe\">\n",
              "<caption>A data.frame: 699 × 6</caption>\n",
              "<thead>\n",
              "\t<tr><th></th><th scope=col>Prova_Logica</th><th scope=col>Redacao</th><th scope=col>Auto_Avaliacao</th><th scope=col>Classe</th><th scope=col>Probabilidade</th><th scope=col>Classe_Predita</th></tr>\n",
              "\t<tr><th></th><th scope=col>&lt;dbl&gt;</th><th scope=col>&lt;dbl&gt;</th><th scope=col>&lt;dbl&gt;</th><th scope=col>&lt;fct&gt;</th><th scope=col>&lt;dbl&gt;</th><th scope=col>&lt;chr&gt;</th></tr>\n",
              "</thead>\n",
              "<tbody>\n",
              "\t<tr><th scope=row>1</th><td>2</td><td>1</td><td>1</td><td>Ruim</td><td>0.09096250</td><td>Ruim</td></tr>\n",
              "\t<tr><th scope=row>2</th><td>2</td><td>1</td><td>1</td><td>Ruim</td><td>0.09096250</td><td>Ruim</td></tr>\n",
              "\t<tr><th scope=row>3</th><td>5</td><td>1</td><td>1</td><td>Ruim</td><td>0.15989589</td><td>Ruim</td></tr>\n",
              "\t<tr><th scope=row>4</th><td>5</td><td>4</td><td>1</td><td>Boa </td><td>0.60235935</td><td>Boa </td></tr>\n",
              "\t<tr><th scope=row>5</th><td>5</td><td>3</td><td>1</td><td>Ruim</td><td>0.43140265</td><td>Ruim</td></tr>\n",
              "\t<tr><th scope=row>6</th><td>2</td><td>3</td><td>1</td><td>Ruim</td><td>0.28514808</td><td>Ruim</td></tr>\n",
              "\t<tr><th scope=row>7</th><td>3</td><td>5</td><td>1</td><td>Boa </td><td>0.66331842</td><td>Boa </td></tr>\n",
              "\t<tr><th scope=row>8</th><td>2</td><td>5</td><td>7</td><td>Boa </td><td>0.95288247</td><td>Boa </td></tr>\n",
              "\t<tr><th scope=row>9</th><td>1</td><td>9</td><td>1</td><td>Boa </td><td>0.95325780</td><td>Boa </td></tr>\n",
              "\t<tr><th scope=row>10</th><td>4</td><td>1</td><td>1</td><td>Ruim</td><td>0.13315862</td><td>Ruim</td></tr>\n",
              "\t<tr><th scope=row>11</th><td>5</td><td>1</td><td>1</td><td>Ruim</td><td>0.15989589</td><td>Ruim</td></tr>\n",
              "\t<tr><th scope=row>12</th><td>8</td><td>1</td><td>9</td><td>Boa </td><td>0.91487406</td><td>Boa </td></tr>\n",
              "\t<tr><th scope=row>13</th><td>1</td><td>1</td><td>1</td><td>Ruim</td><td>0.07472674</td><td>Ruim</td></tr>\n",
              "\t<tr><th scope=row>14</th><td>1</td><td>1</td><td>1</td><td>Ruim</td><td>0.07472674</td><td>Ruim</td></tr>\n",
              "\t<tr><th scope=row>15</th><td>3</td><td>4</td><td>1</td><td>Boa </td><td>0.49667040</td><td>Ruim</td></tr>\n",
              "\t<tr><th scope=row>16</th><td>4</td><td>3</td><td>3</td><td>Ruim</td><td>0.58837159</td><td>Boa </td></tr>\n",
              "\t<tr><th scope=row>17</th><td>3</td><td>3</td><td>6</td><td>Ruim</td><td>0.80446627</td><td>Boa </td></tr>\n",
              "\t<tr><th scope=row>18</th><td>2</td><td>1</td><td>1</td><td>Ruim</td><td>0.09096250</td><td>Ruim</td></tr>\n",
              "\t<tr><th scope=row>19</th><td>1</td><td>1</td><td>1</td><td>Ruim</td><td>0.07472674</td><td>Ruim</td></tr>\n",
              "\t<tr><th scope=row>20</th><td>1</td><td>1</td><td>1</td><td>Ruim</td><td>0.07472674</td><td>Ruim</td></tr>\n",
              "\t<tr><th scope=row>21</th><td>8</td><td>1</td><td>1</td><td>Boa </td><td>0.26579425</td><td>Ruim</td></tr>\n",
              "\t<tr><th scope=row>22</th><td>8</td><td>7</td><td>1</td><td>Boa </td><td>0.95821561</td><td>Boa </td></tr>\n",
              "\t<tr><th scope=row>23</th><td>1</td><td>1</td><td>1</td><td>Ruim</td><td>0.07472674</td><td>Ruim</td></tr>\n",
              "\t<tr><th scope=row>24</th><td>2</td><td>1</td><td>1</td><td>Ruim</td><td>0.09096250</td><td>Ruim</td></tr>\n",
              "\t<tr><th scope=row>25</th><td>1</td><td>8</td><td>1</td><td>Boa </td><td>0.91082921</td><td>Boa </td></tr>\n",
              "\t<tr><th scope=row>26</th><td>5</td><td>1</td><td>1</td><td>Ruim</td><td>0.15989589</td><td>Ruim</td></tr>\n",
              "\t<tr><th scope=row>27</th><td>3</td><td>1</td><td>1</td><td>Ruim</td><td>0.11030524</td><td>Ruim</td></tr>\n",
              "\t<tr><th scope=row>28</th><td>3</td><td>1</td><td>1</td><td>Ruim</td><td>0.11030524</td><td>Ruim</td></tr>\n",
              "\t<tr><th scope=row>29</th><td>5</td><td>3</td><td>1</td><td>Boa </td><td>0.43140265</td><td>Ruim</td></tr>\n",
              "\t<tr><th scope=row>30</th><td>4</td><td>8</td><td>1</td><td>Boa </td><td>0.95104864</td><td>Boa </td></tr>\n",
              "\t<tr><th scope=row>⋮</th><td>⋮</td><td>⋮</td><td>⋮</td><td>⋮</td><td>⋮</td><td>⋮</td></tr>\n",
              "\t<tr><th scope=row>670</th><td>1</td><td>4</td><td>1</td><td>Boa </td><td>0.39127817</td><td>Ruim</td></tr>\n",
              "\t<tr><th scope=row>671</th><td>4</td><td>1</td><td>1</td><td>Ruim</td><td>0.13315862</td><td>Ruim</td></tr>\n",
              "\t<tr><th scope=row>672</th><td>4</td><td>6</td><td>7</td><td>Boa </td><td>0.98412343</td><td>Boa </td></tr>\n",
              "\t<tr><th scope=row>673</th><td>3</td><td>1</td><td>1</td><td>Ruim</td><td>0.11030524</td><td>Ruim</td></tr>\n",
              "\t<tr><th scope=row>674</th><td>1</td><td>2</td><td>1</td><td>Ruim</td><td>0.13885712</td><td>Ruim</td></tr>\n",
              "\t<tr><th scope=row>675</th><td>5</td><td>8</td><td>1</td><td>Boa </td><td>0.96011490</td><td>Boa </td></tr>\n",
              "\t<tr><th scope=row>676</th><td>5</td><td>4</td><td>1</td><td>Boa </td><td>0.60235935</td><td>Boa </td></tr>\n",
              "\t<tr><th scope=row>677</th><td>8</td><td>7</td><td>1</td><td>Boa </td><td>0.95821561</td><td>Boa </td></tr>\n",
              "\t<tr><th scope=row>678</th><td>3</td><td>1</td><td>1</td><td>Ruim</td><td>0.11030524</td><td>Ruim</td></tr>\n",
              "\t<tr><th scope=row>679</th><td>3</td><td>1</td><td>1</td><td>Ruim</td><td>0.11030524</td><td>Ruim</td></tr>\n",
              "\t<tr><th scope=row>680</th><td>1</td><td>1</td><td>1</td><td>Ruim</td><td>0.07472674</td><td>Ruim</td></tr>\n",
              "\t<tr><th scope=row>681</th><td>9</td><td>5</td><td>1</td><td>Boa </td><td>0.87696409</td><td>Boa </td></tr>\n",
              "\t<tr><th scope=row>682</th><td>5</td><td>1</td><td>1</td><td>Ruim</td><td>0.15989589</td><td>Ruim</td></tr>\n",
              "\t<tr><th scope=row>683</th><td>5</td><td>1</td><td>1</td><td>Ruim</td><td>0.15989589</td><td>Ruim</td></tr>\n",
              "\t<tr><th scope=row>684</th><td>5</td><td>2</td><td>1</td><td>Ruim</td><td>0.27536576</td><td>Ruim</td></tr>\n",
              "\t<tr><th scope=row>685</th><td>5</td><td>1</td><td>1</td><td>Ruim</td><td>0.15989589</td><td>Ruim</td></tr>\n",
              "\t<tr><th scope=row>686</th><td>1</td><td>1</td><td>2</td><td>Ruim</td><td>0.10983663</td><td>Ruim</td></tr>\n",
              "\t<tr><th scope=row>687</th><td>9</td><td>7</td><td>8</td><td>Boa </td><td>0.99819203</td><td>Boa </td></tr>\n",
              "\t<tr><th scope=row>688</th><td>6</td><td>1</td><td>1</td><td>Ruim</td><td>0.19081999</td><td>Ruim</td></tr>\n",
              "\t<tr><th scope=row>689</th><td>3</td><td>1</td><td>1</td><td>Boa </td><td>0.11030524</td><td>Ruim</td></tr>\n",
              "\t<tr><th scope=row>690</th><td>1</td><td>1</td><td>1</td><td>Ruim</td><td>0.07472674</td><td>Ruim</td></tr>\n",
              "\t<tr><th scope=row>691</th><td>1</td><td>4</td><td>6</td><td>Boa </td><td>0.84254113</td><td>Boa </td></tr>\n",
              "\t<tr><th scope=row>692</th><td>2</td><td>1</td><td>1</td><td>Ruim</td><td>0.09096250</td><td>Ruim</td></tr>\n",
              "\t<tr><th scope=row>693</th><td>4</td><td>1</td><td>1</td><td>Ruim</td><td>0.13315862</td><td>Ruim</td></tr>\n",
              "\t<tr><th scope=row>694</th><td>6</td><td>3</td><td>1</td><td>Boa </td><td>0.48455027</td><td>Ruim</td></tr>\n",
              "\t<tr><th scope=row>695</th><td>5</td><td>1</td><td>1</td><td>Ruim</td><td>0.15989589</td><td>Ruim</td></tr>\n",
              "\t<tr><th scope=row>696</th><td>7</td><td>5</td><td>9</td><td>Boa </td><td>0.99279742</td><td>Boa </td></tr>\n",
              "\t<tr><th scope=row>697</th><td>6</td><td>1</td><td>1</td><td>Boa </td><td>0.19081999</td><td>Ruim</td></tr>\n",
              "\t<tr><th scope=row>698</th><td>5</td><td>7</td><td>1</td><td>Boa </td><td>0.92341050</td><td>Boa </td></tr>\n",
              "\t<tr><th scope=row>699</th><td>1</td><td>1</td><td>1</td><td>Ruim</td><td>0.07472674</td><td>Ruim</td></tr>\n",
              "</tbody>\n",
              "</table>\n"
            ],
            "text/markdown": "\nA data.frame: 699 × 6\n\n| <!--/--> | Prova_Logica &lt;dbl&gt; | Redacao &lt;dbl&gt; | Auto_Avaliacao &lt;dbl&gt; | Classe &lt;fct&gt; | Probabilidade &lt;dbl&gt; | Classe_Predita &lt;chr&gt; |\n|---|---|---|---|---|---|---|\n| 1 | 2 | 1 | 1 | Ruim | 0.09096250 | Ruim |\n| 2 | 2 | 1 | 1 | Ruim | 0.09096250 | Ruim |\n| 3 | 5 | 1 | 1 | Ruim | 0.15989589 | Ruim |\n| 4 | 5 | 4 | 1 | Boa  | 0.60235935 | Boa  |\n| 5 | 5 | 3 | 1 | Ruim | 0.43140265 | Ruim |\n| 6 | 2 | 3 | 1 | Ruim | 0.28514808 | Ruim |\n| 7 | 3 | 5 | 1 | Boa  | 0.66331842 | Boa  |\n| 8 | 2 | 5 | 7 | Boa  | 0.95288247 | Boa  |\n| 9 | 1 | 9 | 1 | Boa  | 0.95325780 | Boa  |\n| 10 | 4 | 1 | 1 | Ruim | 0.13315862 | Ruim |\n| 11 | 5 | 1 | 1 | Ruim | 0.15989589 | Ruim |\n| 12 | 8 | 1 | 9 | Boa  | 0.91487406 | Boa  |\n| 13 | 1 | 1 | 1 | Ruim | 0.07472674 | Ruim |\n| 14 | 1 | 1 | 1 | Ruim | 0.07472674 | Ruim |\n| 15 | 3 | 4 | 1 | Boa  | 0.49667040 | Ruim |\n| 16 | 4 | 3 | 3 | Ruim | 0.58837159 | Boa  |\n| 17 | 3 | 3 | 6 | Ruim | 0.80446627 | Boa  |\n| 18 | 2 | 1 | 1 | Ruim | 0.09096250 | Ruim |\n| 19 | 1 | 1 | 1 | Ruim | 0.07472674 | Ruim |\n| 20 | 1 | 1 | 1 | Ruim | 0.07472674 | Ruim |\n| 21 | 8 | 1 | 1 | Boa  | 0.26579425 | Ruim |\n| 22 | 8 | 7 | 1 | Boa  | 0.95821561 | Boa  |\n| 23 | 1 | 1 | 1 | Ruim | 0.07472674 | Ruim |\n| 24 | 2 | 1 | 1 | Ruim | 0.09096250 | Ruim |\n| 25 | 1 | 8 | 1 | Boa  | 0.91082921 | Boa  |\n| 26 | 5 | 1 | 1 | Ruim | 0.15989589 | Ruim |\n| 27 | 3 | 1 | 1 | Ruim | 0.11030524 | Ruim |\n| 28 | 3 | 1 | 1 | Ruim | 0.11030524 | Ruim |\n| 29 | 5 | 3 | 1 | Boa  | 0.43140265 | Ruim |\n| 30 | 4 | 8 | 1 | Boa  | 0.95104864 | Boa  |\n| ⋮ | ⋮ | ⋮ | ⋮ | ⋮ | ⋮ | ⋮ |\n| 670 | 1 | 4 | 1 | Boa  | 0.39127817 | Ruim |\n| 671 | 4 | 1 | 1 | Ruim | 0.13315862 | Ruim |\n| 672 | 4 | 6 | 7 | Boa  | 0.98412343 | Boa  |\n| 673 | 3 | 1 | 1 | Ruim | 0.11030524 | Ruim |\n| 674 | 1 | 2 | 1 | Ruim | 0.13885712 | Ruim |\n| 675 | 5 | 8 | 1 | Boa  | 0.96011490 | Boa  |\n| 676 | 5 | 4 | 1 | Boa  | 0.60235935 | Boa  |\n| 677 | 8 | 7 | 1 | Boa  | 0.95821561 | Boa  |\n| 678 | 3 | 1 | 1 | Ruim | 0.11030524 | Ruim |\n| 679 | 3 | 1 | 1 | Ruim | 0.11030524 | Ruim |\n| 680 | 1 | 1 | 1 | Ruim | 0.07472674 | Ruim |\n| 681 | 9 | 5 | 1 | Boa  | 0.87696409 | Boa  |\n| 682 | 5 | 1 | 1 | Ruim | 0.15989589 | Ruim |\n| 683 | 5 | 1 | 1 | Ruim | 0.15989589 | Ruim |\n| 684 | 5 | 2 | 1 | Ruim | 0.27536576 | Ruim |\n| 685 | 5 | 1 | 1 | Ruim | 0.15989589 | Ruim |\n| 686 | 1 | 1 | 2 | Ruim | 0.10983663 | Ruim |\n| 687 | 9 | 7 | 8 | Boa  | 0.99819203 | Boa  |\n| 688 | 6 | 1 | 1 | Ruim | 0.19081999 | Ruim |\n| 689 | 3 | 1 | 1 | Boa  | 0.11030524 | Ruim |\n| 690 | 1 | 1 | 1 | Ruim | 0.07472674 | Ruim |\n| 691 | 1 | 4 | 6 | Boa  | 0.84254113 | Boa  |\n| 692 | 2 | 1 | 1 | Ruim | 0.09096250 | Ruim |\n| 693 | 4 | 1 | 1 | Ruim | 0.13315862 | Ruim |\n| 694 | 6 | 3 | 1 | Boa  | 0.48455027 | Ruim |\n| 695 | 5 | 1 | 1 | Ruim | 0.15989589 | Ruim |\n| 696 | 7 | 5 | 9 | Boa  | 0.99279742 | Boa  |\n| 697 | 6 | 1 | 1 | Boa  | 0.19081999 | Ruim |\n| 698 | 5 | 7 | 1 | Boa  | 0.92341050 | Boa  |\n| 699 | 1 | 1 | 1 | Ruim | 0.07472674 | Ruim |\n\n",
            "text/latex": "A data.frame: 699 × 6\n\\begin{tabular}{r|llllll}\n  & Prova\\_Logica & Redacao & Auto\\_Avaliacao & Classe & Probabilidade & Classe\\_Predita\\\\\n  & <dbl> & <dbl> & <dbl> & <fct> & <dbl> & <chr>\\\\\n\\hline\n\t1 & 2 & 1 & 1 & Ruim & 0.09096250 & Ruim\\\\\n\t2 & 2 & 1 & 1 & Ruim & 0.09096250 & Ruim\\\\\n\t3 & 5 & 1 & 1 & Ruim & 0.15989589 & Ruim\\\\\n\t4 & 5 & 4 & 1 & Boa  & 0.60235935 & Boa \\\\\n\t5 & 5 & 3 & 1 & Ruim & 0.43140265 & Ruim\\\\\n\t6 & 2 & 3 & 1 & Ruim & 0.28514808 & Ruim\\\\\n\t7 & 3 & 5 & 1 & Boa  & 0.66331842 & Boa \\\\\n\t8 & 2 & 5 & 7 & Boa  & 0.95288247 & Boa \\\\\n\t9 & 1 & 9 & 1 & Boa  & 0.95325780 & Boa \\\\\n\t10 & 4 & 1 & 1 & Ruim & 0.13315862 & Ruim\\\\\n\t11 & 5 & 1 & 1 & Ruim & 0.15989589 & Ruim\\\\\n\t12 & 8 & 1 & 9 & Boa  & 0.91487406 & Boa \\\\\n\t13 & 1 & 1 & 1 & Ruim & 0.07472674 & Ruim\\\\\n\t14 & 1 & 1 & 1 & Ruim & 0.07472674 & Ruim\\\\\n\t15 & 3 & 4 & 1 & Boa  & 0.49667040 & Ruim\\\\\n\t16 & 4 & 3 & 3 & Ruim & 0.58837159 & Boa \\\\\n\t17 & 3 & 3 & 6 & Ruim & 0.80446627 & Boa \\\\\n\t18 & 2 & 1 & 1 & Ruim & 0.09096250 & Ruim\\\\\n\t19 & 1 & 1 & 1 & Ruim & 0.07472674 & Ruim\\\\\n\t20 & 1 & 1 & 1 & Ruim & 0.07472674 & Ruim\\\\\n\t21 & 8 & 1 & 1 & Boa  & 0.26579425 & Ruim\\\\\n\t22 & 8 & 7 & 1 & Boa  & 0.95821561 & Boa \\\\\n\t23 & 1 & 1 & 1 & Ruim & 0.07472674 & Ruim\\\\\n\t24 & 2 & 1 & 1 & Ruim & 0.09096250 & Ruim\\\\\n\t25 & 1 & 8 & 1 & Boa  & 0.91082921 & Boa \\\\\n\t26 & 5 & 1 & 1 & Ruim & 0.15989589 & Ruim\\\\\n\t27 & 3 & 1 & 1 & Ruim & 0.11030524 & Ruim\\\\\n\t28 & 3 & 1 & 1 & Ruim & 0.11030524 & Ruim\\\\\n\t29 & 5 & 3 & 1 & Boa  & 0.43140265 & Ruim\\\\\n\t30 & 4 & 8 & 1 & Boa  & 0.95104864 & Boa \\\\\n\t⋮ & ⋮ & ⋮ & ⋮ & ⋮ & ⋮ & ⋮\\\\\n\t670 & 1 & 4 & 1 & Boa  & 0.39127817 & Ruim\\\\\n\t671 & 4 & 1 & 1 & Ruim & 0.13315862 & Ruim\\\\\n\t672 & 4 & 6 & 7 & Boa  & 0.98412343 & Boa \\\\\n\t673 & 3 & 1 & 1 & Ruim & 0.11030524 & Ruim\\\\\n\t674 & 1 & 2 & 1 & Ruim & 0.13885712 & Ruim\\\\\n\t675 & 5 & 8 & 1 & Boa  & 0.96011490 & Boa \\\\\n\t676 & 5 & 4 & 1 & Boa  & 0.60235935 & Boa \\\\\n\t677 & 8 & 7 & 1 & Boa  & 0.95821561 & Boa \\\\\n\t678 & 3 & 1 & 1 & Ruim & 0.11030524 & Ruim\\\\\n\t679 & 3 & 1 & 1 & Ruim & 0.11030524 & Ruim\\\\\n\t680 & 1 & 1 & 1 & Ruim & 0.07472674 & Ruim\\\\\n\t681 & 9 & 5 & 1 & Boa  & 0.87696409 & Boa \\\\\n\t682 & 5 & 1 & 1 & Ruim & 0.15989589 & Ruim\\\\\n\t683 & 5 & 1 & 1 & Ruim & 0.15989589 & Ruim\\\\\n\t684 & 5 & 2 & 1 & Ruim & 0.27536576 & Ruim\\\\\n\t685 & 5 & 1 & 1 & Ruim & 0.15989589 & Ruim\\\\\n\t686 & 1 & 1 & 2 & Ruim & 0.10983663 & Ruim\\\\\n\t687 & 9 & 7 & 8 & Boa  & 0.99819203 & Boa \\\\\n\t688 & 6 & 1 & 1 & Ruim & 0.19081999 & Ruim\\\\\n\t689 & 3 & 1 & 1 & Boa  & 0.11030524 & Ruim\\\\\n\t690 & 1 & 1 & 1 & Ruim & 0.07472674 & Ruim\\\\\n\t691 & 1 & 4 & 6 & Boa  & 0.84254113 & Boa \\\\\n\t692 & 2 & 1 & 1 & Ruim & 0.09096250 & Ruim\\\\\n\t693 & 4 & 1 & 1 & Ruim & 0.13315862 & Ruim\\\\\n\t694 & 6 & 3 & 1 & Boa  & 0.48455027 & Ruim\\\\\n\t695 & 5 & 1 & 1 & Ruim & 0.15989589 & Ruim\\\\\n\t696 & 7 & 5 & 9 & Boa  & 0.99279742 & Boa \\\\\n\t697 & 6 & 1 & 1 & Boa  & 0.19081999 & Ruim\\\\\n\t698 & 5 & 7 & 1 & Boa  & 0.92341050 & Boa \\\\\n\t699 & 1 & 1 & 1 & Ruim & 0.07472674 & Ruim\\\\\n\\end{tabular}\n"
          },
          "metadata": {}
        }
      ]
    },
    {
      "cell_type": "markdown",
      "source": [
        "#15. Gera e exibe a [Matriz de Confusão](https://medium.com/data-hackers/entendendo-o-que-%C3%A9-matriz-de-confus%C3%A3o-com-python-114e683ec509)\n"
      ],
      "metadata": {
        "id": "zk1jWWzgVBXu"
      }
    },
    {
      "cell_type": "code",
      "source": [
        "matriz_de_confusao <- table(Classe_Predita = Classe_Predita, Classe_Original = relevel(dados$Classe,ref = 'Boa'))\n",
        "matriz_de_confusao"
      ],
      "metadata": {
        "colab": {
          "base_uri": "https://localhost:8080/",
          "height": 86
        },
        "id": "gpCObmsKVCai",
        "outputId": "60da091c-a2f4-4bdc-fe04-632d24420d69"
      },
      "execution_count": 98,
      "outputs": [
        {
          "output_type": "display_data",
          "data": {
            "text/plain": [
              "              Classe_Original\n",
              "Classe_Predita Boa Ruim\n",
              "          Boa  169   23\n",
              "          Ruim  72  435"
            ]
          },
          "metadata": {}
        }
      ]
    },
    {
      "cell_type": "markdown",
      "source": [
        "# 16. Armazena os Valores da [Matriz de Confusão](https://medium.com/data-hackers/entendendo-o-que-%C3%A9-matriz-de-confus%C3%A3o-com-python-114e683ec509)\n",
        "**Nota do Sam:** Como ela é uma table (class) , podemos acessar seus valores individuais passando o índice de cada um"
      ],
      "metadata": {
        "id": "0_0uOn9pVaL6"
      }
    },
    {
      "cell_type": "code",
      "source": [
        "class(matriz_de_confusao)"
      ],
      "metadata": {
        "colab": {
          "base_uri": "https://localhost:8080/",
          "height": 34
        },
        "id": "0EtbfzB3WFzZ",
        "outputId": "057ecaea-b1f6-4053-8fbd-fb3f2ef5df24"
      },
      "execution_count": 99,
      "outputs": [
        {
          "output_type": "display_data",
          "data": {
            "text/html": [
              "'table'"
            ],
            "text/markdown": "'table'",
            "text/latex": "'table'",
            "text/plain": [
              "[1] \"table\""
            ]
          },
          "metadata": {}
        }
      ]
    },
    {
      "cell_type": "code",
      "source": [
        "VP_Verdadeiro_Positivo <- matriz_de_confusao[1,1];\n",
        "VP_Verdadeiro_Positivo"
      ],
      "metadata": {
        "colab": {
          "base_uri": "https://localhost:8080/",
          "height": 34
        },
        "id": "j3fMaHM4Vbl8",
        "outputId": "6b43188c-d3b7-4689-e0b6-227989e2b15e"
      },
      "execution_count": 100,
      "outputs": [
        {
          "output_type": "display_data",
          "data": {
            "text/html": [
              "169"
            ],
            "text/markdown": "169",
            "text/latex": "169",
            "text/plain": [
              "[1] 169"
            ]
          },
          "metadata": {}
        }
      ]
    },
    {
      "cell_type": "code",
      "source": [
        "FN_Falso_Negativo <- matriz_de_confusao[2,1];\n",
        "FN_Falso_Negativo "
      ],
      "metadata": {
        "colab": {
          "base_uri": "https://localhost:8080/",
          "height": 34
        },
        "id": "oMmedEu0XbBS",
        "outputId": "836a1016-34a3-4996-ccf1-f32787575bad"
      },
      "execution_count": 101,
      "outputs": [
        {
          "output_type": "display_data",
          "data": {
            "text/html": [
              "72"
            ],
            "text/markdown": "72",
            "text/latex": "72",
            "text/plain": [
              "[1] 72"
            ]
          },
          "metadata": {}
        }
      ]
    },
    {
      "cell_type": "code",
      "source": [
        "VN_Verdadeiro_Negativo <- matriz_de_confusao[2,2];\n",
        "VN_Verdadeiro_Negativo "
      ],
      "metadata": {
        "colab": {
          "base_uri": "https://localhost:8080/",
          "height": 34
        },
        "id": "mf2JmA96Xl85",
        "outputId": "20248846-f1ed-4e78-9f1a-37eafd687df2"
      },
      "execution_count": 102,
      "outputs": [
        {
          "output_type": "display_data",
          "data": {
            "text/html": [
              "435"
            ],
            "text/markdown": "435",
            "text/latex": "435",
            "text/plain": [
              "[1] 435"
            ]
          },
          "metadata": {}
        }
      ]
    },
    {
      "cell_type": "code",
      "source": [
        "FP_Falso_Positivo <- matriz_de_confusao[1,2];\n",
        "FP_Falso_Positivo"
      ],
      "metadata": {
        "colab": {
          "base_uri": "https://localhost:8080/",
          "height": 34
        },
        "id": "JMtgbIinXrnP",
        "outputId": "9bf39afd-060c-43f6-da8e-edd962b494a8"
      },
      "execution_count": 103,
      "outputs": [
        {
          "output_type": "display_data",
          "data": {
            "text/html": [
              "23"
            ],
            "text/markdown": "23",
            "text/latex": "23",
            "text/plain": [
              "[1] 23"
            ]
          },
          "metadata": {}
        }
      ]
    },
    {
      "cell_type": "markdown",
      "source": [
        "#17. Calcula a [Acurácia](https://developers.google.com/machine-learning/crash-course/classification/accuracy) \n",
        "\n",
        "Taxa de acerto geral (Acurácia)\n",
        "\n",
        "**Nota do Sam:** \n",
        "1. diag extrai a diagonal de uma matriz\n"
      ],
      "metadata": {
        "id": "IhLc8ZdyYFz8"
      }
    },
    {
      "cell_type": "code",
      "source": [
        "?diag"
      ],
      "metadata": {
        "id": "dzi9Yd57YUez"
      },
      "execution_count": 104,
      "outputs": []
    },
    {
      "cell_type": "code",
      "source": [
        "diag(matriz_de_confusao)"
      ],
      "metadata": {
        "colab": {
          "base_uri": "https://localhost:8080/",
          "height": 34
        },
        "id": "cM6dakr7YbT-",
        "outputId": "138b0915-398c-44f8-b989-0999d9fdb2e9"
      },
      "execution_count": 105,
      "outputs": [
        {
          "output_type": "display_data",
          "data": {
            "text/html": [
              "<style>\n",
              ".dl-inline {width: auto; margin:0; padding: 0}\n",
              ".dl-inline>dt, .dl-inline>dd {float: none; width: auto; display: inline-block}\n",
              ".dl-inline>dt::after {content: \":\\0020\"; padding-right: .5ex}\n",
              ".dl-inline>dt:not(:first-of-type) {padding-left: .5ex}\n",
              "</style><dl class=dl-inline><dt>Boa</dt><dd>169</dd><dt>Ruim</dt><dd>435</dd></dl>\n"
            ],
            "text/markdown": "Boa\n:   169Ruim\n:   435\n\n",
            "text/latex": "\\begin{description*}\n\\item[Boa] 169\n\\item[Ruim] 435\n\\end{description*}\n",
            "text/plain": [
              " Boa Ruim \n",
              " 169  435 "
            ]
          },
          "metadata": {}
        }
      ]
    },
    {
      "cell_type": "code",
      "source": [
        "acuracia <- sum(diag(matriz_de_confusao))/ sum(matriz_de_confusao);\n",
        "\n",
        "acuracia * 100"
      ],
      "metadata": {
        "colab": {
          "base_uri": "https://localhost:8080/",
          "height": 34
        },
        "id": "psG716cdYG94",
        "outputId": "de71eb08-b02d-4808-d3ba-c88b44c96b9a"
      },
      "execution_count": 106,
      "outputs": [
        {
          "output_type": "display_data",
          "data": {
            "text/html": [
              "86.4091559370529"
            ],
            "text/markdown": "86.4091559370529",
            "text/latex": "86.4091559370529",
            "text/plain": [
              "[1] 86.40916"
            ]
          },
          "metadata": {}
        }
      ]
    },
    {
      "cell_type": "markdown",
      "source": [
        "#18. Calcula a [Sensitividade (Recall)](https://developers.google.com/machine-learning/crash-course/classification/precision-and-recall#recall)\n",
        "Taxa de acerto para classe positiva (Sensitividade)"
      ],
      "metadata": {
        "id": "BMIZJJJGZlv6"
      }
    },
    {
      "cell_type": "code",
      "source": [
        "sensitividade_recall <- VP_Verdadeiro_Positivo /(VP_Verdadeiro_Positivo+FN_Falso_Negativo) ;\n",
        "\n",
        "sensitividade_recall * 100"
      ],
      "metadata": {
        "colab": {
          "base_uri": "https://localhost:8080/",
          "height": 34
        },
        "id": "FhMqnvQRZrxI",
        "outputId": "d98eedfe-b613-4205-f1ba-b127e08666e7"
      },
      "execution_count": 107,
      "outputs": [
        {
          "output_type": "display_data",
          "data": {
            "text/html": [
              "70.1244813278008"
            ],
            "text/markdown": "70.1244813278008",
            "text/latex": "70.1244813278008",
            "text/plain": [
              "[1] 70.12448"
            ]
          },
          "metadata": {}
        }
      ]
    },
    {
      "cell_type": "markdown",
      "source": [
        "# 19. Calcula a [Especificidade - Precision](https://developers.google.com/machine-learning/crash-course/classification/precision-and-recall)\n",
        "\n",
        "Taxa de acertos para classe negativa (Especificidade).\n"
      ],
      "metadata": {
        "id": "xi4QZLi-cp5M"
      }
    },
    {
      "cell_type": "code",
      "source": [
        "especificidade <- VN_Verdadeiro_Negativo / (VN_Verdadeiro_Negativo + FP_Falso_Positivo);\n",
        "\n",
        "especificidade * 100"
      ],
      "metadata": {
        "colab": {
          "base_uri": "https://localhost:8080/",
          "height": 34
        },
        "id": "BkYI0Wa0cvBp",
        "outputId": "86a5790d-227c-4d69-9ac7-9674308197fd"
      },
      "execution_count": 108,
      "outputs": [
        {
          "output_type": "display_data",
          "data": {
            "text/html": [
              "94.9781659388646"
            ],
            "text/markdown": "94.9781659388646",
            "text/latex": "94.9781659388646",
            "text/plain": [
              "[1] 94.97817"
            ]
          },
          "metadata": {}
        }
      ]
    },
    {
      "cell_type": "markdown",
      "source": [
        "# 20. Análise de Sensitividade e Especificidade"
      ],
      "metadata": {
        "id": "jmqnBPzGgcld"
      }
    },
    {
      "cell_type": "code",
      "source": [
        "#sort siginifca ordenar, nesse caso está ordenando a tabela de Probabilidade\n",
        "limiares <- sort(Probabilidade)\n",
        "limiares"
      ],
      "metadata": {
        "colab": {
          "base_uri": "https://localhost:8080/",
          "height": 850
        },
        "id": "U8zs7t6xgfWg",
        "outputId": "19d6cfba-ac56-4bac-abdd-9f5e650088c8"
      },
      "execution_count": 109,
      "outputs": [
        {
          "output_type": "display_data",
          "data": {
            "text/html": [
              "<style>\n",
              ".dl-inline {width: auto; margin:0; padding: 0}\n",
              ".dl-inline>dt, .dl-inline>dd {float: none; width: auto; display: inline-block}\n",
              ".dl-inline>dt::after {content: \":\\0020\"; padding-right: .5ex}\n",
              ".dl-inline>dt:not(:first-of-type) {padding-left: .5ex}\n",
              "</style><dl class=dl-inline><dt>13</dt><dd>0.0747267414250701</dd><dt>14</dt><dd>0.0747267414250701</dd><dt>19</dt><dd>0.0747267414250701</dd><dt>20</dt><dd>0.0747267414250701</dd><dt>23</dt><dd>0.0747267414250701</dd><dt>32</dt><dd>0.0747267414250701</dd><dt>39</dt><dd>0.0747267414250701</dd><dt>40</dt><dd>0.0747267414250701</dd><dt>43</dt><dd>0.0747267414250701</dd><dt>46</dt><dd>0.0747267414250701</dd><dt>50</dt><dd>0.0747267414250701</dd><dt>52</dt><dd>0.0747267414250701</dd><dt>53</dt><dd>0.0747267414250701</dd><dt>55</dt><dd>0.0747267414250701</dd><dt>58</dt><dd>0.0747267414250701</dd><dt>59</dt><dd>0.0747267414250701</dd><dt>65</dt><dd>0.0747267414250701</dd><dt>67</dt><dd>0.0747267414250701</dd><dt>72</dt><dd>0.0747267414250701</dd><dt>76</dt><dd>0.0747267414250701</dd><dt>82</dt><dd>0.0747267414250701</dd><dt>85</dt><dd>0.0747267414250701</dd><dt>90</dt><dd>0.0747267414250701</dd><dt>92</dt><dd>0.0747267414250701</dd><dt>101</dt><dd>0.0747267414250701</dd><dt>104</dt><dd>0.0747267414250701</dd><dt>105</dt><dd>0.0747267414250701</dd><dt>106</dt><dd>0.0747267414250701</dd><dt>128</dt><dd>0.0747267414250701</dd><dt>144</dt><dd>0.0747267414250701</dd><dt>159</dt><dd>0.0747267414250701</dd><dt>167</dt><dd>0.0747267414250701</dd><dt>168</dt><dd>0.0747267414250701</dd><dt>169</dt><dd>0.0747267414250701</dd><dt>173</dt><dd>0.0747267414250701</dd><dt>186</dt><dd>0.0747267414250701</dd><dt>187</dt><dd>0.0747267414250701</dd><dt>188</dt><dd>0.0747267414250701</dd><dt>199</dt><dd>0.0747267414250701</dd><dt>205</dt><dd>0.0747267414250701</dd><dt>209</dt><dd>0.0747267414250701</dd><dt>213</dt><dd>0.0747267414250701</dd><dt>215</dt><dd>0.0747267414250701</dd><dt>227</dt><dd>0.0747267414250701</dd><dt>231</dt><dd>0.0747267414250701</dd><dt>233</dt><dd>0.0747267414250701</dd><dt>238</dt><dd>0.0747267414250701</dd><dt>247</dt><dd>0.0747267414250701</dd><dt>248</dt><dd>0.0747267414250701</dd><dt>251</dt><dd>0.0747267414250701</dd><dt>255</dt><dd>0.0747267414250701</dd><dt>256</dt><dd>0.0747267414250701</dd><dt>264</dt><dd>0.0747267414250701</dd><dt>277</dt><dd>0.0747267414250701</dd><dt>283</dt><dd>0.0747267414250701</dd><dt>284</dt><dd>0.0747267414250701</dd><dt>285</dt><dd>0.0747267414250701</dd><dt>287</dt><dd>0.0747267414250701</dd><dt>292</dt><dd>0.0747267414250701</dd><dt>301</dt><dd>0.0747267414250701</dd><dt>303</dt><dd>0.0747267414250701</dd><dt>305</dt><dd>0.0747267414250701</dd><dt>308</dt><dd>0.0747267414250701</dd><dt>312</dt><dd>0.0747267414250701</dd><dt>319</dt><dd>0.0747267414250701</dd><dt>329</dt><dd>0.0747267414250701</dd><dt>331</dt><dd>0.0747267414250701</dd><dt>332</dt><dd>0.0747267414250701</dd><dt>343</dt><dd>0.0747267414250701</dd><dt>345</dt><dd>0.0747267414250701</dd><dt>347</dt><dd>0.0747267414250701</dd><dt>353</dt><dd>0.0747267414250701</dd><dt>355</dt><dd>0.0747267414250701</dd><dt>356</dt><dd>0.0747267414250701</dd><dt>365</dt><dd>0.0747267414250701</dd><dt>366</dt><dd>0.0747267414250701</dd><dt>367</dt><dd>0.0747267414250701</dd><dt>369</dt><dd>0.0747267414250701</dd><dt>371</dt><dd>0.0747267414250701</dd><dt>388</dt><dd>0.0747267414250701</dd><dt>393</dt><dd>0.0747267414250701</dd><dt>395</dt><dd>0.0747267414250701</dd><dt>406</dt><dd>0.0747267414250701</dd><dt>413</dt><dd>0.0747267414250701</dd><dt>420</dt><dd>0.0747267414250701</dd><dt>421</dt><dd>0.0747267414250701</dd><dt>423</dt><dd>0.0747267414250701</dd><dt>424</dt><dd>0.0747267414250701</dd><dt>426</dt><dd>0.0747267414250701</dd><dt>428</dt><dd>0.0747267414250701</dd><dt>432</dt><dd>0.0747267414250701</dd><dt>441</dt><dd>0.0747267414250701</dd><dt>447</dt><dd>0.0747267414250701</dd><dt>452</dt><dd>0.0747267414250701</dd><dt>454</dt><dd>0.0747267414250701</dd><dt>456</dt><dd>0.0747267414250701</dd><dt>458</dt><dd>0.0747267414250701</dd><dt>461</dt><dd>0.0747267414250701</dd><dt>465</dt><dd>0.0747267414250701</dd><dt>469</dt><dd>0.0747267414250701</dd><dt>472</dt><dd>0.0747267414250701</dd><dt>482</dt><dd>0.0747267414250701</dd><dt>484</dt><dd>0.0747267414250701</dd><dt>492</dt><dd>0.0747267414250701</dd><dt>506</dt><dd>0.0747267414250701</dd><dt>508</dt><dd>0.0747267414250701</dd><dt>511</dt><dd>0.0747267414250701</dd><dt>515</dt><dd>0.0747267414250701</dd><dt>517</dt><dd>0.0747267414250701</dd><dt>520</dt><dd>0.0747267414250701</dd><dt>524</dt><dd>0.0747267414250701</dd><dt>529</dt><dd>0.0747267414250701</dd><dt>535</dt><dd>0.0747267414250701</dd><dt>536</dt><dd>0.0747267414250701</dd><dt>552</dt><dd>0.0747267414250701</dd><dt>562</dt><dd>0.0747267414250701</dd><dt>567</dt><dd>0.0747267414250701</dd><dt>571</dt><dd>0.0747267414250701</dd><dt>576</dt><dd>0.0747267414250701</dd><dt>580</dt><dd>0.0747267414250701</dd><dt>585</dt><dd>0.0747267414250701</dd><dt>587</dt><dd>0.0747267414250701</dd><dt>588</dt><dd>0.0747267414250701</dd><dt>590</dt><dd>0.0747267414250701</dd><dt>596</dt><dd>0.0747267414250701</dd><dt>600</dt><dd>0.0747267414250701</dd><dt>626</dt><dd>0.0747267414250701</dd><dt>631</dt><dd>0.0747267414250701</dd><dt>633</dt><dd>0.0747267414250701</dd><dt>637</dt><dd>0.0747267414250701</dd><dt>641</dt><dd>0.0747267414250701</dd><dt>642</dt><dd>0.0747267414250701</dd><dt>650</dt><dd>0.0747267414250701</dd><dt>653</dt><dd>0.0747267414250701</dd><dt>661</dt><dd>0.0747267414250701</dd><dt>666</dt><dd>0.0747267414250701</dd><dt>680</dt><dd>0.0747267414250701</dd><dt>690</dt><dd>0.0747267414250701</dd><dt>699</dt><dd>0.0747267414250701</dd><dt>1</dt><dd>0.0909624967952725</dd><dt>2</dt><dd>0.0909624967952725</dd><dt>18</dt><dd>0.0909624967952725</dd><dt>24</dt><dd>0.0909624967952725</dd><dt>66</dt><dd>0.0909624967952725</dd><dt>71</dt><dd>0.0909624967952725</dd><dt>94</dt><dd>0.0909624967952725</dd><dt>131</dt><dd>0.0909624967952725</dd><dt>149</dt><dd>0.0909624967952725</dd><dt>151</dt><dd>0.0909624967952725</dd><dt>161</dt><dd>0.0909624967952725</dd><dt>164</dt><dd>0.0909624967952725</dd><dt>182</dt><dd>0.0909624967952725</dd><dt>194</dt><dd>0.0909624967952725</dd><dt>198</dt><dd>0.0909624967952725</dd><dt>201</dt><dd>0.0909624967952725</dd><dt>226</dt><dd>0.0909624967952725</dd><dt>250</dt><dd>0.0909624967952725</dd><dt>271</dt><dd>0.0909624967952725</dd><dt>328</dt><dd>0.0909624967952725</dd><dt>338</dt><dd>0.0909624967952725</dd><dt>378</dt><dd>0.0909624967952725</dd><dt>390</dt><dd>0.0909624967952725</dd><dt>437</dt><dd>0.0909624967952725</dd><dt>442</dt><dd>0.0909624967952725</dd><dt>446</dt><dd>0.0909624967952725</dd><dt>448</dt><dd>0.0909624967952725</dd><dt>450</dt><dd>0.0909624967952725</dd><dt>463</dt><dd>0.0909624967952725</dd><dt>473</dt><dd>0.0909624967952725</dd><dt>491</dt><dd>0.0909624967952725</dd><dt>522</dt><dd>0.0909624967952725</dd><dt>546</dt><dd>0.0909624967952725</dd><dt>557</dt><dd>0.0909624967952725</dd><dt>559</dt><dd>0.0909624967952725</dd><dt>624</dt><dd>0.0909624967952725</dd><dt>634</dt><dd>0.0909624967952725</dd><dt>638</dt><dd>0.0909624967952725</dd><dt>659</dt><dd>0.0909624967952725</dd><dt>692</dt><dd>0.0909624967952725</dd><dt>110</dt><dd>0.10983663051452</dd><dt>471</dt><dd>0.10983663051452</dd><dt>686</dt><dd>0.10983663051452</dd><dt>27</dt><dd>0.110305239687793</dd><dt>28</dt><dd>0.110305239687793</dd><dt>36</dt><dd>0.110305239687793</dd><dt>57</dt><dd>0.110305239687793</dd><dt>77</dt><dd>0.110305239687793</dd><dt>78</dt><dd>0.110305239687793</dd><dt>79</dt><dd>0.110305239687793</dd><dt>89</dt><dd>0.110305239687793</dd><dt>117</dt><dd>0.110305239687793</dd><dt>129</dt><dd>0.110305239687793</dd><dt>135</dt><dd>0.110305239687793</dd><dt>150</dt><dd>0.110305239687793</dd><dt>175</dt><dd>0.110305239687793</dd><dt>178</dt><dd>0.110305239687793</dd><dt>180</dt><dd>0.110305239687793</dd><dt>181</dt><dd>0.110305239687793</dd><dt>191</dt><dd>0.110305239687793</dd><dt>196</dt><dd>0.110305239687793</dd><dt>203</dt><dd>⋯</dd><dt>204</dt><dd>0.431402654708017</dd><dt>206</dt><dd>0.431402654708017</dd><dt>207</dt><dd>0.431402654708017</dd><dt>208</dt><dd>0.458002575311408</dd><dt>224</dt><dd>0.470064237737599</dd><dt>230</dt><dd>0.4845502700727</dd><dt>235</dt><dd>0.4845502700727</dd><dt>239</dt><dd>0.496670401549194</dd><dt>242</dt><dd>0.509088442282788</dd><dt>261</dt><dd>0.509088442282788</dd><dt>262</dt><dd>0.511479382614332</dd><dt>265</dt><dd>0.511479382614332</dd><dt>273</dt><dd>0.550079881201083</dd><dt>275</dt><dd>0.550079881201083</dd><dt>290</dt><dd>0.561163623924492</dd><dt>293</dt><dd>0.562051820539041</dd><dt>297</dt><dd>0.562051820539041</dd><dt>313</dt><dd>0.562051820539041</dd><dt>317</dt><dd>0.562051820539041</dd><dt>325</dt><dd>0.576577106640975</dd><dt>342</dt><dd>0.588371585644853</dd><dt>380</dt><dd>0.600065412965045</dd><dt>394</dt><dd>0.600065412965045</dd><dt>400</dt><dd>0.600065412965045</dd><dt>407</dt><dd>0.600065412965045</dd><dt>408</dt><dd>0.600065412965045</dd><dt>422</dt><dd>0.600065412965045</dd><dt>427</dt><dd>0.602359352523651</dd><dt>453</dt><dd>0.602359352523651</dd><dt>460</dt><dd>0.602359352523651</dd><dt>470</dt><dd>0.610789040260045</dd><dt>479</dt><dd>0.610789040260045</dd><dt>487</dt><dd>0.613061133731052</dd><dt>488</dt><dd>0.613061133731052</dd><dt>497</dt><dd>0.613061133731052</dd><dt>532</dt><dd>0.636910984424275</dd><dt>538</dt><dd>0.638016563953256</dd><dt>539</dt><dd>0.639120684509962</dd><dt>558</dt><dd>0.639120684509962</dd><dt>565</dt><dd>0.640223336371221</dd><dt>570</dt><dd>0.663318424365633</dd><dt>574</dt><dd>0.675370703785769</dd><dt>581</dt><dd>0.68488082003999</dd><dt>589</dt><dd>0.687969949942274</dd><dt>592</dt><dd>0.697276409722491</dd><dt>594</dt><dd>0.698285253827366</dd><dt>598</dt><dd>0.705675021091938</dd><dt>616</dt><dd>0.706667650772455</dd><dt>621</dt><dd>0.718558405368916</dd><dt>639</dt><dd>0.71928739418676</dd><dt>644</dt><dd>0.72048927589138</dd><dt>654</dt><dd>0.728261909913905</dd><dt>663</dt><dd>0.729207595187973</dd><dt>673</dt><dd>0.730151208832115</dd><dt>678</dt><dd>0.730151208832115</dd><dt>679</dt><dd>0.740520151186592</dd><dt>689</dt><dd>0.742354374702587</dd><dt>295</dt><dd>0.749730188070328</dd><dt>10</dt><dd>0.751521152766203</dd><dt>42</dt><dd>0.759809263004641</dd><dt>47</dt><dd>0.771091703467631</dd><dt>93</dt><dd>0.777890975462454</dd><dt>114</dt><dd>0.777890975462454</dd><dt>130</dt><dd>0.779539675993111</dd><dt>156</dt><dd>0.779539675993111</dd><dt>157</dt><dd>0.796533817530623</dd><dt>166</dt><dd>0.804466269453688</dd><dt>170</dt><dd>0.805966908511096</dd><dt>184</dt><dd>0.820860792683984</dd><dt>192</dt><dd>0.821563179804718</dd><dt>202</dt><dd>0.821563179804718</dd><dt>222</dt><dd>0.821563179804718</dd><dt>229</dt><dd>0.822790027605683</dd><dt>249</dt><dd>0.836493463772619</dd><dt>298</dt><dd>0.836654292828662</dd><dt>316</dt><dd>0.842541128968341</dd><dt>322</dt><dd>0.844435764233622</dd><dt>348</dt><dd>0.850850375270593</dd><dt>349</dt><dd>0.857926972111391</dd><dt>375</dt><dd>0.857926972111391</dd><dt>376</dt><dd>0.857926972111391</dd><dt>410</dt><dd>0.870560309419116</dd><dt>430</dt><dd>0.870560309419116</dd><dt>436</dt><dd>0.870560309419116</dd><dt>445</dt><dd>0.875535419535693</dd><dt>459</dt><dd>0.875535419535693</dd><dt>476</dt><dd>0.875928014143586</dd><dt>478</dt><dd>0.875928014143586</dd><dt>494</dt><dd>0.876964093197874</dd><dt>496</dt><dd>0.876964093197874</dd><dt>509</dt><dd>0.882102204609361</dd><dt>512</dt><dd>0.891473591853984</dd><dt>514</dt><dd>0.896522222400301</dd><dt>518</dt><dd>0.902630641030897</dd><dt>519</dt><dd>0.902630641030897</dd><dt>525</dt><dd>0.906099243699816</dd><dt>528</dt><dd>0.906810789669794</dd><dt>534</dt><dd>0.910829209573828</dd><dt>543</dt><dd>0.910829209573828</dd><dt>549</dt><dd>0.910829209573828</dd><dt>577</dt><dd>0.910829209573828</dd><dt>593</dt><dd>0.914874059254158</dd><dt>595</dt><dd>0.915154593912409</dd><dt>597</dt><dd>0.915525311860633</dd><dt>608</dt><dd>0.919909194697235</dd><dt>620</dt><dd>0.919909194697235</dd><dt>625</dt><dd>0.922473478141386</dd><dt>656</dt><dd>0.923154972495578</dd><dt>671</dt><dd>0.923410501800968</dd><dt>693</dt><dd>0.923410501800968</dd><dt>95</dt><dd>0.923410501800968</dd><dt>310</dt><dd>0.926525718157216</dd><dt>351</dt><dd>0.926525718157216</dd><dt>361</dt><dd>0.92975985861269</dd><dt>374</dt><dd>0.930071637499545</dd><dt>540</dt><dd>0.930382136099249</dd><dt>651</dt><dd>0.930691358750525</dd><dt>674</dt><dd>0.93345871845479</dd><dt>62</dt><dd>0.940116473383247</dd><dt>160</dt><dd>0.943046811414372</dd><dt>257</dt><dd>0.943303209205711</dd><dt>324</dt><dd>0.948038214678517</dd><dt>573</dt><dd>0.950880414068571</dd><dt>218</dt><dd>0.951048637915309</dd><dt>383</dt><dd>0.952882474342243</dd><dt>561</dt><dd>0.95325780154155</dd><dt>3</dt><dd>0.955217878344134</dd><dt>11</dt><dd>0.955217878344134</dd><dt>26</dt><dd>0.957490602923058</dd><dt>41</dt><dd>0.958215612218938</dd><dt>44</dt><dd>0.958215612218938</dd><dt>54</dt><dd>0.958215612218938</dd><dt>56</dt><dd>0.958215612218938</dd><dt>68</dt><dd>0.958215612218938</dd><dt>69</dt><dd>0.960114896554388</dd><dt>75</dt><dd>0.960114896554388</dd><dt>80</dt><dd>0.960114896554388</dd><dt>107</dt><dd>0.961445856648227</dd><dt>109</dt><dd>0.961974334033496</dd><dt>115</dt><dd>0.965407145831378</dd><dt>119</dt><dd>0.968794877331939</dd><dt>120</dt><dd>0.970228228270777</dd><dt>121</dt><dd>0.970228228270777</dd><dt>124</dt><dd>0.970639998296067</dd><dt>132</dt><dd>0.972250353080042</dd><dt>142</dt><dd>0.974424566624646</dd><dt>152</dt><dd>0.974424566624646</dd><dt>155</dt><dd>0.976168673264628</dd><dt>162</dt><dd>0.977190998757116</dd><dt>200</dt><dd>0.977271268437607</dd><dt>254</dt><dd>0.978348914979894</dd><dt>259</dt><dd>0.978626248250032</dd><dt>286</dt><dd>0.978626248250032</dd><dt>299</dt><dd>0.979545356835132</dd><dt>307</dt><dd>0.980311020328613</dd><dt>311</dt><dd>0.980494845878745</dd><dt>326</dt><dd>0.980586126808533</dd><dt>330</dt><dd>0.982452195501144</dd><dt>357</dt><dd>0.98259627928218</dd><dt>372</dt><dd>0.982677899588171</dd><dt>397</dt><dd>0.982677899588171</dd><dt>403</dt><dd>0.984123428217377</dd><dt>411</dt><dd>0.98419800165005</dd><dt>429</dt><dd>0.984272230403743</dd><dt>433</dt><dd>0.984863690449978</dd><dt>438</dt><dd>0.985005660284357</dd><dt>462</dt><dd>0.985721950710692</dd><dt>486</dt><dd>0.98577263528107</dd><dt>507</dt><dd>0.985789124186913</dd><dt>541</dt><dd>0.986452790669783</dd><dt>542</dt><dd>0.987085869091918</dd><dt>591</dt><dd>0.988444409044353</dd><dt>599</dt><dd>0.989128057436552</dd><dt>603</dt><dd>0.990641787523112</dd><dt>610</dt><dd>0.99124844988402</dd><dt>614</dt><dd>0.992060318435418</dd><dt>618</dt><dd>0.99236117188543</dd><dt>622</dt><dd>0.992797418382369</dd><dt>632</dt><dd>0.993136067288857</dd><dt>640</dt><dd>0.993168601548087</dd><dt>655</dt><dd>0.993489912710972</dd><dt>667</dt><dd>0.993854916341292</dd><dt>668</dt><dd>0.994227097308825</dd><dt>682</dt><dd>0.994714030137615</dd><dt>683</dt><dd>0.994986939958887</dd><dt>685</dt><dd>0.996159401458276</dd><dt>695</dt><dd>0.996713116956989</dd><dt>628</dt><dd>0.996744313420632</dd><dt>74</dt><dd>0.997370695477604</dd><dt>327</dt><dd>0.997638625719676</dd><dt>481</dt><dd>0.997866660931008</dd><dt>495</dt><dd>0.998192034155166</dd><dt>568</dt><dd>0.998609298562092</dd><dt>697</dt><dd>0.998609298562092</dd><dt>139</dt><dd>0.998609298562092</dd><dt>176</dt><dd>0.998871890701069</dd><dt>300</dt><dd>0.998871890701069</dd><dt>405</dt><dd>0.998877268545482</dd><dt>434</dt><dd>0.998877268545482</dd><dt>440</dt><dd>0.999140640399349</dd></dl>\n"
            ],
            "text/markdown": "13\n:   0.074726741425070114\n:   0.074726741425070119\n:   0.074726741425070120\n:   0.074726741425070123\n:   0.074726741425070132\n:   0.074726741425070139\n:   0.074726741425070140\n:   0.074726741425070143\n:   0.074726741425070146\n:   0.074726741425070150\n:   0.074726741425070152\n:   0.074726741425070153\n:   0.074726741425070155\n:   0.074726741425070158\n:   0.074726741425070159\n:   0.074726741425070165\n:   0.074726741425070167\n:   0.074726741425070172\n:   0.074726741425070176\n:   0.074726741425070182\n:   0.074726741425070185\n:   0.074726741425070190\n:   0.074726741425070192\n:   0.0747267414250701101\n:   0.0747267414250701104\n:   0.0747267414250701105\n:   0.0747267414250701106\n:   0.0747267414250701128\n:   0.0747267414250701144\n:   0.0747267414250701159\n:   0.0747267414250701167\n:   0.0747267414250701168\n:   0.0747267414250701169\n:   0.0747267414250701173\n:   0.0747267414250701186\n:   0.0747267414250701187\n:   0.0747267414250701188\n:   0.0747267414250701199\n:   0.0747267414250701205\n:   0.0747267414250701209\n:   0.0747267414250701213\n:   0.0747267414250701215\n:   0.0747267414250701227\n:   0.0747267414250701231\n:   0.0747267414250701233\n:   0.0747267414250701238\n:   0.0747267414250701247\n:   0.0747267414250701248\n:   0.0747267414250701251\n:   0.0747267414250701255\n:   0.0747267414250701256\n:   0.0747267414250701264\n:   0.0747267414250701277\n:   0.0747267414250701283\n:   0.0747267414250701284\n:   0.0747267414250701285\n:   0.0747267414250701287\n:   0.0747267414250701292\n:   0.0747267414250701301\n:   0.0747267414250701303\n:   0.0747267414250701305\n:   0.0747267414250701308\n:   0.0747267414250701312\n:   0.0747267414250701319\n:   0.0747267414250701329\n:   0.0747267414250701331\n:   0.0747267414250701332\n:   0.0747267414250701343\n:   0.0747267414250701345\n:   0.0747267414250701347\n:   0.0747267414250701353\n:   0.0747267414250701355\n:   0.0747267414250701356\n:   0.0747267414250701365\n:   0.0747267414250701366\n:   0.0747267414250701367\n:   0.0747267414250701369\n:   0.0747267414250701371\n:   0.0747267414250701388\n:   0.0747267414250701393\n:   0.0747267414250701395\n:   0.0747267414250701406\n:   0.0747267414250701413\n:   0.0747267414250701420\n:   0.0747267414250701421\n:   0.0747267414250701423\n:   0.0747267414250701424\n:   0.0747267414250701426\n:   0.0747267414250701428\n:   0.0747267414250701432\n:   0.0747267414250701441\n:   0.0747267414250701447\n:   0.0747267414250701452\n:   0.0747267414250701454\n:   0.0747267414250701456\n:   0.0747267414250701458\n:   0.0747267414250701461\n:   0.0747267414250701465\n:   0.0747267414250701469\n:   0.0747267414250701472\n:   0.0747267414250701482\n:   0.0747267414250701484\n:   0.0747267414250701492\n:   0.0747267414250701506\n:   0.0747267414250701508\n:   0.0747267414250701511\n:   0.0747267414250701515\n:   0.0747267414250701517\n:   0.0747267414250701520\n:   0.0747267414250701524\n:   0.0747267414250701529\n:   0.0747267414250701535\n:   0.0747267414250701536\n:   0.0747267414250701552\n:   0.0747267414250701562\n:   0.0747267414250701567\n:   0.0747267414250701571\n:   0.0747267414250701576\n:   0.0747267414250701580\n:   0.0747267414250701585\n:   0.0747267414250701587\n:   0.0747267414250701588\n:   0.0747267414250701590\n:   0.0747267414250701596\n:   0.0747267414250701600\n:   0.0747267414250701626\n:   0.0747267414250701631\n:   0.0747267414250701633\n:   0.0747267414250701637\n:   0.0747267414250701641\n:   0.0747267414250701642\n:   0.0747267414250701650\n:   0.0747267414250701653\n:   0.0747267414250701661\n:   0.0747267414250701666\n:   0.0747267414250701680\n:   0.0747267414250701690\n:   0.0747267414250701699\n:   0.07472674142507011\n:   0.09096249679527252\n:   0.090962496795272518\n:   0.090962496795272524\n:   0.090962496795272566\n:   0.090962496795272571\n:   0.090962496795272594\n:   0.0909624967952725131\n:   0.0909624967952725149\n:   0.0909624967952725151\n:   0.0909624967952725161\n:   0.0909624967952725164\n:   0.0909624967952725182\n:   0.0909624967952725194\n:   0.0909624967952725198\n:   0.0909624967952725201\n:   0.0909624967952725226\n:   0.0909624967952725250\n:   0.0909624967952725271\n:   0.0909624967952725328\n:   0.0909624967952725338\n:   0.0909624967952725378\n:   0.0909624967952725390\n:   0.0909624967952725437\n:   0.0909624967952725442\n:   0.0909624967952725446\n:   0.0909624967952725448\n:   0.0909624967952725450\n:   0.0909624967952725463\n:   0.0909624967952725473\n:   0.0909624967952725491\n:   0.0909624967952725522\n:   0.0909624967952725546\n:   0.0909624967952725557\n:   0.0909624967952725559\n:   0.0909624967952725624\n:   0.0909624967952725634\n:   0.0909624967952725638\n:   0.0909624967952725659\n:   0.0909624967952725692\n:   0.0909624967952725110\n:   0.10983663051452471\n:   0.10983663051452686\n:   0.1098366305145227\n:   0.11030523968779328\n:   0.11030523968779336\n:   0.11030523968779357\n:   0.11030523968779377\n:   0.11030523968779378\n:   0.11030523968779379\n:   0.11030523968779389\n:   0.110305239687793117\n:   0.110305239687793129\n:   0.110305239687793135\n:   0.110305239687793150\n:   0.110305239687793175\n:   0.110305239687793178\n:   0.110305239687793180\n:   0.110305239687793181\n:   0.110305239687793191\n:   0.110305239687793196\n:   0.110305239687793203\n:   ⋯204\n:   0.431402654708017206\n:   0.431402654708017207\n:   0.431402654708017208\n:   0.458002575311408224\n:   0.470064237737599230\n:   0.4845502700727235\n:   0.4845502700727239\n:   0.496670401549194242\n:   0.509088442282788261\n:   0.509088442282788262\n:   0.511479382614332265\n:   0.511479382614332273\n:   0.550079881201083275\n:   0.550079881201083290\n:   0.561163623924492293\n:   0.562051820539041297\n:   0.562051820539041313\n:   0.562051820539041317\n:   0.562051820539041325\n:   0.576577106640975342\n:   0.588371585644853380\n:   0.600065412965045394\n:   0.600065412965045400\n:   0.600065412965045407\n:   0.600065412965045408\n:   0.600065412965045422\n:   0.600065412965045427\n:   0.602359352523651453\n:   0.602359352523651460\n:   0.602359352523651470\n:   0.610789040260045479\n:   0.610789040260045487\n:   0.613061133731052488\n:   0.613061133731052497\n:   0.613061133731052532\n:   0.636910984424275538\n:   0.638016563953256539\n:   0.639120684509962558\n:   0.639120684509962565\n:   0.640223336371221570\n:   0.663318424365633574\n:   0.675370703785769581\n:   0.68488082003999589\n:   0.687969949942274592\n:   0.697276409722491594\n:   0.698285253827366598\n:   0.705675021091938616\n:   0.706667650772455621\n:   0.718558405368916639\n:   0.71928739418676644\n:   0.72048927589138654\n:   0.728261909913905663\n:   0.729207595187973673\n:   0.730151208832115678\n:   0.730151208832115679\n:   0.740520151186592689\n:   0.742354374702587295\n:   0.74973018807032810\n:   0.75152115276620342\n:   0.75980926300464147\n:   0.77109170346763193\n:   0.777890975462454114\n:   0.777890975462454130\n:   0.779539675993111156\n:   0.779539675993111157\n:   0.796533817530623166\n:   0.804466269453688170\n:   0.805966908511096184\n:   0.820860792683984192\n:   0.821563179804718202\n:   0.821563179804718222\n:   0.821563179804718229\n:   0.822790027605683249\n:   0.836493463772619298\n:   0.836654292828662316\n:   0.842541128968341322\n:   0.844435764233622348\n:   0.850850375270593349\n:   0.857926972111391375\n:   0.857926972111391376\n:   0.857926972111391410\n:   0.870560309419116430\n:   0.870560309419116436\n:   0.870560309419116445\n:   0.875535419535693459\n:   0.875535419535693476\n:   0.875928014143586478\n:   0.875928014143586494\n:   0.876964093197874496\n:   0.876964093197874509\n:   0.882102204609361512\n:   0.891473591853984514\n:   0.896522222400301518\n:   0.902630641030897519\n:   0.902630641030897525\n:   0.906099243699816528\n:   0.906810789669794534\n:   0.910829209573828543\n:   0.910829209573828549\n:   0.910829209573828577\n:   0.910829209573828593\n:   0.914874059254158595\n:   0.915154593912409597\n:   0.915525311860633608\n:   0.919909194697235620\n:   0.919909194697235625\n:   0.922473478141386656\n:   0.923154972495578671\n:   0.923410501800968693\n:   0.92341050180096895\n:   0.923410501800968310\n:   0.926525718157216351\n:   0.926525718157216361\n:   0.92975985861269374\n:   0.930071637499545540\n:   0.930382136099249651\n:   0.930691358750525674\n:   0.9334587184547962\n:   0.940116473383247160\n:   0.943046811414372257\n:   0.943303209205711324\n:   0.948038214678517573\n:   0.950880414068571218\n:   0.951048637915309383\n:   0.952882474342243561\n:   0.953257801541553\n:   0.95521787834413411\n:   0.95521787834413426\n:   0.95749060292305841\n:   0.95821561221893844\n:   0.95821561221893854\n:   0.95821561221893856\n:   0.95821561221893868\n:   0.95821561221893869\n:   0.96011489655438875\n:   0.96011489655438880\n:   0.960114896554388107\n:   0.961445856648227109\n:   0.961974334033496115\n:   0.965407145831378119\n:   0.968794877331939120\n:   0.970228228270777121\n:   0.970228228270777124\n:   0.970639998296067132\n:   0.972250353080042142\n:   0.974424566624646152\n:   0.974424566624646155\n:   0.976168673264628162\n:   0.977190998757116200\n:   0.977271268437607254\n:   0.978348914979894259\n:   0.978626248250032286\n:   0.978626248250032299\n:   0.979545356835132307\n:   0.980311020328613311\n:   0.980494845878745326\n:   0.980586126808533330\n:   0.982452195501144357\n:   0.98259627928218372\n:   0.982677899588171397\n:   0.982677899588171403\n:   0.984123428217377411\n:   0.98419800165005429\n:   0.984272230403743433\n:   0.984863690449978438\n:   0.985005660284357462\n:   0.985721950710692486\n:   0.98577263528107507\n:   0.985789124186913541\n:   0.986452790669783542\n:   0.987085869091918591\n:   0.988444409044353599\n:   0.989128057436552603\n:   0.990641787523112610\n:   0.99124844988402614\n:   0.992060318435418618\n:   0.99236117188543622\n:   0.992797418382369632\n:   0.993136067288857640\n:   0.993168601548087655\n:   0.993489912710972667\n:   0.993854916341292668\n:   0.994227097308825682\n:   0.994714030137615683\n:   0.994986939958887685\n:   0.996159401458276695\n:   0.996713116956989628\n:   0.99674431342063274\n:   0.997370695477604327\n:   0.997638625719676481\n:   0.997866660931008495\n:   0.998192034155166568\n:   0.998609298562092697\n:   0.998609298562092139\n:   0.998609298562092176\n:   0.998871890701069300\n:   0.998871890701069405\n:   0.998877268545482434\n:   0.998877268545482440\n:   0.999140640399349\n\n",
            "text/latex": "\\begin{description*}\n\\item[13] 0.0747267414250701\n\\item[14] 0.0747267414250701\n\\item[19] 0.0747267414250701\n\\item[20] 0.0747267414250701\n\\item[23] 0.0747267414250701\n\\item[32] 0.0747267414250701\n\\item[39] 0.0747267414250701\n\\item[40] 0.0747267414250701\n\\item[43] 0.0747267414250701\n\\item[46] 0.0747267414250701\n\\item[50] 0.0747267414250701\n\\item[52] 0.0747267414250701\n\\item[53] 0.0747267414250701\n\\item[55] 0.0747267414250701\n\\item[58] 0.0747267414250701\n\\item[59] 0.0747267414250701\n\\item[65] 0.0747267414250701\n\\item[67] 0.0747267414250701\n\\item[72] 0.0747267414250701\n\\item[76] 0.0747267414250701\n\\item[82] 0.0747267414250701\n\\item[85] 0.0747267414250701\n\\item[90] 0.0747267414250701\n\\item[92] 0.0747267414250701\n\\item[101] 0.0747267414250701\n\\item[104] 0.0747267414250701\n\\item[105] 0.0747267414250701\n\\item[106] 0.0747267414250701\n\\item[128] 0.0747267414250701\n\\item[144] 0.0747267414250701\n\\item[159] 0.0747267414250701\n\\item[167] 0.0747267414250701\n\\item[168] 0.0747267414250701\n\\item[169] 0.0747267414250701\n\\item[173] 0.0747267414250701\n\\item[186] 0.0747267414250701\n\\item[187] 0.0747267414250701\n\\item[188] 0.0747267414250701\n\\item[199] 0.0747267414250701\n\\item[205] 0.0747267414250701\n\\item[209] 0.0747267414250701\n\\item[213] 0.0747267414250701\n\\item[215] 0.0747267414250701\n\\item[227] 0.0747267414250701\n\\item[231] 0.0747267414250701\n\\item[233] 0.0747267414250701\n\\item[238] 0.0747267414250701\n\\item[247] 0.0747267414250701\n\\item[248] 0.0747267414250701\n\\item[251] 0.0747267414250701\n\\item[255] 0.0747267414250701\n\\item[256] 0.0747267414250701\n\\item[264] 0.0747267414250701\n\\item[277] 0.0747267414250701\n\\item[283] 0.0747267414250701\n\\item[284] 0.0747267414250701\n\\item[285] 0.0747267414250701\n\\item[287] 0.0747267414250701\n\\item[292] 0.0747267414250701\n\\item[301] 0.0747267414250701\n\\item[303] 0.0747267414250701\n\\item[305] 0.0747267414250701\n\\item[308] 0.0747267414250701\n\\item[312] 0.0747267414250701\n\\item[319] 0.0747267414250701\n\\item[329] 0.0747267414250701\n\\item[331] 0.0747267414250701\n\\item[332] 0.0747267414250701\n\\item[343] 0.0747267414250701\n\\item[345] 0.0747267414250701\n\\item[347] 0.0747267414250701\n\\item[353] 0.0747267414250701\n\\item[355] 0.0747267414250701\n\\item[356] 0.0747267414250701\n\\item[365] 0.0747267414250701\n\\item[366] 0.0747267414250701\n\\item[367] 0.0747267414250701\n\\item[369] 0.0747267414250701\n\\item[371] 0.0747267414250701\n\\item[388] 0.0747267414250701\n\\item[393] 0.0747267414250701\n\\item[395] 0.0747267414250701\n\\item[406] 0.0747267414250701\n\\item[413] 0.0747267414250701\n\\item[420] 0.0747267414250701\n\\item[421] 0.0747267414250701\n\\item[423] 0.0747267414250701\n\\item[424] 0.0747267414250701\n\\item[426] 0.0747267414250701\n\\item[428] 0.0747267414250701\n\\item[432] 0.0747267414250701\n\\item[441] 0.0747267414250701\n\\item[447] 0.0747267414250701\n\\item[452] 0.0747267414250701\n\\item[454] 0.0747267414250701\n\\item[456] 0.0747267414250701\n\\item[458] 0.0747267414250701\n\\item[461] 0.0747267414250701\n\\item[465] 0.0747267414250701\n\\item[469] 0.0747267414250701\n\\item[472] 0.0747267414250701\n\\item[482] 0.0747267414250701\n\\item[484] 0.0747267414250701\n\\item[492] 0.0747267414250701\n\\item[506] 0.0747267414250701\n\\item[508] 0.0747267414250701\n\\item[511] 0.0747267414250701\n\\item[515] 0.0747267414250701\n\\item[517] 0.0747267414250701\n\\item[520] 0.0747267414250701\n\\item[524] 0.0747267414250701\n\\item[529] 0.0747267414250701\n\\item[535] 0.0747267414250701\n\\item[536] 0.0747267414250701\n\\item[552] 0.0747267414250701\n\\item[562] 0.0747267414250701\n\\item[567] 0.0747267414250701\n\\item[571] 0.0747267414250701\n\\item[576] 0.0747267414250701\n\\item[580] 0.0747267414250701\n\\item[585] 0.0747267414250701\n\\item[587] 0.0747267414250701\n\\item[588] 0.0747267414250701\n\\item[590] 0.0747267414250701\n\\item[596] 0.0747267414250701\n\\item[600] 0.0747267414250701\n\\item[626] 0.0747267414250701\n\\item[631] 0.0747267414250701\n\\item[633] 0.0747267414250701\n\\item[637] 0.0747267414250701\n\\item[641] 0.0747267414250701\n\\item[642] 0.0747267414250701\n\\item[650] 0.0747267414250701\n\\item[653] 0.0747267414250701\n\\item[661] 0.0747267414250701\n\\item[666] 0.0747267414250701\n\\item[680] 0.0747267414250701\n\\item[690] 0.0747267414250701\n\\item[699] 0.0747267414250701\n\\item[1] 0.0909624967952725\n\\item[2] 0.0909624967952725\n\\item[18] 0.0909624967952725\n\\item[24] 0.0909624967952725\n\\item[66] 0.0909624967952725\n\\item[71] 0.0909624967952725\n\\item[94] 0.0909624967952725\n\\item[131] 0.0909624967952725\n\\item[149] 0.0909624967952725\n\\item[151] 0.0909624967952725\n\\item[161] 0.0909624967952725\n\\item[164] 0.0909624967952725\n\\item[182] 0.0909624967952725\n\\item[194] 0.0909624967952725\n\\item[198] 0.0909624967952725\n\\item[201] 0.0909624967952725\n\\item[226] 0.0909624967952725\n\\item[250] 0.0909624967952725\n\\item[271] 0.0909624967952725\n\\item[328] 0.0909624967952725\n\\item[338] 0.0909624967952725\n\\item[378] 0.0909624967952725\n\\item[390] 0.0909624967952725\n\\item[437] 0.0909624967952725\n\\item[442] 0.0909624967952725\n\\item[446] 0.0909624967952725\n\\item[448] 0.0909624967952725\n\\item[450] 0.0909624967952725\n\\item[463] 0.0909624967952725\n\\item[473] 0.0909624967952725\n\\item[491] 0.0909624967952725\n\\item[522] 0.0909624967952725\n\\item[546] 0.0909624967952725\n\\item[557] 0.0909624967952725\n\\item[559] 0.0909624967952725\n\\item[624] 0.0909624967952725\n\\item[634] 0.0909624967952725\n\\item[638] 0.0909624967952725\n\\item[659] 0.0909624967952725\n\\item[692] 0.0909624967952725\n\\item[110] 0.10983663051452\n\\item[471] 0.10983663051452\n\\item[686] 0.10983663051452\n\\item[27] 0.110305239687793\n\\item[28] 0.110305239687793\n\\item[36] 0.110305239687793\n\\item[57] 0.110305239687793\n\\item[77] 0.110305239687793\n\\item[78] 0.110305239687793\n\\item[79] 0.110305239687793\n\\item[89] 0.110305239687793\n\\item[117] 0.110305239687793\n\\item[129] 0.110305239687793\n\\item[135] 0.110305239687793\n\\item[150] 0.110305239687793\n\\item[175] 0.110305239687793\n\\item[178] 0.110305239687793\n\\item[180] 0.110305239687793\n\\item[181] 0.110305239687793\n\\item[191] 0.110305239687793\n\\item[196] 0.110305239687793\n\\item[203] ⋯\n\\item[204] 0.431402654708017\n\\item[206] 0.431402654708017\n\\item[207] 0.431402654708017\n\\item[208] 0.458002575311408\n\\item[224] 0.470064237737599\n\\item[230] 0.4845502700727\n\\item[235] 0.4845502700727\n\\item[239] 0.496670401549194\n\\item[242] 0.509088442282788\n\\item[261] 0.509088442282788\n\\item[262] 0.511479382614332\n\\item[265] 0.511479382614332\n\\item[273] 0.550079881201083\n\\item[275] 0.550079881201083\n\\item[290] 0.561163623924492\n\\item[293] 0.562051820539041\n\\item[297] 0.562051820539041\n\\item[313] 0.562051820539041\n\\item[317] 0.562051820539041\n\\item[325] 0.576577106640975\n\\item[342] 0.588371585644853\n\\item[380] 0.600065412965045\n\\item[394] 0.600065412965045\n\\item[400] 0.600065412965045\n\\item[407] 0.600065412965045\n\\item[408] 0.600065412965045\n\\item[422] 0.600065412965045\n\\item[427] 0.602359352523651\n\\item[453] 0.602359352523651\n\\item[460] 0.602359352523651\n\\item[470] 0.610789040260045\n\\item[479] 0.610789040260045\n\\item[487] 0.613061133731052\n\\item[488] 0.613061133731052\n\\item[497] 0.613061133731052\n\\item[532] 0.636910984424275\n\\item[538] 0.638016563953256\n\\item[539] 0.639120684509962\n\\item[558] 0.639120684509962\n\\item[565] 0.640223336371221\n\\item[570] 0.663318424365633\n\\item[574] 0.675370703785769\n\\item[581] 0.68488082003999\n\\item[589] 0.687969949942274\n\\item[592] 0.697276409722491\n\\item[594] 0.698285253827366\n\\item[598] 0.705675021091938\n\\item[616] 0.706667650772455\n\\item[621] 0.718558405368916\n\\item[639] 0.71928739418676\n\\item[644] 0.72048927589138\n\\item[654] 0.728261909913905\n\\item[663] 0.729207595187973\n\\item[673] 0.730151208832115\n\\item[678] 0.730151208832115\n\\item[679] 0.740520151186592\n\\item[689] 0.742354374702587\n\\item[295] 0.749730188070328\n\\item[10] 0.751521152766203\n\\item[42] 0.759809263004641\n\\item[47] 0.771091703467631\n\\item[93] 0.777890975462454\n\\item[114] 0.777890975462454\n\\item[130] 0.779539675993111\n\\item[156] 0.779539675993111\n\\item[157] 0.796533817530623\n\\item[166] 0.804466269453688\n\\item[170] 0.805966908511096\n\\item[184] 0.820860792683984\n\\item[192] 0.821563179804718\n\\item[202] 0.821563179804718\n\\item[222] 0.821563179804718\n\\item[229] 0.822790027605683\n\\item[249] 0.836493463772619\n\\item[298] 0.836654292828662\n\\item[316] 0.842541128968341\n\\item[322] 0.844435764233622\n\\item[348] 0.850850375270593\n\\item[349] 0.857926972111391\n\\item[375] 0.857926972111391\n\\item[376] 0.857926972111391\n\\item[410] 0.870560309419116\n\\item[430] 0.870560309419116\n\\item[436] 0.870560309419116\n\\item[445] 0.875535419535693\n\\item[459] 0.875535419535693\n\\item[476] 0.875928014143586\n\\item[478] 0.875928014143586\n\\item[494] 0.876964093197874\n\\item[496] 0.876964093197874\n\\item[509] 0.882102204609361\n\\item[512] 0.891473591853984\n\\item[514] 0.896522222400301\n\\item[518] 0.902630641030897\n\\item[519] 0.902630641030897\n\\item[525] 0.906099243699816\n\\item[528] 0.906810789669794\n\\item[534] 0.910829209573828\n\\item[543] 0.910829209573828\n\\item[549] 0.910829209573828\n\\item[577] 0.910829209573828\n\\item[593] 0.914874059254158\n\\item[595] 0.915154593912409\n\\item[597] 0.915525311860633\n\\item[608] 0.919909194697235\n\\item[620] 0.919909194697235\n\\item[625] 0.922473478141386\n\\item[656] 0.923154972495578\n\\item[671] 0.923410501800968\n\\item[693] 0.923410501800968\n\\item[95] 0.923410501800968\n\\item[310] 0.926525718157216\n\\item[351] 0.926525718157216\n\\item[361] 0.92975985861269\n\\item[374] 0.930071637499545\n\\item[540] 0.930382136099249\n\\item[651] 0.930691358750525\n\\item[674] 0.93345871845479\n\\item[62] 0.940116473383247\n\\item[160] 0.943046811414372\n\\item[257] 0.943303209205711\n\\item[324] 0.948038214678517\n\\item[573] 0.950880414068571\n\\item[218] 0.951048637915309\n\\item[383] 0.952882474342243\n\\item[561] 0.95325780154155\n\\item[3] 0.955217878344134\n\\item[11] 0.955217878344134\n\\item[26] 0.957490602923058\n\\item[41] 0.958215612218938\n\\item[44] 0.958215612218938\n\\item[54] 0.958215612218938\n\\item[56] 0.958215612218938\n\\item[68] 0.958215612218938\n\\item[69] 0.960114896554388\n\\item[75] 0.960114896554388\n\\item[80] 0.960114896554388\n\\item[107] 0.961445856648227\n\\item[109] 0.961974334033496\n\\item[115] 0.965407145831378\n\\item[119] 0.968794877331939\n\\item[120] 0.970228228270777\n\\item[121] 0.970228228270777\n\\item[124] 0.970639998296067\n\\item[132] 0.972250353080042\n\\item[142] 0.974424566624646\n\\item[152] 0.974424566624646\n\\item[155] 0.976168673264628\n\\item[162] 0.977190998757116\n\\item[200] 0.977271268437607\n\\item[254] 0.978348914979894\n\\item[259] 0.978626248250032\n\\item[286] 0.978626248250032\n\\item[299] 0.979545356835132\n\\item[307] 0.980311020328613\n\\item[311] 0.980494845878745\n\\item[326] 0.980586126808533\n\\item[330] 0.982452195501144\n\\item[357] 0.98259627928218\n\\item[372] 0.982677899588171\n\\item[397] 0.982677899588171\n\\item[403] 0.984123428217377\n\\item[411] 0.98419800165005\n\\item[429] 0.984272230403743\n\\item[433] 0.984863690449978\n\\item[438] 0.985005660284357\n\\item[462] 0.985721950710692\n\\item[486] 0.98577263528107\n\\item[507] 0.985789124186913\n\\item[541] 0.986452790669783\n\\item[542] 0.987085869091918\n\\item[591] 0.988444409044353\n\\item[599] 0.989128057436552\n\\item[603] 0.990641787523112\n\\item[610] 0.99124844988402\n\\item[614] 0.992060318435418\n\\item[618] 0.99236117188543\n\\item[622] 0.992797418382369\n\\item[632] 0.993136067288857\n\\item[640] 0.993168601548087\n\\item[655] 0.993489912710972\n\\item[667] 0.993854916341292\n\\item[668] 0.994227097308825\n\\item[682] 0.994714030137615\n\\item[683] 0.994986939958887\n\\item[685] 0.996159401458276\n\\item[695] 0.996713116956989\n\\item[628] 0.996744313420632\n\\item[74] 0.997370695477604\n\\item[327] 0.997638625719676\n\\item[481] 0.997866660931008\n\\item[495] 0.998192034155166\n\\item[568] 0.998609298562092\n\\item[697] 0.998609298562092\n\\item[139] 0.998609298562092\n\\item[176] 0.998871890701069\n\\item[300] 0.998871890701069\n\\item[405] 0.998877268545482\n\\item[434] 0.998877268545482\n\\item[440] 0.999140640399349\n\\end{description*}\n",
            "text/plain": [
              "        13         14         19         20         23         32         39 \n",
              "0.07472674 0.07472674 0.07472674 0.07472674 0.07472674 0.07472674 0.07472674 \n",
              "        40         43         46         50         52         53         55 \n",
              "0.07472674 0.07472674 0.07472674 0.07472674 0.07472674 0.07472674 0.07472674 \n",
              "        58         59         65         67         72         76         82 \n",
              "0.07472674 0.07472674 0.07472674 0.07472674 0.07472674 0.07472674 0.07472674 \n",
              "        85         90         92        101        104        105        106 \n",
              "0.07472674 0.07472674 0.07472674 0.07472674 0.07472674 0.07472674 0.07472674 \n",
              "       128        144        159        167        168        169        173 \n",
              "0.07472674 0.07472674 0.07472674 0.07472674 0.07472674 0.07472674 0.07472674 \n",
              "       186        187        188        199        205        209        213 \n",
              "0.07472674 0.07472674 0.07472674 0.07472674 0.07472674 0.07472674 0.07472674 \n",
              "       215        227        231        233        238        247        248 \n",
              "0.07472674 0.07472674 0.07472674 0.07472674 0.07472674 0.07472674 0.07472674 \n",
              "       251        255        256        264        277        283        284 \n",
              "0.07472674 0.07472674 0.07472674 0.07472674 0.07472674 0.07472674 0.07472674 \n",
              "       285        287        292        301        303        305        308 \n",
              "0.07472674 0.07472674 0.07472674 0.07472674 0.07472674 0.07472674 0.07472674 \n",
              "       312        319        329        331        332        343        345 \n",
              "0.07472674 0.07472674 0.07472674 0.07472674 0.07472674 0.07472674 0.07472674 \n",
              "       347        353        355        356        365        366        367 \n",
              "0.07472674 0.07472674 0.07472674 0.07472674 0.07472674 0.07472674 0.07472674 \n",
              "       369        371        388        393        395        406        413 \n",
              "0.07472674 0.07472674 0.07472674 0.07472674 0.07472674 0.07472674 0.07472674 \n",
              "       420        421        423        424        426        428        432 \n",
              "0.07472674 0.07472674 0.07472674 0.07472674 0.07472674 0.07472674 0.07472674 \n",
              "       441        447        452        454        456        458        461 \n",
              "0.07472674 0.07472674 0.07472674 0.07472674 0.07472674 0.07472674 0.07472674 \n",
              "       465        469        472        482        484        492        506 \n",
              "0.07472674 0.07472674 0.07472674 0.07472674 0.07472674 0.07472674 0.07472674 \n",
              "       508        511        515        517        520        524        529 \n",
              "0.07472674 0.07472674 0.07472674 0.07472674 0.07472674 0.07472674 0.07472674 \n",
              "       535        536        552        562        567        571        576 \n",
              "0.07472674 0.07472674 0.07472674 0.07472674 0.07472674 0.07472674 0.07472674 \n",
              "       580        585        587        588        590        596        600 \n",
              "0.07472674 0.07472674 0.07472674 0.07472674 0.07472674 0.07472674 0.07472674 \n",
              "       626        631        633        637        641        642        650 \n",
              "0.07472674 0.07472674 0.07472674 0.07472674 0.07472674 0.07472674 0.07472674 \n",
              "       653        661        666        680        690        699          1 \n",
              "0.07472674 0.07472674 0.07472674 0.07472674 0.07472674 0.07472674 0.09096250 \n",
              "         2         18         24         66         71         94        131 \n",
              "0.09096250 0.09096250 0.09096250 0.09096250 0.09096250 0.09096250 0.09096250 \n",
              "       149        151        161        164        182        194        198 \n",
              "0.09096250 0.09096250 0.09096250 0.09096250 0.09096250 0.09096250 0.09096250 \n",
              "       201        226        250        271        328        338        378 \n",
              "0.09096250 0.09096250 0.09096250 0.09096250 0.09096250 0.09096250 0.09096250 \n",
              "       390        437        442        446        448        450        463 \n",
              "0.09096250 0.09096250 0.09096250 0.09096250 0.09096250 0.09096250 0.09096250 \n",
              "       473        491        522        546        557        559        624 \n",
              "0.09096250 0.09096250 0.09096250 0.09096250 0.09096250 0.09096250 0.09096250 \n",
              "       634        638        659        692        110        471        686 \n",
              "0.09096250 0.09096250 0.09096250 0.09096250 0.10983663 0.10983663 0.10983663 \n",
              "        27         28         36         57         77         78         79 \n",
              "0.11030524 0.11030524 0.11030524 0.11030524 0.11030524 0.11030524 0.11030524 \n",
              "        89        117        129        135        150        175        178 \n",
              "0.11030524 0.11030524 0.11030524 0.11030524 0.11030524 0.11030524 0.11030524 \n",
              "       180        181        191        196        203        204        206 \n",
              "0.11030524 0.11030524 0.11030524 0.11030524 0.11030524 0.11030524 0.11030524 \n",
              "       207        208        224        230        235        239        242 \n",
              "0.11030524 0.11030524 0.11030524 0.11030524 0.11030524 0.11030524 0.11030524 \n",
              "       261        262        265        273        275        290        293 \n",
              "0.11030524 0.11030524 0.11030524 0.11030524 0.11030524 0.11030524 0.11030524 \n",
              "       297        313        317        325        342        380        394 \n",
              "0.11030524 0.11030524 0.11030524 0.11030524 0.11030524 0.11030524 0.11030524 \n",
              "       400        407        408        422        427        453        460 \n",
              "0.11030524 0.11030524 0.11030524 0.11030524 0.11030524 0.11030524 0.11030524 \n",
              "       470        479        487        488        497        532        538 \n",
              "0.11030524 0.11030524 0.11030524 0.11030524 0.11030524 0.11030524 0.11030524 \n",
              "       539        558        565        570        574        581        589 \n",
              "0.11030524 0.11030524 0.11030524 0.11030524 0.11030524 0.11030524 0.11030524 \n",
              "       592        594        598        616        621        639        644 \n",
              "0.11030524 0.11030524 0.11030524 0.11030524 0.11030524 0.11030524 0.11030524 \n",
              "       654        663        673        678        679        689        295 \n",
              "0.11030524 0.11030524 0.11030524 0.11030524 0.11030524 0.11030524 0.13260739 \n",
              "        10         42         47         93        114        130        156 \n",
              "0.13315862 0.13315862 0.13315862 0.13315862 0.13315862 0.13315862 0.13315862 \n",
              "       157        166        170        184        192        202        222 \n",
              "0.13315862 0.13315862 0.13315862 0.13315862 0.13315862 0.13315862 0.13315862 \n",
              "       229        249        298        316        322        348        349 \n",
              "0.13315862 0.13315862 0.13315862 0.13315862 0.13315862 0.13315862 0.13315862 \n",
              "       375        376        410        430        436        445        459 \n",
              "0.13315862 0.13315862 0.13315862 0.13315862 0.13315862 0.13315862 0.13315862 \n",
              "       476        478        494        496        509        512        514 \n",
              "0.13315862 0.13315862 0.13315862 0.13315862 0.13315862 0.13315862 0.13315862 \n",
              "       518        519        525        528        534        543        549 \n",
              "0.13315862 0.13315862 0.13315862 0.13315862 0.13315862 0.13315862 0.13315862 \n",
              "       577        593        595        597        608        620        625 \n",
              "0.13315862 0.13315862 0.13315862 0.13315862 0.13315862 0.13315862 0.13315862 \n",
              "       656        671        693         95        310        351        361 \n",
              "0.13315862 0.13315862 0.13315862 0.13885712 0.13885712 0.13885712 0.13885712 \n",
              "       374        540        651        674         62        160        257 \n",
              "0.13885712 0.13885712 0.13885712 0.13885712 0.15861483 0.15861483 0.15861483 \n",
              "       324        573        218        383        561          3         11 \n",
              "0.15861483 0.15861483 0.15925431 0.15925431 0.15925431 0.15989589 0.15989589 \n",
              "        26         41         44         54         56         68         69 \n",
              "0.15989589 0.15989589 0.15989589 0.15989589 0.15989589 0.15989589 0.15989589 \n",
              "        75         80        107        109        115        119        120 \n",
              "0.15989589 0.15989589 0.15989589 0.15989589 0.15989589 0.15989589 0.15989589 \n",
              "       121        124        132        142        152        155        162 \n",
              "0.15989589 0.15989589 0.15989589 0.15989589 0.15989589 0.15989589 0.15989589 \n",
              "       200        254        259        286        299        307        311 \n",
              "0.15989589 0.15989589 0.15989589 0.15989589 0.15989589 0.15989589 0.15989589 \n",
              "       326        330        357        372        397        403        411 \n",
              "0.15989589 0.15989589 0.15989589 0.15989589 0.15989589 0.15989589 0.15989589 \n",
              "       429        433        438        462        486        507        541 \n",
              "0.15989589 0.15989589 0.15989589 0.15989589 0.15989589 0.15989589 0.15989589 \n",
              "       542        591        599        603        610        614        618 \n",
              "0.15989589 0.15989589 0.15989589 0.15989589 0.15989589 0.15989589 0.15989589 \n",
              "       622        632        640        655        667        668        682 \n",
              "0.15989589 0.15989589 0.15989589 0.15989589 0.15989589 0.15989589 0.15989589 \n",
              "       683        685        695        628         74        327        481 \n",
              "0.15989589 0.15989589 0.15989589 0.16651880 0.19008241 0.19008241 0.19008241 \n",
              "       495        568        697        139        176        300        405 \n",
              "0.19008241 0.19008241 0.19081999 0.19081999 0.19081999 0.19081999 0.19081999 \n",
              "       434        440        444        457        498        569        615 \n",
              "0.19081999 0.19081999 0.19081999 0.19081999 0.19081999 0.19081999 0.19081999 \n",
              "       619        662        669        688        635         37        210 \n",
              "0.19081999 0.19081999 0.19081999 0.19081999 0.19766147 0.19842126 0.19842126 \n",
              "       417        468        583        613        270         98        232 \n",
              "0.19842126 0.19842126 0.19842126 0.19842126 0.22361363 0.22444527 0.22444527 \n",
              "       122        153        216        344        537        544        630 \n",
              "0.22527910 0.22527910 0.22527910 0.22527910 0.22527910 0.22527910 0.22527910 \n",
              "       253        111        140        280        474        526        658 \n",
              "0.22611513 0.23471455 0.23471455 0.23471455 0.23471455 0.23471455 0.23471455 \n",
              "       133        234        306         21        174        269        396 \n",
              "0.24353809 0.24353809 0.24353809 0.26579425 0.26579425 0.26579425 0.26579425 \n",
              "       451        657        141        379        412        113        466 \n",
              "0.26579425 0.26579425 0.27441221 0.27441221 0.27441221 0.27536576 0.27536576 \n",
              "       531        586        601        612        684          6         35 \n",
              "0.27536576 0.27536576 0.27536576 0.27536576 0.27536576 0.28514808 0.28514808 \n",
              "       112        602        228        323        116        244        510 \n",
              "0.28514808 0.28514808 0.30557469 0.30557469 0.30659077 0.30760873 0.30760873 \n",
              "       605        648        220        359        309        627         34 \n",
              "0.30965029 0.30965029 0.32011252 0.32011252 0.32970079 0.32970079 0.33075889 \n",
              "       195        274        373        258        647         51        362 \n",
              "0.33075889 0.33075889 0.33075889 0.35502793 0.35502793 0.35612413 0.36621005 \n",
              "       136        475         31        288        333        425        617 \n",
              "0.36732110 0.36732110 0.37978929 0.39127817 0.39127817 0.39127817 0.39127817 \n",
              "       670        320        493        183        505        315        339 \n",
              "0.39127817 0.40202126 0.40432351 0.41954764 0.41954764 0.42905728 0.42905728 \n",
              "       148          5         29        171        246        263        304 \n",
              "0.43022957 0.43140265 0.43140265 0.43140265 0.43140265 0.43140265 0.43140265 \n",
              "       354        381        443        572        636        335        415 \n",
              "0.43140265 0.43140265 0.43140265 0.43140265 0.43140265 0.45800258 0.47006424 \n",
              "       364        694         15        240        563        278        548 \n",
              "0.48455027 0.48455027 0.49667040 0.50908844 0.50908844 0.51147938 0.51147938 \n",
              "       358        606        385         61         64        172        513 \n",
              "0.55007988 0.55007988 0.56116362 0.56205182 0.56205182 0.56205182 0.56205182 \n",
              "       607         16        189        267        386        419        455 \n",
              "0.57657711 0.58837159 0.60006541 0.60006541 0.60006541 0.60006541 0.60006541 \n",
              "       551          4        346        676        296        337         88 \n",
              "0.60006541 0.60235935 0.60235935 0.60235935 0.61078904 0.61078904 0.61306113 \n",
              "       154        533        185        584        211        387        660 \n",
              "0.61306113 0.61306113 0.63691098 0.63801656 0.63912068 0.63912068 0.64022334 \n",
              "         7        318        582        578         81        321        564 \n",
              "0.66331842 0.67537070 0.68488082 0.68796995 0.69727641 0.69828525 0.70567502 \n",
              "       163         70        501        350        464         97        302 \n",
              "0.70666765 0.71855841 0.71928739 0.72048928 0.72826191 0.72920760 0.73015121 \n",
              "       489        197        360         84        137        547         99 \n",
              "0.73015121 0.74052015 0.74235437 0.74973019 0.75152115 0.75980926 0.77109170 \n",
              "       179        554        409        527        281         17        480 \n",
              "0.77789098 0.77789098 0.77953968 0.77953968 0.79653382 0.80446627 0.80596691 \n",
              "       418         60        252        341        377        352        243 \n",
              "0.82086079 0.82156318 0.82156318 0.82156318 0.82279003 0.83649346 0.83665429 \n",
              "       691        282        126        103        138        146        102 \n",
              "0.84254113 0.84443576 0.85085038 0.85792697 0.85792697 0.85792697 0.87056031 \n",
              "       123        604        268        500         91        399        223 \n",
              "0.87056031 0.87056031 0.87553542 0.87553542 0.87592801 0.87592801 0.87696409 \n",
              "       681        193        404        190        449        556        477 \n",
              "0.87696409 0.88210220 0.89147359 0.89652222 0.90263064 0.90263064 0.90609924 \n",
              "       467         25        100        219        503         12        516 \n",
              "0.90681079 0.91082921 0.91082921 0.91082921 0.91082921 0.91487406 0.91515459 \n",
              "       260         73        555         96        108        266        289 \n",
              "0.91552531 0.91990919 0.91990919 0.92247348 0.92315497 0.92341050 0.92341050 \n",
              "       698        118        398         86        217        550         33 \n",
              "0.92341050 0.92652572 0.92652572 0.92975986 0.93007164 0.93038214 0.93069136 \n",
              "       272        579        314        652        401        276         30 \n",
              "0.93345872 0.94011647 0.94304681 0.94330321 0.94803821 0.95088041 0.95104864 \n",
              "         8          9        490        623        291         22        279 \n",
              "0.95288247 0.95325780 0.95521788 0.95521788 0.95749060 0.95821561 0.95821561 \n",
              "       504        665        677        523        566        675        368 \n",
              "0.95821561 0.95821561 0.95821561 0.96011490 0.96011490 0.96011490 0.96144586 \n",
              "       483        435        392        221        416        165        158 \n",
              "0.96197433 0.96540715 0.96879488 0.97022823 0.97022823 0.97064000 0.97225035 \n",
              "       363        384        245        177        336        611        237 \n",
              "0.97442457 0.97442457 0.97616867 0.97719100 0.97727127 0.97834891 0.97862625 \n",
              "       382        127        530        643        545        145        389 \n",
              "0.97862625 0.97954536 0.98031102 0.98049485 0.98058613 0.98245220 0.98259628 \n",
              "        87        629        672        212        609         49        646 \n",
              "0.98267790 0.98267790 0.98412343 0.98419800 0.98427223 0.98486369 0.98500566 \n",
              "       236        125        575        649        225        499        294 \n",
              "0.98572195 0.98577264 0.98578912 0.98645279 0.98708587 0.98844441 0.98912806 \n",
              "       402        560        485        553        696        134        391 \n",
              "0.99064179 0.99124845 0.99206032 0.99236117 0.99279742 0.99313607 0.99316860 \n",
              "        45        414        147         38         63        521        502 \n",
              "0.99348991 0.99385492 0.99422710 0.99471403 0.99498694 0.99615940 0.99671312 \n",
              "       439        340        645        214        687         83        143 \n",
              "0.99674431 0.99737070 0.99763863 0.99786666 0.99819203 0.99860930 0.99860930 \n",
              "       664         48        241        334        431        370 \n",
              "0.99860930 0.99887189 0.99887189 0.99887727 0.99887727 0.99914064 "
            ]
          },
          "metadata": {}
        }
      ]
    },
    {
      "cell_type": "markdown",
      "source": [
        "## 21. Cria Listas Vazias"
      ],
      "metadata": {
        "id": "tqf6PMtBjC84"
      }
    },
    {
      "cell_type": "code",
      "source": [
        "acuracia       <- c()\n",
        "sensitividade  <- c()\n",
        "especificidade <- c()\n"
      ],
      "metadata": {
        "id": "lfJ-qlOgjDnI"
      },
      "execution_count": 110,
      "outputs": []
    },
    {
      "cell_type": "code",
      "source": [
        "Probabilidade"
      ],
      "metadata": {
        "colab": {
          "base_uri": "https://localhost:8080/",
          "height": 850
        },
        "id": "M7EaPM_bp3jN",
        "outputId": "dc99213c-dbdd-4ab5-935c-98e58621fd97"
      },
      "execution_count": 111,
      "outputs": [
        {
          "output_type": "display_data",
          "data": {
            "text/html": [
              "<style>\n",
              ".dl-inline {width: auto; margin:0; padding: 0}\n",
              ".dl-inline>dt, .dl-inline>dd {float: none; width: auto; display: inline-block}\n",
              ".dl-inline>dt::after {content: \":\\0020\"; padding-right: .5ex}\n",
              ".dl-inline>dt:not(:first-of-type) {padding-left: .5ex}\n",
              "</style><dl class=dl-inline><dt>1</dt><dd>0.0909624967952725</dd><dt>2</dt><dd>0.0909624967952725</dd><dt>3</dt><dd>0.159895888278546</dd><dt>4</dt><dd>0.602359352523651</dd><dt>5</dt><dd>0.431402654708017</dd><dt>6</dt><dd>0.28514808373448</dd><dt>7</dt><dd>0.663318424365633</dd><dt>8</dt><dd>0.952882474342243</dd><dt>9</dt><dd>0.95325780154155</dd><dt>10</dt><dd>0.133158619188597</dd><dt>11</dt><dd>0.159895888278546</dd><dt>12</dt><dd>0.914874059254158</dd><dt>13</dt><dd>0.0747267414250701</dd><dt>14</dt><dd>0.0747267414250701</dd><dt>15</dt><dd>0.496670401549194</dd><dt>16</dt><dd>0.588371585644853</dd><dt>17</dt><dd>0.804466269453688</dd><dt>18</dt><dd>0.0909624967952725</dd><dt>19</dt><dd>0.0747267414250701</dd><dt>20</dt><dd>0.0747267414250701</dd><dt>21</dt><dd>0.265794249799912</dd><dt>22</dt><dd>0.958215612218938</dd><dt>23</dt><dd>0.0747267414250701</dd><dt>24</dt><dd>0.0909624967952725</dd><dt>25</dt><dd>0.910829209573828</dd><dt>26</dt><dd>0.159895888278546</dd><dt>27</dt><dd>0.110305239687793</dd><dt>28</dt><dd>0.110305239687793</dd><dt>29</dt><dd>0.431402654708017</dd><dt>30</dt><dd>0.951048637915309</dd><dt>31</dt><dd>0.379789287601837</dd><dt>32</dt><dd>0.0747267414250701</dd><dt>33</dt><dd>0.930691358750525</dd><dt>34</dt><dd>0.330758887293909</dd><dt>35</dt><dd>0.28514808373448</dd><dt>36</dt><dd>0.110305239687793</dd><dt>37</dt><dd>0.198421258757924</dd><dt>38</dt><dd>0.994714030137615</dd><dt>39</dt><dd>0.0747267414250701</dd><dt>40</dt><dd>0.0747267414250701</dd><dt>41</dt><dd>0.159895888278546</dd><dt>42</dt><dd>0.133158619188597</dd><dt>43</dt><dd>0.0747267414250701</dd><dt>44</dt><dd>0.159895888278546</dd><dt>45</dt><dd>0.993489912710972</dd><dt>46</dt><dd>0.0747267414250701</dd><dt>47</dt><dd>0.133158619188597</dd><dt>48</dt><dd>0.998871890701069</dd><dt>49</dt><dd>0.984863690449978</dd><dt>50</dt><dd>0.0747267414250701</dd><dt>51</dt><dd>0.35612412829145</dd><dt>52</dt><dd>0.0747267414250701</dd><dt>53</dt><dd>0.0747267414250701</dd><dt>54</dt><dd>0.159895888278546</dd><dt>55</dt><dd>0.0747267414250701</dd><dt>56</dt><dd>0.159895888278546</dd><dt>57</dt><dd>0.110305239687793</dd><dt>58</dt><dd>0.0747267414250701</dd><dt>59</dt><dd>0.0747267414250701</dd><dt>60</dt><dd>0.821563179804718</dd><dt>61</dt><dd>0.562051820539041</dd><dt>62</dt><dd>0.158614828196775</dd><dt>63</dt><dd>0.994986939958887</dd><dt>64</dt><dd>0.562051820539041</dd><dt>65</dt><dd>0.0747267414250701</dd><dt>66</dt><dd>0.0909624967952725</dd><dt>67</dt><dd>0.0747267414250701</dd><dt>68</dt><dd>0.159895888278546</dd><dt>69</dt><dd>0.159895888278546</dd><dt>70</dt><dd>0.718558405368916</dd><dt>71</dt><dd>0.0909624967952725</dd><dt>72</dt><dd>0.0747267414250701</dd><dt>73</dt><dd>0.919909194697235</dd><dt>74</dt><dd>0.190082409291486</dd><dt>75</dt><dd>0.159895888278546</dd><dt>76</dt><dd>0.0747267414250701</dd><dt>77</dt><dd>0.110305239687793</dd><dt>78</dt><dd>0.110305239687793</dd><dt>79</dt><dd>0.110305239687793</dd><dt>80</dt><dd>0.159895888278546</dd><dt>81</dt><dd>0.697276409722491</dd><dt>82</dt><dd>0.0747267414250701</dd><dt>83</dt><dd>0.998609298562092</dd><dt>84</dt><dd>0.749730188070328</dd><dt>85</dt><dd>0.0747267414250701</dd><dt>86</dt><dd>0.92975985861269</dd><dt>87</dt><dd>0.982677899588171</dd><dt>88</dt><dd>0.613061133731052</dd><dt>89</dt><dd>0.110305239687793</dd><dt>90</dt><dd>0.0747267414250701</dd><dt>91</dt><dd>0.875928014143586</dd><dt>92</dt><dd>0.0747267414250701</dd><dt>93</dt><dd>0.133158619188597</dd><dt>94</dt><dd>0.0909624967952725</dd><dt>95</dt><dd>0.13885711875871</dd><dt>96</dt><dd>0.922473478141386</dd><dt>97</dt><dd>0.729207595187973</dd><dt>98</dt><dd>0.224445270245691</dd><dt>99</dt><dd>0.771091703467631</dd><dt>100</dt><dd>0.910829209573828</dd><dt>101</dt><dd>0.0747267414250701</dd><dt>102</dt><dd>0.870560309419116</dd><dt>103</dt><dd>0.857926972111391</dd><dt>104</dt><dd>0.0747267414250701</dd><dt>105</dt><dd>0.0747267414250701</dd><dt>106</dt><dd>0.0747267414250701</dd><dt>107</dt><dd>0.159895888278546</dd><dt>108</dt><dd>0.923154972495578</dd><dt>109</dt><dd>0.159895888278546</dd><dt>110</dt><dd>0.10983663051452</dd><dt>111</dt><dd>0.234714546537871</dd><dt>112</dt><dd>0.28514808373448</dd><dt>113</dt><dd>0.275365759715968</dd><dt>114</dt><dd>0.133158619188597</dd><dt>115</dt><dd>0.159895888278546</dd><dt>116</dt><dd>0.306590768999799</dd><dt>117</dt><dd>0.110305239687793</dd><dt>118</dt><dd>0.926525718157216</dd><dt>119</dt><dd>0.159895888278546</dd><dt>120</dt><dd>0.159895888278546</dd><dt>121</dt><dd>0.159895888278546</dd><dt>122</dt><dd>0.22527910171333</dd><dt>123</dt><dd>0.870560309419116</dd><dt>124</dt><dd>0.159895888278546</dd><dt>125</dt><dd>0.98577263528107</dd><dt>126</dt><dd>0.850850375270593</dd><dt>127</dt><dd>0.979545356835132</dd><dt>128</dt><dd>0.0747267414250701</dd><dt>129</dt><dd>0.110305239687793</dd><dt>130</dt><dd>0.133158619188597</dd><dt>131</dt><dd>0.0909624967952725</dd><dt>132</dt><dd>0.159895888278546</dd><dt>133</dt><dd>0.243538091261021</dd><dt>134</dt><dd>0.993136067288857</dd><dt>135</dt><dd>0.110305239687793</dd><dt>136</dt><dd>0.367321104819539</dd><dt>137</dt><dd>0.751521152766203</dd><dt>138</dt><dd>0.857926972111391</dd><dt>139</dt><dd>0.19081999012857</dd><dt>140</dt><dd>0.234714546537871</dd><dt>141</dt><dd>0.274412206732746</dd><dt>142</dt><dd>0.159895888278546</dd><dt>143</dt><dd>0.998609298562092</dd><dt>144</dt><dd>0.0747267414250701</dd><dt>145</dt><dd>0.982452195501144</dd><dt>146</dt><dd>0.857926972111391</dd><dt>147</dt><dd>0.994227097308825</dd><dt>148</dt><dd>0.430229574681256</dd><dt>149</dt><dd>0.0909624967952725</dd><dt>150</dt><dd>0.110305239687793</dd><dt>151</dt><dd>0.0909624967952725</dd><dt>152</dt><dd>0.159895888278546</dd><dt>153</dt><dd>0.22527910171333</dd><dt>154</dt><dd>0.613061133731052</dd><dt>155</dt><dd>0.159895888278546</dd><dt>156</dt><dd>0.133158619188597</dd><dt>157</dt><dd>0.133158619188597</dd><dt>158</dt><dd>0.972250353080042</dd><dt>159</dt><dd>0.0747267414250701</dd><dt>160</dt><dd>0.158614828196775</dd><dt>161</dt><dd>0.0909624967952725</dd><dt>162</dt><dd>0.159895888278546</dd><dt>163</dt><dd>0.706667650772455</dd><dt>164</dt><dd>0.0909624967952725</dd><dt>165</dt><dd>0.970639998296067</dd><dt>166</dt><dd>0.133158619188597</dd><dt>167</dt><dd>0.0747267414250701</dd><dt>168</dt><dd>0.0747267414250701</dd><dt>169</dt><dd>0.0747267414250701</dd><dt>170</dt><dd>0.133158619188597</dd><dt>171</dt><dd>0.431402654708017</dd><dt>172</dt><dd>0.562051820539041</dd><dt>173</dt><dd>0.0747267414250701</dd><dt>174</dt><dd>0.265794249799912</dd><dt>175</dt><dd>0.110305239687793</dd><dt>176</dt><dd>0.19081999012857</dd><dt>177</dt><dd>0.977190998757116</dd><dt>178</dt><dd>0.110305239687793</dd><dt>179</dt><dd>0.777890975462454</dd><dt>180</dt><dd>0.110305239687793</dd><dt>181</dt><dd>0.110305239687793</dd><dt>182</dt><dd>0.0909624967952725</dd><dt>183</dt><dd>0.419547639094742</dd><dt>184</dt><dd>0.133158619188597</dd><dt>185</dt><dd>0.636910984424275</dd><dt>186</dt><dd>0.0747267414250701</dd><dt>187</dt><dd>0.0747267414250701</dd><dt>188</dt><dd>0.0747267414250701</dd><dt>189</dt><dd>0.600065412965045</dd><dt>190</dt><dd>0.896522222400301</dd><dt>191</dt><dd>0.110305239687793</dd><dt>192</dt><dd>0.133158619188597</dd><dt>193</dt><dd>0.882102204609361</dd><dt>194</dt><dd>0.0909624967952725</dd><dt>195</dt><dd>0.330758887293909</dd><dt>196</dt><dd>0.110305239687793</dd><dt>197</dt><dd>0.740520151186592</dd><dt>198</dt><dd>0.0909624967952725</dd><dt>199</dt><dd>0.0747267414250701</dd><dt>200</dt><dd>0.159895888278546</dd><dt>201</dt><dd>⋯</dd><dt>202</dt><dd>0.875535419535693</dd><dt>203</dt><dd>0.71928739418676</dd><dt>204</dt><dd>0.996713116956989</dd><dt>205</dt><dd>0.910829209573828</dd><dt>206</dt><dd>0.958215612218938</dd><dt>207</dt><dd>0.419547639094742</dd><dt>208</dt><dd>0.0747267414250701</dd><dt>209</dt><dd>0.159895888278546</dd><dt>210</dt><dd>0.0747267414250701</dd><dt>211</dt><dd>0.133158619188597</dd><dt>212</dt><dd>0.307608734844744</dd><dt>213</dt><dd>0.0747267414250701</dd><dt>214</dt><dd>0.133158619188597</dd><dt>215</dt><dd>0.562051820539041</dd><dt>216</dt><dd>0.133158619188597</dd><dt>217</dt><dd>0.0747267414250701</dd><dt>218</dt><dd>0.915154593912409</dd><dt>219</dt><dd>0.0747267414250701</dd><dt>220</dt><dd>0.133158619188597</dd><dt>221</dt><dd>0.133158619188597</dd><dt>222</dt><dd>0.0747267414250701</dd><dt>223</dt><dd>0.996159401458276</dd><dt>224</dt><dd>0.0909624967952725</dd><dt>225</dt><dd>0.960114896554388</dd><dt>226</dt><dd>0.0747267414250701</dd><dt>227</dt><dd>0.133158619188597</dd><dt>228</dt><dd>0.234714546537871</dd><dt>229</dt><dd>0.779539675993111</dd><dt>230</dt><dd>0.133158619188597</dd><dt>231</dt><dd>0.0747267414250701</dd><dt>232</dt><dd>0.980311020328613</dd><dt>233</dt><dd>0.275365759715968</dd><dt>234</dt><dd>0.110305239687793</dd><dt>235</dt><dd>0.613061133731052</dd><dt>236</dt><dd>0.133158619188597</dd><dt>237</dt><dd>0.0747267414250701</dd><dt>238</dt><dd>0.0747267414250701</dd><dt>239</dt><dd>0.22527910171333</dd><dt>240</dt><dd>0.110305239687793</dd><dt>241</dt><dd>0.110305239687793</dd><dt>242</dt><dd>0.13885711875871</dd><dt>243</dt><dd>0.159895888278546</dd><dt>244</dt><dd>0.159895888278546</dd><dt>245</dt><dd>0.133158619188597</dd><dt>246</dt><dd>0.22527910171333</dd><dt>247</dt><dd>0.980586126808533</dd><dt>248</dt><dd>0.0909624967952725</dd><dt>249</dt><dd>0.759809263004641</dd><dt>250</dt><dd>0.511479382614332</dd><dt>251</dt><dd>0.133158619188597</dd><dt>252</dt><dd>0.930382136099249</dd><dt>253</dt><dd>0.600065412965045</dd><dt>254</dt><dd>0.0747267414250701</dd><dt>255</dt><dd>0.99236117188543</dd><dt>256</dt><dd>0.777890975462454</dd><dt>257</dt><dd>0.919909194697235</dd><dt>258</dt><dd>0.902630641030897</dd><dt>259</dt><dd>0.0909624967952725</dd><dt>260</dt><dd>0.110305239687793</dd><dt>261</dt><dd>0.0909624967952725</dd><dt>262</dt><dd>0.99124844988402</dd><dt>263</dt><dd>0.159254314112973</dd><dt>264</dt><dd>0.0747267414250701</dd><dt>265</dt><dd>0.509088442282788</dd><dt>266</dt><dd>0.705675021091938</dd><dt>267</dt><dd>0.110305239687793</dd><dt>268</dt><dd>0.960114896554388</dd><dt>269</dt><dd>0.0747267414250701</dd><dt>270</dt><dd>0.190082409291486</dd><dt>271</dt><dd>0.19081999012857</dd><dt>272</dt><dd>0.110305239687793</dd><dt>273</dt><dd>0.0747267414250701</dd><dt>274</dt><dd>0.431402654708017</dd><dt>275</dt><dd>0.158614828196775</dd><dt>276</dt><dd>0.110305239687793</dd><dt>277</dt><dd>0.985789124186913</dd><dt>278</dt><dd>0.0747267414250701</dd><dt>279</dt><dd>0.133158619188597</dd><dt>280</dt><dd>0.687969949942274</dd><dt>281</dt><dd>0.940116473383247</dd><dt>282</dt><dd>0.0747267414250701</dd><dt>283</dt><dd>0.110305239687793</dd><dt>284</dt><dd>0.68488082003999</dd><dt>285</dt><dd>0.198421258757924</dd><dt>286</dt><dd>0.638016563953256</dd><dt>287</dt><dd>0.0747267414250701</dd><dt>288</dt><dd>0.275365759715968</dd><dt>289</dt><dd>0.0747267414250701</dd><dt>290</dt><dd>0.0747267414250701</dd><dt>291</dt><dd>0.110305239687793</dd><dt>292</dt><dd>0.0747267414250701</dd><dt>293</dt><dd>0.159895888278546</dd><dt>294</dt><dd>0.110305239687793</dd><dt>295</dt><dd>0.133158619188597</dd><dt>296</dt><dd>0.110305239687793</dd><dt>297</dt><dd>0.133158619188597</dd><dt>298</dt><dd>0.0747267414250701</dd><dt>299</dt><dd>0.133158619188597</dd><dt>300</dt><dd>0.110305239687793</dd><dt>301</dt><dd>0.159895888278546</dd><dt>302</dt><dd>0.0747267414250701</dd><dt>303</dt><dd>0.275365759715968</dd><dt>304</dt><dd>0.28514808373448</dd><dt>305</dt><dd>0.159895888278546</dd><dt>306</dt><dd>0.870560309419116</dd><dt>307</dt><dd>0.309650286700559</dd><dt>308</dt><dd>0.550079881201083</dd><dt>309</dt><dd>0.576577106640975</dd><dt>310</dt><dd>0.133158619188597</dd><dt>311</dt><dd>0.984272230403743</dd><dt>312</dt><dd>0.159895888278546</dd><dt>313</dt><dd>0.978348914979894</dd><dt>314</dt><dd>0.275365759715968</dd><dt>315</dt><dd>0.198421258757924</dd><dt>316</dt><dd>0.159895888278546</dd><dt>317</dt><dd>0.19081999012857</dd><dt>318</dt><dd>0.110305239687793</dd><dt>319</dt><dd>0.391278165445797</dd><dt>320</dt><dd>0.159895888278546</dd><dt>321</dt><dd>0.19081999012857</dd><dt>322</dt><dd>0.133158619188597</dd><dt>323</dt><dd>0.110305239687793</dd><dt>324</dt><dd>0.159895888278546</dd><dt>325</dt><dd>0.955217878344134</dd><dt>326</dt><dd>0.0909624967952725</dd><dt>327</dt><dd>0.133158619188597</dd><dt>328</dt><dd>0.0747267414250701</dd><dt>329</dt><dd>0.329700791097143</dd><dt>330</dt><dd>0.166518802407586</dd><dt>331</dt><dd>0.982677899588171</dd><dt>332</dt><dd>0.22527910171333</dd><dt>333</dt><dd>0.0747267414250701</dd><dt>334</dt><dd>0.159895888278546</dd><dt>335</dt><dd>0.0747267414250701</dd><dt>336</dt><dd>0.0909624967952725</dd><dt>337</dt><dd>0.197661473660173</dd><dt>338</dt><dd>0.431402654708017</dd><dt>339</dt><dd>0.0747267414250701</dd><dt>340</dt><dd>0.0909624967952725</dd><dt>341</dt><dd>0.110305239687793</dd><dt>342</dt><dd>0.159895888278546</dd><dt>343</dt><dd>0.0747267414250701</dd><dt>344</dt><dd>0.0747267414250701</dd><dt>345</dt><dd>0.980494845878745</dd><dt>346</dt><dd>0.110305239687793</dd><dt>347</dt><dd>0.997638625719676</dd><dt>348</dt><dd>0.985005660284357</dd><dt>349</dt><dd>0.355027934776369</dd><dt>350</dt><dd>0.309650286700559</dd><dt>351</dt><dd>0.986452790669783</dd><dt>352</dt><dd>0.0747267414250701</dd><dt>353</dt><dd>0.13885711875871</dd><dt>354</dt><dd>0.943303209205711</dd><dt>355</dt><dd>0.0747267414250701</dd><dt>356</dt><dd>0.110305239687793</dd><dt>357</dt><dd>0.159895888278546</dd><dt>358</dt><dd>0.133158619188597</dd><dt>359</dt><dd>0.265794249799912</dd><dt>360</dt><dd>0.234714546537871</dd><dt>361</dt><dd>0.0909624967952725</dd><dt>362</dt><dd>0.640223336371221</dd><dt>363</dt><dd>0.0747267414250701</dd><dt>364</dt><dd>0.19081999012857</dd><dt>365</dt><dd>0.110305239687793</dd><dt>366</dt><dd>0.998609298562092</dd><dt>367</dt><dd>0.958215612218938</dd><dt>368</dt><dd>0.0747267414250701</dd><dt>369</dt><dd>0.159895888278546</dd><dt>370</dt><dd>0.159895888278546</dd><dt>371</dt><dd>0.19081999012857</dd><dt>372</dt><dd>0.391278165445797</dd><dt>373</dt><dd>0.133158619188597</dd><dt>374</dt><dd>0.984123428217377</dd><dt>375</dt><dd>0.110305239687793</dd><dt>376</dt><dd>0.13885711875871</dd><dt>377</dt><dd>0.960114896554388</dd><dt>378</dt><dd>0.602359352523651</dd><dt>379</dt><dd>0.958215612218938</dd><dt>380</dt><dd>0.110305239687793</dd><dt>381</dt><dd>0.110305239687793</dd><dt>382</dt><dd>0.0747267414250701</dd><dt>383</dt><dd>0.876964093197874</dd><dt>384</dt><dd>0.159895888278546</dd><dt>385</dt><dd>0.159895888278546</dd><dt>386</dt><dd>0.275365759715968</dd><dt>387</dt><dd>0.159895888278546</dd><dt>388</dt><dd>0.10983663051452</dd><dt>389</dt><dd>0.998192034155166</dd><dt>390</dt><dd>0.19081999012857</dd><dt>391</dt><dd>0.110305239687793</dd><dt>392</dt><dd>0.0747267414250701</dd><dt>393</dt><dd>0.842541128968341</dd><dt>394</dt><dd>0.0909624967952725</dd><dt>395</dt><dd>0.133158619188597</dd><dt>396</dt><dd>0.4845502700727</dd><dt>397</dt><dd>0.159895888278546</dd><dt>398</dt><dd>0.992797418382369</dd><dt>399</dt><dd>0.19081999012857</dd><dt>400</dt><dd>0.923410501800968</dd><dt>401</dt><dd>0.0747267414250701</dd></dl>\n"
            ],
            "text/markdown": "1\n:   0.09096249679527252\n:   0.09096249679527253\n:   0.1598958882785464\n:   0.6023593525236515\n:   0.4314026547080176\n:   0.285148083734487\n:   0.6633184243656338\n:   0.9528824743422439\n:   0.9532578015415510\n:   0.13315861918859711\n:   0.15989588827854612\n:   0.91487405925415813\n:   0.074726741425070114\n:   0.074726741425070115\n:   0.49667040154919416\n:   0.58837158564485317\n:   0.80446626945368818\n:   0.090962496795272519\n:   0.074726741425070120\n:   0.074726741425070121\n:   0.26579424979991222\n:   0.95821561221893823\n:   0.074726741425070124\n:   0.090962496795272525\n:   0.91082920957382826\n:   0.15989588827854627\n:   0.11030523968779328\n:   0.11030523968779329\n:   0.43140265470801730\n:   0.95104863791530931\n:   0.37978928760183732\n:   0.074726741425070133\n:   0.93069135875052534\n:   0.33075888729390935\n:   0.2851480837344836\n:   0.11030523968779337\n:   0.19842125875792438\n:   0.99471403013761539\n:   0.074726741425070140\n:   0.074726741425070141\n:   0.15989588827854642\n:   0.13315861918859743\n:   0.074726741425070144\n:   0.15989588827854645\n:   0.99348991271097246\n:   0.074726741425070147\n:   0.13315861918859748\n:   0.99887189070106949\n:   0.98486369044997850\n:   0.074726741425070151\n:   0.3561241282914552\n:   0.074726741425070153\n:   0.074726741425070154\n:   0.15989588827854655\n:   0.074726741425070156\n:   0.15989588827854657\n:   0.11030523968779358\n:   0.074726741425070159\n:   0.074726741425070160\n:   0.82156317980471861\n:   0.56205182053904162\n:   0.15861482819677563\n:   0.99498693995888764\n:   0.56205182053904165\n:   0.074726741425070166\n:   0.090962496795272567\n:   0.074726741425070168\n:   0.15989588827854669\n:   0.15989588827854670\n:   0.71855840536891671\n:   0.090962496795272572\n:   0.074726741425070173\n:   0.91990919469723574\n:   0.19008240929148675\n:   0.15989588827854676\n:   0.074726741425070177\n:   0.11030523968779378\n:   0.11030523968779379\n:   0.11030523968779380\n:   0.15989588827854681\n:   0.69727640972249182\n:   0.074726741425070183\n:   0.99860929856209284\n:   0.74973018807032885\n:   0.074726741425070186\n:   0.9297598586126987\n:   0.98267789958817188\n:   0.61306113373105289\n:   0.11030523968779390\n:   0.074726741425070191\n:   0.87592801414358692\n:   0.074726741425070193\n:   0.13315861918859794\n:   0.090962496795272595\n:   0.1388571187587196\n:   0.92247347814138697\n:   0.72920759518797398\n:   0.22444527024569199\n:   0.771091703467631100\n:   0.910829209573828101\n:   0.0747267414250701102\n:   0.870560309419116103\n:   0.857926972111391104\n:   0.0747267414250701105\n:   0.0747267414250701106\n:   0.0747267414250701107\n:   0.159895888278546108\n:   0.923154972495578109\n:   0.159895888278546110\n:   0.10983663051452111\n:   0.234714546537871112\n:   0.28514808373448113\n:   0.275365759715968114\n:   0.133158619188597115\n:   0.159895888278546116\n:   0.306590768999799117\n:   0.110305239687793118\n:   0.926525718157216119\n:   0.159895888278546120\n:   0.159895888278546121\n:   0.159895888278546122\n:   0.22527910171333123\n:   0.870560309419116124\n:   0.159895888278546125\n:   0.98577263528107126\n:   0.850850375270593127\n:   0.979545356835132128\n:   0.0747267414250701129\n:   0.110305239687793130\n:   0.133158619188597131\n:   0.0909624967952725132\n:   0.159895888278546133\n:   0.243538091261021134\n:   0.993136067288857135\n:   0.110305239687793136\n:   0.367321104819539137\n:   0.751521152766203138\n:   0.857926972111391139\n:   0.19081999012857140\n:   0.234714546537871141\n:   0.274412206732746142\n:   0.159895888278546143\n:   0.998609298562092144\n:   0.0747267414250701145\n:   0.982452195501144146\n:   0.857926972111391147\n:   0.994227097308825148\n:   0.430229574681256149\n:   0.0909624967952725150\n:   0.110305239687793151\n:   0.0909624967952725152\n:   0.159895888278546153\n:   0.22527910171333154\n:   0.613061133731052155\n:   0.159895888278546156\n:   0.133158619188597157\n:   0.133158619188597158\n:   0.972250353080042159\n:   0.0747267414250701160\n:   0.158614828196775161\n:   0.0909624967952725162\n:   0.159895888278546163\n:   0.706667650772455164\n:   0.0909624967952725165\n:   0.970639998296067166\n:   0.133158619188597167\n:   0.0747267414250701168\n:   0.0747267414250701169\n:   0.0747267414250701170\n:   0.133158619188597171\n:   0.431402654708017172\n:   0.562051820539041173\n:   0.0747267414250701174\n:   0.265794249799912175\n:   0.110305239687793176\n:   0.19081999012857177\n:   0.977190998757116178\n:   0.110305239687793179\n:   0.777890975462454180\n:   0.110305239687793181\n:   0.110305239687793182\n:   0.0909624967952725183\n:   0.419547639094742184\n:   0.133158619188597185\n:   0.636910984424275186\n:   0.0747267414250701187\n:   0.0747267414250701188\n:   0.0747267414250701189\n:   0.600065412965045190\n:   0.896522222400301191\n:   0.110305239687793192\n:   0.133158619188597193\n:   0.882102204609361194\n:   0.0909624967952725195\n:   0.330758887293909196\n:   0.110305239687793197\n:   0.740520151186592198\n:   0.0909624967952725199\n:   0.0747267414250701200\n:   0.159895888278546201\n:   ⋯202\n:   0.875535419535693203\n:   0.71928739418676204\n:   0.996713116956989205\n:   0.910829209573828206\n:   0.958215612218938207\n:   0.419547639094742208\n:   0.0747267414250701209\n:   0.159895888278546210\n:   0.0747267414250701211\n:   0.133158619188597212\n:   0.307608734844744213\n:   0.0747267414250701214\n:   0.133158619188597215\n:   0.562051820539041216\n:   0.133158619188597217\n:   0.0747267414250701218\n:   0.915154593912409219\n:   0.0747267414250701220\n:   0.133158619188597221\n:   0.133158619188597222\n:   0.0747267414250701223\n:   0.996159401458276224\n:   0.0909624967952725225\n:   0.960114896554388226\n:   0.0747267414250701227\n:   0.133158619188597228\n:   0.234714546537871229\n:   0.779539675993111230\n:   0.133158619188597231\n:   0.0747267414250701232\n:   0.980311020328613233\n:   0.275365759715968234\n:   0.110305239687793235\n:   0.613061133731052236\n:   0.133158619188597237\n:   0.0747267414250701238\n:   0.0747267414250701239\n:   0.22527910171333240\n:   0.110305239687793241\n:   0.110305239687793242\n:   0.13885711875871243\n:   0.159895888278546244\n:   0.159895888278546245\n:   0.133158619188597246\n:   0.22527910171333247\n:   0.980586126808533248\n:   0.0909624967952725249\n:   0.759809263004641250\n:   0.511479382614332251\n:   0.133158619188597252\n:   0.930382136099249253\n:   0.600065412965045254\n:   0.0747267414250701255\n:   0.99236117188543256\n:   0.777890975462454257\n:   0.919909194697235258\n:   0.902630641030897259\n:   0.0909624967952725260\n:   0.110305239687793261\n:   0.0909624967952725262\n:   0.99124844988402263\n:   0.159254314112973264\n:   0.0747267414250701265\n:   0.509088442282788266\n:   0.705675021091938267\n:   0.110305239687793268\n:   0.960114896554388269\n:   0.0747267414250701270\n:   0.190082409291486271\n:   0.19081999012857272\n:   0.110305239687793273\n:   0.0747267414250701274\n:   0.431402654708017275\n:   0.158614828196775276\n:   0.110305239687793277\n:   0.985789124186913278\n:   0.0747267414250701279\n:   0.133158619188597280\n:   0.687969949942274281\n:   0.940116473383247282\n:   0.0747267414250701283\n:   0.110305239687793284\n:   0.68488082003999285\n:   0.198421258757924286\n:   0.638016563953256287\n:   0.0747267414250701288\n:   0.275365759715968289\n:   0.0747267414250701290\n:   0.0747267414250701291\n:   0.110305239687793292\n:   0.0747267414250701293\n:   0.159895888278546294\n:   0.110305239687793295\n:   0.133158619188597296\n:   0.110305239687793297\n:   0.133158619188597298\n:   0.0747267414250701299\n:   0.133158619188597300\n:   0.110305239687793301\n:   0.159895888278546302\n:   0.0747267414250701303\n:   0.275365759715968304\n:   0.28514808373448305\n:   0.159895888278546306\n:   0.870560309419116307\n:   0.309650286700559308\n:   0.550079881201083309\n:   0.576577106640975310\n:   0.133158619188597311\n:   0.984272230403743312\n:   0.159895888278546313\n:   0.978348914979894314\n:   0.275365759715968315\n:   0.198421258757924316\n:   0.159895888278546317\n:   0.19081999012857318\n:   0.110305239687793319\n:   0.391278165445797320\n:   0.159895888278546321\n:   0.19081999012857322\n:   0.133158619188597323\n:   0.110305239687793324\n:   0.159895888278546325\n:   0.955217878344134326\n:   0.0909624967952725327\n:   0.133158619188597328\n:   0.0747267414250701329\n:   0.329700791097143330\n:   0.166518802407586331\n:   0.982677899588171332\n:   0.22527910171333333\n:   0.0747267414250701334\n:   0.159895888278546335\n:   0.0747267414250701336\n:   0.0909624967952725337\n:   0.197661473660173338\n:   0.431402654708017339\n:   0.0747267414250701340\n:   0.0909624967952725341\n:   0.110305239687793342\n:   0.159895888278546343\n:   0.0747267414250701344\n:   0.0747267414250701345\n:   0.980494845878745346\n:   0.110305239687793347\n:   0.997638625719676348\n:   0.985005660284357349\n:   0.355027934776369350\n:   0.309650286700559351\n:   0.986452790669783352\n:   0.0747267414250701353\n:   0.13885711875871354\n:   0.943303209205711355\n:   0.0747267414250701356\n:   0.110305239687793357\n:   0.159895888278546358\n:   0.133158619188597359\n:   0.265794249799912360\n:   0.234714546537871361\n:   0.0909624967952725362\n:   0.640223336371221363\n:   0.0747267414250701364\n:   0.19081999012857365\n:   0.110305239687793366\n:   0.998609298562092367\n:   0.958215612218938368\n:   0.0747267414250701369\n:   0.159895888278546370\n:   0.159895888278546371\n:   0.19081999012857372\n:   0.391278165445797373\n:   0.133158619188597374\n:   0.984123428217377375\n:   0.110305239687793376\n:   0.13885711875871377\n:   0.960114896554388378\n:   0.602359352523651379\n:   0.958215612218938380\n:   0.110305239687793381\n:   0.110305239687793382\n:   0.0747267414250701383\n:   0.876964093197874384\n:   0.159895888278546385\n:   0.159895888278546386\n:   0.275365759715968387\n:   0.159895888278546388\n:   0.10983663051452389\n:   0.998192034155166390\n:   0.19081999012857391\n:   0.110305239687793392\n:   0.0747267414250701393\n:   0.842541128968341394\n:   0.0909624967952725395\n:   0.133158619188597396\n:   0.4845502700727397\n:   0.159895888278546398\n:   0.992797418382369399\n:   0.19081999012857400\n:   0.923410501800968401\n:   0.0747267414250701\n\n",
            "text/latex": "\\begin{description*}\n\\item[1] 0.0909624967952725\n\\item[2] 0.0909624967952725\n\\item[3] 0.159895888278546\n\\item[4] 0.602359352523651\n\\item[5] 0.431402654708017\n\\item[6] 0.28514808373448\n\\item[7] 0.663318424365633\n\\item[8] 0.952882474342243\n\\item[9] 0.95325780154155\n\\item[10] 0.133158619188597\n\\item[11] 0.159895888278546\n\\item[12] 0.914874059254158\n\\item[13] 0.0747267414250701\n\\item[14] 0.0747267414250701\n\\item[15] 0.496670401549194\n\\item[16] 0.588371585644853\n\\item[17] 0.804466269453688\n\\item[18] 0.0909624967952725\n\\item[19] 0.0747267414250701\n\\item[20] 0.0747267414250701\n\\item[21] 0.265794249799912\n\\item[22] 0.958215612218938\n\\item[23] 0.0747267414250701\n\\item[24] 0.0909624967952725\n\\item[25] 0.910829209573828\n\\item[26] 0.159895888278546\n\\item[27] 0.110305239687793\n\\item[28] 0.110305239687793\n\\item[29] 0.431402654708017\n\\item[30] 0.951048637915309\n\\item[31] 0.379789287601837\n\\item[32] 0.0747267414250701\n\\item[33] 0.930691358750525\n\\item[34] 0.330758887293909\n\\item[35] 0.28514808373448\n\\item[36] 0.110305239687793\n\\item[37] 0.198421258757924\n\\item[38] 0.994714030137615\n\\item[39] 0.0747267414250701\n\\item[40] 0.0747267414250701\n\\item[41] 0.159895888278546\n\\item[42] 0.133158619188597\n\\item[43] 0.0747267414250701\n\\item[44] 0.159895888278546\n\\item[45] 0.993489912710972\n\\item[46] 0.0747267414250701\n\\item[47] 0.133158619188597\n\\item[48] 0.998871890701069\n\\item[49] 0.984863690449978\n\\item[50] 0.0747267414250701\n\\item[51] 0.35612412829145\n\\item[52] 0.0747267414250701\n\\item[53] 0.0747267414250701\n\\item[54] 0.159895888278546\n\\item[55] 0.0747267414250701\n\\item[56] 0.159895888278546\n\\item[57] 0.110305239687793\n\\item[58] 0.0747267414250701\n\\item[59] 0.0747267414250701\n\\item[60] 0.821563179804718\n\\item[61] 0.562051820539041\n\\item[62] 0.158614828196775\n\\item[63] 0.994986939958887\n\\item[64] 0.562051820539041\n\\item[65] 0.0747267414250701\n\\item[66] 0.0909624967952725\n\\item[67] 0.0747267414250701\n\\item[68] 0.159895888278546\n\\item[69] 0.159895888278546\n\\item[70] 0.718558405368916\n\\item[71] 0.0909624967952725\n\\item[72] 0.0747267414250701\n\\item[73] 0.919909194697235\n\\item[74] 0.190082409291486\n\\item[75] 0.159895888278546\n\\item[76] 0.0747267414250701\n\\item[77] 0.110305239687793\n\\item[78] 0.110305239687793\n\\item[79] 0.110305239687793\n\\item[80] 0.159895888278546\n\\item[81] 0.697276409722491\n\\item[82] 0.0747267414250701\n\\item[83] 0.998609298562092\n\\item[84] 0.749730188070328\n\\item[85] 0.0747267414250701\n\\item[86] 0.92975985861269\n\\item[87] 0.982677899588171\n\\item[88] 0.613061133731052\n\\item[89] 0.110305239687793\n\\item[90] 0.0747267414250701\n\\item[91] 0.875928014143586\n\\item[92] 0.0747267414250701\n\\item[93] 0.133158619188597\n\\item[94] 0.0909624967952725\n\\item[95] 0.13885711875871\n\\item[96] 0.922473478141386\n\\item[97] 0.729207595187973\n\\item[98] 0.224445270245691\n\\item[99] 0.771091703467631\n\\item[100] 0.910829209573828\n\\item[101] 0.0747267414250701\n\\item[102] 0.870560309419116\n\\item[103] 0.857926972111391\n\\item[104] 0.0747267414250701\n\\item[105] 0.0747267414250701\n\\item[106] 0.0747267414250701\n\\item[107] 0.159895888278546\n\\item[108] 0.923154972495578\n\\item[109] 0.159895888278546\n\\item[110] 0.10983663051452\n\\item[111] 0.234714546537871\n\\item[112] 0.28514808373448\n\\item[113] 0.275365759715968\n\\item[114] 0.133158619188597\n\\item[115] 0.159895888278546\n\\item[116] 0.306590768999799\n\\item[117] 0.110305239687793\n\\item[118] 0.926525718157216\n\\item[119] 0.159895888278546\n\\item[120] 0.159895888278546\n\\item[121] 0.159895888278546\n\\item[122] 0.22527910171333\n\\item[123] 0.870560309419116\n\\item[124] 0.159895888278546\n\\item[125] 0.98577263528107\n\\item[126] 0.850850375270593\n\\item[127] 0.979545356835132\n\\item[128] 0.0747267414250701\n\\item[129] 0.110305239687793\n\\item[130] 0.133158619188597\n\\item[131] 0.0909624967952725\n\\item[132] 0.159895888278546\n\\item[133] 0.243538091261021\n\\item[134] 0.993136067288857\n\\item[135] 0.110305239687793\n\\item[136] 0.367321104819539\n\\item[137] 0.751521152766203\n\\item[138] 0.857926972111391\n\\item[139] 0.19081999012857\n\\item[140] 0.234714546537871\n\\item[141] 0.274412206732746\n\\item[142] 0.159895888278546\n\\item[143] 0.998609298562092\n\\item[144] 0.0747267414250701\n\\item[145] 0.982452195501144\n\\item[146] 0.857926972111391\n\\item[147] 0.994227097308825\n\\item[148] 0.430229574681256\n\\item[149] 0.0909624967952725\n\\item[150] 0.110305239687793\n\\item[151] 0.0909624967952725\n\\item[152] 0.159895888278546\n\\item[153] 0.22527910171333\n\\item[154] 0.613061133731052\n\\item[155] 0.159895888278546\n\\item[156] 0.133158619188597\n\\item[157] 0.133158619188597\n\\item[158] 0.972250353080042\n\\item[159] 0.0747267414250701\n\\item[160] 0.158614828196775\n\\item[161] 0.0909624967952725\n\\item[162] 0.159895888278546\n\\item[163] 0.706667650772455\n\\item[164] 0.0909624967952725\n\\item[165] 0.970639998296067\n\\item[166] 0.133158619188597\n\\item[167] 0.0747267414250701\n\\item[168] 0.0747267414250701\n\\item[169] 0.0747267414250701\n\\item[170] 0.133158619188597\n\\item[171] 0.431402654708017\n\\item[172] 0.562051820539041\n\\item[173] 0.0747267414250701\n\\item[174] 0.265794249799912\n\\item[175] 0.110305239687793\n\\item[176] 0.19081999012857\n\\item[177] 0.977190998757116\n\\item[178] 0.110305239687793\n\\item[179] 0.777890975462454\n\\item[180] 0.110305239687793\n\\item[181] 0.110305239687793\n\\item[182] 0.0909624967952725\n\\item[183] 0.419547639094742\n\\item[184] 0.133158619188597\n\\item[185] 0.636910984424275\n\\item[186] 0.0747267414250701\n\\item[187] 0.0747267414250701\n\\item[188] 0.0747267414250701\n\\item[189] 0.600065412965045\n\\item[190] 0.896522222400301\n\\item[191] 0.110305239687793\n\\item[192] 0.133158619188597\n\\item[193] 0.882102204609361\n\\item[194] 0.0909624967952725\n\\item[195] 0.330758887293909\n\\item[196] 0.110305239687793\n\\item[197] 0.740520151186592\n\\item[198] 0.0909624967952725\n\\item[199] 0.0747267414250701\n\\item[200] 0.159895888278546\n\\item[201] ⋯\n\\item[202] 0.875535419535693\n\\item[203] 0.71928739418676\n\\item[204] 0.996713116956989\n\\item[205] 0.910829209573828\n\\item[206] 0.958215612218938\n\\item[207] 0.419547639094742\n\\item[208] 0.0747267414250701\n\\item[209] 0.159895888278546\n\\item[210] 0.0747267414250701\n\\item[211] 0.133158619188597\n\\item[212] 0.307608734844744\n\\item[213] 0.0747267414250701\n\\item[214] 0.133158619188597\n\\item[215] 0.562051820539041\n\\item[216] 0.133158619188597\n\\item[217] 0.0747267414250701\n\\item[218] 0.915154593912409\n\\item[219] 0.0747267414250701\n\\item[220] 0.133158619188597\n\\item[221] 0.133158619188597\n\\item[222] 0.0747267414250701\n\\item[223] 0.996159401458276\n\\item[224] 0.0909624967952725\n\\item[225] 0.960114896554388\n\\item[226] 0.0747267414250701\n\\item[227] 0.133158619188597\n\\item[228] 0.234714546537871\n\\item[229] 0.779539675993111\n\\item[230] 0.133158619188597\n\\item[231] 0.0747267414250701\n\\item[232] 0.980311020328613\n\\item[233] 0.275365759715968\n\\item[234] 0.110305239687793\n\\item[235] 0.613061133731052\n\\item[236] 0.133158619188597\n\\item[237] 0.0747267414250701\n\\item[238] 0.0747267414250701\n\\item[239] 0.22527910171333\n\\item[240] 0.110305239687793\n\\item[241] 0.110305239687793\n\\item[242] 0.13885711875871\n\\item[243] 0.159895888278546\n\\item[244] 0.159895888278546\n\\item[245] 0.133158619188597\n\\item[246] 0.22527910171333\n\\item[247] 0.980586126808533\n\\item[248] 0.0909624967952725\n\\item[249] 0.759809263004641\n\\item[250] 0.511479382614332\n\\item[251] 0.133158619188597\n\\item[252] 0.930382136099249\n\\item[253] 0.600065412965045\n\\item[254] 0.0747267414250701\n\\item[255] 0.99236117188543\n\\item[256] 0.777890975462454\n\\item[257] 0.919909194697235\n\\item[258] 0.902630641030897\n\\item[259] 0.0909624967952725\n\\item[260] 0.110305239687793\n\\item[261] 0.0909624967952725\n\\item[262] 0.99124844988402\n\\item[263] 0.159254314112973\n\\item[264] 0.0747267414250701\n\\item[265] 0.509088442282788\n\\item[266] 0.705675021091938\n\\item[267] 0.110305239687793\n\\item[268] 0.960114896554388\n\\item[269] 0.0747267414250701\n\\item[270] 0.190082409291486\n\\item[271] 0.19081999012857\n\\item[272] 0.110305239687793\n\\item[273] 0.0747267414250701\n\\item[274] 0.431402654708017\n\\item[275] 0.158614828196775\n\\item[276] 0.110305239687793\n\\item[277] 0.985789124186913\n\\item[278] 0.0747267414250701\n\\item[279] 0.133158619188597\n\\item[280] 0.687969949942274\n\\item[281] 0.940116473383247\n\\item[282] 0.0747267414250701\n\\item[283] 0.110305239687793\n\\item[284] 0.68488082003999\n\\item[285] 0.198421258757924\n\\item[286] 0.638016563953256\n\\item[287] 0.0747267414250701\n\\item[288] 0.275365759715968\n\\item[289] 0.0747267414250701\n\\item[290] 0.0747267414250701\n\\item[291] 0.110305239687793\n\\item[292] 0.0747267414250701\n\\item[293] 0.159895888278546\n\\item[294] 0.110305239687793\n\\item[295] 0.133158619188597\n\\item[296] 0.110305239687793\n\\item[297] 0.133158619188597\n\\item[298] 0.0747267414250701\n\\item[299] 0.133158619188597\n\\item[300] 0.110305239687793\n\\item[301] 0.159895888278546\n\\item[302] 0.0747267414250701\n\\item[303] 0.275365759715968\n\\item[304] 0.28514808373448\n\\item[305] 0.159895888278546\n\\item[306] 0.870560309419116\n\\item[307] 0.309650286700559\n\\item[308] 0.550079881201083\n\\item[309] 0.576577106640975\n\\item[310] 0.133158619188597\n\\item[311] 0.984272230403743\n\\item[312] 0.159895888278546\n\\item[313] 0.978348914979894\n\\item[314] 0.275365759715968\n\\item[315] 0.198421258757924\n\\item[316] 0.159895888278546\n\\item[317] 0.19081999012857\n\\item[318] 0.110305239687793\n\\item[319] 0.391278165445797\n\\item[320] 0.159895888278546\n\\item[321] 0.19081999012857\n\\item[322] 0.133158619188597\n\\item[323] 0.110305239687793\n\\item[324] 0.159895888278546\n\\item[325] 0.955217878344134\n\\item[326] 0.0909624967952725\n\\item[327] 0.133158619188597\n\\item[328] 0.0747267414250701\n\\item[329] 0.329700791097143\n\\item[330] 0.166518802407586\n\\item[331] 0.982677899588171\n\\item[332] 0.22527910171333\n\\item[333] 0.0747267414250701\n\\item[334] 0.159895888278546\n\\item[335] 0.0747267414250701\n\\item[336] 0.0909624967952725\n\\item[337] 0.197661473660173\n\\item[338] 0.431402654708017\n\\item[339] 0.0747267414250701\n\\item[340] 0.0909624967952725\n\\item[341] 0.110305239687793\n\\item[342] 0.159895888278546\n\\item[343] 0.0747267414250701\n\\item[344] 0.0747267414250701\n\\item[345] 0.980494845878745\n\\item[346] 0.110305239687793\n\\item[347] 0.997638625719676\n\\item[348] 0.985005660284357\n\\item[349] 0.355027934776369\n\\item[350] 0.309650286700559\n\\item[351] 0.986452790669783\n\\item[352] 0.0747267414250701\n\\item[353] 0.13885711875871\n\\item[354] 0.943303209205711\n\\item[355] 0.0747267414250701\n\\item[356] 0.110305239687793\n\\item[357] 0.159895888278546\n\\item[358] 0.133158619188597\n\\item[359] 0.265794249799912\n\\item[360] 0.234714546537871\n\\item[361] 0.0909624967952725\n\\item[362] 0.640223336371221\n\\item[363] 0.0747267414250701\n\\item[364] 0.19081999012857\n\\item[365] 0.110305239687793\n\\item[366] 0.998609298562092\n\\item[367] 0.958215612218938\n\\item[368] 0.0747267414250701\n\\item[369] 0.159895888278546\n\\item[370] 0.159895888278546\n\\item[371] 0.19081999012857\n\\item[372] 0.391278165445797\n\\item[373] 0.133158619188597\n\\item[374] 0.984123428217377\n\\item[375] 0.110305239687793\n\\item[376] 0.13885711875871\n\\item[377] 0.960114896554388\n\\item[378] 0.602359352523651\n\\item[379] 0.958215612218938\n\\item[380] 0.110305239687793\n\\item[381] 0.110305239687793\n\\item[382] 0.0747267414250701\n\\item[383] 0.876964093197874\n\\item[384] 0.159895888278546\n\\item[385] 0.159895888278546\n\\item[386] 0.275365759715968\n\\item[387] 0.159895888278546\n\\item[388] 0.10983663051452\n\\item[389] 0.998192034155166\n\\item[390] 0.19081999012857\n\\item[391] 0.110305239687793\n\\item[392] 0.0747267414250701\n\\item[393] 0.842541128968341\n\\item[394] 0.0909624967952725\n\\item[395] 0.133158619188597\n\\item[396] 0.4845502700727\n\\item[397] 0.159895888278546\n\\item[398] 0.992797418382369\n\\item[399] 0.19081999012857\n\\item[400] 0.923410501800968\n\\item[401] 0.0747267414250701\n\\end{description*}\n",
            "text/plain": [
              "         1          2          3          4          5          6          7 \n",
              "0.09096250 0.09096250 0.15989589 0.60235935 0.43140265 0.28514808 0.66331842 \n",
              "         8          9         10         11         12         13         14 \n",
              "0.95288247 0.95325780 0.13315862 0.15989589 0.91487406 0.07472674 0.07472674 \n",
              "        15         16         17         18         19         20         21 \n",
              "0.49667040 0.58837159 0.80446627 0.09096250 0.07472674 0.07472674 0.26579425 \n",
              "        22         23         24         25         26         27         28 \n",
              "0.95821561 0.07472674 0.09096250 0.91082921 0.15989589 0.11030524 0.11030524 \n",
              "        29         30         31         32         33         34         35 \n",
              "0.43140265 0.95104864 0.37978929 0.07472674 0.93069136 0.33075889 0.28514808 \n",
              "        36         37         38         39         40         41         42 \n",
              "0.11030524 0.19842126 0.99471403 0.07472674 0.07472674 0.15989589 0.13315862 \n",
              "        43         44         45         46         47         48         49 \n",
              "0.07472674 0.15989589 0.99348991 0.07472674 0.13315862 0.99887189 0.98486369 \n",
              "        50         51         52         53         54         55         56 \n",
              "0.07472674 0.35612413 0.07472674 0.07472674 0.15989589 0.07472674 0.15989589 \n",
              "        57         58         59         60         61         62         63 \n",
              "0.11030524 0.07472674 0.07472674 0.82156318 0.56205182 0.15861483 0.99498694 \n",
              "        64         65         66         67         68         69         70 \n",
              "0.56205182 0.07472674 0.09096250 0.07472674 0.15989589 0.15989589 0.71855841 \n",
              "        71         72         73         74         75         76         77 \n",
              "0.09096250 0.07472674 0.91990919 0.19008241 0.15989589 0.07472674 0.11030524 \n",
              "        78         79         80         81         82         83         84 \n",
              "0.11030524 0.11030524 0.15989589 0.69727641 0.07472674 0.99860930 0.74973019 \n",
              "        85         86         87         88         89         90         91 \n",
              "0.07472674 0.92975986 0.98267790 0.61306113 0.11030524 0.07472674 0.87592801 \n",
              "        92         93         94         95         96         97         98 \n",
              "0.07472674 0.13315862 0.09096250 0.13885712 0.92247348 0.72920760 0.22444527 \n",
              "        99        100        101        102        103        104        105 \n",
              "0.77109170 0.91082921 0.07472674 0.87056031 0.85792697 0.07472674 0.07472674 \n",
              "       106        107        108        109        110        111        112 \n",
              "0.07472674 0.15989589 0.92315497 0.15989589 0.10983663 0.23471455 0.28514808 \n",
              "       113        114        115        116        117        118        119 \n",
              "0.27536576 0.13315862 0.15989589 0.30659077 0.11030524 0.92652572 0.15989589 \n",
              "       120        121        122        123        124        125        126 \n",
              "0.15989589 0.15989589 0.22527910 0.87056031 0.15989589 0.98577264 0.85085038 \n",
              "       127        128        129        130        131        132        133 \n",
              "0.97954536 0.07472674 0.11030524 0.13315862 0.09096250 0.15989589 0.24353809 \n",
              "       134        135        136        137        138        139        140 \n",
              "0.99313607 0.11030524 0.36732110 0.75152115 0.85792697 0.19081999 0.23471455 \n",
              "       141        142        143        144        145        146        147 \n",
              "0.27441221 0.15989589 0.99860930 0.07472674 0.98245220 0.85792697 0.99422710 \n",
              "       148        149        150        151        152        153        154 \n",
              "0.43022957 0.09096250 0.11030524 0.09096250 0.15989589 0.22527910 0.61306113 \n",
              "       155        156        157        158        159        160        161 \n",
              "0.15989589 0.13315862 0.13315862 0.97225035 0.07472674 0.15861483 0.09096250 \n",
              "       162        163        164        165        166        167        168 \n",
              "0.15989589 0.70666765 0.09096250 0.97064000 0.13315862 0.07472674 0.07472674 \n",
              "       169        170        171        172        173        174        175 \n",
              "0.07472674 0.13315862 0.43140265 0.56205182 0.07472674 0.26579425 0.11030524 \n",
              "       176        177        178        179        180        181        182 \n",
              "0.19081999 0.97719100 0.11030524 0.77789098 0.11030524 0.11030524 0.09096250 \n",
              "       183        184        185        186        187        188        189 \n",
              "0.41954764 0.13315862 0.63691098 0.07472674 0.07472674 0.07472674 0.60006541 \n",
              "       190        191        192        193        194        195        196 \n",
              "0.89652222 0.11030524 0.13315862 0.88210220 0.09096250 0.33075889 0.11030524 \n",
              "       197        198        199        200        201        202        203 \n",
              "0.74052015 0.09096250 0.07472674 0.15989589 0.09096250 0.13315862 0.11030524 \n",
              "       204        205        206        207        208        209        210 \n",
              "0.11030524 0.07472674 0.11030524 0.11030524 0.11030524 0.07472674 0.19842126 \n",
              "       211        212        213        214        215        216        217 \n",
              "0.63912068 0.98419800 0.07472674 0.99786666 0.07472674 0.22527910 0.93007164 \n",
              "       218        219        220        221        222        223        224 \n",
              "0.15925431 0.91082921 0.32011252 0.97022823 0.13315862 0.87696409 0.11030524 \n",
              "       225        226        227        228        229        230        231 \n",
              "0.98708587 0.09096250 0.07472674 0.30557469 0.13315862 0.11030524 0.07472674 \n",
              "       232        233        234        235        236        237        238 \n",
              "0.22444527 0.07472674 0.24353809 0.11030524 0.98572195 0.97862625 0.07472674 \n",
              "       239        240        241        242        243        244        245 \n",
              "0.11030524 0.50908844 0.99887189 0.11030524 0.83665429 0.30760873 0.97616867 \n",
              "       246        247        248        249        250        251        252 \n",
              "0.43140265 0.07472674 0.07472674 0.13315862 0.09096250 0.07472674 0.82156318 \n",
              "       253        254        255        256        257        258        259 \n",
              "0.22611513 0.15989589 0.07472674 0.07472674 0.15861483 0.35502793 0.15989589 \n",
              "       260        261        262        263        264        265        266 \n",
              "0.91552531 0.11030524 0.11030524 0.43140265 0.07472674 0.11030524 0.92341050 \n",
              "       267        268        269        270        271        272        273 \n",
              "0.60006541 0.87553542 0.26579425 0.22361363 0.09096250 0.93345872 0.11030524 \n",
              "       274        275        276        277        278        279        280 \n",
              "0.33075889 0.11030524 0.95088041 0.07472674 0.51147938 0.95821561 0.23471455 \n",
              "       281        282        283        284        285        286        287 \n",
              "0.79653382 0.84443576 0.07472674 0.07472674 0.07472674 0.15989589 0.07472674 \n",
              "       288        289        290        291        292        293        294 \n",
              "0.39127817 0.92341050 0.11030524 0.95749060 0.07472674 0.11030524 0.98912806 \n",
              "       295        296        297        298        299        300        301 \n",
              "0.13260739 0.61078904 0.11030524 0.13315862 0.15989589 0.19081999 0.07472674 \n",
              "       302        303        304        305        306        307        308 \n",
              "0.73015121 0.07472674 0.43140265 0.07472674 0.24353809 0.15989589 0.07472674 \n",
              "       309        310        311        312        313        314        315 \n",
              "0.32970079 0.13885712 0.15989589 0.07472674 0.11030524 0.94304681 0.42905728 \n",
              "       316        317        318        319        320        321        322 \n",
              "0.13315862 0.11030524 0.67537070 0.07472674 0.40202126 0.69828525 0.13315862 \n",
              "       323        324        325        326        327        328        329 \n",
              "0.30557469 0.15861483 0.11030524 0.15989589 0.19008241 0.09096250 0.07472674 \n",
              "       330        331        332        333        334        335        336 \n",
              "0.15989589 0.07472674 0.07472674 0.39127817 0.99887727 0.45800258 0.97727127 \n",
              "       337        338        339        340        341        342        343 \n",
              "0.61078904 0.09096250 0.42905728 0.99737070 0.82156318 0.11030524 0.07472674 \n",
              "       344        345        346        347        348        349        350 \n",
              "0.22527910 0.07472674 0.60235935 0.07472674 0.13315862 0.13315862 0.72048928 \n",
              "       351        352        353        354        355        356        357 \n",
              "0.13885712 0.83649346 0.07472674 0.43140265 0.07472674 0.07472674 0.15989589 \n",
              "       358        359        360        361        362        363        364 \n",
              "0.55007988 0.32011252 0.74235437 0.13885712 0.36621005 0.97442457 0.48455027 \n",
              "       365        366        367        368        369        370        371 \n",
              "0.07472674 0.07472674 0.07472674 0.96144586 0.07472674 0.99914064 0.07472674 \n",
              "       372        373        374        375        376        377        378 \n",
              "0.15989589 0.33075889 0.13885712 0.13315862 0.13315862 0.82279003 0.09096250 \n",
              "       379        380        381        382        383        384        385 \n",
              "0.27441221 0.11030524 0.43140265 0.97862625 0.15925431 0.97442457 0.56116362 \n",
              "       386        387        388        389        390        391        392 \n",
              "0.60006541 0.63912068 0.07472674 0.98259628 0.09096250 0.99316860 0.96879488 \n",
              "       393        394        395        396        397        398        399 \n",
              "0.07472674 0.11030524 0.07472674 0.26579425 0.15989589 0.92652572 0.87592801 \n",
              "       400        401        402        403        404        405        406 \n",
              "0.11030524 0.94803821 0.99064179 0.15989589 0.89147359 0.19081999 0.07472674 \n",
              "       407        408        409        410        411        412        413 \n",
              "0.11030524 0.11030524 0.77953968 0.13315862 0.15989589 0.27441221 0.07472674 \n",
              "       414        415        416        417        418        419        420 \n",
              "0.99385492 0.47006424 0.97022823 0.19842126 0.82086079 0.60006541 0.07472674 \n",
              "       421        422        423        424        425        426        427 \n",
              "0.07472674 0.11030524 0.07472674 0.07472674 0.39127817 0.07472674 0.11030524 \n",
              "       428        429        430        431        432        433        434 \n",
              "0.07472674 0.15989589 0.13315862 0.99887727 0.07472674 0.15989589 0.19081999 \n",
              "       435        436        437        438        439        440        441 \n",
              "0.96540715 0.13315862 0.09096250 0.15989589 0.99674431 0.19081999 0.07472674 \n",
              "       442        443        444        445        446        447        448 \n",
              "0.09096250 0.43140265 0.19081999 0.13315862 0.09096250 0.07472674 0.09096250 \n",
              "       449        450        451        452        453        454        455 \n",
              "0.90263064 0.09096250 0.26579425 0.07472674 0.11030524 0.07472674 0.60006541 \n",
              "       456        457        458        459        460        461        462 \n",
              "0.07472674 0.19081999 0.07472674 0.13315862 0.11030524 0.07472674 0.15989589 \n",
              "       463        464        465        466        467        468        469 \n",
              "0.09096250 0.72826191 0.07472674 0.27536576 0.90681079 0.19842126 0.07472674 \n",
              "       470        471        472        473        474        475        476 \n",
              "0.11030524 0.10983663 0.07472674 0.09096250 0.23471455 0.36732110 0.13315862 \n",
              "       477        478        479        480        481        482        483 \n",
              "0.90609924 0.13315862 0.11030524 0.80596691 0.19008241 0.07472674 0.96197433 \n",
              "       484        485        486        487        488        489        490 \n",
              "0.07472674 0.99206032 0.15989589 0.11030524 0.11030524 0.73015121 0.95521788 \n",
              "       491        492        493        494        495        496        497 \n",
              "0.09096250 0.07472674 0.40432351 0.13315862 0.19008241 0.13315862 0.11030524 \n",
              "       498        499        500        501        502        503        504 \n",
              "0.19081999 0.98844441 0.87553542 0.71928739 0.99671312 0.91082921 0.95821561 \n",
              "       505        506        507        508        509        510        511 \n",
              "0.41954764 0.07472674 0.15989589 0.07472674 0.13315862 0.30760873 0.07472674 \n",
              "       512        513        514        515        516        517        518 \n",
              "0.13315862 0.56205182 0.13315862 0.07472674 0.91515459 0.07472674 0.13315862 \n",
              "       519        520        521        522        523        524        525 \n",
              "0.13315862 0.07472674 0.99615940 0.09096250 0.96011490 0.07472674 0.13315862 \n",
              "       526        527        528        529        530        531        532 \n",
              "0.23471455 0.77953968 0.13315862 0.07472674 0.98031102 0.27536576 0.11030524 \n",
              "       533        534        535        536        537        538        539 \n",
              "0.61306113 0.13315862 0.07472674 0.07472674 0.22527910 0.11030524 0.11030524 \n",
              "       540        541        542        543        544        545        546 \n",
              "0.13885712 0.15989589 0.15989589 0.13315862 0.22527910 0.98058613 0.09096250 \n",
              "       547        548        549        550        551        552        553 \n",
              "0.75980926 0.51147938 0.13315862 0.93038214 0.60006541 0.07472674 0.99236117 \n",
              "       554        555        556        557        558        559        560 \n",
              "0.77789098 0.91990919 0.90263064 0.09096250 0.11030524 0.09096250 0.99124845 \n",
              "       561        562        563        564        565        566        567 \n",
              "0.15925431 0.07472674 0.50908844 0.70567502 0.11030524 0.96011490 0.07472674 \n",
              "       568        569        570        571        572        573        574 \n",
              "0.19008241 0.19081999 0.11030524 0.07472674 0.43140265 0.15861483 0.11030524 \n",
              "       575        576        577        578        579        580        581 \n",
              "0.98578912 0.07472674 0.13315862 0.68796995 0.94011647 0.07472674 0.11030524 \n",
              "       582        583        584        585        586        587        588 \n",
              "0.68488082 0.19842126 0.63801656 0.07472674 0.27536576 0.07472674 0.07472674 \n",
              "       589        590        591        592        593        594        595 \n",
              "0.11030524 0.07472674 0.15989589 0.11030524 0.13315862 0.11030524 0.13315862 \n",
              "       596        597        598        599        600        601        602 \n",
              "0.07472674 0.13315862 0.11030524 0.15989589 0.07472674 0.27536576 0.28514808 \n",
              "       603        604        605        606        607        608        609 \n",
              "0.15989589 0.87056031 0.30965029 0.55007988 0.57657711 0.13315862 0.98427223 \n",
              "       610        611        612        613        614        615        616 \n",
              "0.15989589 0.97834891 0.27536576 0.19842126 0.15989589 0.19081999 0.11030524 \n",
              "       617        618        619        620        621        622        623 \n",
              "0.39127817 0.15989589 0.19081999 0.13315862 0.11030524 0.15989589 0.95521788 \n",
              "       624        625        626        627        628        629        630 \n",
              "0.09096250 0.13315862 0.07472674 0.32970079 0.16651880 0.98267790 0.22527910 \n",
              "       631        632        633        634        635        636        637 \n",
              "0.07472674 0.15989589 0.07472674 0.09096250 0.19766147 0.43140265 0.07472674 \n",
              "       638        639        640        641        642        643        644 \n",
              "0.09096250 0.11030524 0.15989589 0.07472674 0.07472674 0.98049485 0.11030524 \n",
              "       645        646        647        648        649        650        651 \n",
              "0.99763863 0.98500566 0.35502793 0.30965029 0.98645279 0.07472674 0.13885712 \n",
              "       652        653        654        655        656        657        658 \n",
              "0.94330321 0.07472674 0.11030524 0.15989589 0.13315862 0.26579425 0.23471455 \n",
              "       659        660        661        662        663        664        665 \n",
              "0.09096250 0.64022334 0.07472674 0.19081999 0.11030524 0.99860930 0.95821561 \n",
              "       666        667        668        669        670        671        672 \n",
              "0.07472674 0.15989589 0.15989589 0.19081999 0.39127817 0.13315862 0.98412343 \n",
              "       673        674        675        676        677        678        679 \n",
              "0.11030524 0.13885712 0.96011490 0.60235935 0.95821561 0.11030524 0.11030524 \n",
              "       680        681        682        683        684        685        686 \n",
              "0.07472674 0.87696409 0.15989589 0.15989589 0.27536576 0.15989589 0.10983663 \n",
              "       687        688        689        690        691        692        693 \n",
              "0.99819203 0.19081999 0.11030524 0.07472674 0.84254113 0.09096250 0.13315862 \n",
              "       694        695        696        697        698        699 \n",
              "0.48455027 0.15989589 0.99279742 0.19081999 0.92341050 0.07472674 "
            ]
          },
          "metadata": {}
        }
      ]
    },
    {
      "cell_type": "markdown",
      "source": [
        "# 23. BUG\n",
        "A partir desse ponto tem um Bug que ainda não consegui resolver\n",
        "A sensitividade e a especificidade estão sendo geradas com um único valor"
      ],
      "metadata": {
        "id": "OpHdYzHMjV52"
      }
    },
    {
      "cell_type": "code",
      "source": [
        "for ( i in 1:length(limiares)) {\n",
        "  limiar_atual <- limiares[i]\n",
        "\n",
        "  \n",
        "  Classe_Predita <- ifelse(Probabilidade > limiar_atual,'Boa' , 'Ruim')\n",
        "\n",
        "  #Gera matriz de confusao\n",
        "  confusao <- table(Classe_Predita = Classe_Predita, Classe_Original = relevel(dados$Classe,ref = 'Boa'))\n",
        "\n",
        "\n",
        "  #Armazena valores da matriz de confusao\n",
        "  VP_Verdadeiro_Positivo <- matriz_de_confusao[1,1]; VP_Verdadeiro_Positivo\n",
        "\n",
        "  FN_Falso_Negativo <- matriz_de_confusao[2,1];FN_Falso_Negativo \n",
        "\n",
        "  VN_Verdadeiro_Negativo <- matriz_de_confusao[2,2];\n",
        "\n",
        "  FP_Falso_Positivo <- matriz_de_confusao[1,2];\n",
        "\n",
        "  #Calcula acuracia\n",
        "  acuracia[i] <- sum(diag(matriz_de_confusao))/ sum(matriz_de_confusao);\n",
        "  \n",
        "\n",
        "  #Calcula Sensitividade\n",
        "  sensitividade[i] <- VP_Verdadeiro_Positivo /(VP_Verdadeiro_Positivo + FN_Falso_Negativo)\n",
        "\n",
        "  #Calcula Especificidade\n",
        "  especificidade[i] <- VN_Verdadeiro_Negativo / (VN_Verdadeiro_Negativo + FP_Falso_Positivo)\n",
        "  \n",
        "}\n",
        "\n",
        "matriz_de_confusao\n",
        "\n",
        "\n",
        " "
      ],
      "metadata": {
        "colab": {
          "base_uri": "https://localhost:8080/",
          "height": 86
        },
        "id": "nKjduja5jZmC",
        "outputId": "cdfbe6a5-32fc-44d8-885c-a2e1a6a307b1"
      },
      "execution_count": 112,
      "outputs": [
        {
          "output_type": "display_data",
          "data": {
            "text/plain": [
              "              Classe_Original\n",
              "Classe_Predita Boa Ruim\n",
              "          Boa  169   23\n",
              "          Ruim  72  435"
            ]
          },
          "metadata": {}
        }
      ]
    },
    {
      "cell_type": "code",
      "source": [
        "Classe_Predita"
      ],
      "metadata": {
        "colab": {
          "base_uri": "https://localhost:8080/",
          "height": 468
        },
        "id": "gpt-ZnbpnxkC",
        "outputId": "a249d00a-00b7-4937-cabc-529da041709e"
      },
      "execution_count": 113,
      "outputs": [
        {
          "output_type": "display_data",
          "data": {
            "text/html": [
              "<style>\n",
              ".dl-inline {width: auto; margin:0; padding: 0}\n",
              ".dl-inline>dt, .dl-inline>dd {float: none; width: auto; display: inline-block}\n",
              ".dl-inline>dt::after {content: \":\\0020\"; padding-right: .5ex}\n",
              ".dl-inline>dt:not(:first-of-type) {padding-left: .5ex}\n",
              "</style><dl class=dl-inline><dt>1</dt><dd>'Ruim'</dd><dt>2</dt><dd>'Ruim'</dd><dt>3</dt><dd>'Ruim'</dd><dt>4</dt><dd>'Ruim'</dd><dt>5</dt><dd>'Ruim'</dd><dt>6</dt><dd>'Ruim'</dd><dt>7</dt><dd>'Ruim'</dd><dt>8</dt><dd>'Ruim'</dd><dt>9</dt><dd>'Ruim'</dd><dt>10</dt><dd>'Ruim'</dd><dt>11</dt><dd>'Ruim'</dd><dt>12</dt><dd>'Ruim'</dd><dt>13</dt><dd>'Ruim'</dd><dt>14</dt><dd>'Ruim'</dd><dt>15</dt><dd>'Ruim'</dd><dt>16</dt><dd>'Ruim'</dd><dt>17</dt><dd>'Ruim'</dd><dt>18</dt><dd>'Ruim'</dd><dt>19</dt><dd>'Ruim'</dd><dt>20</dt><dd>'Ruim'</dd><dt>21</dt><dd>'Ruim'</dd><dt>22</dt><dd>'Ruim'</dd><dt>23</dt><dd>'Ruim'</dd><dt>24</dt><dd>'Ruim'</dd><dt>25</dt><dd>'Ruim'</dd><dt>26</dt><dd>'Ruim'</dd><dt>27</dt><dd>'Ruim'</dd><dt>28</dt><dd>'Ruim'</dd><dt>29</dt><dd>'Ruim'</dd><dt>30</dt><dd>'Ruim'</dd><dt>31</dt><dd>'Ruim'</dd><dt>32</dt><dd>'Ruim'</dd><dt>33</dt><dd>'Ruim'</dd><dt>34</dt><dd>'Ruim'</dd><dt>35</dt><dd>'Ruim'</dd><dt>36</dt><dd>'Ruim'</dd><dt>37</dt><dd>'Ruim'</dd><dt>38</dt><dd>'Ruim'</dd><dt>39</dt><dd>'Ruim'</dd><dt>40</dt><dd>'Ruim'</dd><dt>41</dt><dd>'Ruim'</dd><dt>42</dt><dd>'Ruim'</dd><dt>43</dt><dd>'Ruim'</dd><dt>44</dt><dd>'Ruim'</dd><dt>45</dt><dd>'Ruim'</dd><dt>46</dt><dd>'Ruim'</dd><dt>47</dt><dd>'Ruim'</dd><dt>48</dt><dd>'Ruim'</dd><dt>49</dt><dd>'Ruim'</dd><dt>50</dt><dd>'Ruim'</dd><dt>51</dt><dd>'Ruim'</dd><dt>52</dt><dd>'Ruim'</dd><dt>53</dt><dd>'Ruim'</dd><dt>54</dt><dd>'Ruim'</dd><dt>55</dt><dd>'Ruim'</dd><dt>56</dt><dd>'Ruim'</dd><dt>57</dt><dd>'Ruim'</dd><dt>58</dt><dd>'Ruim'</dd><dt>59</dt><dd>'Ruim'</dd><dt>60</dt><dd>'Ruim'</dd><dt>61</dt><dd>'Ruim'</dd><dt>62</dt><dd>'Ruim'</dd><dt>63</dt><dd>'Ruim'</dd><dt>64</dt><dd>'Ruim'</dd><dt>65</dt><dd>'Ruim'</dd><dt>66</dt><dd>'Ruim'</dd><dt>67</dt><dd>'Ruim'</dd><dt>68</dt><dd>'Ruim'</dd><dt>69</dt><dd>'Ruim'</dd><dt>70</dt><dd>'Ruim'</dd><dt>71</dt><dd>'Ruim'</dd><dt>72</dt><dd>'Ruim'</dd><dt>73</dt><dd>'Ruim'</dd><dt>74</dt><dd>'Ruim'</dd><dt>75</dt><dd>'Ruim'</dd><dt>76</dt><dd>'Ruim'</dd><dt>77</dt><dd>'Ruim'</dd><dt>78</dt><dd>'Ruim'</dd><dt>79</dt><dd>'Ruim'</dd><dt>80</dt><dd>'Ruim'</dd><dt>81</dt><dd>'Ruim'</dd><dt>82</dt><dd>'Ruim'</dd><dt>83</dt><dd>'Ruim'</dd><dt>84</dt><dd>'Ruim'</dd><dt>85</dt><dd>'Ruim'</dd><dt>86</dt><dd>'Ruim'</dd><dt>87</dt><dd>'Ruim'</dd><dt>88</dt><dd>'Ruim'</dd><dt>89</dt><dd>'Ruim'</dd><dt>90</dt><dd>'Ruim'</dd><dt>91</dt><dd>'Ruim'</dd><dt>92</dt><dd>'Ruim'</dd><dt>93</dt><dd>'Ruim'</dd><dt>94</dt><dd>'Ruim'</dd><dt>95</dt><dd>'Ruim'</dd><dt>96</dt><dd>'Ruim'</dd><dt>97</dt><dd>'Ruim'</dd><dt>98</dt><dd>'Ruim'</dd><dt>99</dt><dd>'Ruim'</dd><dt>100</dt><dd>'Ruim'</dd><dt>101</dt><dd>'Ruim'</dd><dt>102</dt><dd>'Ruim'</dd><dt>103</dt><dd>'Ruim'</dd><dt>104</dt><dd>'Ruim'</dd><dt>105</dt><dd>'Ruim'</dd><dt>106</dt><dd>'Ruim'</dd><dt>107</dt><dd>'Ruim'</dd><dt>108</dt><dd>'Ruim'</dd><dt>109</dt><dd>'Ruim'</dd><dt>110</dt><dd>'Ruim'</dd><dt>111</dt><dd>'Ruim'</dd><dt>112</dt><dd>'Ruim'</dd><dt>113</dt><dd>'Ruim'</dd><dt>114</dt><dd>'Ruim'</dd><dt>115</dt><dd>'Ruim'</dd><dt>116</dt><dd>'Ruim'</dd><dt>117</dt><dd>'Ruim'</dd><dt>118</dt><dd>'Ruim'</dd><dt>119</dt><dd>'Ruim'</dd><dt>120</dt><dd>'Ruim'</dd><dt>121</dt><dd>'Ruim'</dd><dt>122</dt><dd>'Ruim'</dd><dt>123</dt><dd>'Ruim'</dd><dt>124</dt><dd>'Ruim'</dd><dt>125</dt><dd>'Ruim'</dd><dt>126</dt><dd>'Ruim'</dd><dt>127</dt><dd>'Ruim'</dd><dt>128</dt><dd>'Ruim'</dd><dt>129</dt><dd>'Ruim'</dd><dt>130</dt><dd>'Ruim'</dd><dt>131</dt><dd>'Ruim'</dd><dt>132</dt><dd>'Ruim'</dd><dt>133</dt><dd>'Ruim'</dd><dt>134</dt><dd>'Ruim'</dd><dt>135</dt><dd>'Ruim'</dd><dt>136</dt><dd>'Ruim'</dd><dt>137</dt><dd>'Ruim'</dd><dt>138</dt><dd>'Ruim'</dd><dt>139</dt><dd>'Ruim'</dd><dt>140</dt><dd>'Ruim'</dd><dt>141</dt><dd>'Ruim'</dd><dt>142</dt><dd>'Ruim'</dd><dt>143</dt><dd>'Ruim'</dd><dt>144</dt><dd>'Ruim'</dd><dt>145</dt><dd>'Ruim'</dd><dt>146</dt><dd>'Ruim'</dd><dt>147</dt><dd>'Ruim'</dd><dt>148</dt><dd>'Ruim'</dd><dt>149</dt><dd>'Ruim'</dd><dt>150</dt><dd>'Ruim'</dd><dt>151</dt><dd>'Ruim'</dd><dt>152</dt><dd>'Ruim'</dd><dt>153</dt><dd>'Ruim'</dd><dt>154</dt><dd>'Ruim'</dd><dt>155</dt><dd>'Ruim'</dd><dt>156</dt><dd>'Ruim'</dd><dt>157</dt><dd>'Ruim'</dd><dt>158</dt><dd>'Ruim'</dd><dt>159</dt><dd>'Ruim'</dd><dt>160</dt><dd>'Ruim'</dd><dt>161</dt><dd>'Ruim'</dd><dt>162</dt><dd>'Ruim'</dd><dt>163</dt><dd>'Ruim'</dd><dt>164</dt><dd>'Ruim'</dd><dt>165</dt><dd>'Ruim'</dd><dt>166</dt><dd>'Ruim'</dd><dt>167</dt><dd>'Ruim'</dd><dt>168</dt><dd>'Ruim'</dd><dt>169</dt><dd>'Ruim'</dd><dt>170</dt><dd>'Ruim'</dd><dt>171</dt><dd>'Ruim'</dd><dt>172</dt><dd>'Ruim'</dd><dt>173</dt><dd>'Ruim'</dd><dt>174</dt><dd>'Ruim'</dd><dt>175</dt><dd>'Ruim'</dd><dt>176</dt><dd>'Ruim'</dd><dt>177</dt><dd>'Ruim'</dd><dt>178</dt><dd>'Ruim'</dd><dt>179</dt><dd>'Ruim'</dd><dt>180</dt><dd>'Ruim'</dd><dt>181</dt><dd>'Ruim'</dd><dt>182</dt><dd>'Ruim'</dd><dt>183</dt><dd>'Ruim'</dd><dt>184</dt><dd>'Ruim'</dd><dt>185</dt><dd>'Ruim'</dd><dt>186</dt><dd>'Ruim'</dd><dt>187</dt><dd>'Ruim'</dd><dt>188</dt><dd>'Ruim'</dd><dt>189</dt><dd>'Ruim'</dd><dt>190</dt><dd>'Ruim'</dd><dt>191</dt><dd>'Ruim'</dd><dt>192</dt><dd>'Ruim'</dd><dt>193</dt><dd>'Ruim'</dd><dt>194</dt><dd>'Ruim'</dd><dt>195</dt><dd>'Ruim'</dd><dt>196</dt><dd>'Ruim'</dd><dt>197</dt><dd>'Ruim'</dd><dt>198</dt><dd>'Ruim'</dd><dt>199</dt><dd>'Ruim'</dd><dt>200</dt><dd>'Ruim'</dd><dt>201</dt><dd>⋯</dd><dt>202</dt><dd>'Ruim'</dd><dt>203</dt><dd>'Ruim'</dd><dt>204</dt><dd>'Ruim'</dd><dt>205</dt><dd>'Ruim'</dd><dt>206</dt><dd>'Ruim'</dd><dt>207</dt><dd>'Ruim'</dd><dt>208</dt><dd>'Ruim'</dd><dt>209</dt><dd>'Ruim'</dd><dt>210</dt><dd>'Ruim'</dd><dt>211</dt><dd>'Ruim'</dd><dt>212</dt><dd>'Ruim'</dd><dt>213</dt><dd>'Ruim'</dd><dt>214</dt><dd>'Ruim'</dd><dt>215</dt><dd>'Ruim'</dd><dt>216</dt><dd>'Ruim'</dd><dt>217</dt><dd>'Ruim'</dd><dt>218</dt><dd>'Ruim'</dd><dt>219</dt><dd>'Ruim'</dd><dt>220</dt><dd>'Ruim'</dd><dt>221</dt><dd>'Ruim'</dd><dt>222</dt><dd>'Ruim'</dd><dt>223</dt><dd>'Ruim'</dd><dt>224</dt><dd>'Ruim'</dd><dt>225</dt><dd>'Ruim'</dd><dt>226</dt><dd>'Ruim'</dd><dt>227</dt><dd>'Ruim'</dd><dt>228</dt><dd>'Ruim'</dd><dt>229</dt><dd>'Ruim'</dd><dt>230</dt><dd>'Ruim'</dd><dt>231</dt><dd>'Ruim'</dd><dt>232</dt><dd>'Ruim'</dd><dt>233</dt><dd>'Ruim'</dd><dt>234</dt><dd>'Ruim'</dd><dt>235</dt><dd>'Ruim'</dd><dt>236</dt><dd>'Ruim'</dd><dt>237</dt><dd>'Ruim'</dd><dt>238</dt><dd>'Ruim'</dd><dt>239</dt><dd>'Ruim'</dd><dt>240</dt><dd>'Ruim'</dd><dt>241</dt><dd>'Ruim'</dd><dt>242</dt><dd>'Ruim'</dd><dt>243</dt><dd>'Ruim'</dd><dt>244</dt><dd>'Ruim'</dd><dt>245</dt><dd>'Ruim'</dd><dt>246</dt><dd>'Ruim'</dd><dt>247</dt><dd>'Ruim'</dd><dt>248</dt><dd>'Ruim'</dd><dt>249</dt><dd>'Ruim'</dd><dt>250</dt><dd>'Ruim'</dd><dt>251</dt><dd>'Ruim'</dd><dt>252</dt><dd>'Ruim'</dd><dt>253</dt><dd>'Ruim'</dd><dt>254</dt><dd>'Ruim'</dd><dt>255</dt><dd>'Ruim'</dd><dt>256</dt><dd>'Ruim'</dd><dt>257</dt><dd>'Ruim'</dd><dt>258</dt><dd>'Ruim'</dd><dt>259</dt><dd>'Ruim'</dd><dt>260</dt><dd>'Ruim'</dd><dt>261</dt><dd>'Ruim'</dd><dt>262</dt><dd>'Ruim'</dd><dt>263</dt><dd>'Ruim'</dd><dt>264</dt><dd>'Ruim'</dd><dt>265</dt><dd>'Ruim'</dd><dt>266</dt><dd>'Ruim'</dd><dt>267</dt><dd>'Ruim'</dd><dt>268</dt><dd>'Ruim'</dd><dt>269</dt><dd>'Ruim'</dd><dt>270</dt><dd>'Ruim'</dd><dt>271</dt><dd>'Ruim'</dd><dt>272</dt><dd>'Ruim'</dd><dt>273</dt><dd>'Ruim'</dd><dt>274</dt><dd>'Ruim'</dd><dt>275</dt><dd>'Ruim'</dd><dt>276</dt><dd>'Ruim'</dd><dt>277</dt><dd>'Ruim'</dd><dt>278</dt><dd>'Ruim'</dd><dt>279</dt><dd>'Ruim'</dd><dt>280</dt><dd>'Ruim'</dd><dt>281</dt><dd>'Ruim'</dd><dt>282</dt><dd>'Ruim'</dd><dt>283</dt><dd>'Ruim'</dd><dt>284</dt><dd>'Ruim'</dd><dt>285</dt><dd>'Ruim'</dd><dt>286</dt><dd>'Ruim'</dd><dt>287</dt><dd>'Ruim'</dd><dt>288</dt><dd>'Ruim'</dd><dt>289</dt><dd>'Ruim'</dd><dt>290</dt><dd>'Ruim'</dd><dt>291</dt><dd>'Ruim'</dd><dt>292</dt><dd>'Ruim'</dd><dt>293</dt><dd>'Ruim'</dd><dt>294</dt><dd>'Ruim'</dd><dt>295</dt><dd>'Ruim'</dd><dt>296</dt><dd>'Ruim'</dd><dt>297</dt><dd>'Ruim'</dd><dt>298</dt><dd>'Ruim'</dd><dt>299</dt><dd>'Ruim'</dd><dt>300</dt><dd>'Ruim'</dd><dt>301</dt><dd>'Ruim'</dd><dt>302</dt><dd>'Ruim'</dd><dt>303</dt><dd>'Ruim'</dd><dt>304</dt><dd>'Ruim'</dd><dt>305</dt><dd>'Ruim'</dd><dt>306</dt><dd>'Ruim'</dd><dt>307</dt><dd>'Ruim'</dd><dt>308</dt><dd>'Ruim'</dd><dt>309</dt><dd>'Ruim'</dd><dt>310</dt><dd>'Ruim'</dd><dt>311</dt><dd>'Ruim'</dd><dt>312</dt><dd>'Ruim'</dd><dt>313</dt><dd>'Ruim'</dd><dt>314</dt><dd>'Ruim'</dd><dt>315</dt><dd>'Ruim'</dd><dt>316</dt><dd>'Ruim'</dd><dt>317</dt><dd>'Ruim'</dd><dt>318</dt><dd>'Ruim'</dd><dt>319</dt><dd>'Ruim'</dd><dt>320</dt><dd>'Ruim'</dd><dt>321</dt><dd>'Ruim'</dd><dt>322</dt><dd>'Ruim'</dd><dt>323</dt><dd>'Ruim'</dd><dt>324</dt><dd>'Ruim'</dd><dt>325</dt><dd>'Ruim'</dd><dt>326</dt><dd>'Ruim'</dd><dt>327</dt><dd>'Ruim'</dd><dt>328</dt><dd>'Ruim'</dd><dt>329</dt><dd>'Ruim'</dd><dt>330</dt><dd>'Ruim'</dd><dt>331</dt><dd>'Ruim'</dd><dt>332</dt><dd>'Ruim'</dd><dt>333</dt><dd>'Ruim'</dd><dt>334</dt><dd>'Ruim'</dd><dt>335</dt><dd>'Ruim'</dd><dt>336</dt><dd>'Ruim'</dd><dt>337</dt><dd>'Ruim'</dd><dt>338</dt><dd>'Ruim'</dd><dt>339</dt><dd>'Ruim'</dd><dt>340</dt><dd>'Ruim'</dd><dt>341</dt><dd>'Ruim'</dd><dt>342</dt><dd>'Ruim'</dd><dt>343</dt><dd>'Ruim'</dd><dt>344</dt><dd>'Ruim'</dd><dt>345</dt><dd>'Ruim'</dd><dt>346</dt><dd>'Ruim'</dd><dt>347</dt><dd>'Ruim'</dd><dt>348</dt><dd>'Ruim'</dd><dt>349</dt><dd>'Ruim'</dd><dt>350</dt><dd>'Ruim'</dd><dt>351</dt><dd>'Ruim'</dd><dt>352</dt><dd>'Ruim'</dd><dt>353</dt><dd>'Ruim'</dd><dt>354</dt><dd>'Ruim'</dd><dt>355</dt><dd>'Ruim'</dd><dt>356</dt><dd>'Ruim'</dd><dt>357</dt><dd>'Ruim'</dd><dt>358</dt><dd>'Ruim'</dd><dt>359</dt><dd>'Ruim'</dd><dt>360</dt><dd>'Ruim'</dd><dt>361</dt><dd>'Ruim'</dd><dt>362</dt><dd>'Ruim'</dd><dt>363</dt><dd>'Ruim'</dd><dt>364</dt><dd>'Ruim'</dd><dt>365</dt><dd>'Ruim'</dd><dt>366</dt><dd>'Ruim'</dd><dt>367</dt><dd>'Ruim'</dd><dt>368</dt><dd>'Ruim'</dd><dt>369</dt><dd>'Ruim'</dd><dt>370</dt><dd>'Ruim'</dd><dt>371</dt><dd>'Ruim'</dd><dt>372</dt><dd>'Ruim'</dd><dt>373</dt><dd>'Ruim'</dd><dt>374</dt><dd>'Ruim'</dd><dt>375</dt><dd>'Ruim'</dd><dt>376</dt><dd>'Ruim'</dd><dt>377</dt><dd>'Ruim'</dd><dt>378</dt><dd>'Ruim'</dd><dt>379</dt><dd>'Ruim'</dd><dt>380</dt><dd>'Ruim'</dd><dt>381</dt><dd>'Ruim'</dd><dt>382</dt><dd>'Ruim'</dd><dt>383</dt><dd>'Ruim'</dd><dt>384</dt><dd>'Ruim'</dd><dt>385</dt><dd>'Ruim'</dd><dt>386</dt><dd>'Ruim'</dd><dt>387</dt><dd>'Ruim'</dd><dt>388</dt><dd>'Ruim'</dd><dt>389</dt><dd>'Ruim'</dd><dt>390</dt><dd>'Ruim'</dd><dt>391</dt><dd>'Ruim'</dd><dt>392</dt><dd>'Ruim'</dd><dt>393</dt><dd>'Ruim'</dd><dt>394</dt><dd>'Ruim'</dd><dt>395</dt><dd>'Ruim'</dd><dt>396</dt><dd>'Ruim'</dd><dt>397</dt><dd>'Ruim'</dd><dt>398</dt><dd>'Ruim'</dd><dt>399</dt><dd>'Ruim'</dd><dt>400</dt><dd>'Ruim'</dd><dt>401</dt><dd>'Ruim'</dd></dl>\n"
            ],
            "text/markdown": "1\n:   'Ruim'2\n:   'Ruim'3\n:   'Ruim'4\n:   'Ruim'5\n:   'Ruim'6\n:   'Ruim'7\n:   'Ruim'8\n:   'Ruim'9\n:   'Ruim'10\n:   'Ruim'11\n:   'Ruim'12\n:   'Ruim'13\n:   'Ruim'14\n:   'Ruim'15\n:   'Ruim'16\n:   'Ruim'17\n:   'Ruim'18\n:   'Ruim'19\n:   'Ruim'20\n:   'Ruim'21\n:   'Ruim'22\n:   'Ruim'23\n:   'Ruim'24\n:   'Ruim'25\n:   'Ruim'26\n:   'Ruim'27\n:   'Ruim'28\n:   'Ruim'29\n:   'Ruim'30\n:   'Ruim'31\n:   'Ruim'32\n:   'Ruim'33\n:   'Ruim'34\n:   'Ruim'35\n:   'Ruim'36\n:   'Ruim'37\n:   'Ruim'38\n:   'Ruim'39\n:   'Ruim'40\n:   'Ruim'41\n:   'Ruim'42\n:   'Ruim'43\n:   'Ruim'44\n:   'Ruim'45\n:   'Ruim'46\n:   'Ruim'47\n:   'Ruim'48\n:   'Ruim'49\n:   'Ruim'50\n:   'Ruim'51\n:   'Ruim'52\n:   'Ruim'53\n:   'Ruim'54\n:   'Ruim'55\n:   'Ruim'56\n:   'Ruim'57\n:   'Ruim'58\n:   'Ruim'59\n:   'Ruim'60\n:   'Ruim'61\n:   'Ruim'62\n:   'Ruim'63\n:   'Ruim'64\n:   'Ruim'65\n:   'Ruim'66\n:   'Ruim'67\n:   'Ruim'68\n:   'Ruim'69\n:   'Ruim'70\n:   'Ruim'71\n:   'Ruim'72\n:   'Ruim'73\n:   'Ruim'74\n:   'Ruim'75\n:   'Ruim'76\n:   'Ruim'77\n:   'Ruim'78\n:   'Ruim'79\n:   'Ruim'80\n:   'Ruim'81\n:   'Ruim'82\n:   'Ruim'83\n:   'Ruim'84\n:   'Ruim'85\n:   'Ruim'86\n:   'Ruim'87\n:   'Ruim'88\n:   'Ruim'89\n:   'Ruim'90\n:   'Ruim'91\n:   'Ruim'92\n:   'Ruim'93\n:   'Ruim'94\n:   'Ruim'95\n:   'Ruim'96\n:   'Ruim'97\n:   'Ruim'98\n:   'Ruim'99\n:   'Ruim'100\n:   'Ruim'101\n:   'Ruim'102\n:   'Ruim'103\n:   'Ruim'104\n:   'Ruim'105\n:   'Ruim'106\n:   'Ruim'107\n:   'Ruim'108\n:   'Ruim'109\n:   'Ruim'110\n:   'Ruim'111\n:   'Ruim'112\n:   'Ruim'113\n:   'Ruim'114\n:   'Ruim'115\n:   'Ruim'116\n:   'Ruim'117\n:   'Ruim'118\n:   'Ruim'119\n:   'Ruim'120\n:   'Ruim'121\n:   'Ruim'122\n:   'Ruim'123\n:   'Ruim'124\n:   'Ruim'125\n:   'Ruim'126\n:   'Ruim'127\n:   'Ruim'128\n:   'Ruim'129\n:   'Ruim'130\n:   'Ruim'131\n:   'Ruim'132\n:   'Ruim'133\n:   'Ruim'134\n:   'Ruim'135\n:   'Ruim'136\n:   'Ruim'137\n:   'Ruim'138\n:   'Ruim'139\n:   'Ruim'140\n:   'Ruim'141\n:   'Ruim'142\n:   'Ruim'143\n:   'Ruim'144\n:   'Ruim'145\n:   'Ruim'146\n:   'Ruim'147\n:   'Ruim'148\n:   'Ruim'149\n:   'Ruim'150\n:   'Ruim'151\n:   'Ruim'152\n:   'Ruim'153\n:   'Ruim'154\n:   'Ruim'155\n:   'Ruim'156\n:   'Ruim'157\n:   'Ruim'158\n:   'Ruim'159\n:   'Ruim'160\n:   'Ruim'161\n:   'Ruim'162\n:   'Ruim'163\n:   'Ruim'164\n:   'Ruim'165\n:   'Ruim'166\n:   'Ruim'167\n:   'Ruim'168\n:   'Ruim'169\n:   'Ruim'170\n:   'Ruim'171\n:   'Ruim'172\n:   'Ruim'173\n:   'Ruim'174\n:   'Ruim'175\n:   'Ruim'176\n:   'Ruim'177\n:   'Ruim'178\n:   'Ruim'179\n:   'Ruim'180\n:   'Ruim'181\n:   'Ruim'182\n:   'Ruim'183\n:   'Ruim'184\n:   'Ruim'185\n:   'Ruim'186\n:   'Ruim'187\n:   'Ruim'188\n:   'Ruim'189\n:   'Ruim'190\n:   'Ruim'191\n:   'Ruim'192\n:   'Ruim'193\n:   'Ruim'194\n:   'Ruim'195\n:   'Ruim'196\n:   'Ruim'197\n:   'Ruim'198\n:   'Ruim'199\n:   'Ruim'200\n:   'Ruim'201\n:   ⋯202\n:   'Ruim'203\n:   'Ruim'204\n:   'Ruim'205\n:   'Ruim'206\n:   'Ruim'207\n:   'Ruim'208\n:   'Ruim'209\n:   'Ruim'210\n:   'Ruim'211\n:   'Ruim'212\n:   'Ruim'213\n:   'Ruim'214\n:   'Ruim'215\n:   'Ruim'216\n:   'Ruim'217\n:   'Ruim'218\n:   'Ruim'219\n:   'Ruim'220\n:   'Ruim'221\n:   'Ruim'222\n:   'Ruim'223\n:   'Ruim'224\n:   'Ruim'225\n:   'Ruim'226\n:   'Ruim'227\n:   'Ruim'228\n:   'Ruim'229\n:   'Ruim'230\n:   'Ruim'231\n:   'Ruim'232\n:   'Ruim'233\n:   'Ruim'234\n:   'Ruim'235\n:   'Ruim'236\n:   'Ruim'237\n:   'Ruim'238\n:   'Ruim'239\n:   'Ruim'240\n:   'Ruim'241\n:   'Ruim'242\n:   'Ruim'243\n:   'Ruim'244\n:   'Ruim'245\n:   'Ruim'246\n:   'Ruim'247\n:   'Ruim'248\n:   'Ruim'249\n:   'Ruim'250\n:   'Ruim'251\n:   'Ruim'252\n:   'Ruim'253\n:   'Ruim'254\n:   'Ruim'255\n:   'Ruim'256\n:   'Ruim'257\n:   'Ruim'258\n:   'Ruim'259\n:   'Ruim'260\n:   'Ruim'261\n:   'Ruim'262\n:   'Ruim'263\n:   'Ruim'264\n:   'Ruim'265\n:   'Ruim'266\n:   'Ruim'267\n:   'Ruim'268\n:   'Ruim'269\n:   'Ruim'270\n:   'Ruim'271\n:   'Ruim'272\n:   'Ruim'273\n:   'Ruim'274\n:   'Ruim'275\n:   'Ruim'276\n:   'Ruim'277\n:   'Ruim'278\n:   'Ruim'279\n:   'Ruim'280\n:   'Ruim'281\n:   'Ruim'282\n:   'Ruim'283\n:   'Ruim'284\n:   'Ruim'285\n:   'Ruim'286\n:   'Ruim'287\n:   'Ruim'288\n:   'Ruim'289\n:   'Ruim'290\n:   'Ruim'291\n:   'Ruim'292\n:   'Ruim'293\n:   'Ruim'294\n:   'Ruim'295\n:   'Ruim'296\n:   'Ruim'297\n:   'Ruim'298\n:   'Ruim'299\n:   'Ruim'300\n:   'Ruim'301\n:   'Ruim'302\n:   'Ruim'303\n:   'Ruim'304\n:   'Ruim'305\n:   'Ruim'306\n:   'Ruim'307\n:   'Ruim'308\n:   'Ruim'309\n:   'Ruim'310\n:   'Ruim'311\n:   'Ruim'312\n:   'Ruim'313\n:   'Ruim'314\n:   'Ruim'315\n:   'Ruim'316\n:   'Ruim'317\n:   'Ruim'318\n:   'Ruim'319\n:   'Ruim'320\n:   'Ruim'321\n:   'Ruim'322\n:   'Ruim'323\n:   'Ruim'324\n:   'Ruim'325\n:   'Ruim'326\n:   'Ruim'327\n:   'Ruim'328\n:   'Ruim'329\n:   'Ruim'330\n:   'Ruim'331\n:   'Ruim'332\n:   'Ruim'333\n:   'Ruim'334\n:   'Ruim'335\n:   'Ruim'336\n:   'Ruim'337\n:   'Ruim'338\n:   'Ruim'339\n:   'Ruim'340\n:   'Ruim'341\n:   'Ruim'342\n:   'Ruim'343\n:   'Ruim'344\n:   'Ruim'345\n:   'Ruim'346\n:   'Ruim'347\n:   'Ruim'348\n:   'Ruim'349\n:   'Ruim'350\n:   'Ruim'351\n:   'Ruim'352\n:   'Ruim'353\n:   'Ruim'354\n:   'Ruim'355\n:   'Ruim'356\n:   'Ruim'357\n:   'Ruim'358\n:   'Ruim'359\n:   'Ruim'360\n:   'Ruim'361\n:   'Ruim'362\n:   'Ruim'363\n:   'Ruim'364\n:   'Ruim'365\n:   'Ruim'366\n:   'Ruim'367\n:   'Ruim'368\n:   'Ruim'369\n:   'Ruim'370\n:   'Ruim'371\n:   'Ruim'372\n:   'Ruim'373\n:   'Ruim'374\n:   'Ruim'375\n:   'Ruim'376\n:   'Ruim'377\n:   'Ruim'378\n:   'Ruim'379\n:   'Ruim'380\n:   'Ruim'381\n:   'Ruim'382\n:   'Ruim'383\n:   'Ruim'384\n:   'Ruim'385\n:   'Ruim'386\n:   'Ruim'387\n:   'Ruim'388\n:   'Ruim'389\n:   'Ruim'390\n:   'Ruim'391\n:   'Ruim'392\n:   'Ruim'393\n:   'Ruim'394\n:   'Ruim'395\n:   'Ruim'396\n:   'Ruim'397\n:   'Ruim'398\n:   'Ruim'399\n:   'Ruim'400\n:   'Ruim'401\n:   'Ruim'\n\n",
            "text/latex": "\\begin{description*}\n\\item[1] 'Ruim'\n\\item[2] 'Ruim'\n\\item[3] 'Ruim'\n\\item[4] 'Ruim'\n\\item[5] 'Ruim'\n\\item[6] 'Ruim'\n\\item[7] 'Ruim'\n\\item[8] 'Ruim'\n\\item[9] 'Ruim'\n\\item[10] 'Ruim'\n\\item[11] 'Ruim'\n\\item[12] 'Ruim'\n\\item[13] 'Ruim'\n\\item[14] 'Ruim'\n\\item[15] 'Ruim'\n\\item[16] 'Ruim'\n\\item[17] 'Ruim'\n\\item[18] 'Ruim'\n\\item[19] 'Ruim'\n\\item[20] 'Ruim'\n\\item[21] 'Ruim'\n\\item[22] 'Ruim'\n\\item[23] 'Ruim'\n\\item[24] 'Ruim'\n\\item[25] 'Ruim'\n\\item[26] 'Ruim'\n\\item[27] 'Ruim'\n\\item[28] 'Ruim'\n\\item[29] 'Ruim'\n\\item[30] 'Ruim'\n\\item[31] 'Ruim'\n\\item[32] 'Ruim'\n\\item[33] 'Ruim'\n\\item[34] 'Ruim'\n\\item[35] 'Ruim'\n\\item[36] 'Ruim'\n\\item[37] 'Ruim'\n\\item[38] 'Ruim'\n\\item[39] 'Ruim'\n\\item[40] 'Ruim'\n\\item[41] 'Ruim'\n\\item[42] 'Ruim'\n\\item[43] 'Ruim'\n\\item[44] 'Ruim'\n\\item[45] 'Ruim'\n\\item[46] 'Ruim'\n\\item[47] 'Ruim'\n\\item[48] 'Ruim'\n\\item[49] 'Ruim'\n\\item[50] 'Ruim'\n\\item[51] 'Ruim'\n\\item[52] 'Ruim'\n\\item[53] 'Ruim'\n\\item[54] 'Ruim'\n\\item[55] 'Ruim'\n\\item[56] 'Ruim'\n\\item[57] 'Ruim'\n\\item[58] 'Ruim'\n\\item[59] 'Ruim'\n\\item[60] 'Ruim'\n\\item[61] 'Ruim'\n\\item[62] 'Ruim'\n\\item[63] 'Ruim'\n\\item[64] 'Ruim'\n\\item[65] 'Ruim'\n\\item[66] 'Ruim'\n\\item[67] 'Ruim'\n\\item[68] 'Ruim'\n\\item[69] 'Ruim'\n\\item[70] 'Ruim'\n\\item[71] 'Ruim'\n\\item[72] 'Ruim'\n\\item[73] 'Ruim'\n\\item[74] 'Ruim'\n\\item[75] 'Ruim'\n\\item[76] 'Ruim'\n\\item[77] 'Ruim'\n\\item[78] 'Ruim'\n\\item[79] 'Ruim'\n\\item[80] 'Ruim'\n\\item[81] 'Ruim'\n\\item[82] 'Ruim'\n\\item[83] 'Ruim'\n\\item[84] 'Ruim'\n\\item[85] 'Ruim'\n\\item[86] 'Ruim'\n\\item[87] 'Ruim'\n\\item[88] 'Ruim'\n\\item[89] 'Ruim'\n\\item[90] 'Ruim'\n\\item[91] 'Ruim'\n\\item[92] 'Ruim'\n\\item[93] 'Ruim'\n\\item[94] 'Ruim'\n\\item[95] 'Ruim'\n\\item[96] 'Ruim'\n\\item[97] 'Ruim'\n\\item[98] 'Ruim'\n\\item[99] 'Ruim'\n\\item[100] 'Ruim'\n\\item[101] 'Ruim'\n\\item[102] 'Ruim'\n\\item[103] 'Ruim'\n\\item[104] 'Ruim'\n\\item[105] 'Ruim'\n\\item[106] 'Ruim'\n\\item[107] 'Ruim'\n\\item[108] 'Ruim'\n\\item[109] 'Ruim'\n\\item[110] 'Ruim'\n\\item[111] 'Ruim'\n\\item[112] 'Ruim'\n\\item[113] 'Ruim'\n\\item[114] 'Ruim'\n\\item[115] 'Ruim'\n\\item[116] 'Ruim'\n\\item[117] 'Ruim'\n\\item[118] 'Ruim'\n\\item[119] 'Ruim'\n\\item[120] 'Ruim'\n\\item[121] 'Ruim'\n\\item[122] 'Ruim'\n\\item[123] 'Ruim'\n\\item[124] 'Ruim'\n\\item[125] 'Ruim'\n\\item[126] 'Ruim'\n\\item[127] 'Ruim'\n\\item[128] 'Ruim'\n\\item[129] 'Ruim'\n\\item[130] 'Ruim'\n\\item[131] 'Ruim'\n\\item[132] 'Ruim'\n\\item[133] 'Ruim'\n\\item[134] 'Ruim'\n\\item[135] 'Ruim'\n\\item[136] 'Ruim'\n\\item[137] 'Ruim'\n\\item[138] 'Ruim'\n\\item[139] 'Ruim'\n\\item[140] 'Ruim'\n\\item[141] 'Ruim'\n\\item[142] 'Ruim'\n\\item[143] 'Ruim'\n\\item[144] 'Ruim'\n\\item[145] 'Ruim'\n\\item[146] 'Ruim'\n\\item[147] 'Ruim'\n\\item[148] 'Ruim'\n\\item[149] 'Ruim'\n\\item[150] 'Ruim'\n\\item[151] 'Ruim'\n\\item[152] 'Ruim'\n\\item[153] 'Ruim'\n\\item[154] 'Ruim'\n\\item[155] 'Ruim'\n\\item[156] 'Ruim'\n\\item[157] 'Ruim'\n\\item[158] 'Ruim'\n\\item[159] 'Ruim'\n\\item[160] 'Ruim'\n\\item[161] 'Ruim'\n\\item[162] 'Ruim'\n\\item[163] 'Ruim'\n\\item[164] 'Ruim'\n\\item[165] 'Ruim'\n\\item[166] 'Ruim'\n\\item[167] 'Ruim'\n\\item[168] 'Ruim'\n\\item[169] 'Ruim'\n\\item[170] 'Ruim'\n\\item[171] 'Ruim'\n\\item[172] 'Ruim'\n\\item[173] 'Ruim'\n\\item[174] 'Ruim'\n\\item[175] 'Ruim'\n\\item[176] 'Ruim'\n\\item[177] 'Ruim'\n\\item[178] 'Ruim'\n\\item[179] 'Ruim'\n\\item[180] 'Ruim'\n\\item[181] 'Ruim'\n\\item[182] 'Ruim'\n\\item[183] 'Ruim'\n\\item[184] 'Ruim'\n\\item[185] 'Ruim'\n\\item[186] 'Ruim'\n\\item[187] 'Ruim'\n\\item[188] 'Ruim'\n\\item[189] 'Ruim'\n\\item[190] 'Ruim'\n\\item[191] 'Ruim'\n\\item[192] 'Ruim'\n\\item[193] 'Ruim'\n\\item[194] 'Ruim'\n\\item[195] 'Ruim'\n\\item[196] 'Ruim'\n\\item[197] 'Ruim'\n\\item[198] 'Ruim'\n\\item[199] 'Ruim'\n\\item[200] 'Ruim'\n\\item[201] ⋯\n\\item[202] 'Ruim'\n\\item[203] 'Ruim'\n\\item[204] 'Ruim'\n\\item[205] 'Ruim'\n\\item[206] 'Ruim'\n\\item[207] 'Ruim'\n\\item[208] 'Ruim'\n\\item[209] 'Ruim'\n\\item[210] 'Ruim'\n\\item[211] 'Ruim'\n\\item[212] 'Ruim'\n\\item[213] 'Ruim'\n\\item[214] 'Ruim'\n\\item[215] 'Ruim'\n\\item[216] 'Ruim'\n\\item[217] 'Ruim'\n\\item[218] 'Ruim'\n\\item[219] 'Ruim'\n\\item[220] 'Ruim'\n\\item[221] 'Ruim'\n\\item[222] 'Ruim'\n\\item[223] 'Ruim'\n\\item[224] 'Ruim'\n\\item[225] 'Ruim'\n\\item[226] 'Ruim'\n\\item[227] 'Ruim'\n\\item[228] 'Ruim'\n\\item[229] 'Ruim'\n\\item[230] 'Ruim'\n\\item[231] 'Ruim'\n\\item[232] 'Ruim'\n\\item[233] 'Ruim'\n\\item[234] 'Ruim'\n\\item[235] 'Ruim'\n\\item[236] 'Ruim'\n\\item[237] 'Ruim'\n\\item[238] 'Ruim'\n\\item[239] 'Ruim'\n\\item[240] 'Ruim'\n\\item[241] 'Ruim'\n\\item[242] 'Ruim'\n\\item[243] 'Ruim'\n\\item[244] 'Ruim'\n\\item[245] 'Ruim'\n\\item[246] 'Ruim'\n\\item[247] 'Ruim'\n\\item[248] 'Ruim'\n\\item[249] 'Ruim'\n\\item[250] 'Ruim'\n\\item[251] 'Ruim'\n\\item[252] 'Ruim'\n\\item[253] 'Ruim'\n\\item[254] 'Ruim'\n\\item[255] 'Ruim'\n\\item[256] 'Ruim'\n\\item[257] 'Ruim'\n\\item[258] 'Ruim'\n\\item[259] 'Ruim'\n\\item[260] 'Ruim'\n\\item[261] 'Ruim'\n\\item[262] 'Ruim'\n\\item[263] 'Ruim'\n\\item[264] 'Ruim'\n\\item[265] 'Ruim'\n\\item[266] 'Ruim'\n\\item[267] 'Ruim'\n\\item[268] 'Ruim'\n\\item[269] 'Ruim'\n\\item[270] 'Ruim'\n\\item[271] 'Ruim'\n\\item[272] 'Ruim'\n\\item[273] 'Ruim'\n\\item[274] 'Ruim'\n\\item[275] 'Ruim'\n\\item[276] 'Ruim'\n\\item[277] 'Ruim'\n\\item[278] 'Ruim'\n\\item[279] 'Ruim'\n\\item[280] 'Ruim'\n\\item[281] 'Ruim'\n\\item[282] 'Ruim'\n\\item[283] 'Ruim'\n\\item[284] 'Ruim'\n\\item[285] 'Ruim'\n\\item[286] 'Ruim'\n\\item[287] 'Ruim'\n\\item[288] 'Ruim'\n\\item[289] 'Ruim'\n\\item[290] 'Ruim'\n\\item[291] 'Ruim'\n\\item[292] 'Ruim'\n\\item[293] 'Ruim'\n\\item[294] 'Ruim'\n\\item[295] 'Ruim'\n\\item[296] 'Ruim'\n\\item[297] 'Ruim'\n\\item[298] 'Ruim'\n\\item[299] 'Ruim'\n\\item[300] 'Ruim'\n\\item[301] 'Ruim'\n\\item[302] 'Ruim'\n\\item[303] 'Ruim'\n\\item[304] 'Ruim'\n\\item[305] 'Ruim'\n\\item[306] 'Ruim'\n\\item[307] 'Ruim'\n\\item[308] 'Ruim'\n\\item[309] 'Ruim'\n\\item[310] 'Ruim'\n\\item[311] 'Ruim'\n\\item[312] 'Ruim'\n\\item[313] 'Ruim'\n\\item[314] 'Ruim'\n\\item[315] 'Ruim'\n\\item[316] 'Ruim'\n\\item[317] 'Ruim'\n\\item[318] 'Ruim'\n\\item[319] 'Ruim'\n\\item[320] 'Ruim'\n\\item[321] 'Ruim'\n\\item[322] 'Ruim'\n\\item[323] 'Ruim'\n\\item[324] 'Ruim'\n\\item[325] 'Ruim'\n\\item[326] 'Ruim'\n\\item[327] 'Ruim'\n\\item[328] 'Ruim'\n\\item[329] 'Ruim'\n\\item[330] 'Ruim'\n\\item[331] 'Ruim'\n\\item[332] 'Ruim'\n\\item[333] 'Ruim'\n\\item[334] 'Ruim'\n\\item[335] 'Ruim'\n\\item[336] 'Ruim'\n\\item[337] 'Ruim'\n\\item[338] 'Ruim'\n\\item[339] 'Ruim'\n\\item[340] 'Ruim'\n\\item[341] 'Ruim'\n\\item[342] 'Ruim'\n\\item[343] 'Ruim'\n\\item[344] 'Ruim'\n\\item[345] 'Ruim'\n\\item[346] 'Ruim'\n\\item[347] 'Ruim'\n\\item[348] 'Ruim'\n\\item[349] 'Ruim'\n\\item[350] 'Ruim'\n\\item[351] 'Ruim'\n\\item[352] 'Ruim'\n\\item[353] 'Ruim'\n\\item[354] 'Ruim'\n\\item[355] 'Ruim'\n\\item[356] 'Ruim'\n\\item[357] 'Ruim'\n\\item[358] 'Ruim'\n\\item[359] 'Ruim'\n\\item[360] 'Ruim'\n\\item[361] 'Ruim'\n\\item[362] 'Ruim'\n\\item[363] 'Ruim'\n\\item[364] 'Ruim'\n\\item[365] 'Ruim'\n\\item[366] 'Ruim'\n\\item[367] 'Ruim'\n\\item[368] 'Ruim'\n\\item[369] 'Ruim'\n\\item[370] 'Ruim'\n\\item[371] 'Ruim'\n\\item[372] 'Ruim'\n\\item[373] 'Ruim'\n\\item[374] 'Ruim'\n\\item[375] 'Ruim'\n\\item[376] 'Ruim'\n\\item[377] 'Ruim'\n\\item[378] 'Ruim'\n\\item[379] 'Ruim'\n\\item[380] 'Ruim'\n\\item[381] 'Ruim'\n\\item[382] 'Ruim'\n\\item[383] 'Ruim'\n\\item[384] 'Ruim'\n\\item[385] 'Ruim'\n\\item[386] 'Ruim'\n\\item[387] 'Ruim'\n\\item[388] 'Ruim'\n\\item[389] 'Ruim'\n\\item[390] 'Ruim'\n\\item[391] 'Ruim'\n\\item[392] 'Ruim'\n\\item[393] 'Ruim'\n\\item[394] 'Ruim'\n\\item[395] 'Ruim'\n\\item[396] 'Ruim'\n\\item[397] 'Ruim'\n\\item[398] 'Ruim'\n\\item[399] 'Ruim'\n\\item[400] 'Ruim'\n\\item[401] 'Ruim'\n\\end{description*}\n",
            "text/plain": [
              "     1      2      3      4      5      6      7      8      9     10     11 \n",
              "\"Ruim\" \"Ruim\" \"Ruim\" \"Ruim\" \"Ruim\" \"Ruim\" \"Ruim\" \"Ruim\" \"Ruim\" \"Ruim\" \"Ruim\" \n",
              "    12     13     14     15     16     17     18     19     20     21     22 \n",
              "\"Ruim\" \"Ruim\" \"Ruim\" \"Ruim\" \"Ruim\" \"Ruim\" \"Ruim\" \"Ruim\" \"Ruim\" \"Ruim\" \"Ruim\" \n",
              "    23     24     25     26     27     28     29     30     31     32     33 \n",
              "\"Ruim\" \"Ruim\" \"Ruim\" \"Ruim\" \"Ruim\" \"Ruim\" \"Ruim\" \"Ruim\" \"Ruim\" \"Ruim\" \"Ruim\" \n",
              "    34     35     36     37     38     39     40     41     42     43     44 \n",
              "\"Ruim\" \"Ruim\" \"Ruim\" \"Ruim\" \"Ruim\" \"Ruim\" \"Ruim\" \"Ruim\" \"Ruim\" \"Ruim\" \"Ruim\" \n",
              "    45     46     47     48     49     50     51     52     53     54     55 \n",
              "\"Ruim\" \"Ruim\" \"Ruim\" \"Ruim\" \"Ruim\" \"Ruim\" \"Ruim\" \"Ruim\" \"Ruim\" \"Ruim\" \"Ruim\" \n",
              "    56     57     58     59     60     61     62     63     64     65     66 \n",
              "\"Ruim\" \"Ruim\" \"Ruim\" \"Ruim\" \"Ruim\" \"Ruim\" \"Ruim\" \"Ruim\" \"Ruim\" \"Ruim\" \"Ruim\" \n",
              "    67     68     69     70     71     72     73     74     75     76     77 \n",
              "\"Ruim\" \"Ruim\" \"Ruim\" \"Ruim\" \"Ruim\" \"Ruim\" \"Ruim\" \"Ruim\" \"Ruim\" \"Ruim\" \"Ruim\" \n",
              "    78     79     80     81     82     83     84     85     86     87     88 \n",
              "\"Ruim\" \"Ruim\" \"Ruim\" \"Ruim\" \"Ruim\" \"Ruim\" \"Ruim\" \"Ruim\" \"Ruim\" \"Ruim\" \"Ruim\" \n",
              "    89     90     91     92     93     94     95     96     97     98     99 \n",
              "\"Ruim\" \"Ruim\" \"Ruim\" \"Ruim\" \"Ruim\" \"Ruim\" \"Ruim\" \"Ruim\" \"Ruim\" \"Ruim\" \"Ruim\" \n",
              "   100    101    102    103    104    105    106    107    108    109    110 \n",
              "\"Ruim\" \"Ruim\" \"Ruim\" \"Ruim\" \"Ruim\" \"Ruim\" \"Ruim\" \"Ruim\" \"Ruim\" \"Ruim\" \"Ruim\" \n",
              "   111    112    113    114    115    116    117    118    119    120    121 \n",
              "\"Ruim\" \"Ruim\" \"Ruim\" \"Ruim\" \"Ruim\" \"Ruim\" \"Ruim\" \"Ruim\" \"Ruim\" \"Ruim\" \"Ruim\" \n",
              "   122    123    124    125    126    127    128    129    130    131    132 \n",
              "\"Ruim\" \"Ruim\" \"Ruim\" \"Ruim\" \"Ruim\" \"Ruim\" \"Ruim\" \"Ruim\" \"Ruim\" \"Ruim\" \"Ruim\" \n",
              "   133    134    135    136    137    138    139    140    141    142    143 \n",
              "\"Ruim\" \"Ruim\" \"Ruim\" \"Ruim\" \"Ruim\" \"Ruim\" \"Ruim\" \"Ruim\" \"Ruim\" \"Ruim\" \"Ruim\" \n",
              "   144    145    146    147    148    149    150    151    152    153    154 \n",
              "\"Ruim\" \"Ruim\" \"Ruim\" \"Ruim\" \"Ruim\" \"Ruim\" \"Ruim\" \"Ruim\" \"Ruim\" \"Ruim\" \"Ruim\" \n",
              "   155    156    157    158    159    160    161    162    163    164    165 \n",
              "\"Ruim\" \"Ruim\" \"Ruim\" \"Ruim\" \"Ruim\" \"Ruim\" \"Ruim\" \"Ruim\" \"Ruim\" \"Ruim\" \"Ruim\" \n",
              "   166    167    168    169    170    171    172    173    174    175    176 \n",
              "\"Ruim\" \"Ruim\" \"Ruim\" \"Ruim\" \"Ruim\" \"Ruim\" \"Ruim\" \"Ruim\" \"Ruim\" \"Ruim\" \"Ruim\" \n",
              "   177    178    179    180    181    182    183    184    185    186    187 \n",
              "\"Ruim\" \"Ruim\" \"Ruim\" \"Ruim\" \"Ruim\" \"Ruim\" \"Ruim\" \"Ruim\" \"Ruim\" \"Ruim\" \"Ruim\" \n",
              "   188    189    190    191    192    193    194    195    196    197    198 \n",
              "\"Ruim\" \"Ruim\" \"Ruim\" \"Ruim\" \"Ruim\" \"Ruim\" \"Ruim\" \"Ruim\" \"Ruim\" \"Ruim\" \"Ruim\" \n",
              "   199    200    201    202    203    204    205    206    207    208    209 \n",
              "\"Ruim\" \"Ruim\" \"Ruim\" \"Ruim\" \"Ruim\" \"Ruim\" \"Ruim\" \"Ruim\" \"Ruim\" \"Ruim\" \"Ruim\" \n",
              "   210    211    212    213    214    215    216    217    218    219    220 \n",
              "\"Ruim\" \"Ruim\" \"Ruim\" \"Ruim\" \"Ruim\" \"Ruim\" \"Ruim\" \"Ruim\" \"Ruim\" \"Ruim\" \"Ruim\" \n",
              "   221    222    223    224    225    226    227    228    229    230    231 \n",
              "\"Ruim\" \"Ruim\" \"Ruim\" \"Ruim\" \"Ruim\" \"Ruim\" \"Ruim\" \"Ruim\" \"Ruim\" \"Ruim\" \"Ruim\" \n",
              "   232    233    234    235    236    237    238    239    240    241    242 \n",
              "\"Ruim\" \"Ruim\" \"Ruim\" \"Ruim\" \"Ruim\" \"Ruim\" \"Ruim\" \"Ruim\" \"Ruim\" \"Ruim\" \"Ruim\" \n",
              "   243    244    245    246    247    248    249    250    251    252    253 \n",
              "\"Ruim\" \"Ruim\" \"Ruim\" \"Ruim\" \"Ruim\" \"Ruim\" \"Ruim\" \"Ruim\" \"Ruim\" \"Ruim\" \"Ruim\" \n",
              "   254    255    256    257    258    259    260    261    262    263    264 \n",
              "\"Ruim\" \"Ruim\" \"Ruim\" \"Ruim\" \"Ruim\" \"Ruim\" \"Ruim\" \"Ruim\" \"Ruim\" \"Ruim\" \"Ruim\" \n",
              "   265    266    267    268    269    270    271    272    273    274    275 \n",
              "\"Ruim\" \"Ruim\" \"Ruim\" \"Ruim\" \"Ruim\" \"Ruim\" \"Ruim\" \"Ruim\" \"Ruim\" \"Ruim\" \"Ruim\" \n",
              "   276    277    278    279    280    281    282    283    284    285    286 \n",
              "\"Ruim\" \"Ruim\" \"Ruim\" \"Ruim\" \"Ruim\" \"Ruim\" \"Ruim\" \"Ruim\" \"Ruim\" \"Ruim\" \"Ruim\" \n",
              "   287    288    289    290    291    292    293    294    295    296    297 \n",
              "\"Ruim\" \"Ruim\" \"Ruim\" \"Ruim\" \"Ruim\" \"Ruim\" \"Ruim\" \"Ruim\" \"Ruim\" \"Ruim\" \"Ruim\" \n",
              "   298    299    300    301    302    303    304    305    306    307    308 \n",
              "\"Ruim\" \"Ruim\" \"Ruim\" \"Ruim\" \"Ruim\" \"Ruim\" \"Ruim\" \"Ruim\" \"Ruim\" \"Ruim\" \"Ruim\" \n",
              "   309    310    311    312    313    314    315    316    317    318    319 \n",
              "\"Ruim\" \"Ruim\" \"Ruim\" \"Ruim\" \"Ruim\" \"Ruim\" \"Ruim\" \"Ruim\" \"Ruim\" \"Ruim\" \"Ruim\" \n",
              "   320    321    322    323    324    325    326    327    328    329    330 \n",
              "\"Ruim\" \"Ruim\" \"Ruim\" \"Ruim\" \"Ruim\" \"Ruim\" \"Ruim\" \"Ruim\" \"Ruim\" \"Ruim\" \"Ruim\" \n",
              "   331    332    333    334    335    336    337    338    339    340    341 \n",
              "\"Ruim\" \"Ruim\" \"Ruim\" \"Ruim\" \"Ruim\" \"Ruim\" \"Ruim\" \"Ruim\" \"Ruim\" \"Ruim\" \"Ruim\" \n",
              "   342    343    344    345    346    347    348    349    350    351    352 \n",
              "\"Ruim\" \"Ruim\" \"Ruim\" \"Ruim\" \"Ruim\" \"Ruim\" \"Ruim\" \"Ruim\" \"Ruim\" \"Ruim\" \"Ruim\" \n",
              "   353    354    355    356    357    358    359    360    361    362    363 \n",
              "\"Ruim\" \"Ruim\" \"Ruim\" \"Ruim\" \"Ruim\" \"Ruim\" \"Ruim\" \"Ruim\" \"Ruim\" \"Ruim\" \"Ruim\" \n",
              "   364    365    366    367    368    369    370    371    372    373    374 \n",
              "\"Ruim\" \"Ruim\" \"Ruim\" \"Ruim\" \"Ruim\" \"Ruim\" \"Ruim\" \"Ruim\" \"Ruim\" \"Ruim\" \"Ruim\" \n",
              "   375    376    377    378    379    380    381    382    383    384    385 \n",
              "\"Ruim\" \"Ruim\" \"Ruim\" \"Ruim\" \"Ruim\" \"Ruim\" \"Ruim\" \"Ruim\" \"Ruim\" \"Ruim\" \"Ruim\" \n",
              "   386    387    388    389    390    391    392    393    394    395    396 \n",
              "\"Ruim\" \"Ruim\" \"Ruim\" \"Ruim\" \"Ruim\" \"Ruim\" \"Ruim\" \"Ruim\" \"Ruim\" \"Ruim\" \"Ruim\" \n",
              "   397    398    399    400    401    402    403    404    405    406    407 \n",
              "\"Ruim\" \"Ruim\" \"Ruim\" \"Ruim\" \"Ruim\" \"Ruim\" \"Ruim\" \"Ruim\" \"Ruim\" \"Ruim\" \"Ruim\" \n",
              "   408    409    410    411    412    413    414    415    416    417    418 \n",
              "\"Ruim\" \"Ruim\" \"Ruim\" \"Ruim\" \"Ruim\" \"Ruim\" \"Ruim\" \"Ruim\" \"Ruim\" \"Ruim\" \"Ruim\" \n",
              "   419    420    421    422    423    424    425    426    427    428    429 \n",
              "\"Ruim\" \"Ruim\" \"Ruim\" \"Ruim\" \"Ruim\" \"Ruim\" \"Ruim\" \"Ruim\" \"Ruim\" \"Ruim\" \"Ruim\" \n",
              "   430    431    432    433    434    435    436    437    438    439    440 \n",
              "\"Ruim\" \"Ruim\" \"Ruim\" \"Ruim\" \"Ruim\" \"Ruim\" \"Ruim\" \"Ruim\" \"Ruim\" \"Ruim\" \"Ruim\" \n",
              "   441    442    443    444    445    446    447    448    449    450    451 \n",
              "\"Ruim\" \"Ruim\" \"Ruim\" \"Ruim\" \"Ruim\" \"Ruim\" \"Ruim\" \"Ruim\" \"Ruim\" \"Ruim\" \"Ruim\" \n",
              "   452    453    454    455    456    457    458    459    460    461    462 \n",
              "\"Ruim\" \"Ruim\" \"Ruim\" \"Ruim\" \"Ruim\" \"Ruim\" \"Ruim\" \"Ruim\" \"Ruim\" \"Ruim\" \"Ruim\" \n",
              "   463    464    465    466    467    468    469    470    471    472    473 \n",
              "\"Ruim\" \"Ruim\" \"Ruim\" \"Ruim\" \"Ruim\" \"Ruim\" \"Ruim\" \"Ruim\" \"Ruim\" \"Ruim\" \"Ruim\" \n",
              "   474    475    476    477    478    479    480    481    482    483    484 \n",
              "\"Ruim\" \"Ruim\" \"Ruim\" \"Ruim\" \"Ruim\" \"Ruim\" \"Ruim\" \"Ruim\" \"Ruim\" \"Ruim\" \"Ruim\" \n",
              "   485    486    487    488    489    490    491    492    493    494    495 \n",
              "\"Ruim\" \"Ruim\" \"Ruim\" \"Ruim\" \"Ruim\" \"Ruim\" \"Ruim\" \"Ruim\" \"Ruim\" \"Ruim\" \"Ruim\" \n",
              "   496    497    498    499    500    501    502    503    504    505    506 \n",
              "\"Ruim\" \"Ruim\" \"Ruim\" \"Ruim\" \"Ruim\" \"Ruim\" \"Ruim\" \"Ruim\" \"Ruim\" \"Ruim\" \"Ruim\" \n",
              "   507    508    509    510    511    512    513    514    515    516    517 \n",
              "\"Ruim\" \"Ruim\" \"Ruim\" \"Ruim\" \"Ruim\" \"Ruim\" \"Ruim\" \"Ruim\" \"Ruim\" \"Ruim\" \"Ruim\" \n",
              "   518    519    520    521    522    523    524    525    526    527    528 \n",
              "\"Ruim\" \"Ruim\" \"Ruim\" \"Ruim\" \"Ruim\" \"Ruim\" \"Ruim\" \"Ruim\" \"Ruim\" \"Ruim\" \"Ruim\" \n",
              "   529    530    531    532    533    534    535    536    537    538    539 \n",
              "\"Ruim\" \"Ruim\" \"Ruim\" \"Ruim\" \"Ruim\" \"Ruim\" \"Ruim\" \"Ruim\" \"Ruim\" \"Ruim\" \"Ruim\" \n",
              "   540    541    542    543    544    545    546    547    548    549    550 \n",
              "\"Ruim\" \"Ruim\" \"Ruim\" \"Ruim\" \"Ruim\" \"Ruim\" \"Ruim\" \"Ruim\" \"Ruim\" \"Ruim\" \"Ruim\" \n",
              "   551    552    553    554    555    556    557    558    559    560    561 \n",
              "\"Ruim\" \"Ruim\" \"Ruim\" \"Ruim\" \"Ruim\" \"Ruim\" \"Ruim\" \"Ruim\" \"Ruim\" \"Ruim\" \"Ruim\" \n",
              "   562    563    564    565    566    567    568    569    570    571    572 \n",
              "\"Ruim\" \"Ruim\" \"Ruim\" \"Ruim\" \"Ruim\" \"Ruim\" \"Ruim\" \"Ruim\" \"Ruim\" \"Ruim\" \"Ruim\" \n",
              "   573    574    575    576    577    578    579    580    581    582    583 \n",
              "\"Ruim\" \"Ruim\" \"Ruim\" \"Ruim\" \"Ruim\" \"Ruim\" \"Ruim\" \"Ruim\" \"Ruim\" \"Ruim\" \"Ruim\" \n",
              "   584    585    586    587    588    589    590    591    592    593    594 \n",
              "\"Ruim\" \"Ruim\" \"Ruim\" \"Ruim\" \"Ruim\" \"Ruim\" \"Ruim\" \"Ruim\" \"Ruim\" \"Ruim\" \"Ruim\" \n",
              "   595    596    597    598    599    600    601    602    603    604    605 \n",
              "\"Ruim\" \"Ruim\" \"Ruim\" \"Ruim\" \"Ruim\" \"Ruim\" \"Ruim\" \"Ruim\" \"Ruim\" \"Ruim\" \"Ruim\" \n",
              "   606    607    608    609    610    611    612    613    614    615    616 \n",
              "\"Ruim\" \"Ruim\" \"Ruim\" \"Ruim\" \"Ruim\" \"Ruim\" \"Ruim\" \"Ruim\" \"Ruim\" \"Ruim\" \"Ruim\" \n",
              "   617    618    619    620    621    622    623    624    625    626    627 \n",
              "\"Ruim\" \"Ruim\" \"Ruim\" \"Ruim\" \"Ruim\" \"Ruim\" \"Ruim\" \"Ruim\" \"Ruim\" \"Ruim\" \"Ruim\" \n",
              "   628    629    630    631    632    633    634    635    636    637    638 \n",
              "\"Ruim\" \"Ruim\" \"Ruim\" \"Ruim\" \"Ruim\" \"Ruim\" \"Ruim\" \"Ruim\" \"Ruim\" \"Ruim\" \"Ruim\" \n",
              "   639    640    641    642    643    644    645    646    647    648    649 \n",
              "\"Ruim\" \"Ruim\" \"Ruim\" \"Ruim\" \"Ruim\" \"Ruim\" \"Ruim\" \"Ruim\" \"Ruim\" \"Ruim\" \"Ruim\" \n",
              "   650    651    652    653    654    655    656    657    658    659    660 \n",
              "\"Ruim\" \"Ruim\" \"Ruim\" \"Ruim\" \"Ruim\" \"Ruim\" \"Ruim\" \"Ruim\" \"Ruim\" \"Ruim\" \"Ruim\" \n",
              "   661    662    663    664    665    666    667    668    669    670    671 \n",
              "\"Ruim\" \"Ruim\" \"Ruim\" \"Ruim\" \"Ruim\" \"Ruim\" \"Ruim\" \"Ruim\" \"Ruim\" \"Ruim\" \"Ruim\" \n",
              "   672    673    674    675    676    677    678    679    680    681    682 \n",
              "\"Ruim\" \"Ruim\" \"Ruim\" \"Ruim\" \"Ruim\" \"Ruim\" \"Ruim\" \"Ruim\" \"Ruim\" \"Ruim\" \"Ruim\" \n",
              "   683    684    685    686    687    688    689    690    691    692    693 \n",
              "\"Ruim\" \"Ruim\" \"Ruim\" \"Ruim\" \"Ruim\" \"Ruim\" \"Ruim\" \"Ruim\" \"Ruim\" \"Ruim\" \"Ruim\" \n",
              "   694    695    696    697    698    699 \n",
              "\"Ruim\" \"Ruim\" \"Ruim\" \"Ruim\" \"Ruim\" \"Ruim\" "
            ]
          },
          "metadata": {}
        }
      ]
    },
    {
      "cell_type": "code",
      "source": [
        "plot(\n",
        "  y = sensitividade[1:698] , \n",
        "  x = limiares[1:698], \n",
        "  type=\"l\", \n",
        "  col=\"red\", \n",
        "  ylab = 'Sensitividade e Especificidade', \n",
        "  xlab= 'Pontos de Corte');\n",
        "grid();\n",
        "lines(y = especificidade[1:698], x = limiares[1:698], type = 'l',col=\"blue\" \n",
        " )\n",
        "legend(\"bottomleft\", c(\"sensibilidade\",\"especificidade\"),\n",
        "col=c(\"red\",\"blue\"), lty=c(1,1),bty=\"n\", cex=1, lwd=1)\n",
        "abline(v=0.225)\n"
      ],
      "metadata": {
        "id": "tKw3IIcoIOrG",
        "colab": {
          "base_uri": "https://localhost:8080/",
          "height": 437
        },
        "outputId": "ea76b55c-9207-4762-ea8c-89ed33af7e1f"
      },
      "execution_count": 114,
      "outputs": [
        {
          "output_type": "display_data",
          "data": {
            "text/plain": [
              "plot without title"
            ],
            "image/png": "[encoded data removed]"
          },
          "metadata": {
            "image/png": {
              "width": 420,
              "height": 420
            }
          }
        }
      ]
    },
    {
      "cell_type": "code",
      "source": [
        "#Obtem novamente as probabilidades para classificar baseado no ponto de corte 22,5%\n",
        "Probabilidade <- predict(meu_modelo, newdata= dados,type = 'response')\n",
        "Classe_Predita <- ifelse(Probabilidade > 0.225,\"Boa\",\"Ruim\")\n",
        "\n",
        "View(data.frame(dados,Probabilidade,Classe_Predita))\n"
      ],
      "metadata": {
        "id": "Q1OkrK-SJlAD",
        "colab": {
          "base_uri": "https://localhost:8080/",
          "height": 1000
        },
        "outputId": "f093e4f7-431b-4587-c1d3-5a7f9b4a15de"
      },
      "execution_count": 115,
      "outputs": [
        {
          "output_type": "display_data",
          "data": {
            "text/plain": [
              "    Prova_Logica Redacao Auto_Avaliacao Classe Probabilidade Classe_Predita\n",
              "1   2            1       1              Ruim   0.09096250    Ruim          \n",
              "2   2            1       1              Ruim   0.09096250    Ruim          \n",
              "3   5            1       1              Ruim   0.15989589    Ruim          \n",
              "4   5            4       1              Boa    0.60235935    Boa           \n",
              "5   5            3       1              Ruim   0.43140265    Boa           \n",
              "6   2            3       1              Ruim   0.28514808    Boa           \n",
              "7   3            5       1              Boa    0.66331842    Boa           \n",
              "8   2            5       7              Boa    0.95288247    Boa           \n",
              "9   1            9       1              Boa    0.95325780    Boa           \n",
              "10  4            1       1              Ruim   0.13315862    Ruim          \n",
              "11  5            1       1              Ruim   0.15989589    Ruim          \n",
              "12  8            1       9              Boa    0.91487406    Boa           \n",
              "13  1            1       1              Ruim   0.07472674    Ruim          \n",
              "14  1            1       1              Ruim   0.07472674    Ruim          \n",
              "15  3            4       1              Boa    0.49667040    Boa           \n",
              "16  4            3       3              Ruim   0.58837159    Boa           \n",
              "17  3            3       6              Ruim   0.80446627    Boa           \n",
              "18  2            1       1              Ruim   0.09096250    Ruim          \n",
              "19  1            1       1              Ruim   0.07472674    Ruim          \n",
              "20  1            1       1              Ruim   0.07472674    Ruim          \n",
              "21  8            1       1              Boa    0.26579425    Boa           \n",
              "22  8            7       1              Boa    0.95821561    Boa           \n",
              "23  1            1       1              Ruim   0.07472674    Ruim          \n",
              "24  2            1       1              Ruim   0.09096250    Ruim          \n",
              "25  1            8       1              Boa    0.91082921    Boa           \n",
              "26  5            1       1              Ruim   0.15989589    Ruim          \n",
              "27  3            1       1              Ruim   0.11030524    Ruim          \n",
              "28  3            1       1              Ruim   0.11030524    Ruim          \n",
              "29  5            3       1              Boa    0.43140265    Boa           \n",
              "30  4            8       1              Boa    0.95104864    Boa           \n",
              "⋮   ⋮            ⋮       ⋮              ⋮      ⋮             ⋮             \n",
              "670 1            4       1              Boa    0.39127817    Boa           \n",
              "671 4            1       1              Ruim   0.13315862    Ruim          \n",
              "672 4            6       7              Boa    0.98412343    Boa           \n",
              "673 3            1       1              Ruim   0.11030524    Ruim          \n",
              "674 1            2       1              Ruim   0.13885712    Ruim          \n",
              "675 5            8       1              Boa    0.96011490    Boa           \n",
              "676 5            4       1              Boa    0.60235935    Boa           \n",
              "677 8            7       1              Boa    0.95821561    Boa           \n",
              "678 3            1       1              Ruim   0.11030524    Ruim          \n",
              "679 3            1       1              Ruim   0.11030524    Ruim          \n",
              "680 1            1       1              Ruim   0.07472674    Ruim          \n",
              "681 9            5       1              Boa    0.87696409    Boa           \n",
              "682 5            1       1              Ruim   0.15989589    Ruim          \n",
              "683 5            1       1              Ruim   0.15989589    Ruim          \n",
              "684 5            2       1              Ruim   0.27536576    Boa           \n",
              "685 5            1       1              Ruim   0.15989589    Ruim          \n",
              "686 1            1       2              Ruim   0.10983663    Ruim          \n",
              "687 9            7       8              Boa    0.99819203    Boa           \n",
              "688 6            1       1              Ruim   0.19081999    Ruim          \n",
              "689 3            1       1              Boa    0.11030524    Ruim          \n",
              "690 1            1       1              Ruim   0.07472674    Ruim          \n",
              "691 1            4       6              Boa    0.84254113    Boa           \n",
              "692 2            1       1              Ruim   0.09096250    Ruim          \n",
              "693 4            1       1              Ruim   0.13315862    Ruim          \n",
              "694 6            3       1              Boa    0.48455027    Boa           \n",
              "695 5            1       1              Ruim   0.15989589    Ruim          \n",
              "696 7            5       9              Boa    0.99279742    Boa           \n",
              "697 6            1       1              Boa    0.19081999    Ruim          \n",
              "698 5            7       1              Boa    0.92341050    Boa           \n",
              "699 1            1       1              Ruim   0.07472674    Ruim          "
            ],
            "text/html": [
              "<table class=\"dataframe\">\n",
              "<caption>A data.frame: 699 × 6</caption>\n",
              "<thead>\n",
              "\t<tr><th></th><th scope=col>Prova_Logica</th><th scope=col>Redacao</th><th scope=col>Auto_Avaliacao</th><th scope=col>Classe</th><th scope=col>Probabilidade</th><th scope=col>Classe_Predita</th></tr>\n",
              "\t<tr><th></th><th scope=col>&lt;dbl&gt;</th><th scope=col>&lt;dbl&gt;</th><th scope=col>&lt;dbl&gt;</th><th scope=col>&lt;fct&gt;</th><th scope=col>&lt;dbl&gt;</th><th scope=col>&lt;chr&gt;</th></tr>\n",
              "</thead>\n",
              "<tbody>\n",
              "\t<tr><th scope=row>1</th><td>2</td><td>1</td><td>1</td><td>Ruim</td><td>0.09096250</td><td>Ruim</td></tr>\n",
              "\t<tr><th scope=row>2</th><td>2</td><td>1</td><td>1</td><td>Ruim</td><td>0.09096250</td><td>Ruim</td></tr>\n",
              "\t<tr><th scope=row>3</th><td>5</td><td>1</td><td>1</td><td>Ruim</td><td>0.15989589</td><td>Ruim</td></tr>\n",
              "\t<tr><th scope=row>4</th><td>5</td><td>4</td><td>1</td><td>Boa </td><td>0.60235935</td><td>Boa </td></tr>\n",
              "\t<tr><th scope=row>5</th><td>5</td><td>3</td><td>1</td><td>Ruim</td><td>0.43140265</td><td>Boa </td></tr>\n",
              "\t<tr><th scope=row>6</th><td>2</td><td>3</td><td>1</td><td>Ruim</td><td>0.28514808</td><td>Boa </td></tr>\n",
              "\t<tr><th scope=row>7</th><td>3</td><td>5</td><td>1</td><td>Boa </td><td>0.66331842</td><td>Boa </td></tr>\n",
              "\t<tr><th scope=row>8</th><td>2</td><td>5</td><td>7</td><td>Boa </td><td>0.95288247</td><td>Boa </td></tr>\n",
              "\t<tr><th scope=row>9</th><td>1</td><td>9</td><td>1</td><td>Boa </td><td>0.95325780</td><td>Boa </td></tr>\n",
              "\t<tr><th scope=row>10</th><td>4</td><td>1</td><td>1</td><td>Ruim</td><td>0.13315862</td><td>Ruim</td></tr>\n",
              "\t<tr><th scope=row>11</th><td>5</td><td>1</td><td>1</td><td>Ruim</td><td>0.15989589</td><td>Ruim</td></tr>\n",
              "\t<tr><th scope=row>12</th><td>8</td><td>1</td><td>9</td><td>Boa </td><td>0.91487406</td><td>Boa </td></tr>\n",
              "\t<tr><th scope=row>13</th><td>1</td><td>1</td><td>1</td><td>Ruim</td><td>0.07472674</td><td>Ruim</td></tr>\n",
              "\t<tr><th scope=row>14</th><td>1</td><td>1</td><td>1</td><td>Ruim</td><td>0.07472674</td><td>Ruim</td></tr>\n",
              "\t<tr><th scope=row>15</th><td>3</td><td>4</td><td>1</td><td>Boa </td><td>0.49667040</td><td>Boa </td></tr>\n",
              "\t<tr><th scope=row>16</th><td>4</td><td>3</td><td>3</td><td>Ruim</td><td>0.58837159</td><td>Boa </td></tr>\n",
              "\t<tr><th scope=row>17</th><td>3</td><td>3</td><td>6</td><td>Ruim</td><td>0.80446627</td><td>Boa </td></tr>\n",
              "\t<tr><th scope=row>18</th><td>2</td><td>1</td><td>1</td><td>Ruim</td><td>0.09096250</td><td>Ruim</td></tr>\n",
              "\t<tr><th scope=row>19</th><td>1</td><td>1</td><td>1</td><td>Ruim</td><td>0.07472674</td><td>Ruim</td></tr>\n",
              "\t<tr><th scope=row>20</th><td>1</td><td>1</td><td>1</td><td>Ruim</td><td>0.07472674</td><td>Ruim</td></tr>\n",
              "\t<tr><th scope=row>21</th><td>8</td><td>1</td><td>1</td><td>Boa </td><td>0.26579425</td><td>Boa </td></tr>\n",
              "\t<tr><th scope=row>22</th><td>8</td><td>7</td><td>1</td><td>Boa </td><td>0.95821561</td><td>Boa </td></tr>\n",
              "\t<tr><th scope=row>23</th><td>1</td><td>1</td><td>1</td><td>Ruim</td><td>0.07472674</td><td>Ruim</td></tr>\n",
              "\t<tr><th scope=row>24</th><td>2</td><td>1</td><td>1</td><td>Ruim</td><td>0.09096250</td><td>Ruim</td></tr>\n",
              "\t<tr><th scope=row>25</th><td>1</td><td>8</td><td>1</td><td>Boa </td><td>0.91082921</td><td>Boa </td></tr>\n",
              "\t<tr><th scope=row>26</th><td>5</td><td>1</td><td>1</td><td>Ruim</td><td>0.15989589</td><td>Ruim</td></tr>\n",
              "\t<tr><th scope=row>27</th><td>3</td><td>1</td><td>1</td><td>Ruim</td><td>0.11030524</td><td>Ruim</td></tr>\n",
              "\t<tr><th scope=row>28</th><td>3</td><td>1</td><td>1</td><td>Ruim</td><td>0.11030524</td><td>Ruim</td></tr>\n",
              "\t<tr><th scope=row>29</th><td>5</td><td>3</td><td>1</td><td>Boa </td><td>0.43140265</td><td>Boa </td></tr>\n",
              "\t<tr><th scope=row>30</th><td>4</td><td>8</td><td>1</td><td>Boa </td><td>0.95104864</td><td>Boa </td></tr>\n",
              "\t<tr><th scope=row>⋮</th><td>⋮</td><td>⋮</td><td>⋮</td><td>⋮</td><td>⋮</td><td>⋮</td></tr>\n",
              "\t<tr><th scope=row>670</th><td>1</td><td>4</td><td>1</td><td>Boa </td><td>0.39127817</td><td>Boa </td></tr>\n",
              "\t<tr><th scope=row>671</th><td>4</td><td>1</td><td>1</td><td>Ruim</td><td>0.13315862</td><td>Ruim</td></tr>\n",
              "\t<tr><th scope=row>672</th><td>4</td><td>6</td><td>7</td><td>Boa </td><td>0.98412343</td><td>Boa </td></tr>\n",
              "\t<tr><th scope=row>673</th><td>3</td><td>1</td><td>1</td><td>Ruim</td><td>0.11030524</td><td>Ruim</td></tr>\n",
              "\t<tr><th scope=row>674</th><td>1</td><td>2</td><td>1</td><td>Ruim</td><td>0.13885712</td><td>Ruim</td></tr>\n",
              "\t<tr><th scope=row>675</th><td>5</td><td>8</td><td>1</td><td>Boa </td><td>0.96011490</td><td>Boa </td></tr>\n",
              "\t<tr><th scope=row>676</th><td>5</td><td>4</td><td>1</td><td>Boa </td><td>0.60235935</td><td>Boa </td></tr>\n",
              "\t<tr><th scope=row>677</th><td>8</td><td>7</td><td>1</td><td>Boa </td><td>0.95821561</td><td>Boa </td></tr>\n",
              "\t<tr><th scope=row>678</th><td>3</td><td>1</td><td>1</td><td>Ruim</td><td>0.11030524</td><td>Ruim</td></tr>\n",
              "\t<tr><th scope=row>679</th><td>3</td><td>1</td><td>1</td><td>Ruim</td><td>0.11030524</td><td>Ruim</td></tr>\n",
              "\t<tr><th scope=row>680</th><td>1</td><td>1</td><td>1</td><td>Ruim</td><td>0.07472674</td><td>Ruim</td></tr>\n",
              "\t<tr><th scope=row>681</th><td>9</td><td>5</td><td>1</td><td>Boa </td><td>0.87696409</td><td>Boa </td></tr>\n",
              "\t<tr><th scope=row>682</th><td>5</td><td>1</td><td>1</td><td>Ruim</td><td>0.15989589</td><td>Ruim</td></tr>\n",
              "\t<tr><th scope=row>683</th><td>5</td><td>1</td><td>1</td><td>Ruim</td><td>0.15989589</td><td>Ruim</td></tr>\n",
              "\t<tr><th scope=row>684</th><td>5</td><td>2</td><td>1</td><td>Ruim</td><td>0.27536576</td><td>Boa </td></tr>\n",
              "\t<tr><th scope=row>685</th><td>5</td><td>1</td><td>1</td><td>Ruim</td><td>0.15989589</td><td>Ruim</td></tr>\n",
              "\t<tr><th scope=row>686</th><td>1</td><td>1</td><td>2</td><td>Ruim</td><td>0.10983663</td><td>Ruim</td></tr>\n",
              "\t<tr><th scope=row>687</th><td>9</td><td>7</td><td>8</td><td>Boa </td><td>0.99819203</td><td>Boa </td></tr>\n",
              "\t<tr><th scope=row>688</th><td>6</td><td>1</td><td>1</td><td>Ruim</td><td>0.19081999</td><td>Ruim</td></tr>\n",
              "\t<tr><th scope=row>689</th><td>3</td><td>1</td><td>1</td><td>Boa </td><td>0.11030524</td><td>Ruim</td></tr>\n",
              "\t<tr><th scope=row>690</th><td>1</td><td>1</td><td>1</td><td>Ruim</td><td>0.07472674</td><td>Ruim</td></tr>\n",
              "\t<tr><th scope=row>691</th><td>1</td><td>4</td><td>6</td><td>Boa </td><td>0.84254113</td><td>Boa </td></tr>\n",
              "\t<tr><th scope=row>692</th><td>2</td><td>1</td><td>1</td><td>Ruim</td><td>0.09096250</td><td>Ruim</td></tr>\n",
              "\t<tr><th scope=row>693</th><td>4</td><td>1</td><td>1</td><td>Ruim</td><td>0.13315862</td><td>Ruim</td></tr>\n",
              "\t<tr><th scope=row>694</th><td>6</td><td>3</td><td>1</td><td>Boa </td><td>0.48455027</td><td>Boa </td></tr>\n",
              "\t<tr><th scope=row>695</th><td>5</td><td>1</td><td>1</td><td>Ruim</td><td>0.15989589</td><td>Ruim</td></tr>\n",
              "\t<tr><th scope=row>696</th><td>7</td><td>5</td><td>9</td><td>Boa </td><td>0.99279742</td><td>Boa </td></tr>\n",
              "\t<tr><th scope=row>697</th><td>6</td><td>1</td><td>1</td><td>Boa </td><td>0.19081999</td><td>Ruim</td></tr>\n",
              "\t<tr><th scope=row>698</th><td>5</td><td>7</td><td>1</td><td>Boa </td><td>0.92341050</td><td>Boa </td></tr>\n",
              "\t<tr><th scope=row>699</th><td>1</td><td>1</td><td>1</td><td>Ruim</td><td>0.07472674</td><td>Ruim</td></tr>\n",
              "</tbody>\n",
              "</table>\n"
            ],
            "text/markdown": "\nA data.frame: 699 × 6\n\n| <!--/--> | Prova_Logica &lt;dbl&gt; | Redacao &lt;dbl&gt; | Auto_Avaliacao &lt;dbl&gt; | Classe &lt;fct&gt; | Probabilidade &lt;dbl&gt; | Classe_Predita &lt;chr&gt; |\n|---|---|---|---|---|---|---|\n| 1 | 2 | 1 | 1 | Ruim | 0.09096250 | Ruim |\n| 2 | 2 | 1 | 1 | Ruim | 0.09096250 | Ruim |\n| 3 | 5 | 1 | 1 | Ruim | 0.15989589 | Ruim |\n| 4 | 5 | 4 | 1 | Boa  | 0.60235935 | Boa  |\n| 5 | 5 | 3 | 1 | Ruim | 0.43140265 | Boa  |\n| 6 | 2 | 3 | 1 | Ruim | 0.28514808 | Boa  |\n| 7 | 3 | 5 | 1 | Boa  | 0.66331842 | Boa  |\n| 8 | 2 | 5 | 7 | Boa  | 0.95288247 | Boa  |\n| 9 | 1 | 9 | 1 | Boa  | 0.95325780 | Boa  |\n| 10 | 4 | 1 | 1 | Ruim | 0.13315862 | Ruim |\n| 11 | 5 | 1 | 1 | Ruim | 0.15989589 | Ruim |\n| 12 | 8 | 1 | 9 | Boa  | 0.91487406 | Boa  |\n| 13 | 1 | 1 | 1 | Ruim | 0.07472674 | Ruim |\n| 14 | 1 | 1 | 1 | Ruim | 0.07472674 | Ruim |\n| 15 | 3 | 4 | 1 | Boa  | 0.49667040 | Boa  |\n| 16 | 4 | 3 | 3 | Ruim | 0.58837159 | Boa  |\n| 17 | 3 | 3 | 6 | Ruim | 0.80446627 | Boa  |\n| 18 | 2 | 1 | 1 | Ruim | 0.09096250 | Ruim |\n| 19 | 1 | 1 | 1 | Ruim | 0.07472674 | Ruim |\n| 20 | 1 | 1 | 1 | Ruim | 0.07472674 | Ruim |\n| 21 | 8 | 1 | 1 | Boa  | 0.26579425 | Boa  |\n| 22 | 8 | 7 | 1 | Boa  | 0.95821561 | Boa  |\n| 23 | 1 | 1 | 1 | Ruim | 0.07472674 | Ruim |\n| 24 | 2 | 1 | 1 | Ruim | 0.09096250 | Ruim |\n| 25 | 1 | 8 | 1 | Boa  | 0.91082921 | Boa  |\n| 26 | 5 | 1 | 1 | Ruim | 0.15989589 | Ruim |\n| 27 | 3 | 1 | 1 | Ruim | 0.11030524 | Ruim |\n| 28 | 3 | 1 | 1 | Ruim | 0.11030524 | Ruim |\n| 29 | 5 | 3 | 1 | Boa  | 0.43140265 | Boa  |\n| 30 | 4 | 8 | 1 | Boa  | 0.95104864 | Boa  |\n| ⋮ | ⋮ | ⋮ | ⋮ | ⋮ | ⋮ | ⋮ |\n| 670 | 1 | 4 | 1 | Boa  | 0.39127817 | Boa  |\n| 671 | 4 | 1 | 1 | Ruim | 0.13315862 | Ruim |\n| 672 | 4 | 6 | 7 | Boa  | 0.98412343 | Boa  |\n| 673 | 3 | 1 | 1 | Ruim | 0.11030524 | Ruim |\n| 674 | 1 | 2 | 1 | Ruim | 0.13885712 | Ruim |\n| 675 | 5 | 8 | 1 | Boa  | 0.96011490 | Boa  |\n| 676 | 5 | 4 | 1 | Boa  | 0.60235935 | Boa  |\n| 677 | 8 | 7 | 1 | Boa  | 0.95821561 | Boa  |\n| 678 | 3 | 1 | 1 | Ruim | 0.11030524 | Ruim |\n| 679 | 3 | 1 | 1 | Ruim | 0.11030524 | Ruim |\n| 680 | 1 | 1 | 1 | Ruim | 0.07472674 | Ruim |\n| 681 | 9 | 5 | 1 | Boa  | 0.87696409 | Boa  |\n| 682 | 5 | 1 | 1 | Ruim | 0.15989589 | Ruim |\n| 683 | 5 | 1 | 1 | Ruim | 0.15989589 | Ruim |\n| 684 | 5 | 2 | 1 | Ruim | 0.27536576 | Boa  |\n| 685 | 5 | 1 | 1 | Ruim | 0.15989589 | Ruim |\n| 686 | 1 | 1 | 2 | Ruim | 0.10983663 | Ruim |\n| 687 | 9 | 7 | 8 | Boa  | 0.99819203 | Boa  |\n| 688 | 6 | 1 | 1 | Ruim | 0.19081999 | Ruim |\n| 689 | 3 | 1 | 1 | Boa  | 0.11030524 | Ruim |\n| 690 | 1 | 1 | 1 | Ruim | 0.07472674 | Ruim |\n| 691 | 1 | 4 | 6 | Boa  | 0.84254113 | Boa  |\n| 692 | 2 | 1 | 1 | Ruim | 0.09096250 | Ruim |\n| 693 | 4 | 1 | 1 | Ruim | 0.13315862 | Ruim |\n| 694 | 6 | 3 | 1 | Boa  | 0.48455027 | Boa  |\n| 695 | 5 | 1 | 1 | Ruim | 0.15989589 | Ruim |\n| 696 | 7 | 5 | 9 | Boa  | 0.99279742 | Boa  |\n| 697 | 6 | 1 | 1 | Boa  | 0.19081999 | Ruim |\n| 698 | 5 | 7 | 1 | Boa  | 0.92341050 | Boa  |\n| 699 | 1 | 1 | 1 | Ruim | 0.07472674 | Ruim |\n\n",
            "text/latex": "A data.frame: 699 × 6\n\\begin{tabular}{r|llllll}\n  & Prova\\_Logica & Redacao & Auto\\_Avaliacao & Classe & Probabilidade & Classe\\_Predita\\\\\n  & <dbl> & <dbl> & <dbl> & <fct> & <dbl> & <chr>\\\\\n\\hline\n\t1 & 2 & 1 & 1 & Ruim & 0.09096250 & Ruim\\\\\n\t2 & 2 & 1 & 1 & Ruim & 0.09096250 & Ruim\\\\\n\t3 & 5 & 1 & 1 & Ruim & 0.15989589 & Ruim\\\\\n\t4 & 5 & 4 & 1 & Boa  & 0.60235935 & Boa \\\\\n\t5 & 5 & 3 & 1 & Ruim & 0.43140265 & Boa \\\\\n\t6 & 2 & 3 & 1 & Ruim & 0.28514808 & Boa \\\\\n\t7 & 3 & 5 & 1 & Boa  & 0.66331842 & Boa \\\\\n\t8 & 2 & 5 & 7 & Boa  & 0.95288247 & Boa \\\\\n\t9 & 1 & 9 & 1 & Boa  & 0.95325780 & Boa \\\\\n\t10 & 4 & 1 & 1 & Ruim & 0.13315862 & Ruim\\\\\n\t11 & 5 & 1 & 1 & Ruim & 0.15989589 & Ruim\\\\\n\t12 & 8 & 1 & 9 & Boa  & 0.91487406 & Boa \\\\\n\t13 & 1 & 1 & 1 & Ruim & 0.07472674 & Ruim\\\\\n\t14 & 1 & 1 & 1 & Ruim & 0.07472674 & Ruim\\\\\n\t15 & 3 & 4 & 1 & Boa  & 0.49667040 & Boa \\\\\n\t16 & 4 & 3 & 3 & Ruim & 0.58837159 & Boa \\\\\n\t17 & 3 & 3 & 6 & Ruim & 0.80446627 & Boa \\\\\n\t18 & 2 & 1 & 1 & Ruim & 0.09096250 & Ruim\\\\\n\t19 & 1 & 1 & 1 & Ruim & 0.07472674 & Ruim\\\\\n\t20 & 1 & 1 & 1 & Ruim & 0.07472674 & Ruim\\\\\n\t21 & 8 & 1 & 1 & Boa  & 0.26579425 & Boa \\\\\n\t22 & 8 & 7 & 1 & Boa  & 0.95821561 & Boa \\\\\n\t23 & 1 & 1 & 1 & Ruim & 0.07472674 & Ruim\\\\\n\t24 & 2 & 1 & 1 & Ruim & 0.09096250 & Ruim\\\\\n\t25 & 1 & 8 & 1 & Boa  & 0.91082921 & Boa \\\\\n\t26 & 5 & 1 & 1 & Ruim & 0.15989589 & Ruim\\\\\n\t27 & 3 & 1 & 1 & Ruim & 0.11030524 & Ruim\\\\\n\t28 & 3 & 1 & 1 & Ruim & 0.11030524 & Ruim\\\\\n\t29 & 5 & 3 & 1 & Boa  & 0.43140265 & Boa \\\\\n\t30 & 4 & 8 & 1 & Boa  & 0.95104864 & Boa \\\\\n\t⋮ & ⋮ & ⋮ & ⋮ & ⋮ & ⋮ & ⋮\\\\\n\t670 & 1 & 4 & 1 & Boa  & 0.39127817 & Boa \\\\\n\t671 & 4 & 1 & 1 & Ruim & 0.13315862 & Ruim\\\\\n\t672 & 4 & 6 & 7 & Boa  & 0.98412343 & Boa \\\\\n\t673 & 3 & 1 & 1 & Ruim & 0.11030524 & Ruim\\\\\n\t674 & 1 & 2 & 1 & Ruim & 0.13885712 & Ruim\\\\\n\t675 & 5 & 8 & 1 & Boa  & 0.96011490 & Boa \\\\\n\t676 & 5 & 4 & 1 & Boa  & 0.60235935 & Boa \\\\\n\t677 & 8 & 7 & 1 & Boa  & 0.95821561 & Boa \\\\\n\t678 & 3 & 1 & 1 & Ruim & 0.11030524 & Ruim\\\\\n\t679 & 3 & 1 & 1 & Ruim & 0.11030524 & Ruim\\\\\n\t680 & 1 & 1 & 1 & Ruim & 0.07472674 & Ruim\\\\\n\t681 & 9 & 5 & 1 & Boa  & 0.87696409 & Boa \\\\\n\t682 & 5 & 1 & 1 & Ruim & 0.15989589 & Ruim\\\\\n\t683 & 5 & 1 & 1 & Ruim & 0.15989589 & Ruim\\\\\n\t684 & 5 & 2 & 1 & Ruim & 0.27536576 & Boa \\\\\n\t685 & 5 & 1 & 1 & Ruim & 0.15989589 & Ruim\\\\\n\t686 & 1 & 1 & 2 & Ruim & 0.10983663 & Ruim\\\\\n\t687 & 9 & 7 & 8 & Boa  & 0.99819203 & Boa \\\\\n\t688 & 6 & 1 & 1 & Ruim & 0.19081999 & Ruim\\\\\n\t689 & 3 & 1 & 1 & Boa  & 0.11030524 & Ruim\\\\\n\t690 & 1 & 1 & 1 & Ruim & 0.07472674 & Ruim\\\\\n\t691 & 1 & 4 & 6 & Boa  & 0.84254113 & Boa \\\\\n\t692 & 2 & 1 & 1 & Ruim & 0.09096250 & Ruim\\\\\n\t693 & 4 & 1 & 1 & Ruim & 0.13315862 & Ruim\\\\\n\t694 & 6 & 3 & 1 & Boa  & 0.48455027 & Boa \\\\\n\t695 & 5 & 1 & 1 & Ruim & 0.15989589 & Ruim\\\\\n\t696 & 7 & 5 & 9 & Boa  & 0.99279742 & Boa \\\\\n\t697 & 6 & 1 & 1 & Boa  & 0.19081999 & Ruim\\\\\n\t698 & 5 & 7 & 1 & Boa  & 0.92341050 & Boa \\\\\n\t699 & 1 & 1 & 1 & Ruim & 0.07472674 & Ruim\\\\\n\\end{tabular}\n"
          },
          "metadata": {}
        }
      ]
    },
    {
      "cell_type": "code",
      "source": [
        "#Visualiza matriz de confusao final\n",
        "matriz_de_confusao <- table(Classe_Predita = Classe_Predita, Classe_Original = relevel(dados$Classe,ref = 'Boa'))\n",
        "matriz_de_confusao \n"
      ],
      "metadata": {
        "id": "oQSiC5FpJqKj",
        "colab": {
          "base_uri": "https://localhost:8080/",
          "height": 86
        },
        "outputId": "455bb879-d5dd-4783-d585-0aa6ea02398e"
      },
      "execution_count": 116,
      "outputs": [
        {
          "output_type": "display_data",
          "data": {
            "text/plain": [
              "              Classe_Original\n",
              "Classe_Predita Boa Ruim\n",
              "          Boa  204   75\n",
              "          Ruim  37  383"
            ]
          },
          "metadata": {}
        }
      ]
    },
    {
      "cell_type": "code",
      "source": [
        "#Armazena valores da matriz de confusao\n",
        "VP_Verdadeiro_Positivo <- matriz_de_confusao[1,1];\n",
        "print(paste('Verdadeiros Positivos: ' , VP_Verdadeiro_Positivo));\n",
        "\n",
        "FN_Falso_Negativo <- matriz_de_confusao[2,1];\n",
        "print(paste(\"Falsos Negativos     :  \" , FN_Falso_Negativo));\n",
        "\n",
        "VN_Verdadeiro_Negativo <- matriz_de_confusao[2,2];\n",
        "print(paste(\"Verdadeiros Negativos: \", VN_Verdadeiro_Negativo));\n",
        "\n",
        "FP_Falso_Positivo <- matriz_de_confusao[1,2];\n",
        "print(paste(\"Falsos Positivos     :  \", FP_Falso_Positivo))"
      ],
      "metadata": {
        "id": "0izikaA1KPLS",
        "colab": {
          "base_uri": "https://localhost:8080/"
        },
        "outputId": "b46da219-b00d-42f1-9532-6bfc1675d68e"
      },
      "execution_count": 117,
      "outputs": [
        {
          "output_type": "stream",
          "name": "stdout",
          "text": [
            "[1] \"Verdadeiros Positivos:  204\"\n",
            "[1] \"Falsos Negativos     :   37\"\n",
            "[1] \"Verdadeiros Negativos:  383\"\n",
            "[1] \"Falsos Positivos     :   75\"\n"
          ]
        }
      ]
    },
    {
      "cell_type": "code",
      "source": [
        "#Calcula acuracia\n",
        "acuracia <- sum(diag(matriz_de_confusao))/ sum(matriz_de_confusao);\n",
        "print(paste(\"Acurácia: \", acuracia * 100));"
      ],
      "metadata": {
        "id": "oKq76aI3Q8FL",
        "colab": {
          "base_uri": "https://localhost:8080/"
        },
        "outputId": "c14085c8-b892-473e-b5de-5061b8e247f7"
      },
      "execution_count": 118,
      "outputs": [
        {
          "output_type": "stream",
          "name": "stdout",
          "text": [
            "[1] \"Acurácia:  83.9771101573677\"\n"
          ]
        }
      ]
    },
    {
      "cell_type": "code",
      "source": [
        "#Calcula Sensitividade\n",
        "sensitividade <- VP_Verdadeiro_Positivo /(VP_Verdadeiro_Positivo + FN_Falso_Negativo)\n",
        "print(paste(\"Sensitividade: \", sensitividade*100))\n"
      ],
      "metadata": {
        "id": "0nu_wekTRBuS",
        "colab": {
          "base_uri": "https://localhost:8080/"
        },
        "outputId": "bbacbf6c-3f0d-442b-e9b4-0df4823b20f6"
      },
      "execution_count": 119,
      "outputs": [
        {
          "output_type": "stream",
          "name": "stdout",
          "text": [
            "[1] \"Sensitividade:  84.6473029045643\"\n"
          ]
        }
      ]
    },
    {
      "cell_type": "code",
      "source": [
        "#Calcula Especificidade\n",
        "especificidade <- VN_Verdadeiro_Negativo / (VN_Verdadeiro_Negativo + FP_Falso_Positivo)\n",
        "print(paste(\"Especificidade: \", especificidade * 100))"
      ],
      "metadata": {
        "id": "c_99Yb1dRDNC",
        "colab": {
          "base_uri": "https://localhost:8080/"
        },
        "outputId": "6539f7e5-4a47-47fa-9472-af4a7a1957e9"
      },
      "execution_count": 120,
      "outputs": [
        {
          "output_type": "stream",
          "name": "stdout",
          "text": [
            "[1] \"Especificidade:  83.6244541484716\"\n"
          ]
        }
      ]
    }
  ]
}