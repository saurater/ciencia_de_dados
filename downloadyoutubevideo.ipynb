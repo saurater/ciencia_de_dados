{
  "nbformat": 4,
  "nbformat_minor": 0,
  "metadata": {
    "colab": {
      "name": "downloadyoutubevideo.ipynb",
      "provenance": [],
      "authorship_tag": "ABX9TyMk2dwAh7In3LH5arQJ+bBm",
      "include_colab_link": true
    },
    "kernelspec": {
      "name": "python3",
      "display_name": "Python 3"
    },
    "language_info": {
      "name": "python"
    }
  },
  "cells": [
    {
      "cell_type": "markdown",
      "metadata": {
        "id": "view-in-github",
        "colab_type": "text"
      },
      "source": [
        "<a href=\"https://colab.research.google.com/github/saurater/ciencia_de_dados/blob/main/downloadyoutubevideo.ipynb\" target=\"_parent\"><img src=\"https://colab.research.google.com/assets/colab-badge.svg\" alt=\"Open In Colab\"/></a>"
      ]
    },
    {
      "cell_type": "code",
      "source": [
        "pip install pytube"
      ],
      "metadata": {
        "id": "G4naUE5XLw9d"
      },
      "execution_count": null,
      "outputs": []
    },
    {
      "cell_type": "code",
      "source": [
        "from pytube import YouTube\n",
        "\n",
        "\n",
        "def download_360p_mp4_videos(url: str, outpath: str = \"./\"):\n",
        "\n",
        "    yt = YouTube(url)\n",
        "\n",
        "    yt.streams.filter(file_extension=\"mp4\").get_by_resolution(\"720p\").download(outpath)\n",
        "\n",
        "\n",
        "if __name__ == \"__main__\":\n",
        "\n",
        "    print(\"Bora baixar vídeo do Youtube? By Sam Faraday\")\n",
        "    meu_video = input(\"Cole o link do video que quer baixar:\")\n",
        "    download_360p_mp4_videos(\n",
        "        meu_video,\n",
        "    )"
      ],
      "metadata": {
        "id": "FNO34uKHHslT"
      },
      "execution_count": null,
      "outputs": []
    }
  ]
}