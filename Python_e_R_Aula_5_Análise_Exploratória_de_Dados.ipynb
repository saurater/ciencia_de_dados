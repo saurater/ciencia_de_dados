{
  "nbformat": 4,
  "nbformat_minor": 0,
  "metadata": {
    "colab": {
      "name": "Python e R -Aula 5 - Análise Exploratória de Dados.ipynb",
      "provenance": [],
      "collapsed_sections": [
        "-AGhVLrIUGYp",
        "OchEKXsOOzm0",
        "NVO1GKpUOZA6",
        "S3ZLsiCwVhM-",
        "svouAubsoelp",
        "yO-P2EIgz2so",
        "9fY-W4SfaABp",
        "4nriZRVcYfBE",
        "xHHIMUT9o9sR",
        "fKz0PmNLX8Jv",
        "g-z1wEwQpHZA",
        "MOYqb4eMjpmV",
        "gHoUxU1lmh7c",
        "i-SRZwFPkjmV",
        "1u4R03JcqJaN",
        "md-r1EWyqTjA",
        "illmmycmdFn8",
        "nV63JEPMdlMa",
        "PEc_yCv3vKNo",
        "Y4CTC8jr1tPf",
        "Ny91rr8I18Y_",
        "xt9Z3RQIwWmA",
        "scQ8eqQxwfE2",
        "rZIo22P_vOXe",
        "Wmlp93BLxIDu",
        "zy50a2mAxp8V",
        "jPbwET7Qx0qK",
        "8knKmB13ycBS",
        "IykHD5EdDSDV",
        "fkB-Gg4QEN78",
        "GJ4STpYIET8W",
        "s1kaOqDlEd1r",
        "Qm86LkHCyA4t",
        "578QLT_Hsc_m",
        "aRtOFFxisyyy",
        "1vMmn7qTtBwu"
      ],
      "authorship_tag": "ABX9TyO33PIASvCd4XjWWLJsCfPH",
      "include_colab_link": true
    },
    "kernelspec": {
      "name": "python3",
      "display_name": "Python 3"
    },
    "language_info": {
      "name": "python"
    }
  },
  "cells": [
    {
      "cell_type": "markdown",
      "metadata": {
        "id": "view-in-github",
        "colab_type": "text"
      },
      "source": [
        "<a href=\"https://colab.research.google.com/github/saurater/ciencia_de_dados/blob/main/Python_e_R_Aula_5_An%C3%A1lise_Explorat%C3%B3ria_de_Dados.ipynb\" target=\"_parent\"><img src=\"https://colab.research.google.com/assets/colab-badge.svg\" alt=\"Open In Colab\"/></a>"
      ]
    },
    {
      "cell_type": "markdown",
      "source": [
        "# Aula 5 - Análise Exploratória de Dados com R e Python Simultaneamente\n",
        "## AED - Capitulo 01 - Prof. Máiron Chaves\n",
        "**Versão Python:** Sam Faraday\n",
        "\n",
        "**Versão em R disponível em:**  https://github.com/saurater/ciencia_de_dados/blob/main/R_Aula_5_An%C3%A1lise_Explanat%C3%B3ria_de_Dados.ipynb "
      ],
      "metadata": {
        "id": "-AGhVLrIUGYp"
      }
    },
    {
      "cell_type": "code",
      "execution_count": 1,
      "metadata": {
        "id": "Sj1xarh2T6aa"
      },
      "outputs": [],
      "source": [
        "import warnings\n",
        "warnings.filterwarnings('ignore')\n"
      ]
    },
    {
      "cell_type": "code",
      "source": [
        "# activate R magic\n",
        "%load_ext rpy2.ipython"
      ],
      "metadata": {
        "id": "iFXA5EoTPvLG"
      },
      "execution_count": 2,
      "outputs": []
    },
    {
      "cell_type": "code",
      "source": [
        "import pandas as pd"
      ],
      "metadata": {
        "id": "q8FEDNfmUfct"
      },
      "execution_count": 3,
      "outputs": []
    },
    {
      "cell_type": "code",
      "source": [
        "import matplotlib.pyplot as plt"
      ],
      "metadata": {
        "id": "PYEMIkrvUjOT"
      },
      "execution_count": 4,
      "outputs": []
    },
    {
      "cell_type": "code",
      "source": [
        "import numpy as np"
      ],
      "metadata": {
        "id": "CvI5PW47UmdY"
      },
      "execution_count": 5,
      "outputs": []
    },
    {
      "cell_type": "code",
      "source": [
        "from scipy.stats import shapiro"
      ],
      "metadata": {
        "id": "FslVSy0gUpYo"
      },
      "execution_count": 6,
      "outputs": []
    },
    {
      "cell_type": "code",
      "source": [
        "import statsmodels.api as sm"
      ],
      "metadata": {
        "id": "NBpeQjqgUqNg"
      },
      "execution_count": 7,
      "outputs": []
    },
    {
      "cell_type": "code",
      "source": [
        "import statistics"
      ],
      "metadata": {
        "id": "FhwIquXPUqWK"
      },
      "execution_count": 8,
      "outputs": []
    },
    {
      "cell_type": "code",
      "source": [
        "from plotnine import ggplot, aes, geom_line, geom_density, xlim"
      ],
      "metadata": {
        "id": "riVeMJxeUw9l"
      },
      "execution_count": 9,
      "outputs": []
    },
    {
      "cell_type": "code",
      "source": [
        "# import seaborn library\n",
        "import seaborn as sns"
      ],
      "metadata": {
        "id": "EGCRV1j-UzNT"
      },
      "execution_count": 10,
      "outputs": []
    },
    {
      "cell_type": "markdown",
      "source": [
        "# Carregando Dados"
      ],
      "metadata": {
        "id": "XTPA9H3G1DXU"
      }
    },
    {
      "cell_type": "markdown",
      "source": [
        ""
      ],
      "metadata": {
        "id": "NWPCuiW_1WPj"
      }
    },
    {
      "cell_type": "markdown",
      "source": [
        "## R - Carregando uma List (Dictionary in Python)"
      ],
      "metadata": {
        "id": "OchEKXsOOzm0"
      }
    },
    {
      "cell_type": "code",
      "source": [
        "%%R\n",
        "\n",
        "rdados <- data.frame(\n",
        "  Vendas_Cafe = c(18, 20, 23, 23, 23, 23, 24, 25, 26, 26, 26, 26, 27,\n",
        "28, 28, 29, 29, 30, 30, 31, 31, 33, 34, 35, 38, 39, 41, 44, 44, 46),\n",
        " Preco_Cafe = c(4.77, 4.67, 4.75, 4.74, 4.63, 4.56, 4.59, 4.75, 4.75, 4.49,\n",
        " 4.41, 4.32, 4.68, 4.66, 4.42, 4.71, 4.66, 4.46, 4.36, 4.47, 4.43,\n",
        " 4.4, 4.61, 4.09, 3.73, 3.89, 4.35, 3.84, 3.81, 3.79),\n",
        "Promocao = c(\"Nao\", \"Nao\", \"Nao\", \"Nao\", \"Nao\", \"Nao\", \"Nao\", \"Nao\",\n",
        "\"Sim\", \"Nao\", \"Sim\", \"Nao\", \"Nao\", \"Sim\", \"Sim\", \"Nao\", \"Sim\", \"Sim\",\n",
        " \"Sim\", \"Nao\", \"Nao\", \"Sim\", \"Sim\", \"Sim\", \"Nao\", \"Sim\", \"Sim\", \n",
        " \"Sim\", \"Sim\", \"Sim\"),\n",
        " Preco_Leite = c(4.74, 4.81, 4.36, 4.29, 4.17, 4.66, 4.73, 4.11, 4.21, 4.25,\n",
        " 4.62, 4.53, 4.44, 4.19, 4.37, 4.29, 4.57, 4.21, 4.77, 4, 4.31,\n",
        " 4.34, 4.05, 4.73, 4.07, 4.75, 4, 4.15, 4.34, 4.15) \n",
        " )\n",
        "\n",
        "typeof(rdados)"
      ],
      "metadata": {
        "colab": {
          "base_uri": "https://localhost:8080/"
        },
        "id": "glT5507eO69G",
        "outputId": "6c4f3b24-ee14-4a86-e360-12fca9e76249"
      },
      "execution_count": 13,
      "outputs": [
        {
          "output_type": "stream",
          "name": "stdout",
          "text": [
            "[1] \"list\"\n"
          ]
        }
      ]
    },
    {
      "cell_type": "code",
      "source": [
        "%%R\n",
        "rdados"
      ],
      "metadata": {
        "colab": {
          "base_uri": "https://localhost:8080/"
        },
        "id": "UwjRL9crVSsw",
        "outputId": "a0e8a4bb-973a-4943-9031-e1445816b05b"
      },
      "execution_count": 14,
      "outputs": [
        {
          "output_type": "stream",
          "name": "stdout",
          "text": [
            "   Vendas_Cafe Preco_Cafe Promocao Preco_Leite\n",
            "1           18       4.77      Nao        4.74\n",
            "2           20       4.67      Nao        4.81\n",
            "3           23       4.75      Nao        4.36\n",
            "4           23       4.74      Nao        4.29\n",
            "5           23       4.63      Nao        4.17\n",
            "6           23       4.56      Nao        4.66\n",
            "7           24       4.59      Nao        4.73\n",
            "8           25       4.75      Nao        4.11\n",
            "9           26       4.75      Sim        4.21\n",
            "10          26       4.49      Nao        4.25\n",
            "11          26       4.41      Sim        4.62\n",
            "12          26       4.32      Nao        4.53\n",
            "13          27       4.68      Nao        4.44\n",
            "14          28       4.66      Sim        4.19\n",
            "15          28       4.42      Sim        4.37\n",
            "16          29       4.71      Nao        4.29\n",
            "17          29       4.66      Sim        4.57\n",
            "18          30       4.46      Sim        4.21\n",
            "19          30       4.36      Sim        4.77\n",
            "20          31       4.47      Nao        4.00\n",
            "21          31       4.43      Nao        4.31\n",
            "22          33       4.40      Sim        4.34\n",
            "23          34       4.61      Sim        4.05\n",
            "24          35       4.09      Sim        4.73\n",
            "25          38       3.73      Nao        4.07\n",
            "26          39       3.89      Sim        4.75\n",
            "27          41       4.35      Sim        4.00\n",
            "28          44       3.84      Sim        4.15\n",
            "29          44       3.81      Sim        4.34\n",
            "30          46       3.79      Sim        4.15\n"
          ]
        }
      ]
    },
    {
      "cell_type": "markdown",
      "source": [
        "## Python - Carregando um Dictionary (List in R)"
      ],
      "metadata": {
        "id": "NVO1GKpUOZA6"
      }
    },
    {
      "cell_type": "code",
      "source": [
        "pdados = {\n",
        "  \"Vendas_Cafe\" : [18, 20, 23, 23, 23, 23, 24, 25, 26, 26, 26, 26, 27,\n",
        "28, 28, 29, 29, 30, 30, 31, 31, 33, 34, 35, 38, 39, 41, 44, 44, 46],\n",
        " \"Preco_Cafe\" : [4.77, 4.67, 4.75, 4.74, 4.63, 4.56, 4.59, 4.75, 4.75, 4.49,\n",
        " 4.41, 4.32, 4.68, 4.66, 4.42, 4.71, 4.66, 4.46, 4.36, 4.47, 4.43,\n",
        " 4.4, 4.61, 4.09, 3.73, 3.89, 4.35, 3.84, 3.81, 3.79],\n",
        "\"Promocao\":  [\"Nao\", \"Nao\", \"Nao\", \"Nao\", \"Nao\", \"Nao\", \"Nao\", \"Nao\",\n",
        "\"Sim\", \"Nao\", \"Sim\", \"Nao\", \"Nao\", \"Sim\", \"Sim\", \"Nao\", \"Sim\", \"Sim\",\n",
        " \"Sim\", \"Nao\", \"Nao\", \"Sim\", \"Sim\", \"Sim\", \"Nao\", \"Sim\", \"Sim\", \n",
        " \"Sim\", \"Sim\", \"Sim\"],\n",
        " \"Preco_Leite\" :  [4.74, 4.81, 4.36, 4.29, 4.17, 4.66, 4.73, 4.11, 4.21, 4.25,\n",
        " 4.62, 4.53, 4.44, 4.19, 4.37, 4.29, 4.57, 4.21, 4.77, 4, 4.31,\n",
        " 4.34, 4.05, 4.73, 4.07, 4.75, 4, 4.15, 4.34, 4.15]\n",
        "}\n",
        "type(pdados)"
      ],
      "metadata": {
        "id": "e0DBpk5uU7sN",
        "colab": {
          "base_uri": "https://localhost:8080/"
        },
        "outputId": "85052cfc-3a83-4561-8c75-f8763d1580e4"
      },
      "execution_count": 11,
      "outputs": [
        {
          "output_type": "execute_result",
          "data": {
            "text/plain": [
              "dict"
            ]
          },
          "metadata": {},
          "execution_count": 11
        }
      ]
    },
    {
      "cell_type": "code",
      "source": [
        "pdados"
      ],
      "metadata": {
        "id": "ZynS3zBPUAOW"
      },
      "execution_count": null,
      "outputs": []
    },
    {
      "cell_type": "markdown",
      "source": [
        "### Python - Converto a Lista em Datafame"
      ],
      "metadata": {
        "id": "S3ZLsiCwVhM-"
      }
    },
    {
      "cell_type": "code",
      "source": [
        "#carrega os dados em um Dataframe\n",
        "pdf = pd.DataFrame(pdados)"
      ],
      "metadata": {
        "id": "TNTER90FVV7p"
      },
      "execution_count": 50,
      "outputs": []
    },
    {
      "cell_type": "code",
      "source": [
        "pdf"
      ],
      "metadata": {
        "colab": {
          "base_uri": "https://localhost:8080/",
          "height": 990
        },
        "id": "1PDF1tOKWbbp",
        "outputId": "c45f52fa-da8b-4248-c6fe-d8c76cb1dab5"
      },
      "execution_count": 51,
      "outputs": [
        {
          "output_type": "execute_result",
          "data": {
            "text/plain": [
              "    Vendas_Cafe  Preco_Cafe Promocao  Preco_Leite\n",
              "0            18        4.77      Nao         4.74\n",
              "1            20        4.67      Nao         4.81\n",
              "2            23        4.75      Nao         4.36\n",
              "3            23        4.74      Nao         4.29\n",
              "4            23        4.63      Nao         4.17\n",
              "5            23        4.56      Nao         4.66\n",
              "6            24        4.59      Nao         4.73\n",
              "7            25        4.75      Nao         4.11\n",
              "8            26        4.75      Sim         4.21\n",
              "9            26        4.49      Nao         4.25\n",
              "10           26        4.41      Sim         4.62\n",
              "11           26        4.32      Nao         4.53\n",
              "12           27        4.68      Nao         4.44\n",
              "13           28        4.66      Sim         4.19\n",
              "14           28        4.42      Sim         4.37\n",
              "15           29        4.71      Nao         4.29\n",
              "16           29        4.66      Sim         4.57\n",
              "17           30        4.46      Sim         4.21\n",
              "18           30        4.36      Sim         4.77\n",
              "19           31        4.47      Nao         4.00\n",
              "20           31        4.43      Nao         4.31\n",
              "21           33        4.40      Sim         4.34\n",
              "22           34        4.61      Sim         4.05\n",
              "23           35        4.09      Sim         4.73\n",
              "24           38        3.73      Nao         4.07\n",
              "25           39        3.89      Sim         4.75\n",
              "26           41        4.35      Sim         4.00\n",
              "27           44        3.84      Sim         4.15\n",
              "28           44        3.81      Sim         4.34\n",
              "29           46        3.79      Sim         4.15"
            ],
            "text/html": [
              "\n",
              "  <div id=\"df-3f76315d-03b5-48f3-8499-68ae4d4f211b\">\n",
              "    <div class=\"colab-df-container\">\n",
              "      <div>\n",
              "<style scoped>\n",
              "    .dataframe tbody tr th:only-of-type {\n",
              "        vertical-align: middle;\n",
              "    }\n",
              "\n",
              "    .dataframe tbody tr th {\n",
              "        vertical-align: top;\n",
              "    }\n",
              "\n",
              "    .dataframe thead th {\n",
              "        text-align: right;\n",
              "    }\n",
              "</style>\n",
              "<table border=\"1\" class=\"dataframe\">\n",
              "  <thead>\n",
              "    <tr style=\"text-align: right;\">\n",
              "      <th></th>\n",
              "      <th>Vendas_Cafe</th>\n",
              "      <th>Preco_Cafe</th>\n",
              "      <th>Promocao</th>\n",
              "      <th>Preco_Leite</th>\n",
              "    </tr>\n",
              "  </thead>\n",
              "  <tbody>\n",
              "    <tr>\n",
              "      <th>0</th>\n",
              "      <td>18</td>\n",
              "      <td>4.77</td>\n",
              "      <td>Nao</td>\n",
              "      <td>4.74</td>\n",
              "    </tr>\n",
              "    <tr>\n",
              "      <th>1</th>\n",
              "      <td>20</td>\n",
              "      <td>4.67</td>\n",
              "      <td>Nao</td>\n",
              "      <td>4.81</td>\n",
              "    </tr>\n",
              "    <tr>\n",
              "      <th>2</th>\n",
              "      <td>23</td>\n",
              "      <td>4.75</td>\n",
              "      <td>Nao</td>\n",
              "      <td>4.36</td>\n",
              "    </tr>\n",
              "    <tr>\n",
              "      <th>3</th>\n",
              "      <td>23</td>\n",
              "      <td>4.74</td>\n",
              "      <td>Nao</td>\n",
              "      <td>4.29</td>\n",
              "    </tr>\n",
              "    <tr>\n",
              "      <th>4</th>\n",
              "      <td>23</td>\n",
              "      <td>4.63</td>\n",
              "      <td>Nao</td>\n",
              "      <td>4.17</td>\n",
              "    </tr>\n",
              "    <tr>\n",
              "      <th>5</th>\n",
              "      <td>23</td>\n",
              "      <td>4.56</td>\n",
              "      <td>Nao</td>\n",
              "      <td>4.66</td>\n",
              "    </tr>\n",
              "    <tr>\n",
              "      <th>6</th>\n",
              "      <td>24</td>\n",
              "      <td>4.59</td>\n",
              "      <td>Nao</td>\n",
              "      <td>4.73</td>\n",
              "    </tr>\n",
              "    <tr>\n",
              "      <th>7</th>\n",
              "      <td>25</td>\n",
              "      <td>4.75</td>\n",
              "      <td>Nao</td>\n",
              "      <td>4.11</td>\n",
              "    </tr>\n",
              "    <tr>\n",
              "      <th>8</th>\n",
              "      <td>26</td>\n",
              "      <td>4.75</td>\n",
              "      <td>Sim</td>\n",
              "      <td>4.21</td>\n",
              "    </tr>\n",
              "    <tr>\n",
              "      <th>9</th>\n",
              "      <td>26</td>\n",
              "      <td>4.49</td>\n",
              "      <td>Nao</td>\n",
              "      <td>4.25</td>\n",
              "    </tr>\n",
              "    <tr>\n",
              "      <th>10</th>\n",
              "      <td>26</td>\n",
              "      <td>4.41</td>\n",
              "      <td>Sim</td>\n",
              "      <td>4.62</td>\n",
              "    </tr>\n",
              "    <tr>\n",
              "      <th>11</th>\n",
              "      <td>26</td>\n",
              "      <td>4.32</td>\n",
              "      <td>Nao</td>\n",
              "      <td>4.53</td>\n",
              "    </tr>\n",
              "    <tr>\n",
              "      <th>12</th>\n",
              "      <td>27</td>\n",
              "      <td>4.68</td>\n",
              "      <td>Nao</td>\n",
              "      <td>4.44</td>\n",
              "    </tr>\n",
              "    <tr>\n",
              "      <th>13</th>\n",
              "      <td>28</td>\n",
              "      <td>4.66</td>\n",
              "      <td>Sim</td>\n",
              "      <td>4.19</td>\n",
              "    </tr>\n",
              "    <tr>\n",
              "      <th>14</th>\n",
              "      <td>28</td>\n",
              "      <td>4.42</td>\n",
              "      <td>Sim</td>\n",
              "      <td>4.37</td>\n",
              "    </tr>\n",
              "    <tr>\n",
              "      <th>15</th>\n",
              "      <td>29</td>\n",
              "      <td>4.71</td>\n",
              "      <td>Nao</td>\n",
              "      <td>4.29</td>\n",
              "    </tr>\n",
              "    <tr>\n",
              "      <th>16</th>\n",
              "      <td>29</td>\n",
              "      <td>4.66</td>\n",
              "      <td>Sim</td>\n",
              "      <td>4.57</td>\n",
              "    </tr>\n",
              "    <tr>\n",
              "      <th>17</th>\n",
              "      <td>30</td>\n",
              "      <td>4.46</td>\n",
              "      <td>Sim</td>\n",
              "      <td>4.21</td>\n",
              "    </tr>\n",
              "    <tr>\n",
              "      <th>18</th>\n",
              "      <td>30</td>\n",
              "      <td>4.36</td>\n",
              "      <td>Sim</td>\n",
              "      <td>4.77</td>\n",
              "    </tr>\n",
              "    <tr>\n",
              "      <th>19</th>\n",
              "      <td>31</td>\n",
              "      <td>4.47</td>\n",
              "      <td>Nao</td>\n",
              "      <td>4.00</td>\n",
              "    </tr>\n",
              "    <tr>\n",
              "      <th>20</th>\n",
              "      <td>31</td>\n",
              "      <td>4.43</td>\n",
              "      <td>Nao</td>\n",
              "      <td>4.31</td>\n",
              "    </tr>\n",
              "    <tr>\n",
              "      <th>21</th>\n",
              "      <td>33</td>\n",
              "      <td>4.40</td>\n",
              "      <td>Sim</td>\n",
              "      <td>4.34</td>\n",
              "    </tr>\n",
              "    <tr>\n",
              "      <th>22</th>\n",
              "      <td>34</td>\n",
              "      <td>4.61</td>\n",
              "      <td>Sim</td>\n",
              "      <td>4.05</td>\n",
              "    </tr>\n",
              "    <tr>\n",
              "      <th>23</th>\n",
              "      <td>35</td>\n",
              "      <td>4.09</td>\n",
              "      <td>Sim</td>\n",
              "      <td>4.73</td>\n",
              "    </tr>\n",
              "    <tr>\n",
              "      <th>24</th>\n",
              "      <td>38</td>\n",
              "      <td>3.73</td>\n",
              "      <td>Nao</td>\n",
              "      <td>4.07</td>\n",
              "    </tr>\n",
              "    <tr>\n",
              "      <th>25</th>\n",
              "      <td>39</td>\n",
              "      <td>3.89</td>\n",
              "      <td>Sim</td>\n",
              "      <td>4.75</td>\n",
              "    </tr>\n",
              "    <tr>\n",
              "      <th>26</th>\n",
              "      <td>41</td>\n",
              "      <td>4.35</td>\n",
              "      <td>Sim</td>\n",
              "      <td>4.00</td>\n",
              "    </tr>\n",
              "    <tr>\n",
              "      <th>27</th>\n",
              "      <td>44</td>\n",
              "      <td>3.84</td>\n",
              "      <td>Sim</td>\n",
              "      <td>4.15</td>\n",
              "    </tr>\n",
              "    <tr>\n",
              "      <th>28</th>\n",
              "      <td>44</td>\n",
              "      <td>3.81</td>\n",
              "      <td>Sim</td>\n",
              "      <td>4.34</td>\n",
              "    </tr>\n",
              "    <tr>\n",
              "      <th>29</th>\n",
              "      <td>46</td>\n",
              "      <td>3.79</td>\n",
              "      <td>Sim</td>\n",
              "      <td>4.15</td>\n",
              "    </tr>\n",
              "  </tbody>\n",
              "</table>\n",
              "</div>\n",
              "      <button class=\"colab-df-convert\" onclick=\"convertToInteractive('df-3f76315d-03b5-48f3-8499-68ae4d4f211b')\"\n",
              "              title=\"Convert this dataframe to an interactive table.\"\n",
              "              style=\"display:none;\">\n",
              "        \n",
              "  <svg xmlns=\"http://www.w3.org/2000/svg\" height=\"24px\"viewBox=\"0 0 24 24\"\n",
              "       width=\"24px\">\n",
              "    <path d=\"M0 0h24v24H0V0z\" fill=\"none\"/>\n",
              "    <path d=\"M18.56 5.44l.94 2.06.94-2.06 2.06-.94-2.06-.94-.94-2.06-.94 2.06-2.06.94zm-11 1L8.5 8.5l.94-2.06 2.06-.94-2.06-.94L8.5 2.5l-.94 2.06-2.06.94zm10 10l.94 2.06.94-2.06 2.06-.94-2.06-.94-.94-2.06-.94 2.06-2.06.94z\"/><path d=\"M17.41 7.96l-1.37-1.37c-.4-.4-.92-.59-1.43-.59-.52 0-1.04.2-1.43.59L10.3 9.45l-7.72 7.72c-.78.78-.78 2.05 0 2.83L4 21.41c.39.39.9.59 1.41.59.51 0 1.02-.2 1.41-.59l7.78-7.78 2.81-2.81c.8-.78.8-2.07 0-2.86zM5.41 20L4 18.59l7.72-7.72 1.47 1.35L5.41 20z\"/>\n",
              "  </svg>\n",
              "      </button>\n",
              "      \n",
              "  <style>\n",
              "    .colab-df-container {\n",
              "      display:flex;\n",
              "      flex-wrap:wrap;\n",
              "      gap: 12px;\n",
              "    }\n",
              "\n",
              "    .colab-df-convert {\n",
              "      background-color: #E8F0FE;\n",
              "      border: none;\n",
              "      border-radius: 50%;\n",
              "      cursor: pointer;\n",
              "      display: none;\n",
              "      fill: #1967D2;\n",
              "      height: 32px;\n",
              "      padding: 0 0 0 0;\n",
              "      width: 32px;\n",
              "    }\n",
              "\n",
              "    .colab-df-convert:hover {\n",
              "      background-color: #E2EBFA;\n",
              "      box-shadow: 0px 1px 2px rgba(60, 64, 67, 0.3), 0px 1px 3px 1px rgba(60, 64, 67, 0.15);\n",
              "      fill: #174EA6;\n",
              "    }\n",
              "\n",
              "    [theme=dark] .colab-df-convert {\n",
              "      background-color: #3B4455;\n",
              "      fill: #D2E3FC;\n",
              "    }\n",
              "\n",
              "    [theme=dark] .colab-df-convert:hover {\n",
              "      background-color: #434B5C;\n",
              "      box-shadow: 0px 1px 3px 1px rgba(0, 0, 0, 0.15);\n",
              "      filter: drop-shadow(0px 1px 2px rgba(0, 0, 0, 0.3));\n",
              "      fill: #FFFFFF;\n",
              "    }\n",
              "  </style>\n",
              "\n",
              "      <script>\n",
              "        const buttonEl =\n",
              "          document.querySelector('#df-3f76315d-03b5-48f3-8499-68ae4d4f211b button.colab-df-convert');\n",
              "        buttonEl.style.display =\n",
              "          google.colab.kernel.accessAllowed ? 'block' : 'none';\n",
              "\n",
              "        async function convertToInteractive(key) {\n",
              "          const element = document.querySelector('#df-3f76315d-03b5-48f3-8499-68ae4d4f211b');\n",
              "          const dataTable =\n",
              "            await google.colab.kernel.invokeFunction('convertToInteractive',\n",
              "                                                     [key], {});\n",
              "          if (!dataTable) return;\n",
              "\n",
              "          const docLinkHtml = 'Like what you see? Visit the ' +\n",
              "            '<a target=\"_blank\" href=https://colab.research.google.com/notebooks/data_table.ipynb>data table notebook</a>'\n",
              "            + ' to learn more about interactive tables.';\n",
              "          element.innerHTML = '';\n",
              "          dataTable['output_type'] = 'display_data';\n",
              "          await google.colab.output.renderOutput(dataTable, element);\n",
              "          const docLink = document.createElement('div');\n",
              "          docLink.innerHTML = docLinkHtml;\n",
              "          element.appendChild(docLink);\n",
              "        }\n",
              "      </script>\n",
              "    </div>\n",
              "  </div>\n",
              "  "
            ]
          },
          "metadata": {},
          "execution_count": 51
        }
      ]
    },
    {
      "cell_type": "markdown",
      "source": [
        "# Estatística Descritiva"
      ],
      "metadata": {
        "id": "svouAubsoelp"
      }
    },
    {
      "cell_type": "markdown",
      "source": [
        "##R - Estatistica Descritiva - Visualizando a Qdt (count), Média (mean), Quartis e Amplitudes (min, 25%,50%, 75%,max) ( Python já inclui o Desvio Padrão)"
      ],
      "metadata": {
        "id": "yO-P2EIgz2so"
      }
    },
    {
      "cell_type": "code",
      "source": [
        "%%R\n",
        "summary(rdados)"
      ],
      "metadata": {
        "colab": {
          "base_uri": "https://localhost:8080/"
        },
        "id": "JIo4Krsn0AlQ",
        "outputId": "709f673b-31b2-4eda-8e63-d7af8ea0a24a"
      },
      "execution_count": 17,
      "outputs": [
        {
          "output_type": "stream",
          "name": "stdout",
          "text": [
            "  Vendas_Cafe      Preco_Cafe      Promocao          Preco_Leite   \n",
            " Min.   :18.00   Min.   :3.730   Length:30          Min.   :4.000  \n",
            " 1st Qu.:25.25   1st Qu.:4.353   Class :character   1st Qu.:4.175  \n",
            " Median :28.50   Median :4.480   Mode  :character   Median :4.325  \n",
            " Mean   :30.00   Mean   :4.426                      Mean   :4.374  \n",
            " 3rd Qu.:33.75   3rd Qu.:4.668                      3rd Qu.:4.607  \n",
            " Max.   :46.00   Max.   :4.770                      Max.   :4.810  \n"
          ]
        }
      ]
    },
    {
      "cell_type": "markdown",
      "source": [
        "## R - Visualiza dos Desvios Padrões (Standard Deviation) das Variáveis\n",
        "( Python já inclui o Desvio Padrão em Describe)"
      ],
      "metadata": {
        "id": "9fY-W4SfaABp"
      }
    },
    {
      "cell_type": "code",
      "source": [
        "%%R\n",
        "sd(rdados$Vendas_Cafe)"
      ],
      "metadata": {
        "id": "8yiwMacQ0ENI",
        "colab": {
          "base_uri": "https://localhost:8080/"
        },
        "outputId": "13285a97-b010-40e8-d516-c9ab4ccf9344"
      },
      "execution_count": 18,
      "outputs": [
        {
          "output_type": "stream",
          "name": "stdout",
          "text": [
            "[1] 7.310833\n"
          ]
        }
      ]
    },
    {
      "cell_type": "code",
      "source": [
        "%%R\n",
        "sd(rdados$Preco_Cafe)"
      ],
      "metadata": {
        "id": "VtYWsi8k0Nsv",
        "colab": {
          "base_uri": "https://localhost:8080/"
        },
        "outputId": "4b7ebf56-1153-409b-f6f6-66975afcb129"
      },
      "execution_count": 19,
      "outputs": [
        {
          "output_type": "stream",
          "name": "stdout",
          "text": [
            "[1] 0.3220568\n"
          ]
        }
      ]
    },
    {
      "cell_type": "code",
      "source": [
        "%%R\n",
        "sd(rdados$Preco_Leite)"
      ],
      "metadata": {
        "id": "ffkhjEvC0RTh",
        "colab": {
          "base_uri": "https://localhost:8080/"
        },
        "outputId": "af9f1035-b651-4379-973b-5d0a300c4f59"
      },
      "execution_count": 20,
      "outputs": [
        {
          "output_type": "stream",
          "name": "stdout",
          "text": [
            "[1] 0.2558082\n"
          ]
        }
      ]
    },
    {
      "cell_type": "markdown",
      "source": [
        "## Python - Estatística Descritiva - Visualizando a Qdt (count), Média (mean), Desvio Padrão (std) , Quartis e Amplitudes (min, 25%,50%, 75%,max)"
      ],
      "metadata": {
        "id": "4nriZRVcYfBE"
      }
    },
    {
      "cell_type": "code",
      "source": [
        "pdf.describe()"
      ],
      "metadata": {
        "colab": {
          "base_uri": "https://localhost:8080/",
          "height": 300
        },
        "id": "M2VHZD2iWXvx",
        "outputId": "b72e39ef-7959-4ffa-d36a-8d330eba1e04"
      },
      "execution_count": 21,
      "outputs": [
        {
          "output_type": "execute_result",
          "data": {
            "text/plain": [
              "       Vendas_Cafe  Preco_Cafe  Preco_Leite\n",
              "count    30.000000   30.000000    30.000000\n",
              "mean     30.000000    4.426333     4.373667\n",
              "std       7.310833    0.322057     0.255808\n",
              "min      18.000000    3.730000     4.000000\n",
              "25%      25.250000    4.352500     4.175000\n",
              "50%      28.500000    4.480000     4.325000\n",
              "75%      33.750000    4.667500     4.607500\n",
              "max      46.000000    4.770000     4.810000"
            ],
            "text/html": [
              "\n",
              "  <div id=\"df-1eed2b1a-9384-49f0-8479-d2778549dca8\">\n",
              "    <div class=\"colab-df-container\">\n",
              "      <div>\n",
              "<style scoped>\n",
              "    .dataframe tbody tr th:only-of-type {\n",
              "        vertical-align: middle;\n",
              "    }\n",
              "\n",
              "    .dataframe tbody tr th {\n",
              "        vertical-align: top;\n",
              "    }\n",
              "\n",
              "    .dataframe thead th {\n",
              "        text-align: right;\n",
              "    }\n",
              "</style>\n",
              "<table border=\"1\" class=\"dataframe\">\n",
              "  <thead>\n",
              "    <tr style=\"text-align: right;\">\n",
              "      <th></th>\n",
              "      <th>Vendas_Cafe</th>\n",
              "      <th>Preco_Cafe</th>\n",
              "      <th>Preco_Leite</th>\n",
              "    </tr>\n",
              "  </thead>\n",
              "  <tbody>\n",
              "    <tr>\n",
              "      <th>count</th>\n",
              "      <td>30.000000</td>\n",
              "      <td>30.000000</td>\n",
              "      <td>30.000000</td>\n",
              "    </tr>\n",
              "    <tr>\n",
              "      <th>mean</th>\n",
              "      <td>30.000000</td>\n",
              "      <td>4.426333</td>\n",
              "      <td>4.373667</td>\n",
              "    </tr>\n",
              "    <tr>\n",
              "      <th>std</th>\n",
              "      <td>7.310833</td>\n",
              "      <td>0.322057</td>\n",
              "      <td>0.255808</td>\n",
              "    </tr>\n",
              "    <tr>\n",
              "      <th>min</th>\n",
              "      <td>18.000000</td>\n",
              "      <td>3.730000</td>\n",
              "      <td>4.000000</td>\n",
              "    </tr>\n",
              "    <tr>\n",
              "      <th>25%</th>\n",
              "      <td>25.250000</td>\n",
              "      <td>4.352500</td>\n",
              "      <td>4.175000</td>\n",
              "    </tr>\n",
              "    <tr>\n",
              "      <th>50%</th>\n",
              "      <td>28.500000</td>\n",
              "      <td>4.480000</td>\n",
              "      <td>4.325000</td>\n",
              "    </tr>\n",
              "    <tr>\n",
              "      <th>75%</th>\n",
              "      <td>33.750000</td>\n",
              "      <td>4.667500</td>\n",
              "      <td>4.607500</td>\n",
              "    </tr>\n",
              "    <tr>\n",
              "      <th>max</th>\n",
              "      <td>46.000000</td>\n",
              "      <td>4.770000</td>\n",
              "      <td>4.810000</td>\n",
              "    </tr>\n",
              "  </tbody>\n",
              "</table>\n",
              "</div>\n",
              "      <button class=\"colab-df-convert\" onclick=\"convertToInteractive('df-1eed2b1a-9384-49f0-8479-d2778549dca8')\"\n",
              "              title=\"Convert this dataframe to an interactive table.\"\n",
              "              style=\"display:none;\">\n",
              "        \n",
              "  <svg xmlns=\"http://www.w3.org/2000/svg\" height=\"24px\"viewBox=\"0 0 24 24\"\n",
              "       width=\"24px\">\n",
              "    <path d=\"M0 0h24v24H0V0z\" fill=\"none\"/>\n",
              "    <path d=\"M18.56 5.44l.94 2.06.94-2.06 2.06-.94-2.06-.94-.94-2.06-.94 2.06-2.06.94zm-11 1L8.5 8.5l.94-2.06 2.06-.94-2.06-.94L8.5 2.5l-.94 2.06-2.06.94zm10 10l.94 2.06.94-2.06 2.06-.94-2.06-.94-.94-2.06-.94 2.06-2.06.94z\"/><path d=\"M17.41 7.96l-1.37-1.37c-.4-.4-.92-.59-1.43-.59-.52 0-1.04.2-1.43.59L10.3 9.45l-7.72 7.72c-.78.78-.78 2.05 0 2.83L4 21.41c.39.39.9.59 1.41.59.51 0 1.02-.2 1.41-.59l7.78-7.78 2.81-2.81c.8-.78.8-2.07 0-2.86zM5.41 20L4 18.59l7.72-7.72 1.47 1.35L5.41 20z\"/>\n",
              "  </svg>\n",
              "      </button>\n",
              "      \n",
              "  <style>\n",
              "    .colab-df-container {\n",
              "      display:flex;\n",
              "      flex-wrap:wrap;\n",
              "      gap: 12px;\n",
              "    }\n",
              "\n",
              "    .colab-df-convert {\n",
              "      background-color: #E8F0FE;\n",
              "      border: none;\n",
              "      border-radius: 50%;\n",
              "      cursor: pointer;\n",
              "      display: none;\n",
              "      fill: #1967D2;\n",
              "      height: 32px;\n",
              "      padding: 0 0 0 0;\n",
              "      width: 32px;\n",
              "    }\n",
              "\n",
              "    .colab-df-convert:hover {\n",
              "      background-color: #E2EBFA;\n",
              "      box-shadow: 0px 1px 2px rgba(60, 64, 67, 0.3), 0px 1px 3px 1px rgba(60, 64, 67, 0.15);\n",
              "      fill: #174EA6;\n",
              "    }\n",
              "\n",
              "    [theme=dark] .colab-df-convert {\n",
              "      background-color: #3B4455;\n",
              "      fill: #D2E3FC;\n",
              "    }\n",
              "\n",
              "    [theme=dark] .colab-df-convert:hover {\n",
              "      background-color: #434B5C;\n",
              "      box-shadow: 0px 1px 3px 1px rgba(0, 0, 0, 0.15);\n",
              "      filter: drop-shadow(0px 1px 2px rgba(0, 0, 0, 0.3));\n",
              "      fill: #FFFFFF;\n",
              "    }\n",
              "  </style>\n",
              "\n",
              "      <script>\n",
              "        const buttonEl =\n",
              "          document.querySelector('#df-1eed2b1a-9384-49f0-8479-d2778549dca8 button.colab-df-convert');\n",
              "        buttonEl.style.display =\n",
              "          google.colab.kernel.accessAllowed ? 'block' : 'none';\n",
              "\n",
              "        async function convertToInteractive(key) {\n",
              "          const element = document.querySelector('#df-1eed2b1a-9384-49f0-8479-d2778549dca8');\n",
              "          const dataTable =\n",
              "            await google.colab.kernel.invokeFunction('convertToInteractive',\n",
              "                                                     [key], {});\n",
              "          if (!dataTable) return;\n",
              "\n",
              "          const docLinkHtml = 'Like what you see? Visit the ' +\n",
              "            '<a target=\"_blank\" href=https://colab.research.google.com/notebooks/data_table.ipynb>data table notebook</a>'\n",
              "            + ' to learn more about interactive tables.';\n",
              "          element.innerHTML = '';\n",
              "          dataTable['output_type'] = 'display_data';\n",
              "          await google.colab.output.renderOutput(dataTable, element);\n",
              "          const docLink = document.createElement('div');\n",
              "          docLink.innerHTML = docLinkHtml;\n",
              "          element.appendChild(docLink);\n",
              "        }\n",
              "      </script>\n",
              "    </div>\n",
              "  </div>\n",
              "  "
            ]
          },
          "metadata": {},
          "execution_count": 21
        }
      ]
    },
    {
      "cell_type": "code",
      "source": [
        "#Por questão de simplicidade, pode-se se salvar os dados em CSV e apenas carregá-los depois\n",
        "pdf.to_csv(\"dados.csv\" )"
      ],
      "metadata": {
        "id": "Cj31QsNeWjfn"
      },
      "execution_count": 22,
      "outputs": []
    },
    {
      "cell_type": "code",
      "source": [
        "#carregando os dados salvos\n",
        "pdf  = pd.read_csv(\"dados.csv\")"
      ],
      "metadata": {
        "id": "qGkVx7yhWsjb"
      },
      "execution_count": 23,
      "outputs": []
    },
    {
      "cell_type": "markdown",
      "source": [
        "# Histogramas"
      ],
      "metadata": {
        "id": "xHHIMUT9o9sR"
      }
    },
    {
      "cell_type": "markdown",
      "source": [
        "##Python - Histogramas com as Distribuições das Variáveis"
      ],
      "metadata": {
        "id": "fKz0PmNLX8Jv"
      }
    },
    {
      "cell_type": "code",
      "source": [
        "plt.hist(pdados['Preco_Cafe'], bins=5, edgecolor=\"yellow\", color=\"blue\", \n",
        "         label = ['Preço'])\n",
        "plt.title('Distribuicao dos Preços Praticados para o Preço do Café')\n",
        "plt.legend()\n",
        "plt.xlabel('Preços')\n",
        "plt.ylabel('Quantidades')\n",
        "plt.show() "
      ],
      "metadata": {
        "colab": {
          "base_uri": "https://localhost:8080/",
          "height": 295
        },
        "id": "ZWLlk3VYXoA4",
        "outputId": "d8b32976-024c-4688-a7bf-d7cbef183376"
      },
      "execution_count": 24,
      "outputs": [
        {
          "output_type": "display_data",
          "data": {
            "text/plain": [
              "<Figure size 432x288 with 1 Axes>"
            ],
            "image/png": "[encoded data removed]"
          },
          "metadata": {
            "needs_background": "light"
          }
        }
      ]
    },
    {
      "cell_type": "code",
      "source": [
        "plt.hist(pdados['Preco_Leite'], bins=5, edgecolor=\"yellow\", color=\"green\", \n",
        "         label = ['Preço'])\n",
        "plt.title('Distribuicao dos Preços Praticados para o Preço do Leite')\n",
        "plt.legend()\n",
        "plt.xlabel('Preços')\n",
        "plt.ylabel('Quantidades')\n",
        "plt.show() "
      ],
      "metadata": {
        "colab": {
          "base_uri": "https://localhost:8080/",
          "height": 295
        },
        "id": "iuxxsw_jbZ5Y",
        "outputId": "a4b9818a-80f0-43c8-bf6f-587bc7213f69"
      },
      "execution_count": 25,
      "outputs": [
        {
          "output_type": "display_data",
          "data": {
            "text/plain": [
              "<Figure size 432x288 with 1 Axes>"
            ],
            "image/png": "[encoded data removed]"
          },
          "metadata": {
            "needs_background": "light"
          }
        }
      ]
    },
    {
      "cell_type": "code",
      "source": [
        "plt.hist(pdados['Vendas_Cafe'], bins=7, edgecolor=\"yellow\", color=\"grey\", \n",
        "         label = ['Preço'])\n",
        "plt.title('Distribuicao dos Preços Praticados para as Vendas de Café')\n",
        "plt.legend()\n",
        "plt.xlabel('Preços')\n",
        "plt.ylabel('Quantidades')\n",
        "plt.show() "
      ],
      "metadata": {
        "colab": {
          "base_uri": "https://localhost:8080/",
          "height": 295
        },
        "id": "mmqqBaIdcaDY",
        "outputId": "5f22f90f-0ae6-4225-965b-3f4bd6f7b23e"
      },
      "execution_count": 26,
      "outputs": [
        {
          "output_type": "display_data",
          "data": {
            "text/plain": [
              "<Figure size 432x288 with 1 Axes>"
            ],
            "image/png": "[encoded data removed]"
          },
          "metadata": {
            "needs_background": "light"
          }
        }
      ]
    },
    {
      "cell_type": "markdown",
      "source": [
        "## R - Histogramas com as Distribuições das Variáveis"
      ],
      "metadata": {
        "id": "g-z1wEwQpHZA"
      }
    },
    {
      "cell_type": "code",
      "source": [
        "%%R\n",
        "hist(rdados$Vendas_Cafe,\n",
        " col = 'brown',\n",
        " main = 'Distribruicao das Vendas do Café')"
      ],
      "metadata": {
        "colab": {
          "base_uri": "https://localhost:8080/",
          "height": 497
        },
        "id": "X85z4WYipTr_",
        "outputId": "e3e8ad52-1ac2-4958-9226-971f190d698a"
      },
      "execution_count": 27,
      "outputs": [
        {
          "output_type": "display_data",
          "data": {
            "image/png": "[encoded data removed]"
          },
          "metadata": {}
        }
      ]
    },
    {
      "cell_type": "code",
      "source": [
        "%%R\n",
        "hist(rdados$Preco_Cafe,\n",
        " col = 'blue',\n",
        " main = 'Distribuicao dos Preços do Café')"
      ],
      "metadata": {
        "colab": {
          "base_uri": "https://localhost:8080/",
          "height": 497
        },
        "id": "RLdVJVBxpebk",
        "outputId": "739e0cd9-ff7a-49a9-d24d-3b445b3f62cf"
      },
      "execution_count": 28,
      "outputs": [
        {
          "output_type": "display_data",
          "data": {
            "image/png": "[encoded data removed]"
          },
          "metadata": {}
        }
      ]
    },
    {
      "cell_type": "code",
      "source": [
        "%%R\n",
        "hist(rdados$Preco_Leite,\n",
        " col = 'green',\n",
        " main = 'Distribuicao dos Preços do Leite')"
      ],
      "metadata": {
        "colab": {
          "base_uri": "https://localhost:8080/",
          "height": 497
        },
        "id": "LRUePCyfplN-",
        "outputId": "edf1a232-4bae-48fd-eed3-67c616103294"
      },
      "execution_count": 29,
      "outputs": [
        {
          "output_type": "display_data",
          "data": {
            "image/png": "[encoded data removed]"
          },
          "metadata": {}
        }
      ]
    },
    {
      "cell_type": "markdown",
      "source": [
        "#Teste de Shapiro\n",
        "O Teste de Shapiro-Wilk tem como objetivo avaliar se uma distribuição é semelhante a uma distribuição normal. A distribuição normal também pode ser chamada de gaussiana e sua forma assemelha-se a de um sino. Esse tipo de distribuição é muito importante, por ser frequentemente usada para modelar fenômenos naturais.\n",
        "\n",
        "Como resultado, o teste retornará a estatística W, que terá um valor de significância associada, o valor-p. Para dizer que uma distribuição é normal, o valor p precisa ser maior do que 0,05."
      ],
      "metadata": {
        "id": "MOYqb4eMjpmV"
      }
    },
    {
      "cell_type": "markdown",
      "source": [
        "## R - Teste de Shapiro"
      ],
      "metadata": {
        "id": "gHoUxU1lmh7c"
      }
    },
    {
      "cell_type": "code",
      "source": [
        "%%R\n",
        "shapiro.test(rdados$Preco_Leite)"
      ],
      "metadata": {
        "colab": {
          "base_uri": "https://localhost:8080/"
        },
        "id": "BPYkJIzcmkic",
        "outputId": "c15fa97b-f3cf-4d3c-826d-dc7586138074"
      },
      "execution_count": 30,
      "outputs": [
        {
          "output_type": "stream",
          "name": "stdout",
          "text": [
            "\n",
            "\tShapiro-Wilk normality test\n",
            "\n",
            "data:  rdados$Preco_Leite\n",
            "W = 0.92365, p-value = 0.0334\n",
            "\n"
          ]
        }
      ]
    },
    {
      "cell_type": "markdown",
      "source": [
        "## Python - Teste de Shapiro"
      ],
      "metadata": {
        "id": "i-SRZwFPkjmV"
      }
    },
    {
      "cell_type": "code",
      "source": [
        "shapiro(pdados['Preco_Leite'])"
      ],
      "metadata": {
        "colab": {
          "base_uri": "https://localhost:8080/"
        },
        "id": "6otjHkf9dNU1",
        "outputId": "27f67d5c-9bd5-4059-892d-9ac6ff68a3e0"
      },
      "execution_count": 31,
      "outputs": [
        {
          "output_type": "execute_result",
          "data": {
            "text/plain": [
              "(0.923654317855835, 0.03339812532067299)"
            ]
          },
          "metadata": {},
          "execution_count": 31
        }
      ]
    },
    {
      "cell_type": "markdown",
      "source": [
        "# Visualização da Relacão entre as Vendas e o Preço do Café"
      ],
      "metadata": {
        "id": "1u4R03JcqJaN"
      }
    },
    {
      "cell_type": "markdown",
      "source": [
        "## R - Visualização da Relacão entre as Vendas e o Preço do Café"
      ],
      "metadata": {
        "id": "md-r1EWyqTjA"
      }
    },
    {
      "cell_type": "code",
      "source": [
        "%%R\n",
        "plot(y = rdados$Vendas_Cafe,\n",
        " x = rdados$Preco_Cafe)"
      ],
      "metadata": {
        "colab": {
          "base_uri": "https://localhost:8080/",
          "height": 497
        },
        "id": "EpNiWuAaqY7-",
        "outputId": "179b1704-99ff-40fd-b6a4-6859f43e4601"
      },
      "execution_count": 32,
      "outputs": [
        {
          "output_type": "display_data",
          "data": {
            "image/png": "[encoded data removed]"
          },
          "metadata": {}
        }
      ]
    },
    {
      "cell_type": "markdown",
      "source": [
        "##Python - Visualização da Relacão entre as Vendas e o Preço do Café"
      ],
      "metadata": {
        "id": "illmmycmdFn8"
      }
    },
    {
      "cell_type": "code",
      "source": [
        "#plotando o gráfico Q-Q plot para visualizar a distribuição\n",
        "sm.qqplot(pdf['Preco_Leite'], fit=True,line ='45')"
      ],
      "metadata": {
        "colab": {
          "base_uri": "https://localhost:8080/",
          "height": 541
        },
        "id": "Mmea8jbKdEmx",
        "outputId": "f113eb46-4b37-450d-af66-76654c835487"
      },
      "execution_count": 33,
      "outputs": [
        {
          "output_type": "execute_result",
          "data": {
            "text/plain": [
              "<Figure size 432x288 with 1 Axes>"
            ],
            "image/png": "[encoded data removed]"
          },
          "metadata": {},
          "execution_count": 33
        },
        {
          "output_type": "display_data",
          "data": {
            "text/plain": [
              "<Figure size 432x288 with 1 Axes>"
            ],
            "image/png": "[encoded data removed]"
          },
          "metadata": {
            "needs_background": "light"
          }
        }
      ]
    },
    {
      "cell_type": "markdown",
      "source": [
        "#Explorando a Relação entre as variáveis Preço e Vendas do Café\n"
      ],
      "metadata": {
        "id": "nV63JEPMdlMa"
      }
    },
    {
      "cell_type": "markdown",
      "source": [
        "## R - Explorando a Relação entre as Variáveis Preço e Vendas do Café"
      ],
      "metadata": {
        "id": "PEc_yCv3vKNo"
      }
    },
    {
      "cell_type": "markdown",
      "source": [
        "### Customização  do Gráfico"
      ],
      "metadata": {
        "id": "Y4CTC8jr1tPf"
      }
    },
    {
      "cell_type": "code",
      "source": [
        "%%R\n",
        "plot(y = rdados$Vendas_Cafe,\n",
        "x = rdados$Preco_Cafe,\n",
        " pch = 16,\n",
        " col = 'blue',\n",
        " xlab = 'Preço',\n",
        " ylab = 'Quantidade Vendidade',\n",
        " main = 'Relação entre o Preço e as Vendas do Café')\n",
        "grid() #este comando adiciona linhas de grade ao grafico"
      ],
      "metadata": {
        "colab": {
          "base_uri": "https://localhost:8080/",
          "height": 497
        },
        "id": "6W0kmhsJ1t5P",
        "outputId": "6fbb0528-4b1d-41f5-cde2-40a23c650130"
      },
      "execution_count": 34,
      "outputs": [
        {
          "output_type": "display_data",
          "data": {
            "image/png": "[encoded data removed]"
          },
          "metadata": {}
        }
      ]
    },
    {
      "cell_type": "markdown",
      "source": [
        "### Colore os pontos em que havia promoção naquele dia\n",
        "**Atenção**: rdados$Promocao convertido para Factor"
      ],
      "metadata": {
        "id": "Ny91rr8I18Y_"
      }
    },
    {
      "cell_type": "code",
      "source": [
        "%%R\n",
        "plot(\n",
        " y = rdados$Vendas_Cafe,\n",
        " x = rdados$Preco_Cafe,\n",
        " col = as.factor(rdados$Promocao),\n",
        " pch = 16,\n",
        " xlab = 'Preço',\n",
        " ylab = 'Quantidade Vendidade',\n",
        " main = 'Relação entre o Preço e as Vendas do Café'\n",
        " )\n",
        " legend(x=4.4,y=45,\n",
        " c(\"Promoção\",\"Sem_Promoção\"),\n",
        " col=c(\"red\",\"black\"),\n",
        " pch=c(16,16))\n",
        "grid()\n"
      ],
      "metadata": {
        "id": "kbDke5G319U4",
        "colab": {
          "base_uri": "https://localhost:8080/",
          "height": 497
        },
        "outputId": "002e5aaa-e29a-476c-b347-2117ea3180da"
      },
      "execution_count": 35,
      "outputs": [
        {
          "output_type": "display_data",
          "data": {
            "image/png": "[encoded data removed]"
          },
          "metadata": {}
        }
      ]
    },
    {
      "cell_type": "markdown",
      "source": [
        "### Cria uma nova variavel informando se naquele dia vendeu acima ou abaixo da media histórica"
      ],
      "metadata": {
        "id": "xt9Z3RQIwWmA"
      }
    },
    {
      "cell_type": "code",
      "source": [
        "%%R\n",
        "\n",
        "media <- mean(rdados$Vendas_Cafe) #armazena a media em uma variavel\n",
        "variavel <- ifelse(rdados$Vendas_Cafe > media,\n",
        " 'Acima_da_media',\n",
        " 'Abaixo_da_media')\n",
        "variavel <- factor(variavel) #converte nova variavel para factor\n",
        "plot(variavel) #grafico com a qtde abaixo e acima da media\n"
      ],
      "metadata": {
        "id": "cvemClf6prfR",
        "colab": {
          "base_uri": "https://localhost:8080/",
          "height": 497
        },
        "outputId": "0d649848-f486-4ee6-94fd-0b8f94b8190e"
      },
      "execution_count": 36,
      "outputs": [
        {
          "output_type": "display_data",
          "data": {
            "image/png": "[encoded data removed]"
          },
          "metadata": {}
        }
      ]
    },
    {
      "cell_type": "markdown",
      "source": [
        "### Visualiza a qtde abaixo e acima da media"
      ],
      "metadata": {
        "id": "scQ8eqQxwfE2"
      }
    },
    {
      "cell_type": "code",
      "source": [
        "%%R\n",
        "table(variavel) #visualiza a qtde abaixo e acima da media"
      ],
      "metadata": {
        "id": "5SpfhGMppxpi",
        "colab": {
          "base_uri": "https://localhost:8080/"
        },
        "outputId": "399e92e1-dea3-400f-db09-5f33ef24e040"
      },
      "execution_count": 37,
      "outputs": [
        {
          "output_type": "stream",
          "name": "stdout",
          "text": [
            "variavel\n",
            "Abaixo_da_media  Acima_da_media \n",
            "             19              11 \n"
          ]
        }
      ]
    },
    {
      "cell_type": "markdown",
      "source": [
        "## Python - Explorando a Relação entre as Variáveis Preço e Vendas do Café"
      ],
      "metadata": {
        "id": "rZIo22P_vOXe"
      }
    },
    {
      "cell_type": "code",
      "source": [
        "sns.regplot(x=\"Preco_Cafe\", y=\"Vendas_Cafe\", data=pdf);"
      ],
      "metadata": {
        "colab": {
          "base_uri": "https://localhost:8080/",
          "height": 280
        },
        "id": "FdgwP_FNd0Ex",
        "outputId": "ddfb5193-692d-495d-d650-387cf590d3c7"
      },
      "execution_count": 38,
      "outputs": [
        {
          "output_type": "display_data",
          "data": {
            "text/plain": [
              "<Figure size 432x288 with 1 Axes>"
            ],
            "image/png": "[encoded data removed]"
          },
          "metadata": {
            "needs_background": "light"
          }
        }
      ]
    },
    {
      "cell_type": "markdown",
      "source": [
        "### Cria uma nova variável informando se naquele dia vendeu acima ou abaixo da media histórica e adiciona ao dataframe"
      ],
      "metadata": {
        "id": "Wmlp93BLxIDu"
      }
    },
    {
      "cell_type": "code",
      "source": [
        "media = pdf['Vendas_Cafe'].mean()\n",
        "media"
      ],
      "metadata": {
        "colab": {
          "base_uri": "https://localhost:8080/"
        },
        "id": "PA7AVgXCf72M",
        "outputId": "70deb139-c6db-4684-ffeb-46c839323f91"
      },
      "execution_count": 39,
      "outputs": [
        {
          "output_type": "execute_result",
          "data": {
            "text/plain": [
              "30.0"
            ]
          },
          "metadata": {},
          "execution_count": 39
        }
      ]
    },
    {
      "cell_type": "code",
      "source": [
        "pdf['variavel'] = np.where(pdf['Vendas_Cafe']>media, 'Acima da Media', 'Abaixo da Média')\n",
        "pdf"
      ],
      "metadata": {
        "colab": {
          "base_uri": "https://localhost:8080/",
          "height": 990
        },
        "id": "Uib12vGAipw8",
        "outputId": "33d988f1-001d-45d3-9994-fac723ad1784"
      },
      "execution_count": 40,
      "outputs": [
        {
          "output_type": "execute_result",
          "data": {
            "text/plain": [
              "    Unnamed: 0  Vendas_Cafe  Preco_Cafe Promocao  Preco_Leite         variavel\n",
              "0            0           18        4.77      Nao         4.74  Abaixo da Média\n",
              "1            1           20        4.67      Nao         4.81  Abaixo da Média\n",
              "2            2           23        4.75      Nao         4.36  Abaixo da Média\n",
              "3            3           23        4.74      Nao         4.29  Abaixo da Média\n",
              "4            4           23        4.63      Nao         4.17  Abaixo da Média\n",
              "5            5           23        4.56      Nao         4.66  Abaixo da Média\n",
              "6            6           24        4.59      Nao         4.73  Abaixo da Média\n",
              "7            7           25        4.75      Nao         4.11  Abaixo da Média\n",
              "8            8           26        4.75      Sim         4.21  Abaixo da Média\n",
              "9            9           26        4.49      Nao         4.25  Abaixo da Média\n",
              "10          10           26        4.41      Sim         4.62  Abaixo da Média\n",
              "11          11           26        4.32      Nao         4.53  Abaixo da Média\n",
              "12          12           27        4.68      Nao         4.44  Abaixo da Média\n",
              "13          13           28        4.66      Sim         4.19  Abaixo da Média\n",
              "14          14           28        4.42      Sim         4.37  Abaixo da Média\n",
              "15          15           29        4.71      Nao         4.29  Abaixo da Média\n",
              "16          16           29        4.66      Sim         4.57  Abaixo da Média\n",
              "17          17           30        4.46      Sim         4.21  Abaixo da Média\n",
              "18          18           30        4.36      Sim         4.77  Abaixo da Média\n",
              "19          19           31        4.47      Nao         4.00   Acima da Media\n",
              "20          20           31        4.43      Nao         4.31   Acima da Media\n",
              "21          21           33        4.40      Sim         4.34   Acima da Media\n",
              "22          22           34        4.61      Sim         4.05   Acima da Media\n",
              "23          23           35        4.09      Sim         4.73   Acima da Media\n",
              "24          24           38        3.73      Nao         4.07   Acima da Media\n",
              "25          25           39        3.89      Sim         4.75   Acima da Media\n",
              "26          26           41        4.35      Sim         4.00   Acima da Media\n",
              "27          27           44        3.84      Sim         4.15   Acima da Media\n",
              "28          28           44        3.81      Sim         4.34   Acima da Media\n",
              "29          29           46        3.79      Sim         4.15   Acima da Media"
            ],
            "text/html": [
              "\n",
              "  <div id=\"df-e4de1005-d219-4beb-a689-211f3514e5df\">\n",
              "    <div class=\"colab-df-container\">\n",
              "      <div>\n",
              "<style scoped>\n",
              "    .dataframe tbody tr th:only-of-type {\n",
              "        vertical-align: middle;\n",
              "    }\n",
              "\n",
              "    .dataframe tbody tr th {\n",
              "        vertical-align: top;\n",
              "    }\n",
              "\n",
              "    .dataframe thead th {\n",
              "        text-align: right;\n",
              "    }\n",
              "</style>\n",
              "<table border=\"1\" class=\"dataframe\">\n",
              "  <thead>\n",
              "    <tr style=\"text-align: right;\">\n",
              "      <th></th>\n",
              "      <th>Unnamed: 0</th>\n",
              "      <th>Vendas_Cafe</th>\n",
              "      <th>Preco_Cafe</th>\n",
              "      <th>Promocao</th>\n",
              "      <th>Preco_Leite</th>\n",
              "      <th>variavel</th>\n",
              "    </tr>\n",
              "  </thead>\n",
              "  <tbody>\n",
              "    <tr>\n",
              "      <th>0</th>\n",
              "      <td>0</td>\n",
              "      <td>18</td>\n",
              "      <td>4.77</td>\n",
              "      <td>Nao</td>\n",
              "      <td>4.74</td>\n",
              "      <td>Abaixo da Média</td>\n",
              "    </tr>\n",
              "    <tr>\n",
              "      <th>1</th>\n",
              "      <td>1</td>\n",
              "      <td>20</td>\n",
              "      <td>4.67</td>\n",
              "      <td>Nao</td>\n",
              "      <td>4.81</td>\n",
              "      <td>Abaixo da Média</td>\n",
              "    </tr>\n",
              "    <tr>\n",
              "      <th>2</th>\n",
              "      <td>2</td>\n",
              "      <td>23</td>\n",
              "      <td>4.75</td>\n",
              "      <td>Nao</td>\n",
              "      <td>4.36</td>\n",
              "      <td>Abaixo da Média</td>\n",
              "    </tr>\n",
              "    <tr>\n",
              "      <th>3</th>\n",
              "      <td>3</td>\n",
              "      <td>23</td>\n",
              "      <td>4.74</td>\n",
              "      <td>Nao</td>\n",
              "      <td>4.29</td>\n",
              "      <td>Abaixo da Média</td>\n",
              "    </tr>\n",
              "    <tr>\n",
              "      <th>4</th>\n",
              "      <td>4</td>\n",
              "      <td>23</td>\n",
              "      <td>4.63</td>\n",
              "      <td>Nao</td>\n",
              "      <td>4.17</td>\n",
              "      <td>Abaixo da Média</td>\n",
              "    </tr>\n",
              "    <tr>\n",
              "      <th>5</th>\n",
              "      <td>5</td>\n",
              "      <td>23</td>\n",
              "      <td>4.56</td>\n",
              "      <td>Nao</td>\n",
              "      <td>4.66</td>\n",
              "      <td>Abaixo da Média</td>\n",
              "    </tr>\n",
              "    <tr>\n",
              "      <th>6</th>\n",
              "      <td>6</td>\n",
              "      <td>24</td>\n",
              "      <td>4.59</td>\n",
              "      <td>Nao</td>\n",
              "      <td>4.73</td>\n",
              "      <td>Abaixo da Média</td>\n",
              "    </tr>\n",
              "    <tr>\n",
              "      <th>7</th>\n",
              "      <td>7</td>\n",
              "      <td>25</td>\n",
              "      <td>4.75</td>\n",
              "      <td>Nao</td>\n",
              "      <td>4.11</td>\n",
              "      <td>Abaixo da Média</td>\n",
              "    </tr>\n",
              "    <tr>\n",
              "      <th>8</th>\n",
              "      <td>8</td>\n",
              "      <td>26</td>\n",
              "      <td>4.75</td>\n",
              "      <td>Sim</td>\n",
              "      <td>4.21</td>\n",
              "      <td>Abaixo da Média</td>\n",
              "    </tr>\n",
              "    <tr>\n",
              "      <th>9</th>\n",
              "      <td>9</td>\n",
              "      <td>26</td>\n",
              "      <td>4.49</td>\n",
              "      <td>Nao</td>\n",
              "      <td>4.25</td>\n",
              "      <td>Abaixo da Média</td>\n",
              "    </tr>\n",
              "    <tr>\n",
              "      <th>10</th>\n",
              "      <td>10</td>\n",
              "      <td>26</td>\n",
              "      <td>4.41</td>\n",
              "      <td>Sim</td>\n",
              "      <td>4.62</td>\n",
              "      <td>Abaixo da Média</td>\n",
              "    </tr>\n",
              "    <tr>\n",
              "      <th>11</th>\n",
              "      <td>11</td>\n",
              "      <td>26</td>\n",
              "      <td>4.32</td>\n",
              "      <td>Nao</td>\n",
              "      <td>4.53</td>\n",
              "      <td>Abaixo da Média</td>\n",
              "    </tr>\n",
              "    <tr>\n",
              "      <th>12</th>\n",
              "      <td>12</td>\n",
              "      <td>27</td>\n",
              "      <td>4.68</td>\n",
              "      <td>Nao</td>\n",
              "      <td>4.44</td>\n",
              "      <td>Abaixo da Média</td>\n",
              "    </tr>\n",
              "    <tr>\n",
              "      <th>13</th>\n",
              "      <td>13</td>\n",
              "      <td>28</td>\n",
              "      <td>4.66</td>\n",
              "      <td>Sim</td>\n",
              "      <td>4.19</td>\n",
              "      <td>Abaixo da Média</td>\n",
              "    </tr>\n",
              "    <tr>\n",
              "      <th>14</th>\n",
              "      <td>14</td>\n",
              "      <td>28</td>\n",
              "      <td>4.42</td>\n",
              "      <td>Sim</td>\n",
              "      <td>4.37</td>\n",
              "      <td>Abaixo da Média</td>\n",
              "    </tr>\n",
              "    <tr>\n",
              "      <th>15</th>\n",
              "      <td>15</td>\n",
              "      <td>29</td>\n",
              "      <td>4.71</td>\n",
              "      <td>Nao</td>\n",
              "      <td>4.29</td>\n",
              "      <td>Abaixo da Média</td>\n",
              "    </tr>\n",
              "    <tr>\n",
              "      <th>16</th>\n",
              "      <td>16</td>\n",
              "      <td>29</td>\n",
              "      <td>4.66</td>\n",
              "      <td>Sim</td>\n",
              "      <td>4.57</td>\n",
              "      <td>Abaixo da Média</td>\n",
              "    </tr>\n",
              "    <tr>\n",
              "      <th>17</th>\n",
              "      <td>17</td>\n",
              "      <td>30</td>\n",
              "      <td>4.46</td>\n",
              "      <td>Sim</td>\n",
              "      <td>4.21</td>\n",
              "      <td>Abaixo da Média</td>\n",
              "    </tr>\n",
              "    <tr>\n",
              "      <th>18</th>\n",
              "      <td>18</td>\n",
              "      <td>30</td>\n",
              "      <td>4.36</td>\n",
              "      <td>Sim</td>\n",
              "      <td>4.77</td>\n",
              "      <td>Abaixo da Média</td>\n",
              "    </tr>\n",
              "    <tr>\n",
              "      <th>19</th>\n",
              "      <td>19</td>\n",
              "      <td>31</td>\n",
              "      <td>4.47</td>\n",
              "      <td>Nao</td>\n",
              "      <td>4.00</td>\n",
              "      <td>Acima da Media</td>\n",
              "    </tr>\n",
              "    <tr>\n",
              "      <th>20</th>\n",
              "      <td>20</td>\n",
              "      <td>31</td>\n",
              "      <td>4.43</td>\n",
              "      <td>Nao</td>\n",
              "      <td>4.31</td>\n",
              "      <td>Acima da Media</td>\n",
              "    </tr>\n",
              "    <tr>\n",
              "      <th>21</th>\n",
              "      <td>21</td>\n",
              "      <td>33</td>\n",
              "      <td>4.40</td>\n",
              "      <td>Sim</td>\n",
              "      <td>4.34</td>\n",
              "      <td>Acima da Media</td>\n",
              "    </tr>\n",
              "    <tr>\n",
              "      <th>22</th>\n",
              "      <td>22</td>\n",
              "      <td>34</td>\n",
              "      <td>4.61</td>\n",
              "      <td>Sim</td>\n",
              "      <td>4.05</td>\n",
              "      <td>Acima da Media</td>\n",
              "    </tr>\n",
              "    <tr>\n",
              "      <th>23</th>\n",
              "      <td>23</td>\n",
              "      <td>35</td>\n",
              "      <td>4.09</td>\n",
              "      <td>Sim</td>\n",
              "      <td>4.73</td>\n",
              "      <td>Acima da Media</td>\n",
              "    </tr>\n",
              "    <tr>\n",
              "      <th>24</th>\n",
              "      <td>24</td>\n",
              "      <td>38</td>\n",
              "      <td>3.73</td>\n",
              "      <td>Nao</td>\n",
              "      <td>4.07</td>\n",
              "      <td>Acima da Media</td>\n",
              "    </tr>\n",
              "    <tr>\n",
              "      <th>25</th>\n",
              "      <td>25</td>\n",
              "      <td>39</td>\n",
              "      <td>3.89</td>\n",
              "      <td>Sim</td>\n",
              "      <td>4.75</td>\n",
              "      <td>Acima da Media</td>\n",
              "    </tr>\n",
              "    <tr>\n",
              "      <th>26</th>\n",
              "      <td>26</td>\n",
              "      <td>41</td>\n",
              "      <td>4.35</td>\n",
              "      <td>Sim</td>\n",
              "      <td>4.00</td>\n",
              "      <td>Acima da Media</td>\n",
              "    </tr>\n",
              "    <tr>\n",
              "      <th>27</th>\n",
              "      <td>27</td>\n",
              "      <td>44</td>\n",
              "      <td>3.84</td>\n",
              "      <td>Sim</td>\n",
              "      <td>4.15</td>\n",
              "      <td>Acima da Media</td>\n",
              "    </tr>\n",
              "    <tr>\n",
              "      <th>28</th>\n",
              "      <td>28</td>\n",
              "      <td>44</td>\n",
              "      <td>3.81</td>\n",
              "      <td>Sim</td>\n",
              "      <td>4.34</td>\n",
              "      <td>Acima da Media</td>\n",
              "    </tr>\n",
              "    <tr>\n",
              "      <th>29</th>\n",
              "      <td>29</td>\n",
              "      <td>46</td>\n",
              "      <td>3.79</td>\n",
              "      <td>Sim</td>\n",
              "      <td>4.15</td>\n",
              "      <td>Acima da Media</td>\n",
              "    </tr>\n",
              "  </tbody>\n",
              "</table>\n",
              "</div>\n",
              "      <button class=\"colab-df-convert\" onclick=\"convertToInteractive('df-e4de1005-d219-4beb-a689-211f3514e5df')\"\n",
              "              title=\"Convert this dataframe to an interactive table.\"\n",
              "              style=\"display:none;\">\n",
              "        \n",
              "  <svg xmlns=\"http://www.w3.org/2000/svg\" height=\"24px\"viewBox=\"0 0 24 24\"\n",
              "       width=\"24px\">\n",
              "    <path d=\"M0 0h24v24H0V0z\" fill=\"none\"/>\n",
              "    <path d=\"M18.56 5.44l.94 2.06.94-2.06 2.06-.94-2.06-.94-.94-2.06-.94 2.06-2.06.94zm-11 1L8.5 8.5l.94-2.06 2.06-.94-2.06-.94L8.5 2.5l-.94 2.06-2.06.94zm10 10l.94 2.06.94-2.06 2.06-.94-2.06-.94-.94-2.06-.94 2.06-2.06.94z\"/><path d=\"M17.41 7.96l-1.37-1.37c-.4-.4-.92-.59-1.43-.59-.52 0-1.04.2-1.43.59L10.3 9.45l-7.72 7.72c-.78.78-.78 2.05 0 2.83L4 21.41c.39.39.9.59 1.41.59.51 0 1.02-.2 1.41-.59l7.78-7.78 2.81-2.81c.8-.78.8-2.07 0-2.86zM5.41 20L4 18.59l7.72-7.72 1.47 1.35L5.41 20z\"/>\n",
              "  </svg>\n",
              "      </button>\n",
              "      \n",
              "  <style>\n",
              "    .colab-df-container {\n",
              "      display:flex;\n",
              "      flex-wrap:wrap;\n",
              "      gap: 12px;\n",
              "    }\n",
              "\n",
              "    .colab-df-convert {\n",
              "      background-color: #E8F0FE;\n",
              "      border: none;\n",
              "      border-radius: 50%;\n",
              "      cursor: pointer;\n",
              "      display: none;\n",
              "      fill: #1967D2;\n",
              "      height: 32px;\n",
              "      padding: 0 0 0 0;\n",
              "      width: 32px;\n",
              "    }\n",
              "\n",
              "    .colab-df-convert:hover {\n",
              "      background-color: #E2EBFA;\n",
              "      box-shadow: 0px 1px 2px rgba(60, 64, 67, 0.3), 0px 1px 3px 1px rgba(60, 64, 67, 0.15);\n",
              "      fill: #174EA6;\n",
              "    }\n",
              "\n",
              "    [theme=dark] .colab-df-convert {\n",
              "      background-color: #3B4455;\n",
              "      fill: #D2E3FC;\n",
              "    }\n",
              "\n",
              "    [theme=dark] .colab-df-convert:hover {\n",
              "      background-color: #434B5C;\n",
              "      box-shadow: 0px 1px 3px 1px rgba(0, 0, 0, 0.15);\n",
              "      filter: drop-shadow(0px 1px 2px rgba(0, 0, 0, 0.3));\n",
              "      fill: #FFFFFF;\n",
              "    }\n",
              "  </style>\n",
              "\n",
              "      <script>\n",
              "        const buttonEl =\n",
              "          document.querySelector('#df-e4de1005-d219-4beb-a689-211f3514e5df button.colab-df-convert');\n",
              "        buttonEl.style.display =\n",
              "          google.colab.kernel.accessAllowed ? 'block' : 'none';\n",
              "\n",
              "        async function convertToInteractive(key) {\n",
              "          const element = document.querySelector('#df-e4de1005-d219-4beb-a689-211f3514e5df');\n",
              "          const dataTable =\n",
              "            await google.colab.kernel.invokeFunction('convertToInteractive',\n",
              "                                                     [key], {});\n",
              "          if (!dataTable) return;\n",
              "\n",
              "          const docLinkHtml = 'Like what you see? Visit the ' +\n",
              "            '<a target=\"_blank\" href=https://colab.research.google.com/notebooks/data_table.ipynb>data table notebook</a>'\n",
              "            + ' to learn more about interactive tables.';\n",
              "          element.innerHTML = '';\n",
              "          dataTable['output_type'] = 'display_data';\n",
              "          await google.colab.output.renderOutput(dataTable, element);\n",
              "          const docLink = document.createElement('div');\n",
              "          docLink.innerHTML = docLinkHtml;\n",
              "          element.appendChild(docLink);\n",
              "        }\n",
              "      </script>\n",
              "    </div>\n",
              "  </div>\n",
              "  "
            ]
          },
          "metadata": {},
          "execution_count": 40
        }
      ]
    },
    {
      "cell_type": "markdown",
      "source": [
        "### Visualiza a qtde abaixo e acima da media"
      ],
      "metadata": {
        "id": "zy50a2mAxp8V"
      }
    },
    {
      "cell_type": "code",
      "source": [
        "pdf.variavel.value_counts()\n"
      ],
      "metadata": {
        "colab": {
          "base_uri": "https://localhost:8080/"
        },
        "id": "VQrutmFuk4ec",
        "outputId": "ccb2b048-d27e-48ed-fe96-60575ab4f9a6"
      },
      "execution_count": 41,
      "outputs": [
        {
          "output_type": "execute_result",
          "data": {
            "text/plain": [
              "Abaixo da Média    19\n",
              "Acima da Media     11\n",
              "Name: variavel, dtype: int64"
            ]
          },
          "metadata": {},
          "execution_count": 41
        }
      ]
    },
    {
      "cell_type": "code",
      "source": [
        "pdf.variavel.value_counts().plot(kind = 'barh')"
      ],
      "metadata": {
        "colab": {
          "base_uri": "https://localhost:8080/",
          "height": 282
        },
        "id": "Noedp4C2oKi9",
        "outputId": "b62dde07-bf8f-4174-a14e-cae24aaaff85"
      },
      "execution_count": 42,
      "outputs": [
        {
          "output_type": "execute_result",
          "data": {
            "text/plain": [
              "<matplotlib.axes._subplots.AxesSubplot at 0x7faeaccc2a50>"
            ]
          },
          "metadata": {},
          "execution_count": 42
        },
        {
          "output_type": "display_data",
          "data": {
            "text/plain": [
              "<Figure size 432x288 with 1 Axes>"
            ],
            "image/png": "[encoded data removed]"
          },
          "metadata": {
            "needs_background": "light"
          }
        }
      ]
    },
    {
      "cell_type": "markdown",
      "source": [
        "# Boxplots"
      ],
      "metadata": {
        "id": "jPbwET7Qx0qK"
      }
    },
    {
      "cell_type": "markdown",
      "source": [
        "## R - Boxplots"
      ],
      "metadata": {
        "id": "8knKmB13ycBS"
      }
    },
    {
      "cell_type": "markdown",
      "source": [
        ""
      ],
      "metadata": {
        "id": "KE-GxQm_ygp6"
      }
    },
    {
      "cell_type": "markdown",
      "source": [
        "###Gera Boxplot das Vendas"
      ],
      "metadata": {
        "id": "IykHD5EdDSDV"
      }
    },
    {
      "cell_type": "code",
      "source": [
        "%%R\n",
        "boxplot(rdados$Vendas_Cafe)"
      ],
      "metadata": {
        "id": "GEKHGsyXDTjJ",
        "colab": {
          "base_uri": "https://localhost:8080/",
          "height": 497
        },
        "outputId": "03b412f9-7be5-488c-b4e8-3e1d9ce65726"
      },
      "execution_count": 43,
      "outputs": [
        {
          "output_type": "display_data",
          "data": {
            "image/png": "[encoded data removed]"
          },
          "metadata": {}
        }
      ]
    },
    {
      "cell_type": "markdown",
      "source": [
        "###Gera Boxplot do Preço"
      ],
      "metadata": {
        "id": "fkB-Gg4QEN78"
      }
    },
    {
      "cell_type": "code",
      "source": [
        "%%R\n",
        "boxplot(rdados$Preco_Cafe)"
      ],
      "metadata": {
        "id": "uArKM1ZoEPwu",
        "colab": {
          "base_uri": "https://localhost:8080/",
          "height": 0
        },
        "outputId": "61c36b2d-8cee-4ccf-f59a-1a9c45ca18f0"
      },
      "execution_count": 44,
      "outputs": [
        {
          "output_type": "display_data",
          "data": {
            "image/png": "[encoded data removed]"
          },
          "metadata": {}
        }
      ]
    },
    {
      "cell_type": "markdown",
      "source": [
        "###Gera Boxplot Comparativo das Vendas quando houve Promocão e de quando não houve"
      ],
      "metadata": {
        "id": "GJ4STpYIET8W"
      }
    },
    {
      "cell_type": "code",
      "source": [
        "%%R\n",
        "boxplot(rdados$Vendas_Cafe~rdados$Promocao)"
      ],
      "metadata": {
        "id": "PAsSEL9oEYeP",
        "colab": {
          "base_uri": "https://localhost:8080/",
          "height": 0
        },
        "outputId": "7c91597d-f29f-4ac4-b9d9-14016521454c"
      },
      "execution_count": 45,
      "outputs": [
        {
          "output_type": "display_data",
          "data": {
            "image/png": "[encoded data removed]"
          },
          "metadata": {}
        }
      ]
    },
    {
      "cell_type": "markdown",
      "source": [
        "###Customizando o boxplot"
      ],
      "metadata": {
        "id": "s1kaOqDlEd1r"
      }
    },
    {
      "cell_type": "code",
      "source": [
        "%%R\n",
        "boxplot(rdados$Vendas_Cafe~rdados$Promocao,\n",
        " col = 'gray',\n",
        " pch = 16,\n",
        " xlab = 'Promoção',\n",
        " ylab = 'Vendas',\n",
        " main = 'Vendas com Promoção vs Vendas sem Promoção')"
      ],
      "metadata": {
        "id": "7iXsdeHoEeXB",
        "colab": {
          "base_uri": "https://localhost:8080/",
          "height": 497
        },
        "outputId": "3a835feb-1111-4c30-8b18-95422ecbda2c"
      },
      "execution_count": 46,
      "outputs": [
        {
          "output_type": "display_data",
          "data": {
            "image/png": "[encoded data removed]"
          },
          "metadata": {}
        }
      ]
    },
    {
      "cell_type": "markdown",
      "source": [
        "## Python - Boxplots"
      ],
      "metadata": {
        "id": "Qm86LkHCyA4t"
      }
    },
    {
      "cell_type": "markdown",
      "source": [
        "### Gera Boxplot das Vendas de Café"
      ],
      "metadata": {
        "id": "578QLT_Hsc_m"
      }
    },
    {
      "cell_type": "code",
      "source": [
        "plt.title(\"Boxplot das Vendas do Café\")\n",
        "plt.boxplot(pdados['Vendas_Cafe'])\n",
        "plt.show()"
      ],
      "metadata": {
        "colab": {
          "base_uri": "https://localhost:8080/",
          "height": 281
        },
        "id": "TsWPOgUdsSOk",
        "outputId": "f3e4dbfc-5032-4f99-d896-cee336d2b966"
      },
      "execution_count": 47,
      "outputs": [
        {
          "output_type": "display_data",
          "data": {
            "text/plain": [
              "<Figure size 432x288 with 1 Axes>"
            ],
            "image/png": "[encoded data removed]"
          },
          "metadata": {
            "needs_background": "light"
          }
        }
      ]
    },
    {
      "cell_type": "markdown",
      "source": [
        "### Gera Boxplot dos Preços do Café"
      ],
      "metadata": {
        "id": "aRtOFFxisyyy"
      }
    },
    {
      "cell_type": "code",
      "source": [
        "plt.title(\"Boxplot de Preços do Café\")\n",
        "plt.boxplot(pdados['Preco_Cafe'])\n",
        "plt.show()"
      ],
      "metadata": {
        "colab": {
          "base_uri": "https://localhost:8080/",
          "height": 281
        },
        "id": "u-5oJOFQswgW",
        "outputId": "73164e6b-efb3-4a52-d17c-9b0dbde8a858"
      },
      "execution_count": 48,
      "outputs": [
        {
          "output_type": "display_data",
          "data": {
            "text/plain": [
              "<Figure size 432x288 with 1 Axes>"
            ],
            "image/png": "[encoded data removed]"
          },
          "metadata": {
            "needs_background": "light"
          }
        }
      ]
    },
    {
      "cell_type": "markdown",
      "source": [
        "### Gera Boxplot Comparativo das Vendas quando houve Promocão e de Quando não houve"
      ],
      "metadata": {
        "id": "1vMmn7qTtBwu"
      }
    },
    {
      "cell_type": "code",
      "source": [
        "sns.boxplot(x = pdf['Vendas_Cafe'],\n",
        "\t\t\ty = pdf['Promocao'],\n",
        "\t\t\thue = pdf['Promocao'])"
      ],
      "metadata": {
        "colab": {
          "base_uri": "https://localhost:8080/",
          "height": 297
        },
        "id": "K_RPYeBmtA_w",
        "outputId": "7b7a3445-8afa-4cd9-df77-431feef30081"
      },
      "execution_count": 49,
      "outputs": [
        {
          "output_type": "execute_result",
          "data": {
            "text/plain": [
              "<matplotlib.axes._subplots.AxesSubplot at 0x7faeacb97590>"
            ]
          },
          "metadata": {},
          "execution_count": 49
        },
        {
          "output_type": "display_data",
          "data": {
            "text/plain": [
              "<Figure size 432x288 with 1 Axes>"
            ],
            "image/png": "[encoded data removed]"
          },
          "metadata": {
            "needs_background": "light"
          }
        }
      ]
    }
  ]
}