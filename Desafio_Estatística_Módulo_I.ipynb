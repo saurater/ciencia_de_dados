{
  "nbformat": 4,
  "nbformat_minor": 0,
  "metadata": {
    "colab": {
      "name": "Desafio Estatística - Módulo I.ipynb",
      "provenance": [],
      "authorship_tag": "ABX9TyOfsha93lcBZkhvR8JK+bLU",
      "include_colab_link": true
    },
    "kernelspec": {
      "name": "ir",
      "display_name": "R"
    },
    "language_info": {
      "name": "R"
    }
  },
  "cells": [
    {
      "cell_type": "markdown",
      "metadata": {
        "id": "view-in-github",
        "colab_type": "text"
      },
      "source": [
        "<a href=\"https://colab.research.google.com/github/saurater/ciencia_de_dados/blob/main/Desafio_Estat%C3%ADstica_M%C3%B3dulo_I.ipynb\" target=\"_parent\"><img src=\"https://colab.research.google.com/assets/colab-badge.svg\" alt=\"Open In Colab\"/></a>"
      ]
    },
    {
      "cell_type": "markdown",
      "source": [
        "# Desafio - Estatística -Módulo I\n",
        "##Notas by Sam Faraday\n",
        "June 2022  \n"
      ],
      "metadata": {
        "id": "1m3U-h9exKls"
      }
    },
    {
      "cell_type": "markdown",
      "source": [
        "# Limpando os objetos do ambiente"
      ],
      "metadata": {
        "id": "L41B5CV7pUec"
      }
    },
    {
      "cell_type": "code",
      "execution_count": 1,
      "metadata": {
        "id": "i95bzG9KxCPJ"
      },
      "outputs": [],
      "source": [
        "#rm(list = ls())"
      ]
    },
    {
      "cell_type": "markdown",
      "source": [
        "# Removendo as Notações Científicas\n",
        "para não ver os valores tipo 7.61e-05 e, sim, 0.0000761"
      ],
      "metadata": {
        "id": "TF7F1gjppZE0"
      }
    },
    {
      "cell_type": "code",
      "source": [
        "options(scipen=999)"
      ],
      "metadata": {
        "id": "vTD468Ya4jOy"
      },
      "execution_count": 2,
      "outputs": []
    },
    {
      "cell_type": "markdown",
      "source": [
        "#Forma o conjunto de dados históricos contendo vinte e nove clientes selecionados aleatoriamente do banco de dados e a armazena em um data frame chamado dados"
      ],
      "metadata": {
        "id": "d6qqILK4xs5p"
      }
    },
    {
      "cell_type": "code",
      "source": [
        "dados <- data.frame(\n",
        "  Consumo = c(2595, 8470, 4007, 6734, 33628, 3903, \n",
        "              13444, 12560, 31176, 5435, 26736, 3728, 8684, 8356, 36936, 3744, \n",
        "              30420, 5958, 1019, 11688, 4442, 2640, 23888, 25844, 7430, 10276, \n",
        "              3381, 3512, 4957),\n",
        "  Estado_Civil = c(\"Divorciado\", \"Casado\", \"Divorciado\",  \"Casado\", \"Solteiro\", \n",
        "                   \"Divorciado\", \"Solteiro\", \"Solteiro\", \"Solteiro\", \"Casado\",\n",
        "                   \"Solteiro\", \"Divorciado\", \"Solteiro\", \"Solteiro\", \"Solteiro\", \n",
        "                   \"Divorciado\", \"Solteiro\", \"Divorciado\", \"Divorciado\", \n",
        "                   \"Solteiro\",\"Casado\", \"Solteiro\", \"Solteiro\", \"Solteiro\", \n",
        "                   \"Casado\", \"Solteiro\", \"Casado\", \"Casado\", \"Casado\"), \n",
        "  Genero = c(\"Feminino\", \"Feminino\", \n",
        "             \"Masculino\", \"Feminino\", \"Feminino\", \"Feminino\", \"Feminino\", \n",
        "             \"Feminino\", \"Feminino\", \"Masculino\", \"Masculino\", \"Masculino\", \n",
        "             \"Feminino\", \"Feminino\", \"Masculino\", \"Masculino\", \"Feminino\", \n",
        "             \"Masculino\", \"Feminino\", \"Feminino\", \"Masculino\", \"Masculino\", \n",
        "             \"Masculino\", \"Masculino\", \"Masculino\", \"Feminino\", \"Feminino\", \n",
        "             \"Masculino\", \"Feminino\"), \n",
        "  Idade = c(20.2585750236176, 32.1118436595569, \n",
        "            31.7467633607352, 37.8198500301827, 71.2083039792698, \n",
        "            29.7176362875943, \n",
        "            44.8093915220787, 35.8376118862763, 58.8385574663313, \n",
        "            39.9177951271474, \n",
        "            58.0550560477448, 21.778210059274, 31.7467633607352, \n",
        "            37.8198500301827, \n",
        "            71.2083039792698, 18.2385329827666, 61.5387187691615, \n",
        "            35.8376118862763, \n",
        "            20.2585750236176, 39.9177951271474, 37.9148802474609, \n",
        "            23.3568492662162, \n",
        "            54.9958059606044, 61.2973920327649, 34.58738731516, \n",
        "            29.7176362875943, \n",
        "            19.2584996796213, 20.2585750236176, 37.8080561311484), \n",
        "  Renda_Mensal = c(1985.88181437971,3769.2479179441, 2291.88059431382, \n",
        "                   2390.40280655742, 8534.7173298783, \n",
        "                   2495.88975635737, 5714.55454591117, 5832.6343267674, \n",
        "                   6882.89867212748, \n",
        "                   2099.31900110052, 6342.50934129081, 1941.14793399086, \n",
        "                   3575.98064224822, \n",
        "                   3589.23716442208, 8534.7173298783, 2740.46957610393, \n",
        "                   5714.55454591117, \n",
        "                   2390.40280655742, 1635.64603350165, 4364.56455252666, \n",
        "                   1905.53820715893, \n",
        "                   2338.3086884437, 5832.6343267674, 6882.89867212748, \n",
        "                   3842.53578942318, \n",
        "                   4919.14670791015, 2063.01440787432, 2380.55793401061, \n",
        "                   1985.88181437971),\n",
        "  Possui_Imovel_Proprio = c(\"Sim\", \"Sim\", \"Nao\", \"Sim\", \"Nao\", \n",
        "                            \"Nao\", \"Nao\", \"Sim\", \"Sim\", \"Nao\", \"Nao\", \"Nao\", \n",
        "                            \"Nao\", \"Nao\", \n",
        "                            \"Nao\", \"Sim\", \"Nao\", \"Sim\", \"Nao\", \"Nao\", \"Nao\", \n",
        "                            \"Sim\", \"Sim\", \n",
        "                            \"Nao\", \"Nao\", \"Nao\", \"Nao\", \"Nao\", \"Nao\")\n",
        ")"
      ],
      "metadata": {
        "id": "DUfvBiOtx4if"
      },
      "execution_count": 3,
      "outputs": []
    },
    {
      "cell_type": "code",
      "source": [
        "dados"
      ],
      "metadata": {
        "colab": {
          "base_uri": "https://localhost:8080/",
          "height": 0
        },
        "id": "cw1v73OWx7gT",
        "outputId": "d3081187-46b3-43f4-befd-382c975d8eca"
      },
      "execution_count": 4,
      "outputs": [
        {
          "output_type": "display_data",
          "data": {
            "text/html": [
              "<table class=\"dataframe\">\n",
              "<caption>A data.frame: 29 × 6</caption>\n",
              "<thead>\n",
              "\t<tr><th scope=col>Consumo</th><th scope=col>Estado_Civil</th><th scope=col>Genero</th><th scope=col>Idade</th><th scope=col>Renda_Mensal</th><th scope=col>Possui_Imovel_Proprio</th></tr>\n",
              "\t<tr><th scope=col>&lt;dbl&gt;</th><th scope=col>&lt;chr&gt;</th><th scope=col>&lt;chr&gt;</th><th scope=col>&lt;dbl&gt;</th><th scope=col>&lt;dbl&gt;</th><th scope=col>&lt;chr&gt;</th></tr>\n",
              "</thead>\n",
              "<tbody>\n",
              "\t<tr><td> 2595</td><td>Divorciado</td><td>Feminino </td><td>20.25858</td><td>1985.882</td><td>Sim</td></tr>\n",
              "\t<tr><td> 8470</td><td>Casado    </td><td>Feminino </td><td>32.11184</td><td>3769.248</td><td>Sim</td></tr>\n",
              "\t<tr><td> 4007</td><td>Divorciado</td><td>Masculino</td><td>31.74676</td><td>2291.881</td><td>Nao</td></tr>\n",
              "\t<tr><td> 6734</td><td>Casado    </td><td>Feminino </td><td>37.81985</td><td>2390.403</td><td>Sim</td></tr>\n",
              "\t<tr><td>33628</td><td>Solteiro  </td><td>Feminino </td><td>71.20830</td><td>8534.717</td><td>Nao</td></tr>\n",
              "\t<tr><td> 3903</td><td>Divorciado</td><td>Feminino </td><td>29.71764</td><td>2495.890</td><td>Nao</td></tr>\n",
              "\t<tr><td>13444</td><td>Solteiro  </td><td>Feminino </td><td>44.80939</td><td>5714.555</td><td>Nao</td></tr>\n",
              "\t<tr><td>12560</td><td>Solteiro  </td><td>Feminino </td><td>35.83761</td><td>5832.634</td><td>Sim</td></tr>\n",
              "\t<tr><td>31176</td><td>Solteiro  </td><td>Feminino </td><td>58.83856</td><td>6882.899</td><td>Sim</td></tr>\n",
              "\t<tr><td> 5435</td><td>Casado    </td><td>Masculino</td><td>39.91780</td><td>2099.319</td><td>Nao</td></tr>\n",
              "\t<tr><td>26736</td><td>Solteiro  </td><td>Masculino</td><td>58.05506</td><td>6342.509</td><td>Nao</td></tr>\n",
              "\t<tr><td> 3728</td><td>Divorciado</td><td>Masculino</td><td>21.77821</td><td>1941.148</td><td>Nao</td></tr>\n",
              "\t<tr><td> 8684</td><td>Solteiro  </td><td>Feminino </td><td>31.74676</td><td>3575.981</td><td>Nao</td></tr>\n",
              "\t<tr><td> 8356</td><td>Solteiro  </td><td>Feminino </td><td>37.81985</td><td>3589.237</td><td>Nao</td></tr>\n",
              "\t<tr><td>36936</td><td>Solteiro  </td><td>Masculino</td><td>71.20830</td><td>8534.717</td><td>Nao</td></tr>\n",
              "\t<tr><td> 3744</td><td>Divorciado</td><td>Masculino</td><td>18.23853</td><td>2740.470</td><td>Sim</td></tr>\n",
              "\t<tr><td>30420</td><td>Solteiro  </td><td>Feminino </td><td>61.53872</td><td>5714.555</td><td>Nao</td></tr>\n",
              "\t<tr><td> 5958</td><td>Divorciado</td><td>Masculino</td><td>35.83761</td><td>2390.403</td><td>Sim</td></tr>\n",
              "\t<tr><td> 1019</td><td>Divorciado</td><td>Feminino </td><td>20.25858</td><td>1635.646</td><td>Nao</td></tr>\n",
              "\t<tr><td>11688</td><td>Solteiro  </td><td>Feminino </td><td>39.91780</td><td>4364.565</td><td>Nao</td></tr>\n",
              "\t<tr><td> 4442</td><td>Casado    </td><td>Masculino</td><td>37.91488</td><td>1905.538</td><td>Nao</td></tr>\n",
              "\t<tr><td> 2640</td><td>Solteiro  </td><td>Masculino</td><td>23.35685</td><td>2338.309</td><td>Sim</td></tr>\n",
              "\t<tr><td>23888</td><td>Solteiro  </td><td>Masculino</td><td>54.99581</td><td>5832.634</td><td>Sim</td></tr>\n",
              "\t<tr><td>25844</td><td>Solteiro  </td><td>Masculino</td><td>61.29739</td><td>6882.899</td><td>Nao</td></tr>\n",
              "\t<tr><td> 7430</td><td>Casado    </td><td>Masculino</td><td>34.58739</td><td>3842.536</td><td>Nao</td></tr>\n",
              "\t<tr><td>10276</td><td>Solteiro  </td><td>Feminino </td><td>29.71764</td><td>4919.147</td><td>Nao</td></tr>\n",
              "\t<tr><td> 3381</td><td>Casado    </td><td>Feminino </td><td>19.25850</td><td>2063.014</td><td>Nao</td></tr>\n",
              "\t<tr><td> 3512</td><td>Casado    </td><td>Masculino</td><td>20.25858</td><td>2380.558</td><td>Nao</td></tr>\n",
              "\t<tr><td> 4957</td><td>Casado    </td><td>Feminino </td><td>37.80806</td><td>1985.882</td><td>Nao</td></tr>\n",
              "</tbody>\n",
              "</table>\n"
            ],
            "text/markdown": "\nA data.frame: 29 × 6\n\n| Consumo &lt;dbl&gt; | Estado_Civil &lt;chr&gt; | Genero &lt;chr&gt; | Idade &lt;dbl&gt; | Renda_Mensal &lt;dbl&gt; | Possui_Imovel_Proprio &lt;chr&gt; |\n|---|---|---|---|---|---|\n|  2595 | Divorciado | Feminino  | 20.25858 | 1985.882 | Sim |\n|  8470 | Casado     | Feminino  | 32.11184 | 3769.248 | Sim |\n|  4007 | Divorciado | Masculino | 31.74676 | 2291.881 | Nao |\n|  6734 | Casado     | Feminino  | 37.81985 | 2390.403 | Sim |\n| 33628 | Solteiro   | Feminino  | 71.20830 | 8534.717 | Nao |\n|  3903 | Divorciado | Feminino  | 29.71764 | 2495.890 | Nao |\n| 13444 | Solteiro   | Feminino  | 44.80939 | 5714.555 | Nao |\n| 12560 | Solteiro   | Feminino  | 35.83761 | 5832.634 | Sim |\n| 31176 | Solteiro   | Feminino  | 58.83856 | 6882.899 | Sim |\n|  5435 | Casado     | Masculino | 39.91780 | 2099.319 | Nao |\n| 26736 | Solteiro   | Masculino | 58.05506 | 6342.509 | Nao |\n|  3728 | Divorciado | Masculino | 21.77821 | 1941.148 | Nao |\n|  8684 | Solteiro   | Feminino  | 31.74676 | 3575.981 | Nao |\n|  8356 | Solteiro   | Feminino  | 37.81985 | 3589.237 | Nao |\n| 36936 | Solteiro   | Masculino | 71.20830 | 8534.717 | Nao |\n|  3744 | Divorciado | Masculino | 18.23853 | 2740.470 | Sim |\n| 30420 | Solteiro   | Feminino  | 61.53872 | 5714.555 | Nao |\n|  5958 | Divorciado | Masculino | 35.83761 | 2390.403 | Sim |\n|  1019 | Divorciado | Feminino  | 20.25858 | 1635.646 | Nao |\n| 11688 | Solteiro   | Feminino  | 39.91780 | 4364.565 | Nao |\n|  4442 | Casado     | Masculino | 37.91488 | 1905.538 | Nao |\n|  2640 | Solteiro   | Masculino | 23.35685 | 2338.309 | Sim |\n| 23888 | Solteiro   | Masculino | 54.99581 | 5832.634 | Sim |\n| 25844 | Solteiro   | Masculino | 61.29739 | 6882.899 | Nao |\n|  7430 | Casado     | Masculino | 34.58739 | 3842.536 | Nao |\n| 10276 | Solteiro   | Feminino  | 29.71764 | 4919.147 | Nao |\n|  3381 | Casado     | Feminino  | 19.25850 | 2063.014 | Nao |\n|  3512 | Casado     | Masculino | 20.25858 | 2380.558 | Nao |\n|  4957 | Casado     | Feminino  | 37.80806 | 1985.882 | Nao |\n\n",
            "text/latex": "A data.frame: 29 × 6\n\\begin{tabular}{llllll}\n Consumo & Estado\\_Civil & Genero & Idade & Renda\\_Mensal & Possui\\_Imovel\\_Proprio\\\\\n <dbl> & <chr> & <chr> & <dbl> & <dbl> & <chr>\\\\\n\\hline\n\t  2595 & Divorciado & Feminino  & 20.25858 & 1985.882 & Sim\\\\\n\t  8470 & Casado     & Feminino  & 32.11184 & 3769.248 & Sim\\\\\n\t  4007 & Divorciado & Masculino & 31.74676 & 2291.881 & Nao\\\\\n\t  6734 & Casado     & Feminino  & 37.81985 & 2390.403 & Sim\\\\\n\t 33628 & Solteiro   & Feminino  & 71.20830 & 8534.717 & Nao\\\\\n\t  3903 & Divorciado & Feminino  & 29.71764 & 2495.890 & Nao\\\\\n\t 13444 & Solteiro   & Feminino  & 44.80939 & 5714.555 & Nao\\\\\n\t 12560 & Solteiro   & Feminino  & 35.83761 & 5832.634 & Sim\\\\\n\t 31176 & Solteiro   & Feminino  & 58.83856 & 6882.899 & Sim\\\\\n\t  5435 & Casado     & Masculino & 39.91780 & 2099.319 & Nao\\\\\n\t 26736 & Solteiro   & Masculino & 58.05506 & 6342.509 & Nao\\\\\n\t  3728 & Divorciado & Masculino & 21.77821 & 1941.148 & Nao\\\\\n\t  8684 & Solteiro   & Feminino  & 31.74676 & 3575.981 & Nao\\\\\n\t  8356 & Solteiro   & Feminino  & 37.81985 & 3589.237 & Nao\\\\\n\t 36936 & Solteiro   & Masculino & 71.20830 & 8534.717 & Nao\\\\\n\t  3744 & Divorciado & Masculino & 18.23853 & 2740.470 & Sim\\\\\n\t 30420 & Solteiro   & Feminino  & 61.53872 & 5714.555 & Nao\\\\\n\t  5958 & Divorciado & Masculino & 35.83761 & 2390.403 & Sim\\\\\n\t  1019 & Divorciado & Feminino  & 20.25858 & 1635.646 & Nao\\\\\n\t 11688 & Solteiro   & Feminino  & 39.91780 & 4364.565 & Nao\\\\\n\t  4442 & Casado     & Masculino & 37.91488 & 1905.538 & Nao\\\\\n\t  2640 & Solteiro   & Masculino & 23.35685 & 2338.309 & Sim\\\\\n\t 23888 & Solteiro   & Masculino & 54.99581 & 5832.634 & Sim\\\\\n\t 25844 & Solteiro   & Masculino & 61.29739 & 6882.899 & Nao\\\\\n\t  7430 & Casado     & Masculino & 34.58739 & 3842.536 & Nao\\\\\n\t 10276 & Solteiro   & Feminino  & 29.71764 & 4919.147 & Nao\\\\\n\t  3381 & Casado     & Feminino  & 19.25850 & 2063.014 & Nao\\\\\n\t  3512 & Casado     & Masculino & 20.25858 & 2380.558 & Nao\\\\\n\t  4957 & Casado     & Feminino  & 37.80806 & 1985.882 & Nao\\\\\n\\end{tabular}\n",
            "text/plain": [
              "   Consumo Estado_Civil Genero    Idade    Renda_Mensal Possui_Imovel_Proprio\n",
              "1   2595   Divorciado   Feminino  20.25858 1985.882     Sim                  \n",
              "2   8470   Casado       Feminino  32.11184 3769.248     Sim                  \n",
              "3   4007   Divorciado   Masculino 31.74676 2291.881     Nao                  \n",
              "4   6734   Casado       Feminino  37.81985 2390.403     Sim                  \n",
              "5  33628   Solteiro     Feminino  71.20830 8534.717     Nao                  \n",
              "6   3903   Divorciado   Feminino  29.71764 2495.890     Nao                  \n",
              "7  13444   Solteiro     Feminino  44.80939 5714.555     Nao                  \n",
              "8  12560   Solteiro     Feminino  35.83761 5832.634     Sim                  \n",
              "9  31176   Solteiro     Feminino  58.83856 6882.899     Sim                  \n",
              "10  5435   Casado       Masculino 39.91780 2099.319     Nao                  \n",
              "11 26736   Solteiro     Masculino 58.05506 6342.509     Nao                  \n",
              "12  3728   Divorciado   Masculino 21.77821 1941.148     Nao                  \n",
              "13  8684   Solteiro     Feminino  31.74676 3575.981     Nao                  \n",
              "14  8356   Solteiro     Feminino  37.81985 3589.237     Nao                  \n",
              "15 36936   Solteiro     Masculino 71.20830 8534.717     Nao                  \n",
              "16  3744   Divorciado   Masculino 18.23853 2740.470     Sim                  \n",
              "17 30420   Solteiro     Feminino  61.53872 5714.555     Nao                  \n",
              "18  5958   Divorciado   Masculino 35.83761 2390.403     Sim                  \n",
              "19  1019   Divorciado   Feminino  20.25858 1635.646     Nao                  \n",
              "20 11688   Solteiro     Feminino  39.91780 4364.565     Nao                  \n",
              "21  4442   Casado       Masculino 37.91488 1905.538     Nao                  \n",
              "22  2640   Solteiro     Masculino 23.35685 2338.309     Sim                  \n",
              "23 23888   Solteiro     Masculino 54.99581 5832.634     Sim                  \n",
              "24 25844   Solteiro     Masculino 61.29739 6882.899     Nao                  \n",
              "25  7430   Casado       Masculino 34.58739 3842.536     Nao                  \n",
              "26 10276   Solteiro     Feminino  29.71764 4919.147     Nao                  \n",
              "27  3381   Casado       Feminino  19.25850 2063.014     Nao                  \n",
              "28  3512   Casado       Masculino 20.25858 2380.558     Nao                  \n",
              "29  4957   Casado       Feminino  37.80806 1985.882     Nao                  "
            ]
          },
          "metadata": {}
        }
      ]
    },
    {
      "cell_type": "markdown",
      "source": [
        "# Pergunta 1 - 2,67 / 2,67 pts\n",
        "##Explore a variável resposta, que é o Consumo, e responda:\n",
        "###Pelo histograma, você diria que a variável segue uma distribuição normal?"
      ],
      "metadata": {
        "id": "gIyBya-0yBCi"
      }
    },
    {
      "cell_type": "code",
      "source": [
        "#Estatisticas Descritivas do consumo\n",
        "\n",
        "print(\"Estatística Descritiva do Consumo\")\n",
        "summary(dados$Consumo)\n",
        "\n",
        "# Shapiro Test\n",
        "print(\"Teste de Normalidade de Shapiro\")\n",
        "print(\"Normal se p-value >= 0.05\")\n",
        "shapiro.test(dados$Consumo)\n",
        "\n",
        "#Histograma do consumo\n",
        "hist(dados$Consumo)\n",
        "\n",
        "#Boxplot do consumo\n",
        "boxplot(dados$Consumo)\n"
      ],
      "metadata": {
        "colab": {
          "base_uri": "https://localhost:8080/",
          "height": 0
        },
        "id": "xHIiWXj0yADN",
        "outputId": "34532e0a-98cb-4cb0-f0cf-685ca9d0ba4f"
      },
      "execution_count": 5,
      "outputs": [
        {
          "output_type": "stream",
          "name": "stdout",
          "text": [
            "[1] \"Estatística Descritiva do Consumo\"\n"
          ]
        },
        {
          "output_type": "display_data",
          "data": {
            "text/plain": [
              "   Min. 1st Qu.  Median    Mean 3rd Qu.    Max. \n",
              "   1019    3903    7430   11917   13444   36936 "
            ]
          },
          "metadata": {}
        },
        {
          "output_type": "stream",
          "name": "stdout",
          "text": [
            "[1] \"Teste de Normalidade de Shapiro\"\n",
            "[1] \"Normal se p-value >= 0.05\"\n"
          ]
        },
        {
          "output_type": "display_data",
          "data": {
            "text/plain": [
              "\n",
              "\tShapiro-Wilk normality test\n",
              "\n",
              "data:  dados$Consumo\n",
              "W = 0.79774, p-value = 0.0000761\n"
            ]
          },
          "metadata": {}
        },
        {
          "output_type": "display_data",
          "data": {
            "text/plain": [
              "Plot with title “Histogram of dados$Consumo”"
            ],
            "image/png": "[encoded data removed]"
          },
          "metadata": {
            "image/png": {
              "width": 420,
              "height": 420
            }
          }
        },
        {
          "output_type": "display_data",
          "data": {
            "text/plain": [
              "plot without title"
            ],
            "image/png": "[encoded data removed]"
          },
          "metadata": {
            "image/png": {
              "width": 420,
              "height": 420
            }
          }
        }
      ]
    },
    {
      "cell_type": "markdown",
      "source": [
        "1. Sim, pois os dados se concentram entre a mediana e o terceiro quartil.\n",
        "2.**Não, pois os dados não são distribuídos simetricamente em torno de um valor central.** \n",
        "\n",
        "    (**Nota do Sam**: Verificado pontos acima do limite superior e pelo p-value = 0.0000761, do Teste de Shapiro, que, para uma disdrituição normal, esperaria um p-value >=0.05)\n",
        "\n",
        "3. Sim, pois os dados são distribuídos simetricamente em torno do desvio\n",
        "padrão.\n",
        "4. Sim, pois os dados se concentram entre o primeiro quartil e a mediana."
      ],
      "metadata": {
        "id": "7tAS1R6Qydy4"
      }
    },
    {
      "cell_type": "markdown",
      "source": [
        "# Pergunta 2 / 2,67 pts\n",
        "##Explore a variável resposta, que é o Consumo, e responda:\n",
        "##Pelo boxplot, você consegue visualizar algum outlier?"
      ],
      "metadata": {
        "id": "tE4FA9EE8WZv"
      }
    },
    {
      "cell_type": "code",
      "source": [
        "#Boxplot do consumo\n",
        "boxplot(dados$Consumo)"
      ],
      "metadata": {
        "colab": {
          "base_uri": "https://localhost:8080/",
          "height": 0
        },
        "id": "coytY4Rd8s8M",
        "outputId": "9e5967d7-3886-40fb-ef6e-469b3384d8a3"
      },
      "execution_count": 6,
      "outputs": [
        {
          "output_type": "display_data",
          "data": {
            "text/plain": [
              "plot without title"
            ],
            "image/png": "[encoded data removed]"
          },
          "metadata": {
            "image/png": {
              "width": 420,
              "height": 420
            }
          }
        }
      ]
    },
    {
      "cell_type": "markdown",
      "source": [
        "1. Sim, há pontos outliers tanto acima do limite superior quanto do limite\n",
        "inferior.\n",
        "2. **Sim, há pontos outliers acima do limite superior.**\n",
        "2. Não, pois apesar de ter pontos acima do limite superior, também\n",
        "deveria ter abaixo do limite inferior para se considerar outlier.\n",
        "3. Não, pois há somente 4 pontos acima do limite superior."
      ],
      "metadata": {
        "id": "_UBQWvIO82Kk"
      }
    },
    {
      "cell_type": "markdown",
      "source": [
        "# Pergunta 3 / 2,67 pts\n",
        "## Explore a variável resposta, que é o Consumo, e responda:\n",
        "## Qual é o valor do primeiro quartil e terceiro quartil?"
      ],
      "metadata": {
        "id": "NvtE_S209ctl"
      }
    },
    {
      "cell_type": "code",
      "source": [
        "print(\"Estatística Descritiva do Consumo\")\n",
        "summary(dados$Consumo)"
      ],
      "metadata": {
        "colab": {
          "base_uri": "https://localhost:8080/",
          "height": 0
        },
        "id": "MusEKfGP9qP-",
        "outputId": "8a1c55e9-d35d-4164-a916-d31c90b7673a"
      },
      "execution_count": 7,
      "outputs": [
        {
          "output_type": "stream",
          "name": "stdout",
          "text": [
            "[1] \"Estatística Descritiva do Consumo\"\n"
          ]
        },
        {
          "output_type": "display_data",
          "data": {
            "text/plain": [
              "   Min. 1st Qu.  Median    Mean 3rd Qu.    Max. \n",
              "   1019    3903    7430   11917   13444   36936 "
            ]
          },
          "metadata": {}
        }
      ]
    },
    {
      "cell_type": "markdown",
      "source": [
        "1. Os valores do primeiro e terceiro quartil são 1019 e 7430, respectivamente, significa que 25% dos clientes consomem até 1019 e 75% dos clientes consomem até 7430.\n",
        "\n",
        "2. Os valores do primeiro e terceiro quartil são 7430 e 36936,  respectivamente, significa que 25% dos clientes consomem até 7430 e 75% dos clientes consomem até 36936\n",
        "\n",
        "3. Pelo fato de a variável não seguir uma distribuição normal, não é\n",
        "possível calcular o primeiro e o terceiro quartil.\n",
        "\n",
        "4. **Os valores do primeiro e terceiro quartil são 3903 e 13444,\n",
        "respectivamente, significa que 25% dos clientes consomem até 3903 e\n",
        "75% dos clientes consomem até 13444.**"
      ],
      "metadata": {
        "id": "ULI6MBSW95g3"
      }
    },
    {
      "cell_type": "markdown",
      "source": [
        "# Pergunta 4   /   2,67 pts\n",
        "\n",
        "Suspeita-se que a variável Estado Civil está associada com o fato de o cliente Possuir Imóvel Próprio. Investigue a relação entre essas duas variáveis e responda: \n",
        "\n",
        "##Através do teste qui-quadrado, existe relação significativa entre o Estado Civil e o fato do cliente Possuir Imóvel Próprio? \n",
        "\n",
        "Justifique sua resposta. Adote 90% de confiança ao realizar suas interpretações.\n"
      ],
      "metadata": {
        "id": "lsZHwHK8wA59"
      }
    },
    {
      "cell_type": "markdown",
      "source": [
        "## Simplificado"
      ],
      "metadata": {
        "id": "dY2Dv7tNgaxY"
      }
    },
    {
      "cell_type": "code",
      "source": [
        " chisq.test(dados$Estado_Civil, dados$Possui_Imovel_Proprio)"
      ],
      "metadata": {
        "colab": {
          "base_uri": "https://localhost:8080/",
          "height": 0
        },
        "id": "2I8Hq207_BuP",
        "outputId": "d6a2ef3b-de2f-4a94-dcf6-78791d596744"
      },
      "execution_count": 8,
      "outputs": [
        {
          "output_type": "stream",
          "name": "stderr",
          "text": [
            "Warning message in chisq.test(dados$Estado_Civil, dados$Possui_Imovel_Proprio):\n",
            "“Chi-squared approximation may be incorrect”\n"
          ]
        },
        {
          "output_type": "display_data",
          "data": {
            "text/plain": [
              "\n",
              "\tPearson's Chi-squared test\n",
              "\n",
              "data:  dados$Estado_Civil and dados$Possui_Imovel_Proprio\n",
              "X-squared = 0.63294, df = 2, p-value = 0.7287\n"
            ]
          },
          "metadata": {}
        }
      ]
    },
    {
      "cell_type": "markdown",
      "source": [
        "##Detalhado"
      ],
      "metadata": {
        "id": "lvl_A5U5gfiH"
      }
    },
    {
      "cell_type": "code",
      "source": [
        "#Gera tabela de contigencia entre Estado Civil e Possui Imovel Proprio\n",
        "tabela_contigencia <- table(dados$Estado_Civil, dados$Possui_Imovel_Proprio)\n",
        "tabela_contigencia"
      ],
      "metadata": {
        "colab": {
          "base_uri": "https://localhost:8080/",
          "height": 0
        },
        "id": "32XKMBH7dJ7I",
        "outputId": "a50aa8b4-657e-46c4-87a7-6630a22e7802"
      },
      "execution_count": 9,
      "outputs": [
        {
          "output_type": "display_data",
          "data": {
            "text/plain": [
              "            \n",
              "             Nao Sim\n",
              "  Casado       6   2\n",
              "  Divorciado   4   3\n",
              "  Solteiro    10   4"
            ]
          },
          "metadata": {}
        }
      ]
    },
    {
      "cell_type": "code",
      "source": [
        "#Plota a Tabela\n",
        "plot(tabela_contigencia)\n"
      ],
      "metadata": {
        "colab": {
          "base_uri": "https://localhost:8080/",
          "height": 0
        },
        "id": "g42RvUXFf1H_",
        "outputId": "b2902289-e334-49db-cdee-29109fc6a672"
      },
      "execution_count": 10,
      "outputs": [
        {
          "output_type": "display_data",
          "data": {
            "text/plain": [
              "Plot with title “tabela_contigencia”"
            ],
            "image/png": "[encoded data removed]"
          },
          "metadata": {
            "image/png": {
              "width": 420,
              "height": 420
            }
          }
        }
      ]
    },
    {
      "cell_type": "code",
      "source": [
        "#Realiza  teste qui-quadrado\n",
        "chisq.test(tabela_contigencia) #ignore a mensagem de warning de vermelho"
      ],
      "metadata": {
        "colab": {
          "base_uri": "https://localhost:8080/",
          "height": 0
        },
        "id": "TLMwrX32gOxA",
        "outputId": "11d9daab-e7db-4ad8-98f5-9910e8b926c9"
      },
      "execution_count": 11,
      "outputs": [
        {
          "output_type": "stream",
          "name": "stderr",
          "text": [
            "Warning message in chisq.test(tabela_contigencia):\n",
            "“Chi-squared approximation may be incorrect”\n"
          ]
        },
        {
          "output_type": "display_data",
          "data": {
            "text/plain": [
              "\n",
              "\tPearson's Chi-squared test\n",
              "\n",
              "data:  tabela_contigencia\n",
              "X-squared = 0.63294, df = 2, p-value = 0.7287\n"
            ]
          },
          "metadata": {}
        }
      ]
    },
    {
      "cell_type": "markdown",
      "source": [
        "1. **Ao p valor de 72,87%, não há evidências para rejeitar a hipótese nula  de independência entre as variáveis, ou seja, o Estado Civil não tem associação significativa com o fato de o cliente ter ou não ter Imóvel Próprio.**\n",
        "\n",
        "**Nota:**\n",
        "\n",
        "Para entendemos essa questão, primeiro precisamos entender H0 (Hipótese Nula) e H1. \n",
        "\n",
        "Em geral, a H0 (Hipótese Nula) sugere que as frequências obtidas na amostra e as frequências esperadas são iguais, com forte evidência quando temos p-value >= 0.05. \n",
        "\n",
        "Nessa questão, o p-valeu foi de 0.7287, forte evidência de que as duas variáveis têm frequências iguais (as 2 variáiveis são independetes, H0) sem associação significativa com o fato de o cliente ter ou não ter imóvel próprio. \n",
        "\n",
        "Tecnicamente falando: não há evidências para rejeitar a hipótese nula  de independência entre as variáveis. Em outras palavras, há evidências de que o Estado Civil não tem associação significativa com o fato de o cliente ter ou não ter Imóvel Próprio.\n",
        "\n",
        "\n",
        "\n",
        "2. Os graus de liberdade (df) foram de dois, e não é possível realizar um\n",
        "teste qui-quadrado com dois graus de liberdade, portanto, a resposta é\n",
        "inconclusiva.\n",
        "\n",
        "3. Ao p valor de 72,87%, há evidências para rejeitar a hipótese nula de\n",
        "independência entre as variáveis, ou seja, o Estado Civil possui\n",
        "associação significativa com o fato de o cliente ter ou não ter Imóvel\n",
        "Próprio.\n",
        "\n",
        "4. O qui-quadrado calculado foi de 0,6329, que é abaixo de 0,90,\n",
        "portanto, há evidências para rejeitar a hipótese nula."
      ],
      "metadata": {
        "id": "TC4fkeQ29QPa"
      }
    },
    {
      "cell_type": "markdown",
      "source": [
        "# Pergunta 5 / 2,67 pts\n",
        "Explore a relação entre as variáveis Consumo e Possui Imóvel\n",
        "Próprio, e responda:\n",
        "\n",
        "## Através de um teste t de Student para amostras independentes, existe diferença significativa entre o consumo médio do público que possui imóvel próprio quando comparado com o consumo médio do público não possui imóvel próprio? \n",
        "\n",
        "Adote 95% de confiança ao realizar suas interpretações."
      ],
      "metadata": {
        "id": "IbYDw766akfw"
      }
    },
    {
      "cell_type": "code",
      "source": [
        "#Explore a relação entre as variáveis Consumo e Possui Imóvel Próprio, responda:\n",
        "\n",
        "boxplot(dados$Consumo ~ dados$Possui_Imovel_Proprio)\n"
      ],
      "metadata": {
        "colab": {
          "base_uri": "https://localhost:8080/",
          "height": 0
        },
        "id": "Gl7crUTXc4J5",
        "outputId": "ae5946b0-4b45-4703-f879-ff919381d3ba"
      },
      "execution_count": 12,
      "outputs": [
        {
          "output_type": "display_data",
          "data": {
            "text/plain": [
              "plot without title"
            ],
            "image/png": "[encoded data removed]"
          },
          "metadata": {
            "image/png": {
              "width": 420,
              "height": 420
            }
          }
        }
      ]
    },
    {
      "cell_type": "code",
      "source": [
        "#Test t de Student\n",
        "t.test(dados$Consumo ~ dados$Possui_Imovel_Proprio , \n",
        "       paired = FALSE, #amostras nao pareadas\n",
        "       alternative = 'two.sided', #bilateral\n",
        "       conf.level = 0.90 #95% de confianca\n",
        ")"
      ],
      "metadata": {
        "colab": {
          "base_uri": "https://localhost:8080/",
          "height": 0
        },
        "id": "uo1oQgjhgwnq",
        "outputId": "dea7416b-d22d-4325-d3c0-e2005d2d5e41"
      },
      "execution_count": 13,
      "outputs": [
        {
          "output_type": "display_data",
          "data": {
            "text/plain": [
              "\n",
              "\tWelch Two Sample t-test\n",
              "\n",
              "data:  dados$Consumo by dados$Possui_Imovel_Proprio\n",
              "t = 0.3608, df = 17.472, p-value = 0.7226\n",
              "alternative hypothesis: true difference in means between group Nao and group Sim is not equal to 0\n",
              "90 percent confidence interval:\n",
              " -5829.856  8886.901\n",
              "sample estimates:\n",
              "mean in group Nao mean in group Sim \n",
              "         12391.30          10862.78 \n"
            ]
          },
          "metadata": {}
        }
      ]
    },
    {
      "cell_type": "markdown",
      "source": [
        "1. Ao p valor de 72,26%, há evidências para rejeitar a hipótese nula de\n",
        "igualdade de médias, ou seja, a média do consumo de quem tem\n",
        "imóvel próprio é estatisticamente diferente da média de consumo de\n",
        "quem não tem imóvel próprio.\n",
        "\n",
        "2. **Ao p valor de 72,26%, não há evidências para rejeitar a hipótese nula\n",
        "de igualdade de médias, ou seja, a média do consumo de quem tem\n",
        "imóvel próprio não é estatisticamente diferente da média de consumo\n",
        "de quem não tem imóvel próprio.**\n",
        "\n",
        "3. Com 17.47 graus de liberdade, temos evidências para rejeitar a\n",
        "hipótese nula de igualdade de médias, ou seja, o consumo de quem\n",
        "tem imóvel próprio é estatisticamente diferente do consumo de quem\n",
        "não tem imóvel próprio.\n",
        "\n",
        "4. É estatisticamente diferente, pois o consumo médio de quem não tem\n",
        "imóvel próprio é de 12391,3 e quem tem imóvel próprio é de 10862,78"
      ],
      "metadata": {
        "id": "S2MJF7h9iKkA"
      }
    },
    {
      "cell_type": "markdown",
      "source": [
        "# Pergunta 6 / 2,67 pts\n",
        "Explore a relação entre as variáveis Consumo e Idade, e responda:\n",
        "## Pelo gráfico de dispersão, você identifica que existe relação linear entre o Consumo e a Idade? Se sim, a relação é positiva ou negativa?"
      ],
      "metadata": {
        "id": "oLyK0mwYm88B"
      }
    },
    {
      "cell_type": "code",
      "source": [
        "plot(y = dados$Consumo ,\n",
        "     x = dados$Idade,\n",
        "     pch = 16)"
      ],
      "metadata": {
        "colab": {
          "base_uri": "https://localhost:8080/",
          "height": 0
        },
        "id": "Trf-LLVCnLn5",
        "outputId": "84594e29-79bf-4e59-b553-179a2dbdacf4"
      },
      "execution_count": 14,
      "outputs": [
        {
          "output_type": "display_data",
          "data": {
            "text/plain": [
              "plot without title"
            ],
            "image/png": "[encoded data removed]"
          },
          "metadata": {
            "image/png": {
              "width": 420,
              "height": 420
            }
          }
        }
      ]
    },
    {
      "cell_type": "code",
      "source": [
        "#Coeficiente de correlacao\n",
        "cor(dados$Consumo, dados$Idade)"
      ],
      "metadata": {
        "colab": {
          "base_uri": "https://localhost:8080/",
          "height": 0
        },
        "id": "ni0lteHnnNrx",
        "outputId": "1dbc305f-0993-4575-cd8c-c57d8ddd55e4"
      },
      "execution_count": 15,
      "outputs": [
        {
          "output_type": "display_data",
          "data": {
            "text/html": [
              "0.939903974526311"
            ],
            "text/markdown": "0.939903974526311",
            "text/latex": "0.939903974526311",
            "text/plain": [
              "[1] 0.939904"
            ]
          },
          "metadata": {}
        }
      ]
    },
    {
      "cell_type": "code",
      "source": [
        "#Ajuste regressao linear do Consumo em funcao da Idade\n",
        "regressao_linear <- lm(Consumo ~ Idade, data = dados)\n",
        "summary(regressao_linear)"
      ],
      "metadata": {
        "colab": {
          "base_uri": "https://localhost:8080/",
          "height": 0
        },
        "id": "lgM3gcolnO3n",
        "outputId": "3bea5fbc-52ac-4b78-8f70-4b9f7c53a5fd"
      },
      "execution_count": 16,
      "outputs": [
        {
          "output_type": "display_data",
          "data": {
            "text/plain": [
              "\n",
              "Call:\n",
              "lm(formula = Consumo ~ Idade, data = dados)\n",
              "\n",
              "Residuals:\n",
              "    Min      1Q  Median      3Q     Max \n",
              "-7376.9 -2561.4   754.3  2758.7  6011.5 \n",
              "\n",
              "Coefficients:\n",
              "             Estimate Std. Error t value           Pr(>|t|)    \n",
              "(Intercept) -13248.72    1895.14  -6.991 0.0000001629618829 ***\n",
              "Idade          652.86      45.64  14.304 0.0000000000000404 ***\n",
              "---\n",
              "Signif. codes:  0 ‘***’ 0.001 ‘**’ 0.01 ‘*’ 0.05 ‘.’ 0.1 ‘ ’ 1\n",
              "\n",
              "Residual standard error: 3793 on 27 degrees of freedom\n",
              "Multiple R-squared:  0.8834,\tAdjusted R-squared:  0.8791 \n",
              "F-statistic: 204.6 on 1 and 27 DF,  p-value: 0.00000000000004042\n"
            ]
          },
          "metadata": {}
        }
      ]
    },
    {
      "cell_type": "code",
      "source": [
        "\n",
        "#Teste de normalidade para os residuos da regressao\n",
        "shapiro.test(regressao_linear$residuals)"
      ],
      "metadata": {
        "colab": {
          "base_uri": "https://localhost:8080/",
          "height": 0
        },
        "id": "aaH6677xnP46",
        "outputId": "b35084f1-ffcb-4766-c689-cf9f2fd75435"
      },
      "execution_count": 17,
      "outputs": [
        {
          "output_type": "display_data",
          "data": {
            "text/plain": [
              "\n",
              "\tShapiro-Wilk normality test\n",
              "\n",
              "data:  regressao_linear$residuals\n",
              "W = 0.95467, p-value = 0.2415\n"
            ]
          },
          "metadata": {}
        }
      ]
    },
    {
      "cell_type": "markdown",
      "source": [
        "1. **Sim, existe uma correlação linear positiva, pois à medida que a idade\n",
        "aumenta o consumo também aumenta.**\n",
        "\n",
        "**Nota do Sam:** O p-value do Teste de Shapiro maior que 0.05 indica os dados são normais. E o Coeficiente de Correlação de 0.94 indica que essa correlação é positiva e forte (próxima de 1)\n",
        "\n",
        "2. Sim, existe uma correlação linear negativa, pois à medida que a idade\n",
        "aumenta o consumo também aumenta.\n",
        "\n",
        "3. Não existe correlação."
      ],
      "metadata": {
        "id": "uEsc8ZlonrXY"
      }
    },
    {
      "cell_type": "markdown",
      "source": [
        "# Pergunta 7 / 2,67 pts\n",
        "Explore a relação entre as  variáveis Consumo e Idade, e responda:\n",
        "## Obtenha o valor do coeficiente de correlação linear de Pearson entre o  Consumo e a Idade e interprete. Marque a alternativa CORRETA."
      ],
      "metadata": {
        "id": "qq5UGFg9oqoi"
      }
    },
    {
      "cell_type": "code",
      "source": [
        "#Coeficiente de correlacao\n",
        "cor(dados$Consumo, dados$Idade)"
      ],
      "metadata": {
        "colab": {
          "base_uri": "https://localhost:8080/",
          "height": 0
        },
        "id": "9GMTwWaKoxcY",
        "outputId": "af548aa5-87ce-4253-8531-0353c2970b8a"
      },
      "execution_count": 18,
      "outputs": [
        {
          "output_type": "display_data",
          "data": {
            "text/html": [
              "0.939903974526311"
            ],
            "text/markdown": "0.939903974526311",
            "text/latex": "0.939903974526311",
            "text/plain": [
              "[1] 0.939904"
            ]
          },
          "metadata": {}
        }
      ]
    },
    {
      "cell_type": "markdown",
      "source": [
        "1. O coeficiente de correlação linear de Pearson entre o Consumo e a Idade é de 0,93, que é uma correlação positiva fraca.\n",
        "\n",
        "2. O coeficiente de correlação linear de Pearson entre o Consumo e a\n",
        "Idade é de 0,93, que é uma correlação negativa fraca.\n",
        "\n",
        "3. **O coeficiente de correlação linear de Pearson entre o Consumo e a\n",
        "Idade é de 0,93, que é uma correlação positiva forte.**\n",
        "\n",
        "4. O coeficiente de correlação linear de Pearson entre o Consumo e a\n",
        "Idade é de 0,93, que é uma correlação negativa forte.\n",
        "2,67"
      ],
      "metadata": {
        "id": "Es3olBgnoxuJ"
      }
    },
    {
      "cell_type": "markdown",
      "source": [
        "# Pergunta 8 / 2,67 pts\n",
        "Explore a relação entre as variáveis Consumo e Idade, e responda:\n",
        "\n",
        "**Se tentarmos utilizar somente a Idade para prever o Consumo, o quanto da variação do Consumo a variável Idade consegue explicar?**\n",
        "\n",
        "Em outras palavras, interpretar o R da regressão linear do Consumo em função da Idade."
      ],
      "metadata": {
        "id": "cr0LKB7SpOKp"
      }
    },
    {
      "cell_type": "code",
      "source": [
        "#Ajuste regressao linear do Consumo em funcao da Idade\n",
        "minha_regressao_linear <- lm(Consumo ~ Idade, data = dados)"
      ],
      "metadata": {
        "id": "XAqXKYpvv2Jh"
      },
      "execution_count": 19,
      "outputs": []
    },
    {
      "cell_type": "code",
      "source": [
        "summary(minha_regressao_linear)$r.squared * 100"
      ],
      "metadata": {
        "colab": {
          "base_uri": "https://localhost:8080/",
          "height": 0
        },
        "id": "y9kuE7o1wcQb",
        "outputId": "e620c282-6221-4058-d3de-46ddc2a41d12"
      },
      "execution_count": 20,
      "outputs": [
        {
          "output_type": "display_data",
          "data": {
            "text/html": [
              "88.3419481330356"
            ],
            "text/markdown": "88.3419481330356",
            "text/latex": "88.3419481330356",
            "text/plain": [
              "[1] 88.34195"
            ]
          },
          "metadata": {}
        }
      ]
    },
    {
      "cell_type": "markdown",
      "source": [
        "1. **O R é de 88,34%, ou seja, a Idade consegue explicar 88,34% da\n",
        "variação do Consumo.**\n",
        "2. O R é de 88,34%, ou seja, para cada aumento unitário na idade, o\n",
        "Consumo aumenta em média 88,34%.\n",
        "3. O R é de 88,34%, ou seja, para cada aumento unitário na idade, o\n",
        "Consumo aumenta em média 11,66% (1-0,8834).\n",
        "4. O R é de 88,34%, ou seja, para cada aumento unitário na idade, o\n",
        "consumo diminui em média 88,34%.\n",
        "\n",
        "**nota do Sam:** \n",
        "\n",
        "Roda um Modelo (Regressão)  Linear com lm(linear model), passando as variáveis Consumo e Idade que estão em dados e joga ( <- ) o resultado na variável minha_regressao_linear (poderia ser qualquer ou nome válido), assim:\n",
        "\n",
        "**minha_regressao_linear <- lm(Consumo ~ Idade, data = dados)**\n",
        "\n",
        "**lm** - linear model\n",
        "**<-** - No R, esse simbola funciona como o sinal de igualdade em outras linguagens\n",
        "**~** - No R funciona como se falássemos trabalhar 2 variáveis, tipo Consumo e Idade (Consumo ~ Idade)\n",
        "\n",
        "\n",
        "Depois basta olhar o **Multiple R-squared** (Nosso R2 - squared significa ao quadrado) =   0.8834  \n",
        "\n",
        "Pode se ver tudo com **summary(regressao_linear)**\n",
        "\n",
        "ou apenas o R2 com **summary(regressao_linear)$r.squared * 100**"
      ],
      "metadata": {
        "id": "oMwqf49swE7J"
      }
    },
    {
      "cell_type": "markdown",
      "source": [
        "# Pergunta 9 / 2,67 pts\n",
        "Explore a relação entre as variáveis Consumo e Idade, e responda:\n",
        "\n",
        "## Execute um teste de normalidade para regressão linear entre Consumo e Idade e, de acordo com os resultados, informe se os resíduos seguem ou não seguem uma distribuição normal. \n",
        "\n",
        "Adote 95% de confiança."
      ],
      "metadata": {
        "id": "nBK94EHe1PL3"
      }
    },
    {
      "cell_type": "code",
      "source": [
        "#Regressão Linear - Ver Notas na questão 8\n",
        "minha_regressao_linear <- lm(Consumo ~ Idade, data = dados)"
      ],
      "metadata": {
        "id": "lgDSyRtb48-Q"
      },
      "execution_count": 21,
      "outputs": []
    },
    {
      "cell_type": "code",
      "source": [
        "#Teste de normalidade para os residuos da regressao\n",
        "shapiro.test(regressao_linear$residuals)"
      ],
      "metadata": {
        "colab": {
          "base_uri": "https://localhost:8080/",
          "height": 0
        },
        "id": "_PDic7w317JA",
        "outputId": "0451c8b8-9b26-4e2b-91e2-d65474165396"
      },
      "execution_count": 22,
      "outputs": [
        {
          "output_type": "display_data",
          "data": {
            "text/plain": [
              "\n",
              "\tShapiro-Wilk normality test\n",
              "\n",
              "data:  regressao_linear$residuals\n",
              "W = 0.95467, p-value = 0.2415\n"
            ]
          },
          "metadata": {}
        }
      ]
    },
    {
      "cell_type": "markdown",
      "source": [
        "1. Ao p valor de 24,15%, só rejeitaríamos a hipótese de normalidade caso\n",
        "o nível de confiança fosse de 99%. Portanto o teste é inconclusivo.\n",
        "\n",
        "2. Ao p valor de 24,15%, só rejeitaríamos a hipótese de normalidade caso\n",
        "o nível de confiança fosse de 90%. Portanto o teste é inconclusivo.\n",
        "\n",
        "3. Ao p valor de 24,15%, há evidências para rejeitar a hipótese de\n",
        "normalidade, ou seja, os resíduos não seguem uma distribuição normal\n",
        "\n",
        "4. **Ao p valor de 24,15%, não há evidências para rejeitar a hipótese de\n",
        "normalidade, ou seja, os resíduos seguem uma distribuição normal.\n",
        "2,67**\n",
        "**Nota do Sam:** O p-value do Teste de Shapiro maior que 0.05 indica os dados são normais."
      ],
      "metadata": {
        "id": "PXiKoLRh5g0o"
      }
    },
    {
      "cell_type": "markdown",
      "source": [
        "# Pergunta 10 / 2,67 pts\n",
        "Explore a variável Renda Mensal e responda:\n",
        "## Qual o valor do primeiro quartil e qual a sua interpretação CORRETA?"
      ],
      "metadata": {
        "id": "xB5Ebi3y6D93"
      }
    },
    {
      "cell_type": "code",
      "source": [
        "summary(dados$Renda_Mensal)"
      ],
      "metadata": {
        "colab": {
          "base_uri": "https://localhost:8080/",
          "height": 0
        },
        "id": "yg3pEDwW64UH",
        "outputId": "350639aa-b2d0-4a65-e01c-d09c478364dc"
      },
      "execution_count": 23,
      "outputs": [
        {
          "output_type": "display_data",
          "data": {
            "text/plain": [
              "   Min. 1st Qu.  Median    Mean 3rd Qu.    Max. \n",
              "   1636    2292    3576    3965    5715    8535 "
            ]
          },
          "metadata": {}
        }
      ]
    },
    {
      "cell_type": "code",
      "source": [
        "summary(dados$Renda_Mensal)[2]"
      ],
      "metadata": {
        "id": "9Q900u3n6O1g",
        "colab": {
          "base_uri": "https://localhost:8080/",
          "height": 0
        },
        "outputId": "908681fd-5d1d-413f-f004-ec089b091748"
      },
      "execution_count": 24,
      "outputs": [
        {
          "output_type": "display_data",
          "data": {
            "text/plain": [
              " 1st Qu. \n",
              "2291.881 "
            ]
          },
          "metadata": {}
        }
      ]
    },
    {
      "cell_type": "markdown",
      "source": [
        "1. O primeiro quartil é 2292, isso nos diz que 75% dos clientes têm renda\n",
        "até 2292 e 25% têm renda acima desse valor.\n",
        "\n",
        "2. O primeiro quartil é 2292, isso nos diz que 50% dos clientes têm renda\n",
        "mensal até 2292 e os outros 50% têm renda mensal acima desse valor.\n",
        "\n",
        "3. O primeiro quartil é 3576, isso nos diz que 25% dos clientes têm renda\n",
        "mensal de até 3576.\n",
        "\n",
        "4. **O primeiro quartil é 2292, isso nos diz que 25% dos clientes têm renda\n",
        "mensal de até 2292.\n",
        "2,67**\n",
        "\n",
        "**Nota do Sam**\n",
        "\n",
        "A função summary retorna 6 pamâmetros:\n",
        "1. Mínimo\n",
        "2. 1o. Quartil\n",
        "3. Mediana\n",
        "4. Média\n",
        "5. 3o. Quartil\n",
        "6. Máxima\n",
        "\n",
        "**Se desejar pegar apenas um deles, tipo o 1o. Quartil, basta informar o índice assim:**\n",
        "\n",
        "summary(dados$Renda_Mensal)[2]\n",
        "\n",
        "1st Qu. \n",
        "2291.881 "
      ],
      "metadata": {
        "id": "ha9vUxb08FLB"
      }
    },
    {
      "cell_type": "markdown",
      "source": [
        "# Pergunta 11 / 2,67 pts\n",
        "Explore a variável Renda Mensal e responda:\n",
        "\n",
        "## Qual o valor da mediana e qual a sua interpretação CORRETA?\n"
      ],
      "metadata": {
        "id": "BjPCt0PX_55v"
      }
    },
    {
      "cell_type": "code",
      "source": [
        "summary(dados$Renda_Mensal)[3]"
      ],
      "metadata": {
        "colab": {
          "base_uri": "https://localhost:8080/",
          "height": 0
        },
        "id": "295XIqxQAEri",
        "outputId": "0fbb2f01-a485-4ea0-ced6-293495015291"
      },
      "execution_count": 25,
      "outputs": [
        {
          "output_type": "display_data",
          "data": {
            "text/plain": [
              "  Median \n",
              "3575.981 "
            ]
          },
          "metadata": {}
        }
      ]
    },
    {
      "cell_type": "markdown",
      "source": [
        "1. O valor da mediana é 3576, isso nos diz que o cliente que tem a maior\n",
        "renda possui renda de 3576.\n",
        "\n",
        "2. **O valor da mediana é 3576, isso nos diz que 50% dos clientes têm\n",
        "renda até 3576 e os outros 50% têm renda maior que 3576.**\n",
        "\n",
        "3. A mediana é 3576, isso nos diz que 25% dos clientes têm renda\n",
        "mensal de até 3576.\n",
        "\n",
        "4. A mediana é 3576, isso nos diz que 75% dos clientes têm renda até\n",
        "3576 e 25% têm renda acima desse valor."
      ],
      "metadata": {
        "id": "KCZ2GEYzAJi2"
      }
    },
    {
      "cell_type": "markdown",
      "source": [
        "# Pergunta 12 / 2,67 pts\n",
        "Ajuste uma Regressão linear do Consumo em função da Idade e Renda Mensal, e responda:\n",
        "\n",
        "## O modelo de regressão linear ajustado é válido?"
      ],
      "metadata": {
        "id": "TuHfXXLDAbIW"
      }
    },
    {
      "cell_type": "code",
      "source": [
        "linear_model <- lm(Idade ~ Renda_Mensal, data=dados)\n",
        "\n",
        "regressao_linear <- lm(Consumo ~ Idade + Renda_Mensal, data = dados)\n",
        "summary(regressao_linear)\n"
      ],
      "metadata": {
        "colab": {
          "base_uri": "https://localhost:8080/",
          "height": 0
        },
        "id": "Hw2bTIj4A_4R",
        "outputId": "edcb02a8-0df5-4c25-c479-14f1b0f410bd"
      },
      "execution_count": 26,
      "outputs": [
        {
          "output_type": "display_data",
          "data": {
            "text/plain": [
              "\n",
              "Call:\n",
              "lm(formula = Consumo ~ Idade + Renda_Mensal, data = dados)\n",
              "\n",
              "Residuals:\n",
              "    Min      1Q  Median      3Q     Max \n",
              "-5245.5 -1653.1  -797.9  1787.4  5906.7 \n",
              "\n",
              "Coefficients:\n",
              "                Estimate  Std. Error t value      Pr(>|t|)    \n",
              "(Intercept)  -11907.5303   1315.0998  -9.054 0.00000000161 ***\n",
              "Idade           348.1150     62.2624   5.591 0.00000711445 ***\n",
              "Renda_Mensal      2.6246      0.4643   5.653 0.00000605390 ***\n",
              "---\n",
              "Signif. codes:  0 ‘***’ 0.001 ‘**’ 0.01 ‘*’ 0.05 ‘.’ 0.1 ‘ ’ 1\n",
              "\n",
              "Residual standard error: 2589 on 26 degrees of freedom\n",
              "Multiple R-squared:  0.9477,\tAdjusted R-squared:  0.9437 \n",
              "F-statistic: 235.6 on 2 and 26 DF,  p-value: < 0.00000000000000022\n"
            ]
          },
          "metadata": {}
        }
      ]
    },
    {
      "cell_type": "markdown",
      "source": [
        "1. Não, pois não se pode ajustar uma regressão linear com apenas dois preditores.\n",
        "\n",
        "2. **Sim, pois p valor do teste F é aproximadamente zero, então há evidências para rejeitar a hipótese de que o modelo ajustado não é válido.**\n",
        "\n",
        "3. Não, pois p valor do teste F é aproximadamente zero, então não há evidências para rejeitar a hipótese de que o modelo ajustado não é válido.\n",
        "\n",
        "4. Não, pois a estatística F obtida foi de 235,6 com apenas dois graus de\n",
        "liberdade no numerador e 26 no denominador.\n"
      ],
      "metadata": {
        "id": "_u0D0pDCEz_A"
      }
    },
    {
      "cell_type": "markdown",
      "source": [
        "# Pergunta 13 / 2,67 pts\n",
        "\n",
        "##Essa Questão deveria ser anulada, pois trocou o Beta da idade de 348.1150 por 3.48\n",
        "\n",
        "No mundo real, uma intrepretação dessas poderia trazer graves prejuízos à empresa\n",
        "\n",
        "Ajuste uma Regressão linear do Consumo em função da Idade e Renda Mensal, e responda:\n",
        "\n",
        "**Marque a alternativa com a interpretação CORRETA do coeficiente Beta da variável Idade.**"
      ],
      "metadata": {
        "id": "4Brb0Oy6FNWS"
      }
    },
    {
      "cell_type": "code",
      "source": [
        "regressao_linear <- lm(Consumo ~ Idade + Renda_Mensal, data = dados)\n",
        "summary(regressao_linear)"
      ],
      "metadata": {
        "colab": {
          "base_uri": "https://localhost:8080/",
          "height": 0
        },
        "id": "hpUQInmDIpMS",
        "outputId": "1196aa7f-5a8e-4017-e464-8add22f04ead"
      },
      "execution_count": 27,
      "outputs": [
        {
          "output_type": "display_data",
          "data": {
            "text/plain": [
              "\n",
              "Call:\n",
              "lm(formula = Consumo ~ Idade + Renda_Mensal, data = dados)\n",
              "\n",
              "Residuals:\n",
              "    Min      1Q  Median      3Q     Max \n",
              "-5245.5 -1653.1  -797.9  1787.4  5906.7 \n",
              "\n",
              "Coefficients:\n",
              "                Estimate  Std. Error t value      Pr(>|t|)    \n",
              "(Intercept)  -11907.5303   1315.0998  -9.054 0.00000000161 ***\n",
              "Idade           348.1150     62.2624   5.591 0.00000711445 ***\n",
              "Renda_Mensal      2.6246      0.4643   5.653 0.00000605390 ***\n",
              "---\n",
              "Signif. codes:  0 ‘***’ 0.001 ‘**’ 0.01 ‘*’ 0.05 ‘.’ 0.1 ‘ ’ 1\n",
              "\n",
              "Residual standard error: 2589 on 26 degrees of freedom\n",
              "Multiple R-squared:  0.9477,\tAdjusted R-squared:  0.9437 \n",
              "F-statistic: 235.6 on 2 and 26 DF,  p-value: < 0.00000000000000022\n"
            ]
          },
          "metadata": {}
        }
      ]
    },
    {
      "cell_type": "markdown",
      "source": [
        "1. O coeficiente Beta da variável idade é de 3,48, ou seja,mantendo as demais variáveis constantes, a cada aumento unitário na idade, o consumo aumenta em média 3,48 unidades. **Seria a alternativa correta se tivesse 348.1150**\n",
        "\n",
        "2. O coeficiente Beta da variável idade é de 3,48, isso nos diz que a idade\n",
        "não é uma variável significativa e deve ser removida do modelo.\n",
        "\n",
        "3. O coeficiente Beta da variável idade é de 3,48, isso nos diz que\n",
        "teremos um coeficiente de correlação de Pearson de 0,48.\n",
        "\n",
        "4. O coeficiente Beta da variável idade é de 3,48, isso nos diz que a idade\n",
        "explica 3,48% da variação do consumo."
      ],
      "metadata": {
        "id": "hYfnnffPla8y"
      }
    },
    {
      "cell_type": "markdown",
      "source": [
        "# Pergunta 14 / 2,67 pts\n",
        "Ajuste uma Regressão linear do Consumo em função da Idade e Renda Mensal, e responda:\n",
        "\n",
        "**Marque a alternativa com a interpretação CORRETA do coeficiente\n",
        "Beta da variável Renda Mensal**\n"
      ],
      "metadata": {
        "id": "6vS5xaaxm4oe"
      }
    },
    {
      "cell_type": "code",
      "source": [
        "regressao_linear <- lm(Consumo ~ Idade + Renda_Mensal, data = dados)\n",
        "summary(regressao_linear)"
      ],
      "metadata": {
        "colab": {
          "base_uri": "https://localhost:8080/",
          "height": 0
        },
        "id": "xhOyT-UynBaM",
        "outputId": "598883d3-bcc3-4753-cd1a-b5fac4edbf48"
      },
      "execution_count": 28,
      "outputs": [
        {
          "output_type": "display_data",
          "data": {
            "text/plain": [
              "\n",
              "Call:\n",
              "lm(formula = Consumo ~ Idade + Renda_Mensal, data = dados)\n",
              "\n",
              "Residuals:\n",
              "    Min      1Q  Median      3Q     Max \n",
              "-5245.5 -1653.1  -797.9  1787.4  5906.7 \n",
              "\n",
              "Coefficients:\n",
              "                Estimate  Std. Error t value      Pr(>|t|)    \n",
              "(Intercept)  -11907.5303   1315.0998  -9.054 0.00000000161 ***\n",
              "Idade           348.1150     62.2624   5.591 0.00000711445 ***\n",
              "Renda_Mensal      2.6246      0.4643   5.653 0.00000605390 ***\n",
              "---\n",
              "Signif. codes:  0 ‘***’ 0.001 ‘**’ 0.01 ‘*’ 0.05 ‘.’ 0.1 ‘ ’ 1\n",
              "\n",
              "Residual standard error: 2589 on 26 degrees of freedom\n",
              "Multiple R-squared:  0.9477,\tAdjusted R-squared:  0.9437 \n",
              "F-statistic: 235.6 on 2 and 26 DF,  p-value: < 0.00000000000000022\n"
            ]
          },
          "metadata": {}
        }
      ]
    },
    {
      "cell_type": "markdown",
      "source": [
        "1. O coeficiente Beta da variável idade é de 2,62, isso nos diz que a\n",
        "Renda Mensal não é uma variável significativa e deve ser removida do\n",
        "modelo.\n",
        "\n",
        "2. **O coeficiente Beta da variável Renda Mensal é de 2,62, ou seja,\n",
        "mantendo as demais variáveis constantes, a cada aumento unitário na\n",
        "Renda Mensal, o consumo aumenta, em média, 2,62 unidades.**\n",
        "\n",
        "3. O coeficiente Beta da variável Renda Mensal é de 2,62, isso nos diz\n",
        "que teremos um coeficiente de correlação de Pearson de 0,62.\n",
        "\n",
        "4. O coeficiente Beta da variável idade é de 2,62, isso nos diz que a\n",
        "Renda Mensal explica 2,62% da variação do consumo. (Errado. O R2 é que explica esse tipo de relação)"
      ],
      "metadata": {
        "id": "14_mk32InSk9"
      }
    },
    {
      "cell_type": "markdown",
      "source": [
        "# Pergunta 15 / 2,62 pts\n",
        "\n",
        "Ajuste uma Regressão linear do Consumo em função da Idade e\n",
        "Renda Mensal, e responda:\n",
        "\n",
        "## Como os valores t são obtidos? (coluna t value)"
      ],
      "metadata": {
        "id": "UuHuGpMxn36c"
      }
    },
    {
      "cell_type": "code",
      "source": [
        "regressao_linear <- lm(Consumo ~ Idade + Renda_Mensal, data = dados)\n",
        "resumo_regressao_linear = summary(regressao_linear)\n",
        "resumo_regressao_linear "
      ],
      "metadata": {
        "colab": {
          "base_uri": "https://localhost:8080/",
          "height": 347
        },
        "id": "06x3ZDx8oIq1",
        "outputId": "407bec2c-d661-4138-f115-bf3a5e957684"
      },
      "execution_count": 29,
      "outputs": [
        {
          "output_type": "display_data",
          "data": {
            "text/plain": [
              "\n",
              "Call:\n",
              "lm(formula = Consumo ~ Idade + Renda_Mensal, data = dados)\n",
              "\n",
              "Residuals:\n",
              "    Min      1Q  Median      3Q     Max \n",
              "-5245.5 -1653.1  -797.9  1787.4  5906.7 \n",
              "\n",
              "Coefficients:\n",
              "                Estimate  Std. Error t value      Pr(>|t|)    \n",
              "(Intercept)  -11907.5303   1315.0998  -9.054 0.00000000161 ***\n",
              "Idade           348.1150     62.2624   5.591 0.00000711445 ***\n",
              "Renda_Mensal      2.6246      0.4643   5.653 0.00000605390 ***\n",
              "---\n",
              "Signif. codes:  0 ‘***’ 0.001 ‘**’ 0.01 ‘*’ 0.05 ‘.’ 0.1 ‘ ’ 1\n",
              "\n",
              "Residual standard error: 2589 on 26 degrees of freedom\n",
              "Multiple R-squared:  0.9477,\tAdjusted R-squared:  0.9437 \n",
              "F-statistic: 235.6 on 2 and 26 DF,  p-value: < 0.00000000000000022\n"
            ]
          },
          "metadata": {}
        }
      ]
    },
    {
      "cell_type": "code",
      "source": [
        "t_value_idade= resumo_regressao_linear $coefficients[2] / resumo_regressao_linear $coefficients[5]\n",
        "t_value_idade"
      ],
      "metadata": {
        "colab": {
          "base_uri": "https://localhost:8080/",
          "height": 34
        },
        "id": "TFrmRZHymY2L",
        "outputId": "ea603614-4779-4bcd-c309-86e007823188"
      },
      "execution_count": 30,
      "outputs": [
        {
          "output_type": "display_data",
          "data": {
            "text/html": [
              "5.59109955409036"
            ],
            "text/markdown": "5.59109955409036",
            "text/latex": "5.59109955409036",
            "text/plain": [
              "[1] 5.5911"
            ]
          },
          "metadata": {}
        }
      ]
    },
    {
      "cell_type": "code",
      "source": [
        "t_value_renda_mensal= resumo_regressao_linear $coefficients[3] / resumo_regressao_linear $coefficients[6]\n",
        "t_value_renda_mensal"
      ],
      "metadata": {
        "colab": {
          "base_uri": "https://localhost:8080/",
          "height": 34
        },
        "id": "_IXwaSyHyEwP",
        "outputId": "3aba38b0-3729-4abd-8e9c-e5394e72438a"
      },
      "execution_count": 31,
      "outputs": [
        {
          "output_type": "display_data",
          "data": {
            "text/html": [
              "5.65298576850799"
            ],
            "text/markdown": "5.65298576850799",
            "text/latex": "5.65298576850799",
            "text/plain": [
              "[1] 5.652986"
            ]
          },
          "metadata": {}
        }
      ]
    },
    {
      "cell_type": "markdown",
      "source": [
        "1. Dividindo a coluna Estimate pela coluna Pr(>|t|).\n",
        "2. Tomando a raiz quadrado dos valores da coluna Estimate.\n",
        "3. Elevando ao quadrado os valores da coluna Estimate.\n",
        "4. **Dividindo a coluna Estimate pela coluna Std. Error.\n",
        "Pontuação**"
      ],
      "metadata": {
        "id": "-P8oZkLqoM7E"
      }
    }
  ]
}