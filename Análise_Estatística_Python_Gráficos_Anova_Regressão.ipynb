{
  "nbformat": 4,
  "nbformat_minor": 0,
  "metadata": {
    "colab": {
      "name": "Análise_Estatística_Python_Gráficos_Anova_Regressão.ipynb",
      "provenance": [],
      "collapsed_sections": [],
      "authorship_tag": "ABX9TyNWkdJn60ykZHXW9Bb+OAal",
      "include_colab_link": true
    },
    "kernelspec": {
      "name": "python3",
      "display_name": "Python 3"
    },
    "language_info": {
      "name": "python"
    }
  },
  "cells": [
    {
      "cell_type": "markdown",
      "metadata": {
        "id": "view-in-github",
        "colab_type": "text"
      },
      "source": [
        "<a href=\"https://colab.research.google.com/github/saurater/ciencia_de_dados/blob/main/An%C3%A1lise_Estat%C3%ADstica_Python_Gr%C3%A1ficos_Anova_Regress%C3%A3o.ipynb\" target=\"_parent\"><img src=\"https://colab.research.google.com/assets/colab-badge.svg\" alt=\"Open In Colab\"/></a>"
      ]
    },
    {
      "cell_type": "markdown",
      "source": [
        "# **Laboratório - IGTI - Ciência de Dados**\n",
        "# Estatística com Python - Colab \n",
        "**Autora**: P. P\n",
        "\n",
        "**Versão em Python:** Sam Faraday\n",
        "\n",
        "**Data:** Maio de 2022\n",
        "\n",
        "\n",
        "\n",
        "**Versão em R Disponível em -->** https://github.com/saurater/ciencia_de_dados/blob/main/Analise_Estat%C3%ADsticaR_Gr%C3%A1ficos_Anova_Regress%C3%A3o.ipynb"
      ],
      "metadata": {
        "id": "Daknd_cjh5iT"
      }
    },
    {
      "cell_type": "code",
      "source": [
        "import warnings\n",
        "warnings.filterwarnings('ignore')"
      ],
      "metadata": {
        "id": "XCzUwAJ8TJLG"
      },
      "execution_count": 7,
      "outputs": []
    },
    {
      "cell_type": "code",
      "source": [
        "import pandas as pd"
      ],
      "metadata": {
        "id": "lH7ed2li5-RV"
      },
      "execution_count": 1,
      "outputs": []
    },
    {
      "cell_type": "code",
      "source": [
        "import matplotlib.pyplot as plt"
      ],
      "metadata": {
        "id": "sywWk-U16W2d"
      },
      "execution_count": 2,
      "outputs": []
    },
    {
      "cell_type": "code",
      "source": [
        "import numpy as np"
      ],
      "metadata": {
        "id": "agG3aGEc6YHg"
      },
      "execution_count": 3,
      "outputs": []
    },
    {
      "cell_type": "code",
      "source": [
        "from scipy.stats import shapiro, pearsonr"
      ],
      "metadata": {
        "id": "5GZkT9fl_VGT"
      },
      "execution_count": 4,
      "outputs": []
    },
    {
      "cell_type": "code",
      "source": [
        "import statsmodels.api as sm"
      ],
      "metadata": {
        "id": "PyrA30zRAIUa"
      },
      "execution_count": 26,
      "outputs": []
    },
    {
      "cell_type": "code",
      "source": [
        "import statistics"
      ],
      "metadata": {
        "id": "RWFXkfapcy9h"
      },
      "execution_count": 6,
      "outputs": []
    },
    {
      "cell_type": "code",
      "source": [
        "from plotnine import ggplot, aes, geom_line, geom_density, xlim"
      ],
      "metadata": {
        "id": "hNdXeCR5RFSH"
      },
      "execution_count": 9,
      "outputs": []
    },
    {
      "cell_type": "code",
      "source": [
        "# import seaborn library\n",
        "import seaborn as sns"
      ],
      "metadata": {
        "id": "jRMF0kUteUxE"
      },
      "execution_count": 27,
      "outputs": []
    },
    {
      "cell_type": "code",
      "execution_count": 10,
      "metadata": {
        "id": "AG0Oo9K93-Z0"
      },
      "outputs": [],
      "source": [
        "dados = {\n",
        "  \"Preco\": [368.384514890573, 446.850186825816, \n",
        "          414.72765691978, 434.291090918223, 436.652686535348, 457.65797344255, \n",
        "          490.694346597566, 474.881781399868, 458.462395897205, 412.719412673294, \n",
        "          448.799032112411, 352.040747235864, 449.461858221104, 416.150953927119, \n",
        "          416.499426750268, 551.315803331779, 462.126789471159, 515.957335395508, \n",
        "          467.598697162974, 339.548470369391],\n",
        "  \"Porta\": [\"duas_portas\", \"quatro_portas\", \"duas_portas\", \"quatro_portas\", \"quatro_portas\", \n",
        "          \"duas_portas\", \"quatro_portas\", \"duas_portas\", \"quatro_portas\", \n",
        "          \"duas_portas\", \"quatro_portas\", \"quatro_portas\", \"duas_portas\", \n",
        "          \"quatro_portas\", \"duas_portas\", \"quatro_portas\", \"quatro_portas\", \n",
        "          \"duas_portas\", \"quatro_portas\", \"quatro_portas\"],\n",
        "  \"Ar_Condicionado\": [\"sem_ar_condicionado\",  \"com_ar_condicionado\", \"com_ar_condicionado\", \"com_ar_condicionado\", \n",
        "                  \"com_ar_condicionado\", \"com_ar_condicionado\", \"com_ar_condicionado\", \n",
        "                  \"com_ar_condicionado\", \"com_ar_condicionado\", \"com_ar_condicionado\", \n",
        "                  \"com_ar_condicionado\", \"sem_ar_condicionado\", \"com_ar_condicionado\", \n",
        "                  \"com_ar_condicionado\", \"com_ar_condicionado\", \"com_ar_condicionado\", \n",
        "                  \"com_ar_condicionado\", \"com_ar_condicionado\", \"com_ar_condicionado\", \n",
        "                  \"sem_ar_condicionado\"]  ,\n",
        "   \"Quadrimestre\" : [\"segundo_quadrimestre\",\"segundo_quadrimestre\", \"segundo_quadrimestre\", \"segundo_quadrimestre\", \n",
        "                 \"segundo_quadrimestre\", \"terceiro_quadrimestre\", \"primeiro_quadrimestre\", \n",
        "                 \"primeiro_quadrimestre\", \"terceiro_quadrimestre\", \"segundo_quadrimestre\", \n",
        "                 \"terceiro_quadrimestre\", \"segundo_quadrimestre\", \"terceiro_quadrimestre\", \n",
        "                 \"segundo_quadrimestre\", \"segundo_quadrimestre\", \"primeiro_quadrimestre\", \n",
        "                 \"terceiro_quadrimestre\", \"primeiro_quadrimestre\", \"primeiro_quadrimestre\", \n",
        "                 \"segundo_quadrimestre\"]  ,\n",
        "   \"Idade_Locatario\" :   [23, 18, 28, 21, 18, 21, 18, 20, 25, 29, 18, 33, 20, 21, 18, 21, 18, 20, 25, 29] ,\n",
        "   \"Quilometragem\" : [957.442780544097, 829.533278217768, 923.300215829467, 871.519116905113, 930.704105677958, 554.696695914233, 501.941059782271, \n",
        "                  665.435074822519, 568.24079543466, 930.704105677958, 554.696695914233, \n",
        "                  829.533278217768, 665.435074822519, 871.519116905113, 930.704105677958, \n",
        "                  351.547138218644, 501.941059782271, 447.872006186523, 568.24079543466, \n",
        "                  930.704105677958]  ,\n",
        "    \"Dolar\" : [4.41147933990862, 5.63014407874318, \n",
        "         8.80557934010615, 4.260591319988649, 6.93416279643155, 1.61130694543154, \n",
        "         2.57813244655973, 4.66666728709914, 1.6846066723224, 7.33872353619711, \n",
        "         4.52300814589177, 2.96689816205009, 9.91448182957733, 8.55577847959413, \n",
        "         5.93424935955983, 5.55775429484673, 6.94475470863839, 4.74330294976712, \n",
        "         4.723306965757987, 4.7010894862212]               \n",
        "}\n",
        "\n"
      ]
    },
    {
      "cell_type": "code",
      "source": [
        "#carrega os dados emmmmmm um Datagrame\n",
        "df = pd.DataFrame(dados)"
      ],
      "metadata": {
        "id": "NKEhdtcH6HFl"
      },
      "execution_count": 11,
      "outputs": []
    },
    {
      "cell_type": "code",
      "source": [
        "#Por questão de simplicidade, pode-se se salvar os dados em CSV e apenas carregá-los depois\n",
        "df.to_csv(\"dados.csv\" )"
      ],
      "metadata": {
        "id": "GQqzMLZgfWfB"
      },
      "execution_count": 30,
      "outputs": []
    },
    {
      "cell_type": "code",
      "source": [
        "df  = pd.read_csv(\"dados.csv\" )"
      ],
      "metadata": {
        "id": "b-30BxOzqpDT"
      },
      "execution_count": 32,
      "outputs": []
    },
    {
      "cell_type": "code",
      "source": [
        "df.describe()"
      ],
      "metadata": {
        "colab": {
          "base_uri": "https://localhost:8080/",
          "height": 300
        },
        "id": "tQnGJGBc-zg6",
        "outputId": "1f0ccb8b-b860-4825-c838-2570d6da43d2"
      },
      "execution_count": 33,
      "outputs": [
        {
          "output_type": "execute_result",
          "data": {
            "text/plain": [
              "       Unnamed: 0       Preco  Idade_Locatario  Quilometragem      Dolar\n",
              "count    20.00000   20.000000        20.000000      20.000000  20.000000\n",
              "mean      9.50000  440.741058        22.200000     719.285530   5.324301\n",
              "std       5.91608   51.071729         4.502631     199.574967   2.267458\n",
              "min       0.00000  339.548470        18.000000     351.547138   1.611307\n",
              "25%       4.75000  415.795130        18.000000     554.696696   4.373757\n",
              "50%       9.50000  447.824609        21.000000     747.484177   4.733305\n",
              "75%      14.25000  463.494766        25.000000     925.151188   6.936811\n",
              "max      19.00000  551.315803        33.000000     957.442781   9.914482"
            ],
            "text/html": [
              "\n",
              "  <div id=\"df-6c81b537-5a6d-475c-aa42-a341983e6ea2\">\n",
              "    <div class=\"colab-df-container\">\n",
              "      <div>\n",
              "<style scoped>\n",
              "    .dataframe tbody tr th:only-of-type {\n",
              "        vertical-align: middle;\n",
              "    }\n",
              "\n",
              "    .dataframe tbody tr th {\n",
              "        vertical-align: top;\n",
              "    }\n",
              "\n",
              "    .dataframe thead th {\n",
              "        text-align: right;\n",
              "    }\n",
              "</style>\n",
              "<table border=\"1\" class=\"dataframe\">\n",
              "  <thead>\n",
              "    <tr style=\"text-align: right;\">\n",
              "      <th></th>\n",
              "      <th>Unnamed: 0</th>\n",
              "      <th>Preco</th>\n",
              "      <th>Idade_Locatario</th>\n",
              "      <th>Quilometragem</th>\n",
              "      <th>Dolar</th>\n",
              "    </tr>\n",
              "  </thead>\n",
              "  <tbody>\n",
              "    <tr>\n",
              "      <th>count</th>\n",
              "      <td>20.00000</td>\n",
              "      <td>20.000000</td>\n",
              "      <td>20.000000</td>\n",
              "      <td>20.000000</td>\n",
              "      <td>20.000000</td>\n",
              "    </tr>\n",
              "    <tr>\n",
              "      <th>mean</th>\n",
              "      <td>9.50000</td>\n",
              "      <td>440.741058</td>\n",
              "      <td>22.200000</td>\n",
              "      <td>719.285530</td>\n",
              "      <td>5.324301</td>\n",
              "    </tr>\n",
              "    <tr>\n",
              "      <th>std</th>\n",
              "      <td>5.91608</td>\n",
              "      <td>51.071729</td>\n",
              "      <td>4.502631</td>\n",
              "      <td>199.574967</td>\n",
              "      <td>2.267458</td>\n",
              "    </tr>\n",
              "    <tr>\n",
              "      <th>min</th>\n",
              "      <td>0.00000</td>\n",
              "      <td>339.548470</td>\n",
              "      <td>18.000000</td>\n",
              "      <td>351.547138</td>\n",
              "      <td>1.611307</td>\n",
              "    </tr>\n",
              "    <tr>\n",
              "      <th>25%</th>\n",
              "      <td>4.75000</td>\n",
              "      <td>415.795130</td>\n",
              "      <td>18.000000</td>\n",
              "      <td>554.696696</td>\n",
              "      <td>4.373757</td>\n",
              "    </tr>\n",
              "    <tr>\n",
              "      <th>50%</th>\n",
              "      <td>9.50000</td>\n",
              "      <td>447.824609</td>\n",
              "      <td>21.000000</td>\n",
              "      <td>747.484177</td>\n",
              "      <td>4.733305</td>\n",
              "    </tr>\n",
              "    <tr>\n",
              "      <th>75%</th>\n",
              "      <td>14.25000</td>\n",
              "      <td>463.494766</td>\n",
              "      <td>25.000000</td>\n",
              "      <td>925.151188</td>\n",
              "      <td>6.936811</td>\n",
              "    </tr>\n",
              "    <tr>\n",
              "      <th>max</th>\n",
              "      <td>19.00000</td>\n",
              "      <td>551.315803</td>\n",
              "      <td>33.000000</td>\n",
              "      <td>957.442781</td>\n",
              "      <td>9.914482</td>\n",
              "    </tr>\n",
              "  </tbody>\n",
              "</table>\n",
              "</div>\n",
              "      <button class=\"colab-df-convert\" onclick=\"convertToInteractive('df-6c81b537-5a6d-475c-aa42-a341983e6ea2')\"\n",
              "              title=\"Convert this dataframe to an interactive table.\"\n",
              "              style=\"display:none;\">\n",
              "        \n",
              "  <svg xmlns=\"http://www.w3.org/2000/svg\" height=\"24px\"viewBox=\"0 0 24 24\"\n",
              "       width=\"24px\">\n",
              "    <path d=\"M0 0h24v24H0V0z\" fill=\"none\"/>\n",
              "    <path d=\"M18.56 5.44l.94 2.06.94-2.06 2.06-.94-2.06-.94-.94-2.06-.94 2.06-2.06.94zm-11 1L8.5 8.5l.94-2.06 2.06-.94-2.06-.94L8.5 2.5l-.94 2.06-2.06.94zm10 10l.94 2.06.94-2.06 2.06-.94-2.06-.94-.94-2.06-.94 2.06-2.06.94z\"/><path d=\"M17.41 7.96l-1.37-1.37c-.4-.4-.92-.59-1.43-.59-.52 0-1.04.2-1.43.59L10.3 9.45l-7.72 7.72c-.78.78-.78 2.05 0 2.83L4 21.41c.39.39.9.59 1.41.59.51 0 1.02-.2 1.41-.59l7.78-7.78 2.81-2.81c.8-.78.8-2.07 0-2.86zM5.41 20L4 18.59l7.72-7.72 1.47 1.35L5.41 20z\"/>\n",
              "  </svg>\n",
              "      </button>\n",
              "      \n",
              "  <style>\n",
              "    .colab-df-container {\n",
              "      display:flex;\n",
              "      flex-wrap:wrap;\n",
              "      gap: 12px;\n",
              "    }\n",
              "\n",
              "    .colab-df-convert {\n",
              "      background-color: #E8F0FE;\n",
              "      border: none;\n",
              "      border-radius: 50%;\n",
              "      cursor: pointer;\n",
              "      display: none;\n",
              "      fill: #1967D2;\n",
              "      height: 32px;\n",
              "      padding: 0 0 0 0;\n",
              "      width: 32px;\n",
              "    }\n",
              "\n",
              "    .colab-df-convert:hover {\n",
              "      background-color: #E2EBFA;\n",
              "      box-shadow: 0px 1px 2px rgba(60, 64, 67, 0.3), 0px 1px 3px 1px rgba(60, 64, 67, 0.15);\n",
              "      fill: #174EA6;\n",
              "    }\n",
              "\n",
              "    [theme=dark] .colab-df-convert {\n",
              "      background-color: #3B4455;\n",
              "      fill: #D2E3FC;\n",
              "    }\n",
              "\n",
              "    [theme=dark] .colab-df-convert:hover {\n",
              "      background-color: #434B5C;\n",
              "      box-shadow: 0px 1px 3px 1px rgba(0, 0, 0, 0.15);\n",
              "      filter: drop-shadow(0px 1px 2px rgba(0, 0, 0, 0.3));\n",
              "      fill: #FFFFFF;\n",
              "    }\n",
              "  </style>\n",
              "\n",
              "      <script>\n",
              "        const buttonEl =\n",
              "          document.querySelector('#df-6c81b537-5a6d-475c-aa42-a341983e6ea2 button.colab-df-convert');\n",
              "        buttonEl.style.display =\n",
              "          google.colab.kernel.accessAllowed ? 'block' : 'none';\n",
              "\n",
              "        async function convertToInteractive(key) {\n",
              "          const element = document.querySelector('#df-6c81b537-5a6d-475c-aa42-a341983e6ea2');\n",
              "          const dataTable =\n",
              "            await google.colab.kernel.invokeFunction('convertToInteractive',\n",
              "                                                     [key], {});\n",
              "          if (!dataTable) return;\n",
              "\n",
              "          const docLinkHtml = 'Like what you see? Visit the ' +\n",
              "            '<a target=\"_blank\" href=https://colab.research.google.com/notebooks/data_table.ipynb>data table notebook</a>'\n",
              "            + ' to learn more about interactive tables.';\n",
              "          element.innerHTML = '';\n",
              "          dataTable['output_type'] = 'display_data';\n",
              "          await google.colab.output.renderOutput(dataTable, element);\n",
              "          const docLink = document.createElement('div');\n",
              "          docLink.innerHTML = docLinkHtml;\n",
              "          element.appendChild(docLink);\n",
              "        }\n",
              "      </script>\n",
              "    </div>\n",
              "  </div>\n",
              "  "
            ]
          },
          "metadata": {},
          "execution_count": 33
        }
      ]
    },
    {
      "cell_type": "code",
      "source": [
        "df"
      ],
      "metadata": {
        "colab": {
          "base_uri": "https://localhost:8080/",
          "height": 677
        },
        "id": "4ftMN1gQ6O-6",
        "outputId": "ec29c588-634b-4b63-b649-7fdc5d8360e2"
      },
      "execution_count": 13,
      "outputs": [
        {
          "output_type": "execute_result",
          "data": {
            "text/plain": [
              "         Preco          Porta      Ar_Condicionado           Quadrimestre  \\\n",
              "0   368.384515    duas_portas  sem_ar_condicionado   segundo_quadrimestre   \n",
              "1   446.850187  quatro_portas  com_ar_condicionado   segundo_quadrimestre   \n",
              "2   414.727657    duas_portas  com_ar_condicionado   segundo_quadrimestre   \n",
              "3   434.291091  quatro_portas  com_ar_condicionado   segundo_quadrimestre   \n",
              "4   436.652687  quatro_portas  com_ar_condicionado   segundo_quadrimestre   \n",
              "5   457.657973    duas_portas  com_ar_condicionado  terceiro_quadrimestre   \n",
              "6   490.694347  quatro_portas  com_ar_condicionado  primeiro_quadrimestre   \n",
              "7   474.881781    duas_portas  com_ar_condicionado  primeiro_quadrimestre   \n",
              "8   458.462396  quatro_portas  com_ar_condicionado  terceiro_quadrimestre   \n",
              "9   412.719413    duas_portas  com_ar_condicionado   segundo_quadrimestre   \n",
              "10  448.799032  quatro_portas  com_ar_condicionado  terceiro_quadrimestre   \n",
              "11  352.040747  quatro_portas  sem_ar_condicionado   segundo_quadrimestre   \n",
              "12  449.461858    duas_portas  com_ar_condicionado  terceiro_quadrimestre   \n",
              "13  416.150954  quatro_portas  com_ar_condicionado   segundo_quadrimestre   \n",
              "14  416.499427    duas_portas  com_ar_condicionado   segundo_quadrimestre   \n",
              "15  551.315803  quatro_portas  com_ar_condicionado  primeiro_quadrimestre   \n",
              "16  462.126789  quatro_portas  com_ar_condicionado  terceiro_quadrimestre   \n",
              "17  515.957335    duas_portas  com_ar_condicionado  primeiro_quadrimestre   \n",
              "18  467.598697  quatro_portas  com_ar_condicionado  primeiro_quadrimestre   \n",
              "19  339.548470  quatro_portas  sem_ar_condicionado   segundo_quadrimestre   \n",
              "\n",
              "    Idade_Locatario  Quilometragem     Dolar  \n",
              "0                23     957.442781  4.411479  \n",
              "1                18     829.533278  5.630144  \n",
              "2                28     923.300216  8.805579  \n",
              "3                21     871.519117  4.260591  \n",
              "4                18     930.704106  6.934163  \n",
              "5                21     554.696696  1.611307  \n",
              "6                18     501.941060  2.578132  \n",
              "7                20     665.435075  4.666667  \n",
              "8                25     568.240795  1.684607  \n",
              "9                29     930.704106  7.338724  \n",
              "10               18     554.696696  4.523008  \n",
              "11               33     829.533278  2.966898  \n",
              "12               20     665.435075  9.914482  \n",
              "13               21     871.519117  8.555778  \n",
              "14               18     930.704106  5.934249  \n",
              "15               21     351.547138  5.557754  \n",
              "16               18     501.941060  6.944755  \n",
              "17               20     447.872006  4.743303  \n",
              "18               25     568.240795  4.723307  \n",
              "19               29     930.704106  4.701089  "
            ],
            "text/html": [
              "\n",
              "  <div id=\"df-9b160f8e-aaff-417b-9fac-1515d95d9817\">\n",
              "    <div class=\"colab-df-container\">\n",
              "      <div>\n",
              "<style scoped>\n",
              "    .dataframe tbody tr th:only-of-type {\n",
              "        vertical-align: middle;\n",
              "    }\n",
              "\n",
              "    .dataframe tbody tr th {\n",
              "        vertical-align: top;\n",
              "    }\n",
              "\n",
              "    .dataframe thead th {\n",
              "        text-align: right;\n",
              "    }\n",
              "</style>\n",
              "<table border=\"1\" class=\"dataframe\">\n",
              "  <thead>\n",
              "    <tr style=\"text-align: right;\">\n",
              "      <th></th>\n",
              "      <th>Preco</th>\n",
              "      <th>Porta</th>\n",
              "      <th>Ar_Condicionado</th>\n",
              "      <th>Quadrimestre</th>\n",
              "      <th>Idade_Locatario</th>\n",
              "      <th>Quilometragem</th>\n",
              "      <th>Dolar</th>\n",
              "    </tr>\n",
              "  </thead>\n",
              "  <tbody>\n",
              "    <tr>\n",
              "      <th>0</th>\n",
              "      <td>368.384515</td>\n",
              "      <td>duas_portas</td>\n",
              "      <td>sem_ar_condicionado</td>\n",
              "      <td>segundo_quadrimestre</td>\n",
              "      <td>23</td>\n",
              "      <td>957.442781</td>\n",
              "      <td>4.411479</td>\n",
              "    </tr>\n",
              "    <tr>\n",
              "      <th>1</th>\n",
              "      <td>446.850187</td>\n",
              "      <td>quatro_portas</td>\n",
              "      <td>com_ar_condicionado</td>\n",
              "      <td>segundo_quadrimestre</td>\n",
              "      <td>18</td>\n",
              "      <td>829.533278</td>\n",
              "      <td>5.630144</td>\n",
              "    </tr>\n",
              "    <tr>\n",
              "      <th>2</th>\n",
              "      <td>414.727657</td>\n",
              "      <td>duas_portas</td>\n",
              "      <td>com_ar_condicionado</td>\n",
              "      <td>segundo_quadrimestre</td>\n",
              "      <td>28</td>\n",
              "      <td>923.300216</td>\n",
              "      <td>8.805579</td>\n",
              "    </tr>\n",
              "    <tr>\n",
              "      <th>3</th>\n",
              "      <td>434.291091</td>\n",
              "      <td>quatro_portas</td>\n",
              "      <td>com_ar_condicionado</td>\n",
              "      <td>segundo_quadrimestre</td>\n",
              "      <td>21</td>\n",
              "      <td>871.519117</td>\n",
              "      <td>4.260591</td>\n",
              "    </tr>\n",
              "    <tr>\n",
              "      <th>4</th>\n",
              "      <td>436.652687</td>\n",
              "      <td>quatro_portas</td>\n",
              "      <td>com_ar_condicionado</td>\n",
              "      <td>segundo_quadrimestre</td>\n",
              "      <td>18</td>\n",
              "      <td>930.704106</td>\n",
              "      <td>6.934163</td>\n",
              "    </tr>\n",
              "    <tr>\n",
              "      <th>5</th>\n",
              "      <td>457.657973</td>\n",
              "      <td>duas_portas</td>\n",
              "      <td>com_ar_condicionado</td>\n",
              "      <td>terceiro_quadrimestre</td>\n",
              "      <td>21</td>\n",
              "      <td>554.696696</td>\n",
              "      <td>1.611307</td>\n",
              "    </tr>\n",
              "    <tr>\n",
              "      <th>6</th>\n",
              "      <td>490.694347</td>\n",
              "      <td>quatro_portas</td>\n",
              "      <td>com_ar_condicionado</td>\n",
              "      <td>primeiro_quadrimestre</td>\n",
              "      <td>18</td>\n",
              "      <td>501.941060</td>\n",
              "      <td>2.578132</td>\n",
              "    </tr>\n",
              "    <tr>\n",
              "      <th>7</th>\n",
              "      <td>474.881781</td>\n",
              "      <td>duas_portas</td>\n",
              "      <td>com_ar_condicionado</td>\n",
              "      <td>primeiro_quadrimestre</td>\n",
              "      <td>20</td>\n",
              "      <td>665.435075</td>\n",
              "      <td>4.666667</td>\n",
              "    </tr>\n",
              "    <tr>\n",
              "      <th>8</th>\n",
              "      <td>458.462396</td>\n",
              "      <td>quatro_portas</td>\n",
              "      <td>com_ar_condicionado</td>\n",
              "      <td>terceiro_quadrimestre</td>\n",
              "      <td>25</td>\n",
              "      <td>568.240795</td>\n",
              "      <td>1.684607</td>\n",
              "    </tr>\n",
              "    <tr>\n",
              "      <th>9</th>\n",
              "      <td>412.719413</td>\n",
              "      <td>duas_portas</td>\n",
              "      <td>com_ar_condicionado</td>\n",
              "      <td>segundo_quadrimestre</td>\n",
              "      <td>29</td>\n",
              "      <td>930.704106</td>\n",
              "      <td>7.338724</td>\n",
              "    </tr>\n",
              "    <tr>\n",
              "      <th>10</th>\n",
              "      <td>448.799032</td>\n",
              "      <td>quatro_portas</td>\n",
              "      <td>com_ar_condicionado</td>\n",
              "      <td>terceiro_quadrimestre</td>\n",
              "      <td>18</td>\n",
              "      <td>554.696696</td>\n",
              "      <td>4.523008</td>\n",
              "    </tr>\n",
              "    <tr>\n",
              "      <th>11</th>\n",
              "      <td>352.040747</td>\n",
              "      <td>quatro_portas</td>\n",
              "      <td>sem_ar_condicionado</td>\n",
              "      <td>segundo_quadrimestre</td>\n",
              "      <td>33</td>\n",
              "      <td>829.533278</td>\n",
              "      <td>2.966898</td>\n",
              "    </tr>\n",
              "    <tr>\n",
              "      <th>12</th>\n",
              "      <td>449.461858</td>\n",
              "      <td>duas_portas</td>\n",
              "      <td>com_ar_condicionado</td>\n",
              "      <td>terceiro_quadrimestre</td>\n",
              "      <td>20</td>\n",
              "      <td>665.435075</td>\n",
              "      <td>9.914482</td>\n",
              "    </tr>\n",
              "    <tr>\n",
              "      <th>13</th>\n",
              "      <td>416.150954</td>\n",
              "      <td>quatro_portas</td>\n",
              "      <td>com_ar_condicionado</td>\n",
              "      <td>segundo_quadrimestre</td>\n",
              "      <td>21</td>\n",
              "      <td>871.519117</td>\n",
              "      <td>8.555778</td>\n",
              "    </tr>\n",
              "    <tr>\n",
              "      <th>14</th>\n",
              "      <td>416.499427</td>\n",
              "      <td>duas_portas</td>\n",
              "      <td>com_ar_condicionado</td>\n",
              "      <td>segundo_quadrimestre</td>\n",
              "      <td>18</td>\n",
              "      <td>930.704106</td>\n",
              "      <td>5.934249</td>\n",
              "    </tr>\n",
              "    <tr>\n",
              "      <th>15</th>\n",
              "      <td>551.315803</td>\n",
              "      <td>quatro_portas</td>\n",
              "      <td>com_ar_condicionado</td>\n",
              "      <td>primeiro_quadrimestre</td>\n",
              "      <td>21</td>\n",
              "      <td>351.547138</td>\n",
              "      <td>5.557754</td>\n",
              "    </tr>\n",
              "    <tr>\n",
              "      <th>16</th>\n",
              "      <td>462.126789</td>\n",
              "      <td>quatro_portas</td>\n",
              "      <td>com_ar_condicionado</td>\n",
              "      <td>terceiro_quadrimestre</td>\n",
              "      <td>18</td>\n",
              "      <td>501.941060</td>\n",
              "      <td>6.944755</td>\n",
              "    </tr>\n",
              "    <tr>\n",
              "      <th>17</th>\n",
              "      <td>515.957335</td>\n",
              "      <td>duas_portas</td>\n",
              "      <td>com_ar_condicionado</td>\n",
              "      <td>primeiro_quadrimestre</td>\n",
              "      <td>20</td>\n",
              "      <td>447.872006</td>\n",
              "      <td>4.743303</td>\n",
              "    </tr>\n",
              "    <tr>\n",
              "      <th>18</th>\n",
              "      <td>467.598697</td>\n",
              "      <td>quatro_portas</td>\n",
              "      <td>com_ar_condicionado</td>\n",
              "      <td>primeiro_quadrimestre</td>\n",
              "      <td>25</td>\n",
              "      <td>568.240795</td>\n",
              "      <td>4.723307</td>\n",
              "    </tr>\n",
              "    <tr>\n",
              "      <th>19</th>\n",
              "      <td>339.548470</td>\n",
              "      <td>quatro_portas</td>\n",
              "      <td>sem_ar_condicionado</td>\n",
              "      <td>segundo_quadrimestre</td>\n",
              "      <td>29</td>\n",
              "      <td>930.704106</td>\n",
              "      <td>4.701089</td>\n",
              "    </tr>\n",
              "  </tbody>\n",
              "</table>\n",
              "</div>\n",
              "      <button class=\"colab-df-convert\" onclick=\"convertToInteractive('df-9b160f8e-aaff-417b-9fac-1515d95d9817')\"\n",
              "              title=\"Convert this dataframe to an interactive table.\"\n",
              "              style=\"display:none;\">\n",
              "        \n",
              "  <svg xmlns=\"http://www.w3.org/2000/svg\" height=\"24px\"viewBox=\"0 0 24 24\"\n",
              "       width=\"24px\">\n",
              "    <path d=\"M0 0h24v24H0V0z\" fill=\"none\"/>\n",
              "    <path d=\"M18.56 5.44l.94 2.06.94-2.06 2.06-.94-2.06-.94-.94-2.06-.94 2.06-2.06.94zm-11 1L8.5 8.5l.94-2.06 2.06-.94-2.06-.94L8.5 2.5l-.94 2.06-2.06.94zm10 10l.94 2.06.94-2.06 2.06-.94-2.06-.94-.94-2.06-.94 2.06-2.06.94z\"/><path d=\"M17.41 7.96l-1.37-1.37c-.4-.4-.92-.59-1.43-.59-.52 0-1.04.2-1.43.59L10.3 9.45l-7.72 7.72c-.78.78-.78 2.05 0 2.83L4 21.41c.39.39.9.59 1.41.59.51 0 1.02-.2 1.41-.59l7.78-7.78 2.81-2.81c.8-.78.8-2.07 0-2.86zM5.41 20L4 18.59l7.72-7.72 1.47 1.35L5.41 20z\"/>\n",
              "  </svg>\n",
              "      </button>\n",
              "      \n",
              "  <style>\n",
              "    .colab-df-container {\n",
              "      display:flex;\n",
              "      flex-wrap:wrap;\n",
              "      gap: 12px;\n",
              "    }\n",
              "\n",
              "    .colab-df-convert {\n",
              "      background-color: #E8F0FE;\n",
              "      border: none;\n",
              "      border-radius: 50%;\n",
              "      cursor: pointer;\n",
              "      display: none;\n",
              "      fill: #1967D2;\n",
              "      height: 32px;\n",
              "      padding: 0 0 0 0;\n",
              "      width: 32px;\n",
              "    }\n",
              "\n",
              "    .colab-df-convert:hover {\n",
              "      background-color: #E2EBFA;\n",
              "      box-shadow: 0px 1px 2px rgba(60, 64, 67, 0.3), 0px 1px 3px 1px rgba(60, 64, 67, 0.15);\n",
              "      fill: #174EA6;\n",
              "    }\n",
              "\n",
              "    [theme=dark] .colab-df-convert {\n",
              "      background-color: #3B4455;\n",
              "      fill: #D2E3FC;\n",
              "    }\n",
              "\n",
              "    [theme=dark] .colab-df-convert:hover {\n",
              "      background-color: #434B5C;\n",
              "      box-shadow: 0px 1px 3px 1px rgba(0, 0, 0, 0.15);\n",
              "      filter: drop-shadow(0px 1px 2px rgba(0, 0, 0, 0.3));\n",
              "      fill: #FFFFFF;\n",
              "    }\n",
              "  </style>\n",
              "\n",
              "      <script>\n",
              "        const buttonEl =\n",
              "          document.querySelector('#df-9b160f8e-aaff-417b-9fac-1515d95d9817 button.colab-df-convert');\n",
              "        buttonEl.style.display =\n",
              "          google.colab.kernel.accessAllowed ? 'block' : 'none';\n",
              "\n",
              "        async function convertToInteractive(key) {\n",
              "          const element = document.querySelector('#df-9b160f8e-aaff-417b-9fac-1515d95d9817');\n",
              "          const dataTable =\n",
              "            await google.colab.kernel.invokeFunction('convertToInteractive',\n",
              "                                                     [key], {});\n",
              "          if (!dataTable) return;\n",
              "\n",
              "          const docLinkHtml = 'Like what you see? Visit the ' +\n",
              "            '<a target=\"_blank\" href=https://colab.research.google.com/notebooks/data_table.ipynb>data table notebook</a>'\n",
              "            + ' to learn more about interactive tables.';\n",
              "          element.innerHTML = '';\n",
              "          dataTable['output_type'] = 'display_data';\n",
              "          await google.colab.output.renderOutput(dataTable, element);\n",
              "          const docLink = document.createElement('div');\n",
              "          docLink.innerHTML = docLinkHtml;\n",
              "          element.appendChild(docLink);\n",
              "        }\n",
              "      </script>\n",
              "    </div>\n",
              "  </div>\n",
              "  "
            ]
          },
          "metadata": {},
          "execution_count": 13
        }
      ]
    },
    {
      "cell_type": "code",
      "source": [
        "plt.hist(dados['Preco'], bins=5, edgecolor=\"yellow\", color=\"blue\", \n",
        "         label = ['Preço'])\n",
        "plt.title('IGTI - Histograma de Preços de Carros')\n",
        "plt.legend()\n",
        "plt.xlabel('Preços')\n",
        "plt.ylabel('Quantidades')\n",
        "plt.show() "
      ],
      "metadata": {
        "colab": {
          "base_uri": "https://localhost:8080/",
          "height": 295
        },
        "id": "4tlmgp6q4hOo",
        "outputId": "9aa93a15-a22b-49fb-a7bf-2d01416ddc0f"
      },
      "execution_count": 14,
      "outputs": [
        {
          "output_type": "display_data",
          "data": {
            "text/plain": [
              "<Figure size 432x288 with 1 Axes>"
            ],
            "image/png": "[encoded data removed]"
          },
          "metadata": {
            "needs_background": "light"
          }
        }
      ]
    },
    {
      "cell_type": "code",
      "source": [
        "plt.title(\"Boxplot de Preços de Carros\")\n",
        "plt.boxplot(dados['Preco'])\n",
        "plt.show()"
      ],
      "metadata": {
        "colab": {
          "base_uri": "https://localhost:8080/",
          "height": 281
        },
        "id": "-EeB1ICI-O-Y",
        "outputId": "43387aed-9746-4c94-fc39-cc1bd176aac9"
      },
      "execution_count": 15,
      "outputs": [
        {
          "output_type": "display_data",
          "data": {
            "text/plain": [
              "<Figure size 432x288 with 1 Axes>"
            ],
            "image/png": "[encoded data removed]"
          },
          "metadata": {
            "needs_background": "light"
          }
        }
      ]
    },
    {
      "cell_type": "code",
      "source": [
        "shapiro(dados['Preco'])"
      ],
      "metadata": {
        "colab": {
          "base_uri": "https://localhost:8080/"
        },
        "id": "WOl8o_zI_bpK",
        "outputId": "2b5247b1-e6a5-41f4-e211-07b5048f1d0a"
      },
      "execution_count": 16,
      "outputs": [
        {
          "output_type": "execute_result",
          "data": {
            "text/plain": [
              "(0.9655886888504028, 0.6603543758392334)"
            ]
          },
          "metadata": {},
          "execution_count": 16
        }
      ]
    },
    {
      "cell_type": "code",
      "source": [
        "#plotando o gráfico Q-Q plot para visualizar a distribuição\n",
        "sm.qqplot(df['Preco'], fit=True,line ='45')"
      ],
      "metadata": {
        "colab": {
          "base_uri": "https://localhost:8080/",
          "height": 541
        },
        "id": "SyOV-jGEAQUd",
        "outputId": "08829b35-8d73-41f6-ba53-ed17c3c93073"
      },
      "execution_count": 28,
      "outputs": [
        {
          "output_type": "execute_result",
          "data": {
            "text/plain": [
              "<Figure size 432x288 with 1 Axes>"
            ],
            "image/png": "[encoded data removed]"
          },
          "metadata": {},
          "execution_count": 28
        },
        {
          "output_type": "display_data",
          "data": {
            "text/plain": [
              "<Figure size 432x288 with 1 Axes>"
            ],
            "image/png": "[encoded data removed]"
          },
          "metadata": {
            "needs_background": "light"
          }
        }
      ]
    },
    {
      "cell_type": "code",
      "source": [
        "# create grouped boxplot\n",
        "sns.boxplot(x = df['Preco'],\n",
        "\t\t\ty = df['Quadrimestre'],\n",
        "\t\t\thue = df['Quadrimestre'])\n"
      ],
      "metadata": {
        "colab": {
          "base_uri": "https://localhost:8080/",
          "height": 296
        },
        "id": "3bSDFJ-1JbDc",
        "outputId": "060f087d-343e-401d-fb2e-f23080da65de"
      },
      "execution_count": 19,
      "outputs": [
        {
          "output_type": "execute_result",
          "data": {
            "text/plain": [
              "<matplotlib.axes._subplots.AxesSubplot at 0x7f5d67225ad0>"
            ]
          },
          "metadata": {},
          "execution_count": 19
        },
        {
          "output_type": "display_data",
          "data": {
            "text/plain": [
              "<Figure size 432x288 with 1 Axes>"
            ],
            "image/png": "[encoded data removed]"
          },
          "metadata": {
            "needs_background": "light"
          }
        }
      ]
    },
    {
      "cell_type": "code",
      "source": [
        "    (ggplot(df)  # qual dataset usar\n",
        "    + aes(x=\"Preco\", fill = \"Porta\")  # que variáveis usar\n",
        "    #+ geom_line()  # Objeto Geométrico a ser desenhado\n",
        "    + geom_density(alpha = 0.4) \n",
        "    + xlim(200,600))"
      ],
      "metadata": {
        "colab": {
          "base_uri": "https://localhost:8080/",
          "height": 465
        },
        "id": "8wBhV4BUL8Gk",
        "outputId": "9f6a7a53-a19f-4473-8e3e-a5a8afa9c4d9"
      },
      "execution_count": 20,
      "outputs": [
        {
          "output_type": "display_data",
          "data": {
            "text/plain": [
              "<Figure size 640x480 with 1 Axes>"
            ],
            "image/png": "[encoded data removed]"
          },
          "metadata": {}
        },
        {
          "output_type": "execute_result",
          "data": {
            "text/plain": [
              "<ggplot: (8752446142485)>"
            ]
          },
          "metadata": {},
          "execution_count": 20
        }
      ]
    },
    {
      "cell_type": "code",
      "source": [
        "# Density Plot e  Histogram de Precos\n",
        "sns.distplot(df['Preco'], hist=True, kde=True, \n",
        "             bins=int(180/5), color = 'darkblue', \n",
        "             hist_kws={'edgecolor':'black'},\n",
        "             kde_kws={'linewidth': 4})"
      ],
      "metadata": {
        "colab": {
          "base_uri": "https://localhost:8080/",
          "height": 296
        },
        "id": "Yhoo_8vmT2rs",
        "outputId": "c47a7f9f-768f-4b19-ea40-861cda881130"
      },
      "execution_count": 21,
      "outputs": [
        {
          "output_type": "execute_result",
          "data": {
            "text/plain": [
              "<matplotlib.axes._subplots.AxesSubplot at 0x7f5d670fb510>"
            ]
          },
          "metadata": {},
          "execution_count": 21
        },
        {
          "output_type": "display_data",
          "data": {
            "text/plain": [
              "<Figure size 432x288 with 1 Axes>"
            ],
            "image/png": "[encoded data removed]"
          },
          "metadata": {
            "needs_background": "light"
          }
        }
      ]
    },
    {
      "cell_type": "code",
      "source": [
        "#Explorando a relação entre as variáveis Preço e Quilometragem\n",
        "sns.regplot(x=\"Preco\", y=\"Quilometragem\", data=df);"
      ],
      "metadata": {
        "colab": {
          "base_uri": "https://localhost:8080/",
          "height": 279
        },
        "id": "qcrIHQn0U5x_",
        "outputId": "455dedc7-4f8e-4b08-8743-030a4df4f5ab"
      },
      "execution_count": 22,
      "outputs": [
        {
          "output_type": "display_data",
          "data": {
            "text/plain": [
              "<Figure size 432x288 with 1 Axes>"
            ],
            "image/png": "[encoded data removed]"
          },
          "metadata": {
            "needs_background": "light"
          }
        }
      ]
    },
    {
      "cell_type": "code",
      "source": [
        "corr, _ = pearsonr(df['Preco'], df['Quilometragem'])\n",
        "print('Pearsons correlation: %.3f' % corr)"
      ],
      "metadata": {
        "colab": {
          "base_uri": "https://localhost:8080/"
        },
        "id": "ZdA8lAJFaKah",
        "outputId": "659c4182-7605-4227-a4ec-210e0c5b182a"
      },
      "execution_count": 23,
      "outputs": [
        {
          "output_type": "stream",
          "name": "stdout",
          "text": [
            "Pearsons correlation: -0.823\n"
          ]
        }
      ]
    },
    {
      "cell_type": "code",
      "source": [
        "#Analise descritiva da Variável quilometragem\n",
        "df['Preco'].describe()"
      ],
      "metadata": {
        "colab": {
          "base_uri": "https://localhost:8080/"
        },
        "id": "2n4x_ZOobr8A",
        "outputId": "2c552fd7-fad4-4caa-9b3d-7553490a2fba"
      },
      "execution_count": 24,
      "outputs": [
        {
          "output_type": "execute_result",
          "data": {
            "text/plain": [
              "count     20.000000\n",
              "mean     440.741058\n",
              "std       51.071729\n",
              "min      339.548470\n",
              "25%      415.795130\n",
              "50%      447.824609\n",
              "75%      463.494766\n",
              "max      551.315803\n",
              "Name: Preco, dtype: float64"
            ]
          },
          "metadata": {},
          "execution_count": 24
        }
      ]
    },
    {
      "cell_type": "code",
      "source": [
        "#Coeficiente de Variação (Desvio Padrão / Media)\n",
        "statistics.stdev(df['Quilometragem']) / df['Quilometragem'].mean()"
      ],
      "metadata": {
        "colab": {
          "base_uri": "https://localhost:8080/"
        },
        "id": "ziC1LvrKb9j1",
        "outputId": "fdc120dd-020f-471b-eace-ffa5868c0cdc"
      },
      "execution_count": 25,
      "outputs": [
        {
          "output_type": "execute_result",
          "data": {
            "text/plain": [
              "0.2774627864026658"
            ]
          },
          "metadata": {},
          "execution_count": 25
        }
      ]
    }
  ]
}