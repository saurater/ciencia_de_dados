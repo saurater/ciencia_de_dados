{
  "nbformat": 4,
  "nbformat_minor": 0,
  "metadata": {
    "colab": {
      "name": "Estatística - Exercício Prático 1.ipynb",
      "provenance": [],
      "collapsed_sections": [],
      "authorship_tag": "ABX9TyNfWSN+CWsTXklyCkALI47D",
      "include_colab_link": true
    },
    "kernelspec": {
      "name": "python3",
      "display_name": "Python 3"
    },
    "language_info": {
      "name": "python"
    }
  },
  "cells": [
    {
      "cell_type": "markdown",
      "metadata": {
        "id": "view-in-github",
        "colab_type": "text"
      },
      "source": [
        "<a href=\"https://colab.research.google.com/github/saurater/ciencia_de_dados/blob/main/Estat%C3%ADstica_Exerc%C3%ADcio_Pr%C3%A1tico_1.ipynb\" target=\"_parent\"><img src=\"https://colab.research.google.com/assets/colab-badge.svg\" alt=\"Open In Colab\"/></a>"
      ]
    },
    {
      "cell_type": "markdown",
      "source": [
        "# Trabalho Pratico  - Estatística  I\n",
        "Sam Faraday\n",
        "May 30th, 20222\n"
      ],
      "metadata": {
        "id": "i6PRmxbUg53k"
      }
    },
    {
      "cell_type": "code",
      "source": [
        "# activate R magic\n",
        "%load_ext rpy2.ipython"
      ],
      "metadata": {
        "id": "NYgJbFdBhcXR"
      },
      "execution_count": 1,
      "outputs": []
    },
    {
      "cell_type": "code",
      "source": [
        "%%R\n",
        "install.packages(\"dplyr\") ## install\n",
        "library(dplyr)"
      ],
      "metadata": {
        "colab": {
          "base_uri": "https://localhost:8080/"
        },
        "id": "cNP3nkOK57zI",
        "outputId": "3098cd05-a9df-404e-de2a-2e341f40a99b"
      },
      "execution_count": 2,
      "outputs": [
        {
          "output_type": "stream",
          "name": "stderr",
          "text": [
            "R[write to console]: Installing package into ‘/usr/local/lib/R/site-library’\n",
            "(as ‘lib’ is unspecified)\n",
            "\n",
            "R[write to console]: trying URL 'https://cran.rstudio.com/src/contrib/dplyr_1.0.9.tar.gz'\n",
            "\n",
            "R[write to console]: Content type 'application/x-gzip'\n",
            "R[write to console]:  length 957637 bytes (935 KB)\n",
            "\n",
            "R[write to console]: =\n",
            "R[write to console]: =\n",
            "R[write to console]: =\n",
            "R[write to console]: =\n",
            "R[write to console]: =\n",
            "R[write to console]: =\n",
            "R[write to console]: =\n",
            "R[write to console]: =\n",
            "R[write to console]: =\n",
            "R[write to console]: =\n",
            "R[write to console]: =\n",
            "R[write to console]: =\n",
            "R[write to console]: =\n",
            "R[write to console]: =\n",
            "R[write to console]: =\n",
            "R[write to console]: =\n",
            "R[write to console]: =\n",
            "R[write to console]: =\n",
            "R[write to console]: =\n",
            "R[write to console]: =\n",
            "R[write to console]: =\n",
            "R[write to console]: =\n",
            "R[write to console]: =\n",
            "R[write to console]: =\n",
            "R[write to console]: =\n",
            "R[write to console]: =\n",
            "R[write to console]: =\n",
            "R[write to console]: =\n",
            "R[write to console]: =\n",
            "R[write to console]: =\n",
            "R[write to console]: =\n",
            "R[write to console]: =\n",
            "R[write to console]: =\n",
            "R[write to console]: =\n",
            "R[write to console]: =\n",
            "R[write to console]: =\n",
            "R[write to console]: =\n",
            "R[write to console]: =\n",
            "R[write to console]: =\n",
            "R[write to console]: =\n",
            "R[write to console]: =\n",
            "R[write to console]: =\n",
            "R[write to console]: =\n",
            "R[write to console]: =\n",
            "R[write to console]: =\n",
            "R[write to console]: =\n",
            "R[write to console]: =\n",
            "R[write to console]: =\n",
            "R[write to console]: =\n",
            "R[write to console]: =\n",
            "R[write to console]: \n",
            "\n",
            "R[write to console]: downloaded 935 KB\n",
            "\n",
            "\n",
            "R[write to console]: \n",
            "\n",
            "R[write to console]: \n",
            "R[write to console]: The downloaded source packages are in\n",
            "\t‘/tmp/RtmpMHL2ey/downloaded_packages’\n",
            "R[write to console]: \n",
            "R[write to console]: \n",
            "\n",
            "R[write to console]: \n",
            "Attaching package: ‘dplyr’\n",
            "\n",
            "\n",
            "R[write to console]: The following objects are masked from ‘package:stats’:\n",
            "\n",
            "    filter, lag\n",
            "\n",
            "\n",
            "R[write to console]: The following objects are masked from ‘package:base’:\n",
            "\n",
            "    intersect, setdiff, setequal, union\n",
            "\n",
            "\n"
          ]
        }
      ]
    },
    {
      "cell_type": "code",
      "source": [
        "%%R\n",
        "install.packages(\"plyr\") ## install"
      ],
      "metadata": {
        "colab": {
          "base_uri": "https://localhost:8080/"
        },
        "id": "P9N4JybYPA0a",
        "outputId": "dc24d8f1-d048-49e3-f693-48531e43001e"
      },
      "execution_count": 3,
      "outputs": [
        {
          "output_type": "stream",
          "name": "stderr",
          "text": [
            "R[write to console]: Installing package into ‘/usr/local/lib/R/site-library’\n",
            "(as ‘lib’ is unspecified)\n",
            "\n",
            "R[write to console]: trying URL 'https://cran.rstudio.com/src/contrib/plyr_1.8.7.tar.gz'\n",
            "\n",
            "R[write to console]: Content type 'application/x-gzip'\n",
            "R[write to console]:  length 401481 bytes (392 KB)\n",
            "\n",
            "R[write to console]: =\n",
            "R[write to console]: =\n",
            "R[write to console]: =\n",
            "R[write to console]: =\n",
            "R[write to console]: =\n",
            "R[write to console]: =\n",
            "R[write to console]: =\n",
            "R[write to console]: =\n",
            "R[write to console]: =\n",
            "R[write to console]: =\n",
            "R[write to console]: =\n",
            "R[write to console]: =\n",
            "R[write to console]: =\n",
            "R[write to console]: =\n",
            "R[write to console]: =\n",
            "R[write to console]: =\n",
            "R[write to console]: =\n",
            "R[write to console]: =\n",
            "R[write to console]: =\n",
            "R[write to console]: =\n",
            "R[write to console]: =\n",
            "R[write to console]: =\n",
            "R[write to console]: =\n",
            "R[write to console]: =\n",
            "R[write to console]: =\n",
            "R[write to console]: =\n",
            "R[write to console]: =\n",
            "R[write to console]: =\n",
            "R[write to console]: =\n",
            "R[write to console]: =\n",
            "R[write to console]: =\n",
            "R[write to console]: =\n",
            "R[write to console]: =\n",
            "R[write to console]: =\n",
            "R[write to console]: =\n",
            "R[write to console]: =\n",
            "R[write to console]: =\n",
            "R[write to console]: =\n",
            "R[write to console]: =\n",
            "R[write to console]: =\n",
            "R[write to console]: =\n",
            "R[write to console]: =\n",
            "R[write to console]: =\n",
            "R[write to console]: =\n",
            "R[write to console]: =\n",
            "R[write to console]: =\n",
            "R[write to console]: =\n",
            "R[write to console]: =\n",
            "R[write to console]: =\n",
            "R[write to console]: =\n",
            "R[write to console]: \n",
            "\n",
            "R[write to console]: downloaded 392 KB\n",
            "\n",
            "\n",
            "R[write to console]: \n",
            "\n",
            "R[write to console]: \n",
            "R[write to console]: The downloaded source packages are in\n",
            "\t‘/tmp/RtmpMHL2ey/downloaded_packages’\n",
            "R[write to console]: \n",
            "R[write to console]: \n",
            "\n"
          ]
        }
      ]
    },
    {
      "cell_type": "code",
      "source": [
        "%%R\n",
        "library(plyr)"
      ],
      "metadata": {
        "colab": {
          "base_uri": "https://localhost:8080/"
        },
        "id": "ILhuwJP8PFtb",
        "outputId": "a852e899-eb75-4710-e48c-15cd3ff882e4"
      },
      "execution_count": 4,
      "outputs": [
        {
          "output_type": "stream",
          "name": "stderr",
          "text": [
            "R[write to console]: ------------------------------------------------------------------------------\n",
            "\n",
            "R[write to console]: You have loaded plyr after dplyr - this is likely to cause problems.\n",
            "If you need functions from both plyr and dplyr, please load plyr first, then dplyr:\n",
            "library(plyr); library(dplyr)\n",
            "\n",
            "R[write to console]: ------------------------------------------------------------------------------\n",
            "\n",
            "R[write to console]: \n",
            "Attaching package: ‘plyr’\n",
            "\n",
            "\n",
            "R[write to console]: The following objects are masked from ‘package:dplyr’:\n",
            "\n",
            "    arrange, count, desc, failwith, id, mutate, rename, summarise,\n",
            "    summarize\n",
            "\n",
            "\n"
          ]
        }
      ]
    },
    {
      "cell_type": "markdown",
      "source": [
        "# Carregando dos Dados\n",
        "Forma o conjunto de dados historico contendo vinte locacoes sorteadas aleatoriamente do banco de dados e a armazena em um data frame chamado dados"
      ],
      "metadata": {
        "id": "w7ZI1pmEhIja"
      }
    },
    {
      "cell_type": "code",
      "source": [
        "%%R\n",
        "dados <- data.frame(\n",
        "Preco = c(368.384514890573, 446.850186825816, \n",
        "          414.72765691978, 434.291090918223, 436.652686535348, 457.65797344255, \n",
        "          490.694346597566, 474.881781399868, 458.462395897205, 412.719412673294, \n",
        "          448.799032112411, 352.040747235864, 449.461858221104, 416.150953927119, \n",
        "          416.499426750268, 551.315803331779, 462.126789471159, 515.957335395508, \n",
        "          467.598697162974, 339.548470369391), \n",
        "Portas = c(\"duas_portas\", \"quatro_portas\", \"duas_portas\", \"quatro_portas\", \"quatro_portas\", \n",
        "          \"duas_portas\", \"quatro_portas\", \"duas_portas\", \"quatro_portas\", \n",
        "          \"duas_portas\", \"quatro_portas\", \"quatro_portas\", \"duas_portas\", \n",
        "          \"quatro_portas\", \"duas_portas\", \"quatro_portas\", \"quatro_portas\", \n",
        "          \"duas_portas\", \"quatro_portas\", \"quatro_portas\"),\n",
        "Ar_Condicionado = c(\"sem_ar_condicionado\",  \"com_ar_condicionado\", \"com_ar_condicionado\", \"com_ar_condicionado\", \n",
        "                  \"com_ar_condicionado\", \"com_ar_condicionado\", \"com_ar_condicionado\", \n",
        "                  \"com_ar_condicionado\", \"com_ar_condicionado\", \"com_ar_condicionado\", \n",
        "                  \"com_ar_condicionado\", \"sem_ar_condicionado\", \"com_ar_condicionado\", \n",
        "                  \"com_ar_condicionado\", \"com_ar_condicionado\", \"com_ar_condicionado\", \n",
        "                  \"com_ar_condicionado\", \"com_ar_condicionado\", \"com_ar_condicionado\", \n",
        "                  \"sem_ar_condicionado\"),\n",
        "Quadrimestre = c(\"segundo_quadrimestre\",\"segundo_quadrimestre\", \"segundo_quadrimestre\", \"segundo_quadrimestre\", \n",
        "                 \"segundo_quadrimestre\", \"terceiro_quadrimestre\", \"primeiro_quadrimestre\", \n",
        "                 \"primeiro_quadrimestre\", \"terceiro_quadrimestre\", \"segundo_quadrimestre\", \n",
        "                 \"terceiro_quadrimestre\", \"segundo_quadrimestre\", \"terceiro_quadrimestre\", \n",
        "                 \"segundo_quadrimestre\", \"segundo_quadrimestre\", \"primeiro_quadrimestre\", \n",
        "                 \"terceiro_quadrimestre\", \"primeiro_quadrimestre\", \"primeiro_quadrimestre\", \n",
        "                 \"segundo_quadrimestre\"), \n",
        "Idade_Locatario = c(23, 18, 28, 21, 18, 21, 18, 20, 25, 29, 18, 33, 20, 21, 18, 21, 18, 20, 25, 29),\n",
        "Quilometragem = c(957.442780544097, 829.533278217768, 923.300215829467, 871.519116905113, 930.704105677958, 554.696695914233, 501.941059782271, \n",
        "                  665.435074822519, 568.24079543466, 930.704105677958, 554.696695914233, \n",
        "                  829.533278217768, 665.435074822519, 871.519116905113, 930.704105677958, \n",
        "                  351.547138218644, 501.941059782271, 447.872006186523, 568.24079543466, \n",
        "                  930.704105677958), \n",
        "Dolar = c(4.41147933990862, 5.63014407874318, \n",
        "         8.80557934010615, 4.260591319988649, 6.93416279643155, 1.61130694543154, \n",
        "         2.57813244655973, 4.66666728709914, 1.6846066723224, 7.33872353619711, \n",
        "         4.52300814589177, 2.96689816205009, 9.91448182957733, 8.55577847959413, \n",
        "         5.93424935955983, 5.55775429484673, 6.94475470863839, 4.74330294976712, \n",
        "         4.723306965757987, 4.7010894862212))\n",
        "\n"
      ],
      "metadata": {
        "id": "QxuwCxgQhFAa"
      },
      "execution_count": 5,
      "outputs": []
    },
    {
      "cell_type": "code",
      "source": [
        "%%R\n",
        "dados"
      ],
      "metadata": {
        "colab": {
          "base_uri": "https://localhost:8080/"
        },
        "id": "S1Znqh1WhkCL",
        "outputId": "0bfcfdc7-1502-4beb-bffd-fb714a69d2ef"
      },
      "execution_count": 6,
      "outputs": [
        {
          "output_type": "stream",
          "name": "stdout",
          "text": [
            "      Preco        Portas     Ar_Condicionado          Quadrimestre\n",
            "1  368.3845   duas_portas sem_ar_condicionado  segundo_quadrimestre\n",
            "2  446.8502 quatro_portas com_ar_condicionado  segundo_quadrimestre\n",
            "3  414.7277   duas_portas com_ar_condicionado  segundo_quadrimestre\n",
            "4  434.2911 quatro_portas com_ar_condicionado  segundo_quadrimestre\n",
            "5  436.6527 quatro_portas com_ar_condicionado  segundo_quadrimestre\n",
            "6  457.6580   duas_portas com_ar_condicionado terceiro_quadrimestre\n",
            "7  490.6943 quatro_portas com_ar_condicionado primeiro_quadrimestre\n",
            "8  474.8818   duas_portas com_ar_condicionado primeiro_quadrimestre\n",
            "9  458.4624 quatro_portas com_ar_condicionado terceiro_quadrimestre\n",
            "10 412.7194   duas_portas com_ar_condicionado  segundo_quadrimestre\n",
            "11 448.7990 quatro_portas com_ar_condicionado terceiro_quadrimestre\n",
            "12 352.0407 quatro_portas sem_ar_condicionado  segundo_quadrimestre\n",
            "13 449.4619   duas_portas com_ar_condicionado terceiro_quadrimestre\n",
            "14 416.1510 quatro_portas com_ar_condicionado  segundo_quadrimestre\n",
            "15 416.4994   duas_portas com_ar_condicionado  segundo_quadrimestre\n",
            "16 551.3158 quatro_portas com_ar_condicionado primeiro_quadrimestre\n",
            "17 462.1268 quatro_portas com_ar_condicionado terceiro_quadrimestre\n",
            "18 515.9573   duas_portas com_ar_condicionado primeiro_quadrimestre\n",
            "19 467.5987 quatro_portas com_ar_condicionado primeiro_quadrimestre\n",
            "20 339.5485 quatro_portas sem_ar_condicionado  segundo_quadrimestre\n",
            "   Idade_Locatario Quilometragem    Dolar\n",
            "1               23      957.4428 4.411479\n",
            "2               18      829.5333 5.630144\n",
            "3               28      923.3002 8.805579\n",
            "4               21      871.5191 4.260591\n",
            "5               18      930.7041 6.934163\n",
            "6               21      554.6967 1.611307\n",
            "7               18      501.9411 2.578132\n",
            "8               20      665.4351 4.666667\n",
            "9               25      568.2408 1.684607\n",
            "10              29      930.7041 7.338724\n",
            "11              18      554.6967 4.523008\n",
            "12              33      829.5333 2.966898\n",
            "13              20      665.4351 9.914482\n",
            "14              21      871.5191 8.555778\n",
            "15              18      930.7041 5.934249\n",
            "16              21      351.5471 5.557754\n",
            "17              18      501.9411 6.944755\n",
            "18              20      447.8720 4.743303\n",
            "19              25      568.2408 4.723307\n",
            "20              29      930.7041 4.701089\n"
          ]
        }
      ]
    },
    {
      "cell_type": "markdown",
      "source": [
        "\n",
        "# Pergunta 1 - Valendo 2,08 pts\n",
        "\n",
        "Explore a variável resposta, que é o Preço, e responda: \n",
        "\n",
        "## Pelo histograma, você diria que a variável Preço segue uma distribuição normal?  \n",
        "\n",
        "1. Não, pois o histograma apresenta comportamento assimétrico à esquerda.\n",
        "\n",
        "2. Sim, pela análise gráfica a variável preço aparenta seguir uma distribuição normal, pois os dados são distribuídos simetricamente em torno de um valor central.\n",
        "\n",
        "3. Não, pois o histograma apresenta comportamento assimétrico à direita.\n",
        "\n",
        "4. Não, pois os dados são distribuídos simetricamente."
      ],
      "metadata": {
        "id": "vrjlbDfrmlDF"
      }
    },
    {
      "cell_type": "code",
      "source": [
        "%%R\n",
        "#Histograma do preco\n",
        "hist(dados$Preco)"
      ],
      "metadata": {
        "colab": {
          "base_uri": "https://localhost:8080/",
          "height": 497
        },
        "id": "PSGyHX-AnP18",
        "outputId": "934cdda3-8cf9-4821-c4fe-68b048d5ae59"
      },
      "execution_count": 7,
      "outputs": [
        {
          "output_type": "display_data",
          "data": {
            "image/png": "[encoded data removed]"
          },
          "metadata": {}
        }
      ]
    },
    {
      "cell_type": "markdown",
      "source": [
        "## Resposta 1\n",
        "\n",
        "2. Sim, pela análise gráfica a variável preço aparenta seguir uma distribuição normal, pois os dados são distribuídos simetricamente em torno de um valor central."
      ],
      "metadata": {
        "id": "Y5flrOxvnUKD"
      }
    },
    {
      "cell_type": "markdown",
      "source": [
        "##Teste de Shapiro\n",
        "Os gráficos podem confundir e/ou apresentar informações distorcidas. A melhor maneira de determianr se um conjunto de dados segue uma Distribuição Normal é pelo teste de Shapiiro.\n",
        "\n",
        "O Teste de Shapiro-Wilk tem como objetivo avaliar se uma distribuição é semelhante a uma distribuição normal. A distribuição normal também pode ser chamada de gaussiana e sua forma assemelha-se a de um sino. Esse tipo de distribuição é muito importante, por ser frequentemente usada para modelar fenômenos naturais.\n",
        "\n",
        "Como resultado, o teste retornará a estatística W, que terá um valor de significância associada, o valor-p. Para dizer que uma distribuição é normal, o valor p precisa ser maior do que 0,05."
      ],
      "metadata": {
        "id": "MOYqb4eMjpmV"
      }
    },
    {
      "cell_type": "markdown",
      "source": [
        "## R - Teste de Shapiro"
      ],
      "metadata": {
        "id": "gHoUxU1lmh7c"
      }
    },
    {
      "cell_type": "code",
      "source": [
        "%%R\n",
        "shapiro.test(dados$Preco)"
      ],
      "metadata": {
        "colab": {
          "base_uri": "https://localhost:8080/"
        },
        "id": "BPYkJIzcmkic",
        "outputId": "fed28c71-4571-44d9-ce88-3abb707e0605"
      },
      "execution_count": 8,
      "outputs": [
        {
          "output_type": "stream",
          "name": "stdout",
          "text": [
            "\n",
            "\tShapiro-Wilk normality test\n",
            "\n",
            "data:  dados$Preco\n",
            "W = 0.96559, p-value = 0.6604\n",
            "\n"
          ]
        }
      ]
    },
    {
      "cell_type": "markdown",
      "source": [
        "# Pergunta 2 - Valendo 2,08 pts\n",
        "\n",
        "Explore a variável resposta, que é o Preço, e responda:  \n",
        "\n",
        "**Pelo boxplot do Preço, você consegue visualizar algum outlier? ** \n",
        "\n",
        "\n",
        "\n",
        "1. Não há outlier, pois todos os valores estão entre a média e dois desvios padrões.\n",
        "\n",
        "2. Não há nenhum outlier, pois todos os valores estão entre o primeiro e o terceiro quartil.\n",
        "\n",
        "**3. Sim, possui um outlier superior e um inferior, ou seja, existe uma locação que o preço foi muito acima do esperado e uma locação cujo preço foi muito abaixo do esperado. Antes de remover estes outliers de uma análise, eles devem ser investigados sobre o que ocorreu naquelas locações que fez com o que o valor fosse tão discrepante da distribuição da variável.**\n",
        "\n",
        "4. Não há nenhum outlier, pois todos os valores são próximos à mediana."
      ],
      "metadata": {
        "id": "jItPfB-_rznd"
      }
    },
    {
      "cell_type": "code",
      "source": [
        "%%R\n",
        "boxplot(dados$Preco)"
      ],
      "metadata": {
        "colab": {
          "base_uri": "https://localhost:8080/",
          "height": 497
        },
        "id": "hOH-GT70sX4j",
        "outputId": "deed3338-6f47-449e-ccac-b21254cdeb5e"
      },
      "execution_count": 9,
      "outputs": [
        {
          "output_type": "display_data",
          "data": {
            "image/png": "[encoded data removed]"
          },
          "metadata": {}
        }
      ]
    },
    {
      "cell_type": "markdown",
      "source": [
        "## Teste de Outlier com Filtro de Hampel\n",
        "Valores maiores que os limites inferior (360,2511) e superior (535,3981) são considerados outlier\n",
        "\n",
        "**Formula= mediana -/+ 3 * DAM (Desvio_Absoluto_Mediano, mad em inglês) **negrito**"
      ],
      "metadata": {
        "id": "P_DZ0JoBuEtb"
      }
    },
    {
      "cell_type": "code",
      "source": [
        "%%R\n",
        "limite_inferior <- median(dados$Preco) - 3 * mad(dados$Preco, constant =1)\n",
        "limite_inferior"
      ],
      "metadata": {
        "colab": {
          "base_uri": "https://localhost:8080/"
        },
        "id": "bKtZErJ_u8yR",
        "outputId": "b6ba6cd1-5938-41eb-fd7d-f9f27f210893"
      },
      "execution_count": 10,
      "outputs": [
        {
          "output_type": "stream",
          "name": "stdout",
          "text": [
            "[1] 360.2511\n"
          ]
        }
      ]
    },
    {
      "cell_type": "code",
      "source": [
        "%%R\n",
        "limite_superior <- median(dados$Preco) + 3 * mad(dados$Preco, constant =1)\n",
        "limite_superior"
      ],
      "metadata": {
        "colab": {
          "base_uri": "https://localhost:8080/"
        },
        "id": "CE8zfMe6vh0T",
        "outputId": "fd6b9b81-ffa9-4752-f610-dd56c4903929"
      },
      "execution_count": 11,
      "outputs": [
        {
          "output_type": "stream",
          "name": "stdout",
          "text": [
            "[1] 535.3981\n"
          ]
        }
      ]
    },
    {
      "cell_type": "markdown",
      "source": [
        "# Pergunta 3 -  Valendo 2,08 pts\n",
        "\n",
        "Explore a variável resposta, que é o Preço, e responda:  \n",
        "\n",
        "**Qual é o valor mediano do Preço e qual a sua interpretação CORRETA? ** \n",
        "\n",
        "Grupo de escolhas da pergunta\n",
        "\n",
        "1. A mediana é 447,8. Isso nos diz que 25% dos preços são até este valor e os demais 75% são acima deste valor.\n",
        "\n",
        "2. A mediana é 447,8. Isso nos diz que o preço médio é 447,8\n",
        "\n",
        "**3. A mediana é 447,8. Isso nos diz que 50% dos preços são até este valor e os demais 50% são acima deste valor.**\n",
        "\n",
        "4. A mediana é 447,8. Isso nos diz que 75% dos preços são até este valor e os demais 25% são acima deste valor."
      ],
      "metadata": {
        "id": "XyiaEJOqxORv"
      }
    },
    {
      "cell_type": "code",
      "source": [
        "%%R\n",
        "summary(dados$Preco)"
      ],
      "metadata": {
        "colab": {
          "base_uri": "https://localhost:8080/"
        },
        "id": "zHUKNJqrxmT2",
        "outputId": "5accb9bf-74ac-4310-a0f6-60eb5a119097"
      },
      "execution_count": 12,
      "outputs": [
        {
          "output_type": "stream",
          "name": "stdout",
          "text": [
            "   Min. 1st Qu.  Median    Mean 3rd Qu.    Max. \n",
            "  339.5   415.8   447.8   440.7   463.5   551.3 \n"
          ]
        }
      ]
    },
    {
      "cell_type": "code",
      "source": [
        "%%R\n",
        "boxplot(dados$Preco)"
      ],
      "metadata": {
        "colab": {
          "base_uri": "https://localhost:8080/",
          "height": 497
        },
        "id": "YbxBa_ityaWv",
        "outputId": "e374ccd3-75d2-43d0-88ec-75a021b42bd9"
      },
      "execution_count": 13,
      "outputs": [
        {
          "output_type": "display_data",
          "data": {
            "image/png": "[encoded data removed]"
          },
          "metadata": {}
        }
      ]
    },
    {
      "cell_type": "markdown",
      "source": [
        "# Pergunta 4 - Valendo 2,08 pts\n",
        "Explore a relação entre as variáveis Preço e Quadrimestre, e responda: \n",
        "\n",
        "**Através do boxplot, como o Preço se comporta em relação a cada Quadrimestre? **\n",
        "\n",
        "Grupo de escolhas da pergunta\n",
        "\n",
        "**1. O primeiro quadrimestre apresenta a maior mediana.**\n",
        "\n",
        "2. A três medianas estão perfeitamente alinhadas e são iguais.\n",
        "\n",
        "3. O terceiro quadrimestre apresenta a maior mediana.\n",
        "\n",
        "4. O segundo quadrimestre apresenta a maior mediana."
      ],
      "metadata": {
        "id": "7qL6HoFazUDv"
      }
    },
    {
      "cell_type": "code",
      "source": [
        "%%R\n",
        "#Boxplot entre o Preco e Quadrimestre\n",
        "boxplot(dados$Preco~ dados$Quadrimestre)"
      ],
      "metadata": {
        "colab": {
          "base_uri": "https://localhost:8080/",
          "height": 497
        },
        "id": "IJi8PAh4zWR5",
        "outputId": "57dc5a0d-6276-4da7-bf2b-ecdb88134ff6"
      },
      "execution_count": 14,
      "outputs": [
        {
          "output_type": "display_data",
          "data": {
            "image/png": "[encoded data removed]"
          },
          "metadata": {}
        }
      ]
    },
    {
      "cell_type": "code",
      "source": [
        "%%R\n",
        "pq = dados[dados$Quadrimestre == \"primeiro_quadrimestre\", ]\n",
        "median(pq$Preco)"
      ],
      "metadata": {
        "colab": {
          "base_uri": "https://localhost:8080/"
        },
        "id": "DNbcS8cg0G1D",
        "outputId": "6489d8db-1620-48fc-9d9f-4683c379239c"
      },
      "execution_count": 15,
      "outputs": [
        {
          "output_type": "stream",
          "name": "stdout",
          "text": [
            "[1] 490.6943\n"
          ]
        }
      ]
    },
    {
      "cell_type": "code",
      "source": [
        "%%R\n",
        "sq = dados[dados$Quadrimestre == \"segundo_quadrimestre\", ]\n",
        "median(sq$Preco)"
      ],
      "metadata": {
        "colab": {
          "base_uri": "https://localhost:8080/"
        },
        "id": "gzku9aUc3pDy",
        "outputId": "798e886c-6737-49d1-ecca-94586a68935a"
      },
      "execution_count": 16,
      "outputs": [
        {
          "output_type": "stream",
          "name": "stdout",
          "text": [
            "[1] 415.4393\n"
          ]
        }
      ]
    },
    {
      "cell_type": "code",
      "source": [
        "%%R\n",
        "tq = dados[dados$Quadrimestre == \"terceiro_quadrimestre\", ]\n",
        "median(tq$Preco)"
      ],
      "metadata": {
        "colab": {
          "base_uri": "https://localhost:8080/"
        },
        "id": "A2CYjTW43rv6",
        "outputId": "cd72c894-4431-4308-bd1c-8fe3195d225b"
      },
      "execution_count": 17,
      "outputs": [
        {
          "output_type": "stream",
          "name": "stdout",
          "text": [
            "[1] 457.658\n"
          ]
        }
      ]
    },
    {
      "cell_type": "code",
      "source": [
        "%%R\n",
        "\n",
        "dados %>%\n",
        "  group_by(Quadrimestre) %>%\n",
        "  summarize(mediana = median(Preco))"
      ],
      "metadata": {
        "colab": {
          "base_uri": "https://localhost:8080/"
        },
        "id": "909O3AV04k9k",
        "outputId": "d17cfeb9-458a-4706-bfc0-8d5f73622dcb"
      },
      "execution_count": 18,
      "outputs": [
        {
          "output_type": "stream",
          "name": "stdout",
          "text": [
            "   mediana\n",
            "1 447.8246\n"
          ]
        }
      ]
    },
    {
      "cell_type": "markdown",
      "source": [
        "# Comentários ao estilo Cearense\n",
        "*Maaanxu*, tanto em **T-Student** quanto em **ANOVA**,  o primeiro ponto a se verificar é o **p-value**\n",
        "\n",
        "1. P-valor < 0.05 rejeita-se (rebola fora - rsrsrs ) H0 - Hipótese Nula\n",
        "2. P-valor > 0.05 não há base para se rejeitar a H0 - Hipótese Nula\n",
        "\n",
        "Daí, já cai matando as questões 5 e 6"
      ],
      "metadata": {
        "id": "ZIDTnXVilUB4"
      }
    },
    {
      "cell_type": "markdown",
      "source": [
        "# Pergunta 5 - Valendo 2,08 pts\n",
        " Explore a relação entre as variáveis Preço e Quadrimestre, e responda: \n",
        "\n",
        "**Através de uma ANOVA, existe diferença significativa entre o Preço médio de pelo menos um Quadrimestre em relação aos outros? Como chegou a essa conclusão? Adote 95% de confiança na sua interpretação.**\n",
        "\n",
        "Grupo de escolhas da pergunta\n",
        "\n",
        "1. Não, pois a média quadrática dos resíduos é 1014, ou seja, maior que 0,05.\n",
        "\n",
        "2. **Sim, considerando o alfa de 0,05 e ao p valor de 0,000126, há evidências para rejeitar a hipótese nula de igualdade de médias, ou seja, pelo menos um dos quadrimestres possui o preço médio diferente dos demais.**\n",
        "\n",
        "3. Não, pois o F Value é maior que 0,05.\n",
        "\n",
        "4. Não, pois os graus de liberdade residuais deram 17, ou seja, maior que 0,05."
      ],
      "metadata": {
        "id": "-sk5eOfNg6PZ"
      }
    },
    {
      "cell_type": "code",
      "source": [
        "%%R \n",
        "#Realiza analise de variancia\n",
        "anova(aov(Preco ~ Quadrimestre, data = dados))\n"
      ],
      "metadata": {
        "colab": {
          "base_uri": "https://localhost:8080/"
        },
        "id": "RG-ZsJkaGAKC",
        "outputId": "e319093d-fe53-43bc-ebb8-8e6b7b53b4a0"
      },
      "execution_count": 19,
      "outputs": [
        {
          "output_type": "stream",
          "name": "stdout",
          "text": [
            "Analysis of Variance Table\n",
            "\n",
            "Response: Preco\n",
            "             Df Sum Sq Mean Sq F value    Pr(>F)    \n",
            "Quadrimestre  2  32328 16163.8  15.948 0.0001259 ***\n",
            "Residuals    17  17230  1013.6                      \n",
            "---\n",
            "Signif. codes:  0 ‘***’ 0.001 ‘**’ 0.01 ‘*’ 0.05 ‘.’ 0.1 ‘ ’ 1\n"
          ]
        }
      ]
    },
    {
      "cell_type": "markdown",
      "source": [
        "# Pergunta 6 - Valendo 2,08 pts\n",
        "Explore a relação entre as variáveis Preço e Portas, e responda: \n",
        "\n",
        "**Através de um teste t de Student para amostras independentes, existe diferença significativa entre o preço médio do aluguel do veículo com duas portas quando comparado com o preço médio do veículo de quatro portas? Adote 95% de confiança ao realizar na sua interpretação.**\n",
        "\n",
        "Grupo de escolhas da pergunta\n",
        "\n",
        "1. Sim, pois os desvios padrões não são iguais.\n",
        "\n",
        "2. **Não, pois ao p valor de 0,8884 não há evidências para rejeitar a hipótese nula de igualdade de médias, ou seja, não há diferença significativa entre o preço médio de veículos de duas portas em relação ao preço médio de veículos de quatro portas.**\n",
        "\n",
        "3. Sim, pois as medianas não são iguais.\n",
        "\n",
        "4. Sim, pois o preço médio dos veículos de duas portas é 438,78 e o preço médio dos veículos de quatro portas é de 442,04.\n",
        "\n"
      ],
      "metadata": {
        "id": "zcSTV21eiF4W"
      }
    },
    {
      "cell_type": "code",
      "source": [
        "%%R \n",
        "#Test t de Student\n",
        "t.test(dados$Preco ~ dados$Portas , \n",
        "       paired = FALSE, #amostras nao pareadas\n",
        "       alternative = 'two.sided', #bilateral\n",
        "       conf.level = 0.95 #95% de confianca\n",
        "       )"
      ],
      "metadata": {
        "colab": {
          "base_uri": "https://localhost:8080/"
        },
        "id": "ps0nJl3dM_St",
        "outputId": "09ebd9cc-2d10-4a66-dfdd-c209051c039f"
      },
      "execution_count": 20,
      "outputs": [
        {
          "output_type": "stream",
          "name": "stdout",
          "text": [
            "\n",
            "\tWelch Two Sample t-test\n",
            "\n",
            "data:  dados$Preco by dados$Portas\n",
            "t = -0.14239, df = 17.221, p-value = 0.8884\n",
            "alternative hypothesis: true difference in means between group duas_portas and group quatro_portas is not equal to 0\n",
            "95 percent confidence interval:\n",
            " -51.48432  44.96827\n",
            "sample estimates:\n",
            "  mean in group duas_portas mean in group quatro_portas \n",
            "                   438.7862                    442.0443 \n",
            "\n"
          ]
        }
      ]
    },
    {
      "cell_type": "markdown",
      "source": [
        "# Pergunta 7 - 2,08 pts\n",
        "Explore a relação entre as variáveis Preço e Quilometragem, e responda: \n",
        "\n",
        "**Pelo gráfico de dispersão, você identifica que existe relação linear entre o Preço e a Quilometragem? Se sim, a relação é positiva ou negativa?**\n",
        "\n",
        "Grupo de escolhas da pergunta\n",
        "\n",
        "1. Existe relação, mas é uma relação quadrática.\n",
        "\n",
        "2. Sim, a relação é positiva.\n",
        "\n",
        "3. Não existe relação entre as duas variáveis.\n",
        "\n",
        "4. **Sim, a relação é linear negativa, pois à medida que a quilometragem aumenta o preço diminui.**"
      ],
      "metadata": {
        "id": "r6xmRbQnooSS"
      }
    },
    {
      "cell_type": "code",
      "source": [
        "%%R\n",
        "plot(y = dados$Preco ,\n",
        "     x = dados$Quilometragem,\n",
        "     pch = 16)"
      ],
      "metadata": {
        "colab": {
          "base_uri": "https://localhost:8080/",
          "height": 497
        },
        "id": "7JFeLzfRo7Hi",
        "outputId": "41b30fda-897a-48ee-de27-bc963fefbbf1"
      },
      "execution_count": 21,
      "outputs": [
        {
          "output_type": "display_data",
          "data": {
            "image/png": "[encoded data removed]"
          },
          "metadata": {}
        }
      ]
    },
    {
      "cell_type": "code",
      "source": [
        "%%R\n",
        "#Coeficiente de correlacao\n",
        "cor(dados$Preco, dados$Quilometragem)"
      ],
      "metadata": {
        "colab": {
          "base_uri": "https://localhost:8080/"
        },
        "id": "AJH9Z6s2rPCQ",
        "outputId": "5fc0fcac-b306-47e1-df95-fcdc92e2df10"
      },
      "execution_count": 22,
      "outputs": [
        {
          "output_type": "stream",
          "name": "stdout",
          "text": [
            "[1] -0.8231561\n"
          ]
        }
      ]
    },
    {
      "cell_type": "markdown",
      "source": [
        "##Não, nunca confie 100% num gráfico. Questões de escala, precisão e qualidade podem lhe induzir a erros\n",
        "\n",
        "Isso não seria diferente com um Gráfico Linear entre 2 Variáveis. Além do gráfico, analise o **coeficiente de correlação**\n",
        "![Tabela de Correlação.png](data:image/png;base64,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)"
      ],
      "metadata": {
        "id": "-ts_CZDkqnBm"
      }
    },
    {
      "cell_type": "markdown",
      "source": [
        "## A respota correta para essa pergunta seria:\n",
        "\n",
        "Sim. Tem um coeficiente de correlação de -0.82, indicando uma corelação  negativa, ou seja, à medida que um sobe, o outro desce e vice-versa"
      ],
      "metadata": {
        "id": "F-T1DK5xrl_3"
      }
    },
    {
      "cell_type": "markdown",
      "source": [
        "# Pergunta 8 - 2,08 pts\n",
        "Explore a relação entre as variáveis Preço e Quilometragem, e responda: \n",
        "\n",
        "**Obtenha o valor do coeficiente de correlação linear de Pearson entre o Preço e a Quilometragem. Qual a interpretação CORRETA?**\n",
        "\n"
      ],
      "metadata": {
        "id": "iFm8tFkwtsEo"
      }
    },
    {
      "cell_type": "code",
      "source": [
        "%%R\n",
        "#Coeficiente de correlacao\n",
        "cor(dados$Preco, dados$Quilometragem)"
      ],
      "metadata": {
        "colab": {
          "base_uri": "https://localhost:8080/"
        },
        "id": "zS02ETYmuBhv",
        "outputId": "a83bbea7-09c3-4863-8e3c-c4e3bfa03a42"
      },
      "execution_count": 23,
      "outputs": [
        {
          "output_type": "stream",
          "name": "stdout",
          "text": [
            "[1] -0.8231561\n"
          ]
        }
      ]
    },
    {
      "cell_type": "markdown",
      "source": [
        "Grupo de escolhas da pergunta\n",
        "\n",
        "1. O coeficiente de correlação linear de Pearson é -0,82, isso nos informa que é uma correlação positiva alta.\n",
        "\n",
        "2. O coeficiente de correlação linear de Pearson é -0,82, isso nos informa que é uma correlação negativa baixa.\n",
        "\n",
        "3. O coeficiente de correlação linear de Pearson é -0,82, isso nos informa que não há correlação.\n",
        "\n",
        "4. **O coeficiente de correlação linear de Pearson é -0,82, isso nos informa que é uma correlação negativa alta.**"
      ],
      "metadata": {
        "id": "RJKcidfLt6FQ"
      }
    },
    {
      "cell_type": "markdown",
      "source": [
        "# Pergunta 9 - 2,08 pts\n",
        "Explore a relação entre as variáveis Preço e Quilometragem, e responda: \n",
        "\n",
        "**Se tentarmos utilizar somente a Quilometragem para prever o valor do Preço, o quanto da variação do Preço a variável Quilometragem consegue explicar? Em outras palavras, interprete o R2 da regressão linear do Preço em função da Quilometragem.**\n",
        "\n",
        "Grupo de escolhas da pergunta\n",
        "\n",
        "1. O R2 é de 67,76%, ou seja, para cada quilometro aumentado, o Preço aumenta em média 32,24% (1-0,6776).\n",
        "\n",
        "2. O R2 é de 67,76%, ou seja, para cada quilometro aumentado, o Preço aumenta em média 67,76%.\n",
        "\n",
        "3. **O R2 é de 67,76%, ou seja, a variável Quilometragem consegue explicar 67,76% da variação do Preço.**\n",
        "\n",
        "4. O R2 é de 67,76%, ou seja, para cada quilometro aumentado, o Preço diminui em média 67,76%.\n",
        "\n",
        "**Nota: R2 = R Squared**"
      ],
      "metadata": {
        "id": "RWT8N993um74"
      }
    },
    {
      "cell_type": "code",
      "source": [
        "%%R\n",
        "#versão simplificada\n",
        "r2 = summary(lm(Preco ~ Quilometragem, data=dados))$r.squared * 100\n",
        "r2"
      ],
      "metadata": {
        "colab": {
          "base_uri": "https://localhost:8080/"
        },
        "id": "m9GQpbQ4wGtS",
        "outputId": "80002326-c687-4b60-f34f-13fdcb9194f0"
      },
      "execution_count": 24,
      "outputs": [
        {
          "output_type": "stream",
          "name": "stdout",
          "text": [
            "[1] 67.75859\n"
          ]
        }
      ]
    },
    {
      "cell_type": "code",
      "source": [
        "%%R\n",
        "#versão completa\n",
        "regressao_linear <- lm(Preco ~ Quilometragem, data = dados)\n",
        "summary(regressao_linear)"
      ],
      "metadata": {
        "colab": {
          "base_uri": "https://localhost:8080/"
        },
        "id": "86UlBo3Swnrt",
        "outputId": "6457c19e-cf56-4977-c819-32290bc39a5a"
      },
      "execution_count": 25,
      "outputs": [
        {
          "output_type": "stream",
          "name": "stdout",
          "text": [
            "\n",
            "Call:\n",
            "lm(formula = Preco ~ Quilometragem, data = dados)\n",
            "\n",
            "Residuals:\n",
            "    Min      1Q  Median      3Q     Max \n",
            "-65.477 -18.862   5.824  20.919  40.446 \n",
            "\n",
            "Coefficients:\n",
            "               Estimate Std. Error t value Pr(>|t|)    \n",
            "(Intercept)   592.25689   25.51961  23.208 7.28e-15 ***\n",
            "Quilometragem  -0.21065    0.03425  -6.151 8.29e-06 ***\n",
            "---\n",
            "Signif. codes:  0 ‘***’ 0.001 ‘**’ 0.01 ‘*’ 0.05 ‘.’ 0.1 ‘ ’ 1\n",
            "\n",
            "Residual standard error: 29.79 on 18 degrees of freedom\n",
            "Multiple R-squared:  0.6776,\tAdjusted R-squared:  0.6597 \n",
            "F-statistic: 37.83 on 1 and 18 DF,  p-value: 8.293e-06\n",
            "\n"
          ]
        }
      ]
    },
    {
      "cell_type": "markdown",
      "source": [
        "# Pergunta 10  - 2,08 pts\n",
        "**Explore a variável Quilometragem, e responda:**\n",
        "\n",
        "**Qual o valor do primeiro quartil e qual a sua interpretação CORRETA?**\n",
        "\n",
        "Grupo de escolhas da pergunta\n",
        "\n",
        "1. O primeiro quartil é 554,7, isso nos diz que até 75% dos veículos alugados possuem quilometragem até 554,7.\n",
        "\n",
        "2. **O primeiro quartil é 554,7, isso nos diz que até 25% dos veículos alugados possuem quilometragem até 554,7.**\n",
        "\n",
        "3. O primeiro quartil é 554,7, isso nos diz que até 50% dos veículos alugados possuem quilometragem até 554,7.\n",
        "\n",
        "4. O primeiro quartil é 747,5, isso nos diz que até 25% dos veículos alugados possuem quilometragem até 554,7."
      ],
      "metadata": {
        "id": "0nUTGEuc1MD5"
      }
    },
    {
      "cell_type": "code",
      "source": [
        "%%R\n",
        "summary(dados$Quilometragem)"
      ],
      "metadata": {
        "colab": {
          "base_uri": "https://localhost:8080/"
        },
        "id": "fZ5K8t5l2muo",
        "outputId": "add48797-5224-4ec1-ca6a-dce266ad6d8e"
      },
      "execution_count": 26,
      "outputs": [
        {
          "output_type": "stream",
          "name": "stdout",
          "text": [
            "   Min. 1st Qu.  Median    Mean 3rd Qu.    Max. \n",
            "  351.5   554.7   747.5   719.3   925.2   957.4 \n"
          ]
        }
      ]
    },
    {
      "cell_type": "code",
      "source": [
        "%%R\n",
        "boxplot(dados$Quilometragem, col = 'gray', pch = 16,  main = 'Quilometragem')"
      ],
      "metadata": {
        "colab": {
          "base_uri": "https://localhost:8080/",
          "height": 497
        },
        "id": "xBg2F4Kn18FK",
        "outputId": "5f78992b-61f6-4b34-832a-328f962cae36"
      },
      "execution_count": 27,
      "outputs": [
        {
          "output_type": "display_data",
          "data": {
            "image/png": "[encoded data removed]"
          },
          "metadata": {}
        }
      ]
    },
    {
      "cell_type": "markdown",
      "source": [
        "# Pergunta 11 - 2,08 pts\n",
        "**Explore a variável Quilometragem, e responda:**\n",
        "\n",
        "**Qual o valor do terceiro quartil e qual a sua interpretação CORRETA? **\n",
        "\n",
        "Grupo de escolhas da pergunta\n",
        "\n",
        "1. **O terceiro quartil é 925,2, isso nos diz que até 75% dos veículos alugados possuem quilometragem até 925,2.**\n",
        "\n",
        "2. O terceiro quartil é 925,2, isso nos diz que até 75% dos veículos alugados possuem quilometragem até 719,3.\n",
        "\n",
        "3. O terceiro quartil é 925,2, isso nos diz que até 50% dos veículos alugados possuem quilometragem até 925,2.\n",
        "\n",
        "4. O terceiro quartil é 925,2, isso nos diz que até 25% dos veículos alugados possuem quilometragem até 925,2."
      ],
      "metadata": {
        "id": "hGGPscpV44W5"
      }
    },
    {
      "cell_type": "code",
      "source": [
        "%%R\n",
        "summary(dados$Quilometragem)"
      ],
      "metadata": {
        "colab": {
          "base_uri": "https://localhost:8080/"
        },
        "id": "YLrg1szS5gHF",
        "outputId": "3842c8db-124d-4c00-cd3d-c84592b7c75c"
      },
      "execution_count": 28,
      "outputs": [
        {
          "output_type": "stream",
          "name": "stdout",
          "text": [
            "   Min. 1st Qu.  Median    Mean 3rd Qu.    Max. \n",
            "  351.5   554.7   747.5   719.3   925.2   957.4 \n"
          ]
        }
      ]
    },
    {
      "cell_type": "code",
      "source": [
        "%%R\n",
        "boxplot(dados$Quilometragem, col = 'gray', pch = 16,  main = 'Quilometragem')"
      ],
      "metadata": {
        "colab": {
          "base_uri": "https://localhost:8080/",
          "height": 497
        },
        "id": "vt-8qu_S5myz",
        "outputId": "56cd010a-154e-4044-dfee-d407f481af5f"
      },
      "execution_count": 29,
      "outputs": [
        {
          "output_type": "display_data",
          "data": {
            "image/png": "[encoded data removed]"
          },
          "metadata": {}
        }
      ]
    },
    {
      "cell_type": "markdown",
      "source": [
        "# Pergunta 12 - 2,12 pts\n",
        "**Explore a variável Quilometragem e responda:**\n",
        "\n",
        "**Qual é o valor do coeficiente de variação e qual a sua interpretação CORRETA?**\n",
        "\n",
        "Grupo de escolhas da pergunta\n",
        "\n",
        "1. O coeficiente de variação é 27,74%, ou seja, os valores da variável quilometragem variam em média 27,74% em torno do terceiro quartil.\n",
        "\n",
        "2. O coeficiente de variação é 27,74%, ou seja, os valores da variável quilometragem variam em média 27,74% em torno do primeiro quartil.\n",
        "\n",
        "3. O coeficiente de variação é 27,74%, ou seja, os valores da variável quilometragem variam em média 27,74% em torno do desvio padrão.\n",
        "\n",
        "4. **O coeficiente de variação é 27,74%, ou seja, os valores da variável quilometragem variam em média 27,74% em torno de sua média.**"
      ],
      "metadata": {
        "id": "Dak8SqcX53tj"
      }
    },
    {
      "cell_type": "code",
      "source": [
        "%%R\n",
        "#Coeficiente de Variação\n",
        "#Desvio Padrão dos Daods dividido pela média\n",
        "sd(dados$Quilometragem) / mean(dados$Quilometragem) * 100"
      ],
      "metadata": {
        "colab": {
          "base_uri": "https://localhost:8080/"
        },
        "id": "JuutIVKy6Lh0",
        "outputId": "77308209-bb7a-4d40-e09d-79caf5acf06c"
      },
      "execution_count": 30,
      "outputs": [
        {
          "output_type": "stream",
          "name": "stdout",
          "text": [
            "[1] 27.74628\n"
          ]
        }
      ]
    }
  ]
}