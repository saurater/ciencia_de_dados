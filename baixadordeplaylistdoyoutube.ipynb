{
  "nbformat": 4,
  "nbformat_minor": 0,
  "metadata": {
    "colab": {
      "name": "baixadordeplaylistdoyoutube.ipynb",
      "provenance": [],
      "authorship_tag": "ABX9TyNKY5ixOyWBvDKq+dngKbjo",
      "include_colab_link": true
    },
    "kernelspec": {
      "name": "python3",
      "display_name": "Python 3"
    },
    "language_info": {
      "name": "python"
    }
  },
  "cells": [
    {
      "cell_type": "markdown",
      "metadata": {
        "id": "view-in-github",
        "colab_type": "text"
      },
      "source": [
        "<a href=\"https://colab.research.google.com/github/saurater/ciencia_de_dados/blob/main/baixadordeplaylistdoyoutube.ipynb\" target=\"_parent\"><img src=\"https://colab.research.google.com/assets/colab-badge.svg\" alt=\"Open In Colab\"/></a>"
      ]
    },
    {
      "cell_type": "code",
      "execution_count": null,
      "metadata": {
        "id": "zIQp7F6yxAJN"
      },
      "outputs": [],
      "source": [
        "\"\"\"\n",
        "Baixador de Playlist do Youtube\n",
        "\n",
        "@author = Sam Faraday\n",
        "\n",
        "May 31st, 2022\n",
        "\n",
        "\"\"\"\n",
        "from pytube import Playlist, YouTube\n",
        "\n",
        "print('\\n # # # # # # # # # Baixador de Lista do Sam Faraday  # # # # # # # # # \\n')\n",
        "\n",
        "minhaplaylist = input(\"Oh, meu\\minha, digita ai o link da Playlist : \")\n",
        "\n",
        "p = Playlist(minhaplaylist)\n",
        "\n",
        "print(f'Downloading: {p.title}')\n",
        "\n",
        "outpath = \"./\"\n",
        "\n",
        "for video in p.videos:\n",
        "    #video.streams.first().download()\n",
        "    videoId = str(video)\n",
        "    videoId.find('=')\n",
        "    x= videoId[videoId.find('=')+1:]\n",
        "    print(x[:-1])\n",
        "\n",
        "    yt = YouTube('https://www.youtube.com/watch?v=' + x[:-1] )\n",
        "\n",
        "    yt.streams.filter(file_extension=\"mp4\").get_by_resolution(\"720p\").download(outpath)\n",
        "     \n"
      ]
    }
  ]
}