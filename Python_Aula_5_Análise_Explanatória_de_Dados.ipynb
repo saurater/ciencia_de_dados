{
  "nbformat": 4,
  "nbformat_minor": 0,
  "metadata": {
    "colab": {
      "name": "Python-Aula 5 - Análise Explanatória de Dados.ipynb",
      "provenance": [],
      "collapsed_sections": [],
      "authorship_tag": "ABX9TyOxnCwLFGAKdnuvsI9+c7Gi",
      "include_colab_link": true
    },
    "kernelspec": {
      "name": "python3",
      "display_name": "Python 3"
    },
    "language_info": {
      "name": "python"
    }
  },
  "cells": [
    {
      "cell_type": "markdown",
      "metadata": {
        "id": "view-in-github",
        "colab_type": "text"
      },
      "source": [
        "<a href=\"https://colab.research.google.com/github/saurater/ciencia_de_dados/blob/main/Python_Aula_5_An%C3%A1lise_Explanat%C3%B3ria_de_Dados.ipynb\" target=\"_parent\"><img src=\"https://colab.research.google.com/assets/colab-badge.svg\" alt=\"Open In Colab\"/></a>"
      ]
    },
    {
      "cell_type": "markdown",
      "source": [
        "# Aula 5 - Análise Exploratória de Dados com Python\n",
        "## AED - Capitulo 01 - Prof. Máiron Chaves\n",
        "**Versão Python:** Sam Faraday\n",
        "\n",
        "**Versão em R disponível em:**  https://github.com/saurater/ciencia_de_dados/blob/main/R_Aula_5_An%C3%A1lise_Explanat%C3%B3ria_de_Dados.ipynb "
      ],
      "metadata": {
        "id": "-AGhVLrIUGYp"
      }
    },
    {
      "cell_type": "code",
      "execution_count": 1,
      "metadata": {
        "id": "Sj1xarh2T6aa"
      },
      "outputs": [],
      "source": [
        "import warnings\n",
        "warnings.filterwarnings('ignore')\n"
      ]
    },
    {
      "cell_type": "code",
      "source": [
        "import pandas as pd"
      ],
      "metadata": {
        "id": "q8FEDNfmUfct"
      },
      "execution_count": 2,
      "outputs": []
    },
    {
      "cell_type": "code",
      "source": [
        "import matplotlib.pyplot as plt"
      ],
      "metadata": {
        "id": "PYEMIkrvUjOT"
      },
      "execution_count": 3,
      "outputs": []
    },
    {
      "cell_type": "code",
      "source": [
        "import numpy as np"
      ],
      "metadata": {
        "id": "CvI5PW47UmdY"
      },
      "execution_count": 4,
      "outputs": []
    },
    {
      "cell_type": "code",
      "source": [
        "from scipy.stats import shapiro"
      ],
      "metadata": {
        "id": "FslVSy0gUpYo"
      },
      "execution_count": 5,
      "outputs": []
    },
    {
      "cell_type": "code",
      "source": [
        "import statsmodels.api as sm"
      ],
      "metadata": {
        "id": "NBpeQjqgUqNg"
      },
      "execution_count": 6,
      "outputs": []
    },
    {
      "cell_type": "code",
      "source": [
        "import statistics"
      ],
      "metadata": {
        "id": "FhwIquXPUqWK"
      },
      "execution_count": 7,
      "outputs": []
    },
    {
      "cell_type": "code",
      "source": [
        "from plotnine import ggplot, aes, geom_line, geom_density, xlim"
      ],
      "metadata": {
        "id": "riVeMJxeUw9l"
      },
      "execution_count": 8,
      "outputs": []
    },
    {
      "cell_type": "code",
      "source": [
        "# import seaborn library\n",
        "import seaborn as sns"
      ],
      "metadata": {
        "id": "EGCRV1j-UzNT"
      },
      "execution_count": 9,
      "outputs": []
    },
    {
      "cell_type": "code",
      "source": [
        "dados = {\n",
        "  \"Vendas_Cafe\" : [18, 20, 23, 23, 23, 23, 24, 25, 26, 26, 26, 26, 27,\n",
        "28, 28, 29, 29, 30, 30, 31, 31, 33, 34, 35, 38, 39, 41, 44, 44, 46],\n",
        " \"Preco_Cafe\" : [4.77, 4.67, 4.75, 4.74, 4.63, 4.56, 4.59, 4.75, 4.75, 4.49,\n",
        " 4.41, 4.32, 4.68, 4.66, 4.42, 4.71, 4.66, 4.46, 4.36, 4.47, 4.43,\n",
        " 4.4, 4.61, 4.09, 3.73, 3.89, 4.35, 3.84, 3.81, 3.79],\n",
        "\"Promocao\":  [\"Nao\", \"Nao\", \"Nao\", \"Nao\", \"Nao\", \"Nao\", \"Nao\", \"Nao\",\n",
        "\"Sim\", \"Nao\", \"Sim\", \"Nao\", \"Nao\", \"Sim\", \"Sim\", \"Nao\", \"Sim\", \"Sim\",\n",
        " \"Sim\", \"Nao\", \"Nao\", \"Sim\", \"Sim\", \"Sim\", \"Nao\", \"Sim\", \"Sim\", \n",
        " \"Sim\", \"Sim\", \"Sim\"],\n",
        " \"Preco_Leite\" :  [4.74, 4.81, 4.36, 4.29, 4.17, 4.66, 4.73, 4.11, 4.21, 4.25,\n",
        " 4.62, 4.53, 4.44, 4.19, 4.37, 4.29, 4.57, 4.21, 4.77, 4, 4.31,\n",
        " 4.34, 4.05, 4.73, 4.07, 4.75, 4, 4.15, 4.34, 4.15]\n",
        "}"
      ],
      "metadata": {
        "id": "e0DBpk5uU7sN"
      },
      "execution_count": 10,
      "outputs": []
    },
    {
      "cell_type": "code",
      "source": [
        "#carrega os dados em um Dataframe\n",
        "df = pd.DataFrame(dados)"
      ],
      "metadata": {
        "id": "TNTER90FVV7p"
      },
      "execution_count": 11,
      "outputs": []
    },
    {
      "cell_type": "code",
      "source": [
        "df"
      ],
      "metadata": {
        "colab": {
          "base_uri": "https://localhost:8080/",
          "height": 990
        },
        "id": "1PDF1tOKWbbp",
        "outputId": "537ef9f1-9385-4ea2-dd6c-27b1af392b67"
      },
      "execution_count": 12,
      "outputs": [
        {
          "output_type": "execute_result",
          "data": {
            "text/plain": [
              "    Vendas_Cafe  Preco_Cafe Promocao  Preco_Leite\n",
              "0            18        4.77      Nao         4.74\n",
              "1            20        4.67      Nao         4.81\n",
              "2            23        4.75      Nao         4.36\n",
              "3            23        4.74      Nao         4.29\n",
              "4            23        4.63      Nao         4.17\n",
              "5            23        4.56      Nao         4.66\n",
              "6            24        4.59      Nao         4.73\n",
              "7            25        4.75      Nao         4.11\n",
              "8            26        4.75      Sim         4.21\n",
              "9            26        4.49      Nao         4.25\n",
              "10           26        4.41      Sim         4.62\n",
              "11           26        4.32      Nao         4.53\n",
              "12           27        4.68      Nao         4.44\n",
              "13           28        4.66      Sim         4.19\n",
              "14           28        4.42      Sim         4.37\n",
              "15           29        4.71      Nao         4.29\n",
              "16           29        4.66      Sim         4.57\n",
              "17           30        4.46      Sim         4.21\n",
              "18           30        4.36      Sim         4.77\n",
              "19           31        4.47      Nao         4.00\n",
              "20           31        4.43      Nao         4.31\n",
              "21           33        4.40      Sim         4.34\n",
              "22           34        4.61      Sim         4.05\n",
              "23           35        4.09      Sim         4.73\n",
              "24           38        3.73      Nao         4.07\n",
              "25           39        3.89      Sim         4.75\n",
              "26           41        4.35      Sim         4.00\n",
              "27           44        3.84      Sim         4.15\n",
              "28           44        3.81      Sim         4.34\n",
              "29           46        3.79      Sim         4.15"
            ],
            "text/html": [
              "\n",
              "  <div id=\"df-7ee3fff7-b4b2-45d6-9996-ccb54697bd68\">\n",
              "    <div class=\"colab-df-container\">\n",
              "      <div>\n",
              "<style scoped>\n",
              "    .dataframe tbody tr th:only-of-type {\n",
              "        vertical-align: middle;\n",
              "    }\n",
              "\n",
              "    .dataframe tbody tr th {\n",
              "        vertical-align: top;\n",
              "    }\n",
              "\n",
              "    .dataframe thead th {\n",
              "        text-align: right;\n",
              "    }\n",
              "</style>\n",
              "<table border=\"1\" class=\"dataframe\">\n",
              "  <thead>\n",
              "    <tr style=\"text-align: right;\">\n",
              "      <th></th>\n",
              "      <th>Vendas_Cafe</th>\n",
              "      <th>Preco_Cafe</th>\n",
              "      <th>Promocao</th>\n",
              "      <th>Preco_Leite</th>\n",
              "    </tr>\n",
              "  </thead>\n",
              "  <tbody>\n",
              "    <tr>\n",
              "      <th>0</th>\n",
              "      <td>18</td>\n",
              "      <td>4.77</td>\n",
              "      <td>Nao</td>\n",
              "      <td>4.74</td>\n",
              "    </tr>\n",
              "    <tr>\n",
              "      <th>1</th>\n",
              "      <td>20</td>\n",
              "      <td>4.67</td>\n",
              "      <td>Nao</td>\n",
              "      <td>4.81</td>\n",
              "    </tr>\n",
              "    <tr>\n",
              "      <th>2</th>\n",
              "      <td>23</td>\n",
              "      <td>4.75</td>\n",
              "      <td>Nao</td>\n",
              "      <td>4.36</td>\n",
              "    </tr>\n",
              "    <tr>\n",
              "      <th>3</th>\n",
              "      <td>23</td>\n",
              "      <td>4.74</td>\n",
              "      <td>Nao</td>\n",
              "      <td>4.29</td>\n",
              "    </tr>\n",
              "    <tr>\n",
              "      <th>4</th>\n",
              "      <td>23</td>\n",
              "      <td>4.63</td>\n",
              "      <td>Nao</td>\n",
              "      <td>4.17</td>\n",
              "    </tr>\n",
              "    <tr>\n",
              "      <th>5</th>\n",
              "      <td>23</td>\n",
              "      <td>4.56</td>\n",
              "      <td>Nao</td>\n",
              "      <td>4.66</td>\n",
              "    </tr>\n",
              "    <tr>\n",
              "      <th>6</th>\n",
              "      <td>24</td>\n",
              "      <td>4.59</td>\n",
              "      <td>Nao</td>\n",
              "      <td>4.73</td>\n",
              "    </tr>\n",
              "    <tr>\n",
              "      <th>7</th>\n",
              "      <td>25</td>\n",
              "      <td>4.75</td>\n",
              "      <td>Nao</td>\n",
              "      <td>4.11</td>\n",
              "    </tr>\n",
              "    <tr>\n",
              "      <th>8</th>\n",
              "      <td>26</td>\n",
              "      <td>4.75</td>\n",
              "      <td>Sim</td>\n",
              "      <td>4.21</td>\n",
              "    </tr>\n",
              "    <tr>\n",
              "      <th>9</th>\n",
              "      <td>26</td>\n",
              "      <td>4.49</td>\n",
              "      <td>Nao</td>\n",
              "      <td>4.25</td>\n",
              "    </tr>\n",
              "    <tr>\n",
              "      <th>10</th>\n",
              "      <td>26</td>\n",
              "      <td>4.41</td>\n",
              "      <td>Sim</td>\n",
              "      <td>4.62</td>\n",
              "    </tr>\n",
              "    <tr>\n",
              "      <th>11</th>\n",
              "      <td>26</td>\n",
              "      <td>4.32</td>\n",
              "      <td>Nao</td>\n",
              "      <td>4.53</td>\n",
              "    </tr>\n",
              "    <tr>\n",
              "      <th>12</th>\n",
              "      <td>27</td>\n",
              "      <td>4.68</td>\n",
              "      <td>Nao</td>\n",
              "      <td>4.44</td>\n",
              "    </tr>\n",
              "    <tr>\n",
              "      <th>13</th>\n",
              "      <td>28</td>\n",
              "      <td>4.66</td>\n",
              "      <td>Sim</td>\n",
              "      <td>4.19</td>\n",
              "    </tr>\n",
              "    <tr>\n",
              "      <th>14</th>\n",
              "      <td>28</td>\n",
              "      <td>4.42</td>\n",
              "      <td>Sim</td>\n",
              "      <td>4.37</td>\n",
              "    </tr>\n",
              "    <tr>\n",
              "      <th>15</th>\n",
              "      <td>29</td>\n",
              "      <td>4.71</td>\n",
              "      <td>Nao</td>\n",
              "      <td>4.29</td>\n",
              "    </tr>\n",
              "    <tr>\n",
              "      <th>16</th>\n",
              "      <td>29</td>\n",
              "      <td>4.66</td>\n",
              "      <td>Sim</td>\n",
              "      <td>4.57</td>\n",
              "    </tr>\n",
              "    <tr>\n",
              "      <th>17</th>\n",
              "      <td>30</td>\n",
              "      <td>4.46</td>\n",
              "      <td>Sim</td>\n",
              "      <td>4.21</td>\n",
              "    </tr>\n",
              "    <tr>\n",
              "      <th>18</th>\n",
              "      <td>30</td>\n",
              "      <td>4.36</td>\n",
              "      <td>Sim</td>\n",
              "      <td>4.77</td>\n",
              "    </tr>\n",
              "    <tr>\n",
              "      <th>19</th>\n",
              "      <td>31</td>\n",
              "      <td>4.47</td>\n",
              "      <td>Nao</td>\n",
              "      <td>4.00</td>\n",
              "    </tr>\n",
              "    <tr>\n",
              "      <th>20</th>\n",
              "      <td>31</td>\n",
              "      <td>4.43</td>\n",
              "      <td>Nao</td>\n",
              "      <td>4.31</td>\n",
              "    </tr>\n",
              "    <tr>\n",
              "      <th>21</th>\n",
              "      <td>33</td>\n",
              "      <td>4.40</td>\n",
              "      <td>Sim</td>\n",
              "      <td>4.34</td>\n",
              "    </tr>\n",
              "    <tr>\n",
              "      <th>22</th>\n",
              "      <td>34</td>\n",
              "      <td>4.61</td>\n",
              "      <td>Sim</td>\n",
              "      <td>4.05</td>\n",
              "    </tr>\n",
              "    <tr>\n",
              "      <th>23</th>\n",
              "      <td>35</td>\n",
              "      <td>4.09</td>\n",
              "      <td>Sim</td>\n",
              "      <td>4.73</td>\n",
              "    </tr>\n",
              "    <tr>\n",
              "      <th>24</th>\n",
              "      <td>38</td>\n",
              "      <td>3.73</td>\n",
              "      <td>Nao</td>\n",
              "      <td>4.07</td>\n",
              "    </tr>\n",
              "    <tr>\n",
              "      <th>25</th>\n",
              "      <td>39</td>\n",
              "      <td>3.89</td>\n",
              "      <td>Sim</td>\n",
              "      <td>4.75</td>\n",
              "    </tr>\n",
              "    <tr>\n",
              "      <th>26</th>\n",
              "      <td>41</td>\n",
              "      <td>4.35</td>\n",
              "      <td>Sim</td>\n",
              "      <td>4.00</td>\n",
              "    </tr>\n",
              "    <tr>\n",
              "      <th>27</th>\n",
              "      <td>44</td>\n",
              "      <td>3.84</td>\n",
              "      <td>Sim</td>\n",
              "      <td>4.15</td>\n",
              "    </tr>\n",
              "    <tr>\n",
              "      <th>28</th>\n",
              "      <td>44</td>\n",
              "      <td>3.81</td>\n",
              "      <td>Sim</td>\n",
              "      <td>4.34</td>\n",
              "    </tr>\n",
              "    <tr>\n",
              "      <th>29</th>\n",
              "      <td>46</td>\n",
              "      <td>3.79</td>\n",
              "      <td>Sim</td>\n",
              "      <td>4.15</td>\n",
              "    </tr>\n",
              "  </tbody>\n",
              "</table>\n",
              "</div>\n",
              "      <button class=\"colab-df-convert\" onclick=\"convertToInteractive('df-7ee3fff7-b4b2-45d6-9996-ccb54697bd68')\"\n",
              "              title=\"Convert this dataframe to an interactive table.\"\n",
              "              style=\"display:none;\">\n",
              "        \n",
              "  <svg xmlns=\"http://www.w3.org/2000/svg\" height=\"24px\"viewBox=\"0 0 24 24\"\n",
              "       width=\"24px\">\n",
              "    <path d=\"M0 0h24v24H0V0z\" fill=\"none\"/>\n",
              "    <path d=\"M18.56 5.44l.94 2.06.94-2.06 2.06-.94-2.06-.94-.94-2.06-.94 2.06-2.06.94zm-11 1L8.5 8.5l.94-2.06 2.06-.94-2.06-.94L8.5 2.5l-.94 2.06-2.06.94zm10 10l.94 2.06.94-2.06 2.06-.94-2.06-.94-.94-2.06-.94 2.06-2.06.94z\"/><path d=\"M17.41 7.96l-1.37-1.37c-.4-.4-.92-.59-1.43-.59-.52 0-1.04.2-1.43.59L10.3 9.45l-7.72 7.72c-.78.78-.78 2.05 0 2.83L4 21.41c.39.39.9.59 1.41.59.51 0 1.02-.2 1.41-.59l7.78-7.78 2.81-2.81c.8-.78.8-2.07 0-2.86zM5.41 20L4 18.59l7.72-7.72 1.47 1.35L5.41 20z\"/>\n",
              "  </svg>\n",
              "      </button>\n",
              "      \n",
              "  <style>\n",
              "    .colab-df-container {\n",
              "      display:flex;\n",
              "      flex-wrap:wrap;\n",
              "      gap: 12px;\n",
              "    }\n",
              "\n",
              "    .colab-df-convert {\n",
              "      background-color: #E8F0FE;\n",
              "      border: none;\n",
              "      border-radius: 50%;\n",
              "      cursor: pointer;\n",
              "      display: none;\n",
              "      fill: #1967D2;\n",
              "      height: 32px;\n",
              "      padding: 0 0 0 0;\n",
              "      width: 32px;\n",
              "    }\n",
              "\n",
              "    .colab-df-convert:hover {\n",
              "      background-color: #E2EBFA;\n",
              "      box-shadow: 0px 1px 2px rgba(60, 64, 67, 0.3), 0px 1px 3px 1px rgba(60, 64, 67, 0.15);\n",
              "      fill: #174EA6;\n",
              "    }\n",
              "\n",
              "    [theme=dark] .colab-df-convert {\n",
              "      background-color: #3B4455;\n",
              "      fill: #D2E3FC;\n",
              "    }\n",
              "\n",
              "    [theme=dark] .colab-df-convert:hover {\n",
              "      background-color: #434B5C;\n",
              "      box-shadow: 0px 1px 3px 1px rgba(0, 0, 0, 0.15);\n",
              "      filter: drop-shadow(0px 1px 2px rgba(0, 0, 0, 0.3));\n",
              "      fill: #FFFFFF;\n",
              "    }\n",
              "  </style>\n",
              "\n",
              "      <script>\n",
              "        const buttonEl =\n",
              "          document.querySelector('#df-7ee3fff7-b4b2-45d6-9996-ccb54697bd68 button.colab-df-convert');\n",
              "        buttonEl.style.display =\n",
              "          google.colab.kernel.accessAllowed ? 'block' : 'none';\n",
              "\n",
              "        async function convertToInteractive(key) {\n",
              "          const element = document.querySelector('#df-7ee3fff7-b4b2-45d6-9996-ccb54697bd68');\n",
              "          const dataTable =\n",
              "            await google.colab.kernel.invokeFunction('convertToInteractive',\n",
              "                                                     [key], {});\n",
              "          if (!dataTable) return;\n",
              "\n",
              "          const docLinkHtml = 'Like what you see? Visit the ' +\n",
              "            '<a target=\"_blank\" href=https://colab.research.google.com/notebooks/data_table.ipynb>data table notebook</a>'\n",
              "            + ' to learn more about interactive tables.';\n",
              "          element.innerHTML = '';\n",
              "          dataTable['output_type'] = 'display_data';\n",
              "          await google.colab.output.renderOutput(dataTable, element);\n",
              "          const docLink = document.createElement('div');\n",
              "          docLink.innerHTML = docLinkHtml;\n",
              "          element.appendChild(docLink);\n",
              "        }\n",
              "      </script>\n",
              "    </div>\n",
              "  </div>\n",
              "  "
            ]
          },
          "metadata": {},
          "execution_count": 12
        }
      ]
    },
    {
      "cell_type": "code",
      "source": [
        "#Descevendo os dados\n",
        "##Visualizando a Qdt (count), Média (mean), Desvio Padrão (std), \n",
        "##os Quartis e Amplitudes (min, 25%,50%, 75%,max) \n",
        "df.describe()"
      ],
      "metadata": {
        "colab": {
          "base_uri": "https://localhost:8080/",
          "height": 300
        },
        "id": "M2VHZD2iWXvx",
        "outputId": "7435c500-5a32-4c49-b450-0342fe747cb7"
      },
      "execution_count": 13,
      "outputs": [
        {
          "output_type": "execute_result",
          "data": {
            "text/plain": [
              "       Vendas_Cafe  Preco_Cafe  Preco_Leite\n",
              "count    30.000000   30.000000    30.000000\n",
              "mean     30.000000    4.426333     4.373667\n",
              "std       7.310833    0.322057     0.255808\n",
              "min      18.000000    3.730000     4.000000\n",
              "25%      25.250000    4.352500     4.175000\n",
              "50%      28.500000    4.480000     4.325000\n",
              "75%      33.750000    4.667500     4.607500\n",
              "max      46.000000    4.770000     4.810000"
            ],
            "text/html": [
              "\n",
              "  <div id=\"df-9c0353eb-892e-484f-89af-9c585328a561\">\n",
              "    <div class=\"colab-df-container\">\n",
              "      <div>\n",
              "<style scoped>\n",
              "    .dataframe tbody tr th:only-of-type {\n",
              "        vertical-align: middle;\n",
              "    }\n",
              "\n",
              "    .dataframe tbody tr th {\n",
              "        vertical-align: top;\n",
              "    }\n",
              "\n",
              "    .dataframe thead th {\n",
              "        text-align: right;\n",
              "    }\n",
              "</style>\n",
              "<table border=\"1\" class=\"dataframe\">\n",
              "  <thead>\n",
              "    <tr style=\"text-align: right;\">\n",
              "      <th></th>\n",
              "      <th>Vendas_Cafe</th>\n",
              "      <th>Preco_Cafe</th>\n",
              "      <th>Preco_Leite</th>\n",
              "    </tr>\n",
              "  </thead>\n",
              "  <tbody>\n",
              "    <tr>\n",
              "      <th>count</th>\n",
              "      <td>30.000000</td>\n",
              "      <td>30.000000</td>\n",
              "      <td>30.000000</td>\n",
              "    </tr>\n",
              "    <tr>\n",
              "      <th>mean</th>\n",
              "      <td>30.000000</td>\n",
              "      <td>4.426333</td>\n",
              "      <td>4.373667</td>\n",
              "    </tr>\n",
              "    <tr>\n",
              "      <th>std</th>\n",
              "      <td>7.310833</td>\n",
              "      <td>0.322057</td>\n",
              "      <td>0.255808</td>\n",
              "    </tr>\n",
              "    <tr>\n",
              "      <th>min</th>\n",
              "      <td>18.000000</td>\n",
              "      <td>3.730000</td>\n",
              "      <td>4.000000</td>\n",
              "    </tr>\n",
              "    <tr>\n",
              "      <th>25%</th>\n",
              "      <td>25.250000</td>\n",
              "      <td>4.352500</td>\n",
              "      <td>4.175000</td>\n",
              "    </tr>\n",
              "    <tr>\n",
              "      <th>50%</th>\n",
              "      <td>28.500000</td>\n",
              "      <td>4.480000</td>\n",
              "      <td>4.325000</td>\n",
              "    </tr>\n",
              "    <tr>\n",
              "      <th>75%</th>\n",
              "      <td>33.750000</td>\n",
              "      <td>4.667500</td>\n",
              "      <td>4.607500</td>\n",
              "    </tr>\n",
              "    <tr>\n",
              "      <th>max</th>\n",
              "      <td>46.000000</td>\n",
              "      <td>4.770000</td>\n",
              "      <td>4.810000</td>\n",
              "    </tr>\n",
              "  </tbody>\n",
              "</table>\n",
              "</div>\n",
              "      <button class=\"colab-df-convert\" onclick=\"convertToInteractive('df-9c0353eb-892e-484f-89af-9c585328a561')\"\n",
              "              title=\"Convert this dataframe to an interactive table.\"\n",
              "              style=\"display:none;\">\n",
              "        \n",
              "  <svg xmlns=\"http://www.w3.org/2000/svg\" height=\"24px\"viewBox=\"0 0 24 24\"\n",
              "       width=\"24px\">\n",
              "    <path d=\"M0 0h24v24H0V0z\" fill=\"none\"/>\n",
              "    <path d=\"M18.56 5.44l.94 2.06.94-2.06 2.06-.94-2.06-.94-.94-2.06-.94 2.06-2.06.94zm-11 1L8.5 8.5l.94-2.06 2.06-.94-2.06-.94L8.5 2.5l-.94 2.06-2.06.94zm10 10l.94 2.06.94-2.06 2.06-.94-2.06-.94-.94-2.06-.94 2.06-2.06.94z\"/><path d=\"M17.41 7.96l-1.37-1.37c-.4-.4-.92-.59-1.43-.59-.52 0-1.04.2-1.43.59L10.3 9.45l-7.72 7.72c-.78.78-.78 2.05 0 2.83L4 21.41c.39.39.9.59 1.41.59.51 0 1.02-.2 1.41-.59l7.78-7.78 2.81-2.81c.8-.78.8-2.07 0-2.86zM5.41 20L4 18.59l7.72-7.72 1.47 1.35L5.41 20z\"/>\n",
              "  </svg>\n",
              "      </button>\n",
              "      \n",
              "  <style>\n",
              "    .colab-df-container {\n",
              "      display:flex;\n",
              "      flex-wrap:wrap;\n",
              "      gap: 12px;\n",
              "    }\n",
              "\n",
              "    .colab-df-convert {\n",
              "      background-color: #E8F0FE;\n",
              "      border: none;\n",
              "      border-radius: 50%;\n",
              "      cursor: pointer;\n",
              "      display: none;\n",
              "      fill: #1967D2;\n",
              "      height: 32px;\n",
              "      padding: 0 0 0 0;\n",
              "      width: 32px;\n",
              "    }\n",
              "\n",
              "    .colab-df-convert:hover {\n",
              "      background-color: #E2EBFA;\n",
              "      box-shadow: 0px 1px 2px rgba(60, 64, 67, 0.3), 0px 1px 3px 1px rgba(60, 64, 67, 0.15);\n",
              "      fill: #174EA6;\n",
              "    }\n",
              "\n",
              "    [theme=dark] .colab-df-convert {\n",
              "      background-color: #3B4455;\n",
              "      fill: #D2E3FC;\n",
              "    }\n",
              "\n",
              "    [theme=dark] .colab-df-convert:hover {\n",
              "      background-color: #434B5C;\n",
              "      box-shadow: 0px 1px 3px 1px rgba(0, 0, 0, 0.15);\n",
              "      filter: drop-shadow(0px 1px 2px rgba(0, 0, 0, 0.3));\n",
              "      fill: #FFFFFF;\n",
              "    }\n",
              "  </style>\n",
              "\n",
              "      <script>\n",
              "        const buttonEl =\n",
              "          document.querySelector('#df-9c0353eb-892e-484f-89af-9c585328a561 button.colab-df-convert');\n",
              "        buttonEl.style.display =\n",
              "          google.colab.kernel.accessAllowed ? 'block' : 'none';\n",
              "\n",
              "        async function convertToInteractive(key) {\n",
              "          const element = document.querySelector('#df-9c0353eb-892e-484f-89af-9c585328a561');\n",
              "          const dataTable =\n",
              "            await google.colab.kernel.invokeFunction('convertToInteractive',\n",
              "                                                     [key], {});\n",
              "          if (!dataTable) return;\n",
              "\n",
              "          const docLinkHtml = 'Like what you see? Visit the ' +\n",
              "            '<a target=\"_blank\" href=https://colab.research.google.com/notebooks/data_table.ipynb>data table notebook</a>'\n",
              "            + ' to learn more about interactive tables.';\n",
              "          element.innerHTML = '';\n",
              "          dataTable['output_type'] = 'display_data';\n",
              "          await google.colab.output.renderOutput(dataTable, element);\n",
              "          const docLink = document.createElement('div');\n",
              "          docLink.innerHTML = docLinkHtml;\n",
              "          element.appendChild(docLink);\n",
              "        }\n",
              "      </script>\n",
              "    </div>\n",
              "  </div>\n",
              "  "
            ]
          },
          "metadata": {},
          "execution_count": 13
        }
      ]
    },
    {
      "cell_type": "code",
      "source": [
        "#Por questão de simplicidade, pode-se se salvar os dados em CSV e apenas carregá-los depois\n",
        "df.to_csv(\"dados.csv\" )"
      ],
      "metadata": {
        "id": "Cj31QsNeWjfn"
      },
      "execution_count": 14,
      "outputs": []
    },
    {
      "cell_type": "code",
      "source": [
        "#carregando os dados salvos\n",
        "df  = pd.read_csv(\"dados.csv\")"
      ],
      "metadata": {
        "id": "qGkVx7yhWsjb"
      },
      "execution_count": 15,
      "outputs": []
    },
    {
      "cell_type": "markdown",
      "source": [
        "# Visualização atraves de um Histograma a Distribuição da Variável Preco_Cafe"
      ],
      "metadata": {
        "id": "fKz0PmNLX8Jv"
      }
    },
    {
      "cell_type": "code",
      "source": [
        "plt.hist(dados['Preco_Cafe'], bins=5, edgecolor=\"yellow\", color=\"blue\", \n",
        "         label = ['Preço'])\n",
        "plt.title('Distribuicao dos Preços Praticados para o Café')\n",
        "plt.legend()\n",
        "plt.xlabel('Preços')\n",
        "plt.ylabel('Quantidades')\n",
        "plt.show() "
      ],
      "metadata": {
        "colab": {
          "base_uri": "https://localhost:8080/",
          "height": 295
        },
        "id": "ZWLlk3VYXoA4",
        "outputId": "d2aaf7c5-40e8-4460-f3f8-0aa32ff87789"
      },
      "execution_count": 16,
      "outputs": [
        {
          "output_type": "display_data",
          "data": {
            "text/plain": [
              "<Figure size 432x288 with 1 Axes>"
            ],
            "image/png": "[encoded data removed]"
          },
          "metadata": {
            "needs_background": "light"
          }
        }
      ]
    },
    {
      "cell_type": "code",
      "source": [
        "plt.hist(dados['Preco_Leite'], bins=5, edgecolor=\"yellow\", color=\"green\", \n",
        "         label = ['Preço'])\n",
        "plt.title('Distribuicao dos Preços Praticados para o Leite')\n",
        "plt.legend()\n",
        "plt.xlabel('Preços')\n",
        "plt.ylabel('Quantidades')\n",
        "plt.show() "
      ],
      "metadata": {
        "colab": {
          "base_uri": "https://localhost:8080/",
          "height": 295
        },
        "id": "iuxxsw_jbZ5Y",
        "outputId": "6a75bccc-3ff1-4850-f7d8-cbc2e6d48fe0"
      },
      "execution_count": 17,
      "outputs": [
        {
          "output_type": "display_data",
          "data": {
            "text/plain": [
              "<Figure size 432x288 with 1 Axes>"
            ],
            "image/png": "[encoded data removed]"
          },
          "metadata": {
            "needs_background": "light"
          }
        }
      ]
    },
    {
      "cell_type": "code",
      "source": [
        "plt.hist(dados['Vendas_Cafe'], bins=7, edgecolor=\"yellow\", color=\"grey\", \n",
        "         label = ['Preço'])\n",
        "plt.title('Distribuicao dos Preços Praticados para o Leite')\n",
        "plt.legend()\n",
        "plt.xlabel('Preços')\n",
        "plt.ylabel('Quantidades')\n",
        "plt.show() "
      ],
      "metadata": {
        "colab": {
          "base_uri": "https://localhost:8080/",
          "height": 295
        },
        "id": "mmqqBaIdcaDY",
        "outputId": "e144a314-f505-4e3b-fa8a-cbb98297152f"
      },
      "execution_count": 18,
      "outputs": [
        {
          "output_type": "display_data",
          "data": {
            "text/plain": [
              "<Figure size 432x288 with 1 Axes>"
            ],
            "image/png": "[encoded data removed]"
          },
          "metadata": {
            "needs_background": "light"
          }
        }
      ]
    },
    {
      "cell_type": "code",
      "source": [
        "shapiro(dados['Preco_Leite'])"
      ],
      "metadata": {
        "colab": {
          "base_uri": "https://localhost:8080/"
        },
        "id": "6otjHkf9dNU1",
        "outputId": "1ac22622-3d6d-4ad5-8424-075ccb937673"
      },
      "execution_count": 19,
      "outputs": [
        {
          "output_type": "execute_result",
          "data": {
            "text/plain": [
              "(0.923654317855835, 0.03339812532067299)"
            ]
          },
          "metadata": {},
          "execution_count": 19
        }
      ]
    },
    {
      "cell_type": "markdown",
      "source": [
        "# Visualização da Relacão entre as Vendas e o Preço do Café"
      ],
      "metadata": {
        "id": "illmmycmdFn8"
      }
    },
    {
      "cell_type": "code",
      "source": [
        "#plotando o gráfico Q-Q plot para visualizar a distribuição\n",
        "sm.qqplot(df['Preco_Leite'], fit=True,line ='45')"
      ],
      "metadata": {
        "colab": {
          "base_uri": "https://localhost:8080/",
          "height": 541
        },
        "id": "Mmea8jbKdEmx",
        "outputId": "c4d9da16-f694-4ca2-837e-5c5b847c205c"
      },
      "execution_count": 20,
      "outputs": [
        {
          "output_type": "execute_result",
          "data": {
            "text/plain": [
              "<Figure size 432x288 with 1 Axes>"
            ],
            "image/png": "[encoded data removed]"
          },
          "metadata": {},
          "execution_count": 20
        },
        {
          "output_type": "display_data",
          "data": {
            "text/plain": [
              "<Figure size 432x288 with 1 Axes>"
            ],
            "image/png": "[encoded data removed]"
          },
          "metadata": {
            "needs_background": "light"
          }
        }
      ]
    },
    {
      "cell_type": "markdown",
      "source": [
        "#Explorando a relação entre as variáveis Preço e Vendas do Café\n"
      ],
      "metadata": {
        "id": "nV63JEPMdlMa"
      }
    },
    {
      "cell_type": "code",
      "source": [
        "sns.regplot(x=\"Preco_Cafe\", y=\"Vendas_Cafe\", data=df);"
      ],
      "metadata": {
        "colab": {
          "base_uri": "https://localhost:8080/",
          "height": 280
        },
        "id": "FdgwP_FNd0Ex",
        "outputId": "8dc0dfb0-7e09-4d2b-fb3f-43d6574b5d82"
      },
      "execution_count": 21,
      "outputs": [
        {
          "output_type": "display_data",
          "data": {
            "text/plain": [
              "<Figure size 432x288 with 1 Axes>"
            ],
            "image/png": "[encoded data removed]"
          },
          "metadata": {
            "needs_background": "light"
          }
        }
      ]
    },
    {
      "cell_type": "code",
      "source": [
        "media = df['Vendas_Cafe'].mean()\n",
        "media"
      ],
      "metadata": {
        "colab": {
          "base_uri": "https://localhost:8080/"
        },
        "id": "PA7AVgXCf72M",
        "outputId": "94ec731a-5c43-4d1e-a8dd-7dd6d4c21427"
      },
      "execution_count": 22,
      "outputs": [
        {
          "output_type": "execute_result",
          "data": {
            "text/plain": [
              "30.0"
            ]
          },
          "metadata": {},
          "execution_count": 22
        }
      ]
    },
    {
      "cell_type": "code",
      "source": [
        "df['variavel'] = np.where(df['Vendas_Cafe']>media, 'Acima da Media', 'Abaixo da Média')\n",
        "df"
      ],
      "metadata": {
        "colab": {
          "base_uri": "https://localhost:8080/",
          "height": 990
        },
        "id": "Uib12vGAipw8",
        "outputId": "25fc3e85-a103-4654-b7e8-366958aeb0c9"
      },
      "execution_count": 23,
      "outputs": [
        {
          "output_type": "execute_result",
          "data": {
            "text/plain": [
              "    Unnamed: 0  Vendas_Cafe  Preco_Cafe Promocao  Preco_Leite         variavel\n",
              "0            0           18        4.77      Nao         4.74  Abaixo da Média\n",
              "1            1           20        4.67      Nao         4.81  Abaixo da Média\n",
              "2            2           23        4.75      Nao         4.36  Abaixo da Média\n",
              "3            3           23        4.74      Nao         4.29  Abaixo da Média\n",
              "4            4           23        4.63      Nao         4.17  Abaixo da Média\n",
              "5            5           23        4.56      Nao         4.66  Abaixo da Média\n",
              "6            6           24        4.59      Nao         4.73  Abaixo da Média\n",
              "7            7           25        4.75      Nao         4.11  Abaixo da Média\n",
              "8            8           26        4.75      Sim         4.21  Abaixo da Média\n",
              "9            9           26        4.49      Nao         4.25  Abaixo da Média\n",
              "10          10           26        4.41      Sim         4.62  Abaixo da Média\n",
              "11          11           26        4.32      Nao         4.53  Abaixo da Média\n",
              "12          12           27        4.68      Nao         4.44  Abaixo da Média\n",
              "13          13           28        4.66      Sim         4.19  Abaixo da Média\n",
              "14          14           28        4.42      Sim         4.37  Abaixo da Média\n",
              "15          15           29        4.71      Nao         4.29  Abaixo da Média\n",
              "16          16           29        4.66      Sim         4.57  Abaixo da Média\n",
              "17          17           30        4.46      Sim         4.21  Abaixo da Média\n",
              "18          18           30        4.36      Sim         4.77  Abaixo da Média\n",
              "19          19           31        4.47      Nao         4.00   Acima da Media\n",
              "20          20           31        4.43      Nao         4.31   Acima da Media\n",
              "21          21           33        4.40      Sim         4.34   Acima da Media\n",
              "22          22           34        4.61      Sim         4.05   Acima da Media\n",
              "23          23           35        4.09      Sim         4.73   Acima da Media\n",
              "24          24           38        3.73      Nao         4.07   Acima da Media\n",
              "25          25           39        3.89      Sim         4.75   Acima da Media\n",
              "26          26           41        4.35      Sim         4.00   Acima da Media\n",
              "27          27           44        3.84      Sim         4.15   Acima da Media\n",
              "28          28           44        3.81      Sim         4.34   Acima da Media\n",
              "29          29           46        3.79      Sim         4.15   Acima da Media"
            ],
            "text/html": [
              "\n",
              "  <div id=\"df-a24d8eff-2d20-458b-a462-ccdf7933e98c\">\n",
              "    <div class=\"colab-df-container\">\n",
              "      <div>\n",
              "<style scoped>\n",
              "    .dataframe tbody tr th:only-of-type {\n",
              "        vertical-align: middle;\n",
              "    }\n",
              "\n",
              "    .dataframe tbody tr th {\n",
              "        vertical-align: top;\n",
              "    }\n",
              "\n",
              "    .dataframe thead th {\n",
              "        text-align: right;\n",
              "    }\n",
              "</style>\n",
              "<table border=\"1\" class=\"dataframe\">\n",
              "  <thead>\n",
              "    <tr style=\"text-align: right;\">\n",
              "      <th></th>\n",
              "      <th>Unnamed: 0</th>\n",
              "      <th>Vendas_Cafe</th>\n",
              "      <th>Preco_Cafe</th>\n",
              "      <th>Promocao</th>\n",
              "      <th>Preco_Leite</th>\n",
              "      <th>variavel</th>\n",
              "    </tr>\n",
              "  </thead>\n",
              "  <tbody>\n",
              "    <tr>\n",
              "      <th>0</th>\n",
              "      <td>0</td>\n",
              "      <td>18</td>\n",
              "      <td>4.77</td>\n",
              "      <td>Nao</td>\n",
              "      <td>4.74</td>\n",
              "      <td>Abaixo da Média</td>\n",
              "    </tr>\n",
              "    <tr>\n",
              "      <th>1</th>\n",
              "      <td>1</td>\n",
              "      <td>20</td>\n",
              "      <td>4.67</td>\n",
              "      <td>Nao</td>\n",
              "      <td>4.81</td>\n",
              "      <td>Abaixo da Média</td>\n",
              "    </tr>\n",
              "    <tr>\n",
              "      <th>2</th>\n",
              "      <td>2</td>\n",
              "      <td>23</td>\n",
              "      <td>4.75</td>\n",
              "      <td>Nao</td>\n",
              "      <td>4.36</td>\n",
              "      <td>Abaixo da Média</td>\n",
              "    </tr>\n",
              "    <tr>\n",
              "      <th>3</th>\n",
              "      <td>3</td>\n",
              "      <td>23</td>\n",
              "      <td>4.74</td>\n",
              "      <td>Nao</td>\n",
              "      <td>4.29</td>\n",
              "      <td>Abaixo da Média</td>\n",
              "    </tr>\n",
              "    <tr>\n",
              "      <th>4</th>\n",
              "      <td>4</td>\n",
              "      <td>23</td>\n",
              "      <td>4.63</td>\n",
              "      <td>Nao</td>\n",
              "      <td>4.17</td>\n",
              "      <td>Abaixo da Média</td>\n",
              "    </tr>\n",
              "    <tr>\n",
              "      <th>5</th>\n",
              "      <td>5</td>\n",
              "      <td>23</td>\n",
              "      <td>4.56</td>\n",
              "      <td>Nao</td>\n",
              "      <td>4.66</td>\n",
              "      <td>Abaixo da Média</td>\n",
              "    </tr>\n",
              "    <tr>\n",
              "      <th>6</th>\n",
              "      <td>6</td>\n",
              "      <td>24</td>\n",
              "      <td>4.59</td>\n",
              "      <td>Nao</td>\n",
              "      <td>4.73</td>\n",
              "      <td>Abaixo da Média</td>\n",
              "    </tr>\n",
              "    <tr>\n",
              "      <th>7</th>\n",
              "      <td>7</td>\n",
              "      <td>25</td>\n",
              "      <td>4.75</td>\n",
              "      <td>Nao</td>\n",
              "      <td>4.11</td>\n",
              "      <td>Abaixo da Média</td>\n",
              "    </tr>\n",
              "    <tr>\n",
              "      <th>8</th>\n",
              "      <td>8</td>\n",
              "      <td>26</td>\n",
              "      <td>4.75</td>\n",
              "      <td>Sim</td>\n",
              "      <td>4.21</td>\n",
              "      <td>Abaixo da Média</td>\n",
              "    </tr>\n",
              "    <tr>\n",
              "      <th>9</th>\n",
              "      <td>9</td>\n",
              "      <td>26</td>\n",
              "      <td>4.49</td>\n",
              "      <td>Nao</td>\n",
              "      <td>4.25</td>\n",
              "      <td>Abaixo da Média</td>\n",
              "    </tr>\n",
              "    <tr>\n",
              "      <th>10</th>\n",
              "      <td>10</td>\n",
              "      <td>26</td>\n",
              "      <td>4.41</td>\n",
              "      <td>Sim</td>\n",
              "      <td>4.62</td>\n",
              "      <td>Abaixo da Média</td>\n",
              "    </tr>\n",
              "    <tr>\n",
              "      <th>11</th>\n",
              "      <td>11</td>\n",
              "      <td>26</td>\n",
              "      <td>4.32</td>\n",
              "      <td>Nao</td>\n",
              "      <td>4.53</td>\n",
              "      <td>Abaixo da Média</td>\n",
              "    </tr>\n",
              "    <tr>\n",
              "      <th>12</th>\n",
              "      <td>12</td>\n",
              "      <td>27</td>\n",
              "      <td>4.68</td>\n",
              "      <td>Nao</td>\n",
              "      <td>4.44</td>\n",
              "      <td>Abaixo da Média</td>\n",
              "    </tr>\n",
              "    <tr>\n",
              "      <th>13</th>\n",
              "      <td>13</td>\n",
              "      <td>28</td>\n",
              "      <td>4.66</td>\n",
              "      <td>Sim</td>\n",
              "      <td>4.19</td>\n",
              "      <td>Abaixo da Média</td>\n",
              "    </tr>\n",
              "    <tr>\n",
              "      <th>14</th>\n",
              "      <td>14</td>\n",
              "      <td>28</td>\n",
              "      <td>4.42</td>\n",
              "      <td>Sim</td>\n",
              "      <td>4.37</td>\n",
              "      <td>Abaixo da Média</td>\n",
              "    </tr>\n",
              "    <tr>\n",
              "      <th>15</th>\n",
              "      <td>15</td>\n",
              "      <td>29</td>\n",
              "      <td>4.71</td>\n",
              "      <td>Nao</td>\n",
              "      <td>4.29</td>\n",
              "      <td>Abaixo da Média</td>\n",
              "    </tr>\n",
              "    <tr>\n",
              "      <th>16</th>\n",
              "      <td>16</td>\n",
              "      <td>29</td>\n",
              "      <td>4.66</td>\n",
              "      <td>Sim</td>\n",
              "      <td>4.57</td>\n",
              "      <td>Abaixo da Média</td>\n",
              "    </tr>\n",
              "    <tr>\n",
              "      <th>17</th>\n",
              "      <td>17</td>\n",
              "      <td>30</td>\n",
              "      <td>4.46</td>\n",
              "      <td>Sim</td>\n",
              "      <td>4.21</td>\n",
              "      <td>Abaixo da Média</td>\n",
              "    </tr>\n",
              "    <tr>\n",
              "      <th>18</th>\n",
              "      <td>18</td>\n",
              "      <td>30</td>\n",
              "      <td>4.36</td>\n",
              "      <td>Sim</td>\n",
              "      <td>4.77</td>\n",
              "      <td>Abaixo da Média</td>\n",
              "    </tr>\n",
              "    <tr>\n",
              "      <th>19</th>\n",
              "      <td>19</td>\n",
              "      <td>31</td>\n",
              "      <td>4.47</td>\n",
              "      <td>Nao</td>\n",
              "      <td>4.00</td>\n",
              "      <td>Acima da Media</td>\n",
              "    </tr>\n",
              "    <tr>\n",
              "      <th>20</th>\n",
              "      <td>20</td>\n",
              "      <td>31</td>\n",
              "      <td>4.43</td>\n",
              "      <td>Nao</td>\n",
              "      <td>4.31</td>\n",
              "      <td>Acima da Media</td>\n",
              "    </tr>\n",
              "    <tr>\n",
              "      <th>21</th>\n",
              "      <td>21</td>\n",
              "      <td>33</td>\n",
              "      <td>4.40</td>\n",
              "      <td>Sim</td>\n",
              "      <td>4.34</td>\n",
              "      <td>Acima da Media</td>\n",
              "    </tr>\n",
              "    <tr>\n",
              "      <th>22</th>\n",
              "      <td>22</td>\n",
              "      <td>34</td>\n",
              "      <td>4.61</td>\n",
              "      <td>Sim</td>\n",
              "      <td>4.05</td>\n",
              "      <td>Acima da Media</td>\n",
              "    </tr>\n",
              "    <tr>\n",
              "      <th>23</th>\n",
              "      <td>23</td>\n",
              "      <td>35</td>\n",
              "      <td>4.09</td>\n",
              "      <td>Sim</td>\n",
              "      <td>4.73</td>\n",
              "      <td>Acima da Media</td>\n",
              "    </tr>\n",
              "    <tr>\n",
              "      <th>24</th>\n",
              "      <td>24</td>\n",
              "      <td>38</td>\n",
              "      <td>3.73</td>\n",
              "      <td>Nao</td>\n",
              "      <td>4.07</td>\n",
              "      <td>Acima da Media</td>\n",
              "    </tr>\n",
              "    <tr>\n",
              "      <th>25</th>\n",
              "      <td>25</td>\n",
              "      <td>39</td>\n",
              "      <td>3.89</td>\n",
              "      <td>Sim</td>\n",
              "      <td>4.75</td>\n",
              "      <td>Acima da Media</td>\n",
              "    </tr>\n",
              "    <tr>\n",
              "      <th>26</th>\n",
              "      <td>26</td>\n",
              "      <td>41</td>\n",
              "      <td>4.35</td>\n",
              "      <td>Sim</td>\n",
              "      <td>4.00</td>\n",
              "      <td>Acima da Media</td>\n",
              "    </tr>\n",
              "    <tr>\n",
              "      <th>27</th>\n",
              "      <td>27</td>\n",
              "      <td>44</td>\n",
              "      <td>3.84</td>\n",
              "      <td>Sim</td>\n",
              "      <td>4.15</td>\n",
              "      <td>Acima da Media</td>\n",
              "    </tr>\n",
              "    <tr>\n",
              "      <th>28</th>\n",
              "      <td>28</td>\n",
              "      <td>44</td>\n",
              "      <td>3.81</td>\n",
              "      <td>Sim</td>\n",
              "      <td>4.34</td>\n",
              "      <td>Acima da Media</td>\n",
              "    </tr>\n",
              "    <tr>\n",
              "      <th>29</th>\n",
              "      <td>29</td>\n",
              "      <td>46</td>\n",
              "      <td>3.79</td>\n",
              "      <td>Sim</td>\n",
              "      <td>4.15</td>\n",
              "      <td>Acima da Media</td>\n",
              "    </tr>\n",
              "  </tbody>\n",
              "</table>\n",
              "</div>\n",
              "      <button class=\"colab-df-convert\" onclick=\"convertToInteractive('df-a24d8eff-2d20-458b-a462-ccdf7933e98c')\"\n",
              "              title=\"Convert this dataframe to an interactive table.\"\n",
              "              style=\"display:none;\">\n",
              "        \n",
              "  <svg xmlns=\"http://www.w3.org/2000/svg\" height=\"24px\"viewBox=\"0 0 24 24\"\n",
              "       width=\"24px\">\n",
              "    <path d=\"M0 0h24v24H0V0z\" fill=\"none\"/>\n",
              "    <path d=\"M18.56 5.44l.94 2.06.94-2.06 2.06-.94-2.06-.94-.94-2.06-.94 2.06-2.06.94zm-11 1L8.5 8.5l.94-2.06 2.06-.94-2.06-.94L8.5 2.5l-.94 2.06-2.06.94zm10 10l.94 2.06.94-2.06 2.06-.94-2.06-.94-.94-2.06-.94 2.06-2.06.94z\"/><path d=\"M17.41 7.96l-1.37-1.37c-.4-.4-.92-.59-1.43-.59-.52 0-1.04.2-1.43.59L10.3 9.45l-7.72 7.72c-.78.78-.78 2.05 0 2.83L4 21.41c.39.39.9.59 1.41.59.51 0 1.02-.2 1.41-.59l7.78-7.78 2.81-2.81c.8-.78.8-2.07 0-2.86zM5.41 20L4 18.59l7.72-7.72 1.47 1.35L5.41 20z\"/>\n",
              "  </svg>\n",
              "      </button>\n",
              "      \n",
              "  <style>\n",
              "    .colab-df-container {\n",
              "      display:flex;\n",
              "      flex-wrap:wrap;\n",
              "      gap: 12px;\n",
              "    }\n",
              "\n",
              "    .colab-df-convert {\n",
              "      background-color: #E8F0FE;\n",
              "      border: none;\n",
              "      border-radius: 50%;\n",
              "      cursor: pointer;\n",
              "      display: none;\n",
              "      fill: #1967D2;\n",
              "      height: 32px;\n",
              "      padding: 0 0 0 0;\n",
              "      width: 32px;\n",
              "    }\n",
              "\n",
              "    .colab-df-convert:hover {\n",
              "      background-color: #E2EBFA;\n",
              "      box-shadow: 0px 1px 2px rgba(60, 64, 67, 0.3), 0px 1px 3px 1px rgba(60, 64, 67, 0.15);\n",
              "      fill: #174EA6;\n",
              "    }\n",
              "\n",
              "    [theme=dark] .colab-df-convert {\n",
              "      background-color: #3B4455;\n",
              "      fill: #D2E3FC;\n",
              "    }\n",
              "\n",
              "    [theme=dark] .colab-df-convert:hover {\n",
              "      background-color: #434B5C;\n",
              "      box-shadow: 0px 1px 3px 1px rgba(0, 0, 0, 0.15);\n",
              "      filter: drop-shadow(0px 1px 2px rgba(0, 0, 0, 0.3));\n",
              "      fill: #FFFFFF;\n",
              "    }\n",
              "  </style>\n",
              "\n",
              "      <script>\n",
              "        const buttonEl =\n",
              "          document.querySelector('#df-a24d8eff-2d20-458b-a462-ccdf7933e98c button.colab-df-convert');\n",
              "        buttonEl.style.display =\n",
              "          google.colab.kernel.accessAllowed ? 'block' : 'none';\n",
              "\n",
              "        async function convertToInteractive(key) {\n",
              "          const element = document.querySelector('#df-a24d8eff-2d20-458b-a462-ccdf7933e98c');\n",
              "          const dataTable =\n",
              "            await google.colab.kernel.invokeFunction('convertToInteractive',\n",
              "                                                     [key], {});\n",
              "          if (!dataTable) return;\n",
              "\n",
              "          const docLinkHtml = 'Like what you see? Visit the ' +\n",
              "            '<a target=\"_blank\" href=https://colab.research.google.com/notebooks/data_table.ipynb>data table notebook</a>'\n",
              "            + ' to learn more about interactive tables.';\n",
              "          element.innerHTML = '';\n",
              "          dataTable['output_type'] = 'display_data';\n",
              "          await google.colab.output.renderOutput(dataTable, element);\n",
              "          const docLink = document.createElement('div');\n",
              "          docLink.innerHTML = docLinkHtml;\n",
              "          element.appendChild(docLink);\n",
              "        }\n",
              "      </script>\n",
              "    </div>\n",
              "  </div>\n",
              "  "
            ]
          },
          "metadata": {},
          "execution_count": 23
        }
      ]
    },
    {
      "cell_type": "code",
      "source": [
        "df.variavel.value_counts()\n"
      ],
      "metadata": {
        "colab": {
          "base_uri": "https://localhost:8080/"
        },
        "id": "VQrutmFuk4ec",
        "outputId": "9379d655-4ce0-445d-c458-e78e6c5654a7"
      },
      "execution_count": 24,
      "outputs": [
        {
          "output_type": "execute_result",
          "data": {
            "text/plain": [
              "Abaixo da Média    19\n",
              "Acima da Media     11\n",
              "Name: variavel, dtype: int64"
            ]
          },
          "metadata": {},
          "execution_count": 24
        }
      ]
    },
    {
      "cell_type": "code",
      "source": [
        "df.variavel.value_counts().plot(kind = 'barh')"
      ],
      "metadata": {
        "colab": {
          "base_uri": "https://localhost:8080/",
          "height": 282
        },
        "id": "Noedp4C2oKi9",
        "outputId": "f1371b20-e2bb-4452-9ea6-ac3b8e01e77a"
      },
      "execution_count": 25,
      "outputs": [
        {
          "output_type": "execute_result",
          "data": {
            "text/plain": [
              "<matplotlib.axes._subplots.AxesSubplot at 0x7f406ea4c7d0>"
            ]
          },
          "metadata": {},
          "execution_count": 25
        },
        {
          "output_type": "display_data",
          "data": {
            "text/plain": [
              "<Figure size 432x288 with 1 Axes>"
            ],
            "image/png": "[encoded data removed]"
          },
          "metadata": {
            "needs_background": "light"
          }
        }
      ]
    },
    {
      "cell_type": "markdown",
      "source": [
        "# Gera Boxplot das Vendas de Café"
      ],
      "metadata": {
        "id": "578QLT_Hsc_m"
      }
    },
    {
      "cell_type": "code",
      "source": [
        "plt.title(\"Boxplot das Vendas do Café\")\n",
        "plt.boxplot(dados['Vendas_Cafe'])\n",
        "plt.show()"
      ],
      "metadata": {
        "colab": {
          "base_uri": "https://localhost:8080/",
          "height": 281
        },
        "id": "TsWPOgUdsSOk",
        "outputId": "0ecedc1a-f9c3-4376-eb9f-fb0c07d6f1cd"
      },
      "execution_count": 26,
      "outputs": [
        {
          "output_type": "display_data",
          "data": {
            "text/plain": [
              "<Figure size 432x288 with 1 Axes>"
            ],
            "image/png": "[encoded data removed]"
          },
          "metadata": {
            "needs_background": "light"
          }
        }
      ]
    },
    {
      "cell_type": "markdown",
      "source": [
        "# Gera Boxplot dos Preços do Café"
      ],
      "metadata": {
        "id": "aRtOFFxisyyy"
      }
    },
    {
      "cell_type": "code",
      "source": [
        "plt.title(\"Boxplot de Preços do Café\")\n",
        "plt.boxplot(dados['Preco_Cafe'])\n",
        "plt.show()"
      ],
      "metadata": {
        "colab": {
          "base_uri": "https://localhost:8080/",
          "height": 281
        },
        "id": "u-5oJOFQswgW",
        "outputId": "3291ae21-6d2a-4212-c8e4-956732518df4"
      },
      "execution_count": 27,
      "outputs": [
        {
          "output_type": "display_data",
          "data": {
            "text/plain": [
              "<Figure size 432x288 with 1 Axes>"
            ],
            "image/png": "[encoded data removed]"
          },
          "metadata": {
            "needs_background": "light"
          }
        }
      ]
    },
    {
      "cell_type": "markdown",
      "source": [
        "# Gera Boxplot Comparativo das Vendas quando houve Promocão e de Quando não houve"
      ],
      "metadata": {
        "id": "1vMmn7qTtBwu"
      }
    },
    {
      "cell_type": "code",
      "source": [
        "sns.boxplot(x = df['Vendas_Cafe'],\n",
        "\t\t\ty = df['Promocao'],\n",
        "\t\t\thue = df['Promocao'])"
      ],
      "metadata": {
        "colab": {
          "base_uri": "https://localhost:8080/",
          "height": 297
        },
        "id": "K_RPYeBmtA_w",
        "outputId": "d3744a5e-a8c1-4ecb-c88f-1c5909e54747"
      },
      "execution_count": 28,
      "outputs": [
        {
          "output_type": "execute_result",
          "data": {
            "text/plain": [
              "<matplotlib.axes._subplots.AxesSubplot at 0x7f406e96d210>"
            ]
          },
          "metadata": {},
          "execution_count": 28
        },
        {
          "output_type": "display_data",
          "data": {
            "text/plain": [
              "<Figure size 432x288 with 1 Axes>"
            ],
            "image/png": "[encoded data removed]"
          },
          "metadata": {
            "needs_background": "light"
          }
        }
      ]
    }
  ]
}